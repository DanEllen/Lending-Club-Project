{
 "cells": [
  {
   "cell_type": "markdown",
   "id": "559306be",
   "metadata": {},
   "source": [
    "<font size=\"6\">Lending Club Analysis</font>"
   ]
  },
  {
   "cell_type": "markdown",
   "id": "39c314ae",
   "metadata": {},
   "source": [
    "Objective:\n",
    "- Tasked by an Investment firm to analyze the possibility of investing in Lending Club loans as part of our portfolio. \n",
    "\n",
    "\n",
    "Tasks:\n",
    "-\tPerform EDA to understand dataset.\n",
    "-\tImpute missing data.\n",
    "-\tSelect features, removing ones that could lead to data leakage or are unimportant.\n",
    "-\tTrain models to predict loan defaults.\n",
    "-\tCalculate the best CAGR.\n",
    "-\tCompare with other investment assets.\n",
    "-\tConclusions.\n",
    "-\tFuture work."
   ]
  },
  {
   "cell_type": "markdown",
   "id": "cf0437bc",
   "metadata": {},
   "source": [
    "## Load Packages and Data"
   ]
  },
  {
   "cell_type": "code",
   "execution_count": 247,
   "id": "4ab4d0fe",
   "metadata": {
    "ExecuteTime": {
     "end_time": "2021-07-13T15:59:27.799143Z",
     "start_time": "2021-07-13T15:59:27.772892Z"
    }
   },
   "outputs": [],
   "source": [
    "import numpy as np \n",
    "import pandas as pd\n",
    "from datetime import datetime, timedelta\n",
    "import matplotlib.pyplot as plt\n",
    "from matplotlib.offsetbox import AnchoredText\n",
    "import seaborn as sns\n",
    "import plotly.graph_objects as go\n",
    "from sklearn.model_selection import train_test_split, GridSearchCV, cross_val_score\n",
    "from catboost import CatBoostClassifier, Pool, metrics, cv, CatBoostRegressor\n",
    "from sklearn import metrics\n",
    "from collections import OrderedDict\n",
    "import numpy_financial as npf\n",
    "from pandas.plotting import table \n",
    "\n",
    "plt.style.use(\"default\")\n",
    "sns.set_style('whitegrid')\n",
    "%matplotlib inline\n",
    "\n",
    "pd.set_option('display.float', '{:.2f}'.format)\n",
    "pd.set_option('display.max_columns', 500)\n",
    "pd.set_option('display.max_rows', 50)"
   ]
  },
  {
   "cell_type": "code",
   "execution_count": 136,
   "id": "9e321bd7",
   "metadata": {
    "ExecuteTime": {
     "end_time": "2021-07-13T15:43:31.342767Z",
     "start_time": "2021-07-13T15:42:45.166122Z"
    },
    "scrolled": false
   },
   "outputs": [
    {
     "name": "stderr",
     "output_type": "stream",
     "text": [
      "C:\\Users\\Daniel\\anaconda3\\lib\\site-packages\\IPython\\core\\interactiveshell.py:3437: DtypeWarning:\n",
      "\n",
      "Columns (0,19,49,59,118,129,130,131,134,135,136,139,145,146,147) have mixed types.Specify dtype option on import or set low_memory=False.\n",
      "\n"
     ]
    }
   ],
   "source": [
    "data = pd.read_csv(\"G:\\\\Lending Club Data Files\\\\accepted_2007_to_2018Q4.csv\")\n",
    "#data = pd.read_csv(\"data\\accepted_2007_to_2018Q4.csv\")"
   ]
  },
  {
   "cell_type": "code",
   "execution_count": 137,
   "id": "fe73c3b9",
   "metadata": {
    "ExecuteTime": {
     "end_time": "2021-07-13T15:43:31.640485Z",
     "start_time": "2021-07-13T15:43:31.359489Z"
    },
    "scrolled": true
   },
   "outputs": [
    {
     "data": {
      "text/html": [
       "<div>\n",
       "<style scoped>\n",
       "    .dataframe tbody tr th:only-of-type {\n",
       "        vertical-align: middle;\n",
       "    }\n",
       "\n",
       "    .dataframe tbody tr th {\n",
       "        vertical-align: top;\n",
       "    }\n",
       "\n",
       "    .dataframe thead th {\n",
       "        text-align: right;\n",
       "    }\n",
       "</style>\n",
       "<table border=\"1\" class=\"dataframe\">\n",
       "  <thead>\n",
       "    <tr style=\"text-align: right;\">\n",
       "      <th></th>\n",
       "      <th>id</th>\n",
       "      <th>member_id</th>\n",
       "      <th>loan_amnt</th>\n",
       "      <th>funded_amnt</th>\n",
       "      <th>funded_amnt_inv</th>\n",
       "      <th>term</th>\n",
       "      <th>int_rate</th>\n",
       "      <th>installment</th>\n",
       "      <th>grade</th>\n",
       "      <th>sub_grade</th>\n",
       "      <th>emp_title</th>\n",
       "      <th>emp_length</th>\n",
       "      <th>home_ownership</th>\n",
       "      <th>annual_inc</th>\n",
       "      <th>verification_status</th>\n",
       "      <th>issue_d</th>\n",
       "      <th>loan_status</th>\n",
       "      <th>pymnt_plan</th>\n",
       "      <th>url</th>\n",
       "      <th>desc</th>\n",
       "      <th>purpose</th>\n",
       "      <th>title</th>\n",
       "      <th>zip_code</th>\n",
       "      <th>addr_state</th>\n",
       "      <th>dti</th>\n",
       "      <th>delinq_2yrs</th>\n",
       "      <th>earliest_cr_line</th>\n",
       "      <th>fico_range_low</th>\n",
       "      <th>fico_range_high</th>\n",
       "      <th>inq_last_6mths</th>\n",
       "      <th>mths_since_last_delinq</th>\n",
       "      <th>mths_since_last_record</th>\n",
       "      <th>open_acc</th>\n",
       "      <th>pub_rec</th>\n",
       "      <th>revol_bal</th>\n",
       "      <th>revol_util</th>\n",
       "      <th>total_acc</th>\n",
       "      <th>initial_list_status</th>\n",
       "      <th>out_prncp</th>\n",
       "      <th>out_prncp_inv</th>\n",
       "      <th>total_pymnt</th>\n",
       "      <th>total_pymnt_inv</th>\n",
       "      <th>total_rec_prncp</th>\n",
       "      <th>total_rec_int</th>\n",
       "      <th>total_rec_late_fee</th>\n",
       "      <th>recoveries</th>\n",
       "      <th>collection_recovery_fee</th>\n",
       "      <th>last_pymnt_d</th>\n",
       "      <th>last_pymnt_amnt</th>\n",
       "      <th>next_pymnt_d</th>\n",
       "      <th>last_credit_pull_d</th>\n",
       "      <th>last_fico_range_high</th>\n",
       "      <th>last_fico_range_low</th>\n",
       "      <th>collections_12_mths_ex_med</th>\n",
       "      <th>mths_since_last_major_derog</th>\n",
       "      <th>policy_code</th>\n",
       "      <th>application_type</th>\n",
       "      <th>annual_inc_joint</th>\n",
       "      <th>dti_joint</th>\n",
       "      <th>verification_status_joint</th>\n",
       "      <th>acc_now_delinq</th>\n",
       "      <th>tot_coll_amt</th>\n",
       "      <th>tot_cur_bal</th>\n",
       "      <th>open_acc_6m</th>\n",
       "      <th>open_act_il</th>\n",
       "      <th>open_il_12m</th>\n",
       "      <th>open_il_24m</th>\n",
       "      <th>mths_since_rcnt_il</th>\n",
       "      <th>total_bal_il</th>\n",
       "      <th>il_util</th>\n",
       "      <th>open_rv_12m</th>\n",
       "      <th>open_rv_24m</th>\n",
       "      <th>max_bal_bc</th>\n",
       "      <th>all_util</th>\n",
       "      <th>total_rev_hi_lim</th>\n",
       "      <th>inq_fi</th>\n",
       "      <th>total_cu_tl</th>\n",
       "      <th>inq_last_12m</th>\n",
       "      <th>acc_open_past_24mths</th>\n",
       "      <th>avg_cur_bal</th>\n",
       "      <th>bc_open_to_buy</th>\n",
       "      <th>bc_util</th>\n",
       "      <th>chargeoff_within_12_mths</th>\n",
       "      <th>delinq_amnt</th>\n",
       "      <th>mo_sin_old_il_acct</th>\n",
       "      <th>mo_sin_old_rev_tl_op</th>\n",
       "      <th>mo_sin_rcnt_rev_tl_op</th>\n",
       "      <th>mo_sin_rcnt_tl</th>\n",
       "      <th>mort_acc</th>\n",
       "      <th>mths_since_recent_bc</th>\n",
       "      <th>mths_since_recent_bc_dlq</th>\n",
       "      <th>mths_since_recent_inq</th>\n",
       "      <th>mths_since_recent_revol_delinq</th>\n",
       "      <th>num_accts_ever_120_pd</th>\n",
       "      <th>num_actv_bc_tl</th>\n",
       "      <th>num_actv_rev_tl</th>\n",
       "      <th>num_bc_sats</th>\n",
       "      <th>num_bc_tl</th>\n",
       "      <th>num_il_tl</th>\n",
       "      <th>num_op_rev_tl</th>\n",
       "      <th>num_rev_accts</th>\n",
       "      <th>num_rev_tl_bal_gt_0</th>\n",
       "      <th>num_sats</th>\n",
       "      <th>num_tl_120dpd_2m</th>\n",
       "      <th>num_tl_30dpd</th>\n",
       "      <th>num_tl_90g_dpd_24m</th>\n",
       "      <th>num_tl_op_past_12m</th>\n",
       "      <th>pct_tl_nvr_dlq</th>\n",
       "      <th>percent_bc_gt_75</th>\n",
       "      <th>pub_rec_bankruptcies</th>\n",
       "      <th>tax_liens</th>\n",
       "      <th>tot_hi_cred_lim</th>\n",
       "      <th>total_bal_ex_mort</th>\n",
       "      <th>total_bc_limit</th>\n",
       "      <th>total_il_high_credit_limit</th>\n",
       "      <th>revol_bal_joint</th>\n",
       "      <th>sec_app_fico_range_low</th>\n",
       "      <th>sec_app_fico_range_high</th>\n",
       "      <th>sec_app_earliest_cr_line</th>\n",
       "      <th>sec_app_inq_last_6mths</th>\n",
       "      <th>sec_app_mort_acc</th>\n",
       "      <th>sec_app_open_acc</th>\n",
       "      <th>sec_app_revol_util</th>\n",
       "      <th>sec_app_open_act_il</th>\n",
       "      <th>sec_app_num_rev_accts</th>\n",
       "      <th>sec_app_chargeoff_within_12_mths</th>\n",
       "      <th>sec_app_collections_12_mths_ex_med</th>\n",
       "      <th>sec_app_mths_since_last_major_derog</th>\n",
       "      <th>hardship_flag</th>\n",
       "      <th>hardship_type</th>\n",
       "      <th>hardship_reason</th>\n",
       "      <th>hardship_status</th>\n",
       "      <th>deferral_term</th>\n",
       "      <th>hardship_amount</th>\n",
       "      <th>hardship_start_date</th>\n",
       "      <th>hardship_end_date</th>\n",
       "      <th>payment_plan_start_date</th>\n",
       "      <th>hardship_length</th>\n",
       "      <th>hardship_dpd</th>\n",
       "      <th>hardship_loan_status</th>\n",
       "      <th>orig_projected_additional_accrued_interest</th>\n",
       "      <th>hardship_payoff_balance_amount</th>\n",
       "      <th>hardship_last_payment_amount</th>\n",
       "      <th>disbursement_method</th>\n",
       "      <th>debt_settlement_flag</th>\n",
       "      <th>debt_settlement_flag_date</th>\n",
       "      <th>settlement_status</th>\n",
       "      <th>settlement_date</th>\n",
       "      <th>settlement_amount</th>\n",
       "      <th>settlement_percentage</th>\n",
       "      <th>settlement_term</th>\n",
       "    </tr>\n",
       "  </thead>\n",
       "  <tbody>\n",
       "    <tr>\n",
       "      <th>1342332</th>\n",
       "      <td>10705015</td>\n",
       "      <td>NaN</td>\n",
       "      <td>25000.00</td>\n",
       "      <td>25000.00</td>\n",
       "      <td>25000.00</td>\n",
       "      <td>36 months</td>\n",
       "      <td>11.99</td>\n",
       "      <td>830.24</td>\n",
       "      <td>B</td>\n",
       "      <td>B3</td>\n",
       "      <td>senior associate</td>\n",
       "      <td>6 years</td>\n",
       "      <td>MORTGAGE</td>\n",
       "      <td>90000.00</td>\n",
       "      <td>Verified</td>\n",
       "      <td>Jan-2014</td>\n",
       "      <td>Fully Paid</td>\n",
       "      <td>n</td>\n",
       "      <td>https://lendingclub.com/browse/loanDetail.acti...</td>\n",
       "      <td>Borrower added on 01/20/14 &gt; the loan is str...</td>\n",
       "      <td>debt_consolidation</td>\n",
       "      <td>Debt consolidation</td>\n",
       "      <td>531xx</td>\n",
       "      <td>WI</td>\n",
       "      <td>14.27</td>\n",
       "      <td>0.00</td>\n",
       "      <td>Aug-1996</td>\n",
       "      <td>740.00</td>\n",
       "      <td>744.00</td>\n",
       "      <td>2.00</td>\n",
       "      <td>NaN</td>\n",
       "      <td>NaN</td>\n",
       "      <td>10.00</td>\n",
       "      <td>0.00</td>\n",
       "      <td>25948.00</td>\n",
       "      <td>66.50</td>\n",
       "      <td>24.00</td>\n",
       "      <td>f</td>\n",
       "      <td>0.00</td>\n",
       "      <td>0.00</td>\n",
       "      <td>29888.57</td>\n",
       "      <td>29888.57</td>\n",
       "      <td>25000.00</td>\n",
       "      <td>4888.57</td>\n",
       "      <td>0.00</td>\n",
       "      <td>0.00</td>\n",
       "      <td>0.00</td>\n",
       "      <td>Jan-2017</td>\n",
       "      <td>830.17</td>\n",
       "      <td>NaN</td>\n",
       "      <td>Jan-2017</td>\n",
       "      <td>724.00</td>\n",
       "      <td>720.00</td>\n",
       "      <td>0.00</td>\n",
       "      <td>NaN</td>\n",
       "      <td>1.00</td>\n",
       "      <td>Individual</td>\n",
       "      <td>NaN</td>\n",
       "      <td>NaN</td>\n",
       "      <td>NaN</td>\n",
       "      <td>0.00</td>\n",
       "      <td>0.00</td>\n",
       "      <td>201008.00</td>\n",
       "      <td>NaN</td>\n",
       "      <td>NaN</td>\n",
       "      <td>NaN</td>\n",
       "      <td>NaN</td>\n",
       "      <td>NaN</td>\n",
       "      <td>NaN</td>\n",
       "      <td>NaN</td>\n",
       "      <td>NaN</td>\n",
       "      <td>NaN</td>\n",
       "      <td>NaN</td>\n",
       "      <td>NaN</td>\n",
       "      <td>39000.00</td>\n",
       "      <td>NaN</td>\n",
       "      <td>NaN</td>\n",
       "      <td>NaN</td>\n",
       "      <td>4.00</td>\n",
       "      <td>20101.00</td>\n",
       "      <td>13052.00</td>\n",
       "      <td>66.50</td>\n",
       "      <td>0.00</td>\n",
       "      <td>0.00</td>\n",
       "      <td>149.00</td>\n",
       "      <td>209.00</td>\n",
       "      <td>14.00</td>\n",
       "      <td>5.00</td>\n",
       "      <td>5.00</td>\n",
       "      <td>14.00</td>\n",
       "      <td>NaN</td>\n",
       "      <td>5.00</td>\n",
       "      <td>NaN</td>\n",
       "      <td>0.00</td>\n",
       "      <td>3.00</td>\n",
       "      <td>3.00</td>\n",
       "      <td>4.00</td>\n",
       "      <td>7.00</td>\n",
       "      <td>8.00</td>\n",
       "      <td>4.00</td>\n",
       "      <td>10.00</td>\n",
       "      <td>3.00</td>\n",
       "      <td>10.00</td>\n",
       "      <td>0.00</td>\n",
       "      <td>0.00</td>\n",
       "      <td>0.00</td>\n",
       "      <td>2.00</td>\n",
       "      <td>100.00</td>\n",
       "      <td>25.00</td>\n",
       "      <td>0.00</td>\n",
       "      <td>0.00</td>\n",
       "      <td>233156.00</td>\n",
       "      <td>38722.00</td>\n",
       "      <td>39000.00</td>\n",
       "      <td>24024.00</td>\n",
       "      <td>NaN</td>\n",
       "      <td>NaN</td>\n",
       "      <td>NaN</td>\n",
       "      <td>NaN</td>\n",
       "      <td>NaN</td>\n",
       "      <td>NaN</td>\n",
       "      <td>NaN</td>\n",
       "      <td>NaN</td>\n",
       "      <td>NaN</td>\n",
       "      <td>NaN</td>\n",
       "      <td>NaN</td>\n",
       "      <td>NaN</td>\n",
       "      <td>NaN</td>\n",
       "      <td>N</td>\n",
       "      <td>NaN</td>\n",
       "      <td>NaN</td>\n",
       "      <td>NaN</td>\n",
       "      <td>NaN</td>\n",
       "      <td>NaN</td>\n",
       "      <td>NaN</td>\n",
       "      <td>NaN</td>\n",
       "      <td>NaN</td>\n",
       "      <td>NaN</td>\n",
       "      <td>NaN</td>\n",
       "      <td>NaN</td>\n",
       "      <td>NaN</td>\n",
       "      <td>NaN</td>\n",
       "      <td>NaN</td>\n",
       "      <td>Cash</td>\n",
       "      <td>N</td>\n",
       "      <td>NaN</td>\n",
       "      <td>NaN</td>\n",
       "      <td>NaN</td>\n",
       "      <td>NaN</td>\n",
       "      <td>NaN</td>\n",
       "      <td>NaN</td>\n",
       "    </tr>\n",
       "  </tbody>\n",
       "</table>\n",
       "</div>"
      ],
      "text/plain": [
       "               id  member_id  loan_amnt  funded_amnt  funded_amnt_inv  \\\n",
       "1342332  10705015        NaN   25000.00     25000.00         25000.00   \n",
       "\n",
       "               term  int_rate  installment grade sub_grade         emp_title  \\\n",
       "1342332   36 months     11.99       830.24     B        B3  senior associate   \n",
       "\n",
       "        emp_length home_ownership  annual_inc verification_status   issue_d  \\\n",
       "1342332    6 years       MORTGAGE    90000.00            Verified  Jan-2014   \n",
       "\n",
       "        loan_status pymnt_plan  \\\n",
       "1342332  Fully Paid          n   \n",
       "\n",
       "                                                       url  \\\n",
       "1342332  https://lendingclub.com/browse/loanDetail.acti...   \n",
       "\n",
       "                                                      desc  \\\n",
       "1342332    Borrower added on 01/20/14 > the loan is str...   \n",
       "\n",
       "                    purpose               title zip_code addr_state   dti  \\\n",
       "1342332  debt_consolidation  Debt consolidation    531xx         WI 14.27   \n",
       "\n",
       "         delinq_2yrs earliest_cr_line  fico_range_low  fico_range_high  \\\n",
       "1342332         0.00         Aug-1996          740.00           744.00   \n",
       "\n",
       "         inq_last_6mths  mths_since_last_delinq  mths_since_last_record  \\\n",
       "1342332            2.00                     NaN                     NaN   \n",
       "\n",
       "         open_acc  pub_rec  revol_bal  revol_util  total_acc  \\\n",
       "1342332     10.00     0.00   25948.00       66.50      24.00   \n",
       "\n",
       "        initial_list_status  out_prncp  out_prncp_inv  total_pymnt  \\\n",
       "1342332                   f       0.00           0.00     29888.57   \n",
       "\n",
       "         total_pymnt_inv  total_rec_prncp  total_rec_int  total_rec_late_fee  \\\n",
       "1342332         29888.57         25000.00        4888.57                0.00   \n",
       "\n",
       "         recoveries  collection_recovery_fee last_pymnt_d  last_pymnt_amnt  \\\n",
       "1342332        0.00                     0.00     Jan-2017           830.17   \n",
       "\n",
       "        next_pymnt_d last_credit_pull_d  last_fico_range_high  \\\n",
       "1342332          NaN           Jan-2017                724.00   \n",
       "\n",
       "         last_fico_range_low  collections_12_mths_ex_med  \\\n",
       "1342332               720.00                        0.00   \n",
       "\n",
       "         mths_since_last_major_derog  policy_code application_type  \\\n",
       "1342332                          NaN         1.00       Individual   \n",
       "\n",
       "         annual_inc_joint  dti_joint verification_status_joint  \\\n",
       "1342332               NaN        NaN                       NaN   \n",
       "\n",
       "         acc_now_delinq  tot_coll_amt  tot_cur_bal  open_acc_6m  open_act_il  \\\n",
       "1342332            0.00          0.00    201008.00          NaN          NaN   \n",
       "\n",
       "         open_il_12m  open_il_24m  mths_since_rcnt_il  total_bal_il  il_util  \\\n",
       "1342332          NaN          NaN                 NaN           NaN      NaN   \n",
       "\n",
       "         open_rv_12m  open_rv_24m  max_bal_bc  all_util  total_rev_hi_lim  \\\n",
       "1342332          NaN          NaN         NaN       NaN          39000.00   \n",
       "\n",
       "         inq_fi  total_cu_tl  inq_last_12m  acc_open_past_24mths  avg_cur_bal  \\\n",
       "1342332     NaN          NaN           NaN                  4.00     20101.00   \n",
       "\n",
       "         bc_open_to_buy  bc_util  chargeoff_within_12_mths  delinq_amnt  \\\n",
       "1342332        13052.00    66.50                      0.00         0.00   \n",
       "\n",
       "         mo_sin_old_il_acct  mo_sin_old_rev_tl_op  mo_sin_rcnt_rev_tl_op  \\\n",
       "1342332              149.00                209.00                  14.00   \n",
       "\n",
       "         mo_sin_rcnt_tl  mort_acc  mths_since_recent_bc  \\\n",
       "1342332            5.00      5.00                 14.00   \n",
       "\n",
       "         mths_since_recent_bc_dlq  mths_since_recent_inq  \\\n",
       "1342332                       NaN                   5.00   \n",
       "\n",
       "         mths_since_recent_revol_delinq  num_accts_ever_120_pd  \\\n",
       "1342332                             NaN                   0.00   \n",
       "\n",
       "         num_actv_bc_tl  num_actv_rev_tl  num_bc_sats  num_bc_tl  num_il_tl  \\\n",
       "1342332            3.00             3.00         4.00       7.00       8.00   \n",
       "\n",
       "         num_op_rev_tl  num_rev_accts  num_rev_tl_bal_gt_0  num_sats  \\\n",
       "1342332           4.00          10.00                 3.00     10.00   \n",
       "\n",
       "         num_tl_120dpd_2m  num_tl_30dpd  num_tl_90g_dpd_24m  \\\n",
       "1342332              0.00          0.00                0.00   \n",
       "\n",
       "         num_tl_op_past_12m  pct_tl_nvr_dlq  percent_bc_gt_75  \\\n",
       "1342332                2.00          100.00             25.00   \n",
       "\n",
       "         pub_rec_bankruptcies  tax_liens  tot_hi_cred_lim  total_bal_ex_mort  \\\n",
       "1342332                  0.00       0.00        233156.00           38722.00   \n",
       "\n",
       "         total_bc_limit  total_il_high_credit_limit  revol_bal_joint  \\\n",
       "1342332        39000.00                    24024.00              NaN   \n",
       "\n",
       "         sec_app_fico_range_low  sec_app_fico_range_high  \\\n",
       "1342332                     NaN                      NaN   \n",
       "\n",
       "        sec_app_earliest_cr_line  sec_app_inq_last_6mths  sec_app_mort_acc  \\\n",
       "1342332                      NaN                     NaN               NaN   \n",
       "\n",
       "         sec_app_open_acc  sec_app_revol_util  sec_app_open_act_il  \\\n",
       "1342332               NaN                 NaN                  NaN   \n",
       "\n",
       "         sec_app_num_rev_accts  sec_app_chargeoff_within_12_mths  \\\n",
       "1342332                    NaN                               NaN   \n",
       "\n",
       "         sec_app_collections_12_mths_ex_med  \\\n",
       "1342332                                 NaN   \n",
       "\n",
       "         sec_app_mths_since_last_major_derog hardship_flag hardship_type  \\\n",
       "1342332                                  NaN             N           NaN   \n",
       "\n",
       "        hardship_reason hardship_status  deferral_term  hardship_amount  \\\n",
       "1342332             NaN             NaN            NaN              NaN   \n",
       "\n",
       "        hardship_start_date hardship_end_date payment_plan_start_date  \\\n",
       "1342332                 NaN               NaN                     NaN   \n",
       "\n",
       "         hardship_length  hardship_dpd hardship_loan_status  \\\n",
       "1342332              NaN           NaN                  NaN   \n",
       "\n",
       "         orig_projected_additional_accrued_interest  \\\n",
       "1342332                                         NaN   \n",
       "\n",
       "         hardship_payoff_balance_amount  hardship_last_payment_amount  \\\n",
       "1342332                             NaN                           NaN   \n",
       "\n",
       "        disbursement_method debt_settlement_flag debt_settlement_flag_date  \\\n",
       "1342332                Cash                    N                       NaN   \n",
       "\n",
       "        settlement_status settlement_date  settlement_amount  \\\n",
       "1342332               NaN             NaN                NaN   \n",
       "\n",
       "         settlement_percentage  settlement_term  \n",
       "1342332                    NaN              NaN  "
      ]
     },
     "execution_count": 137,
     "metadata": {},
     "output_type": "execute_result"
    }
   ],
   "source": [
    "data.sample(1)"
   ]
  },
  {
   "cell_type": "markdown",
   "id": "13cf9a6d",
   "metadata": {},
   "source": [
    "## Understanding the Data"
   ]
  },
  {
   "cell_type": "code",
   "execution_count": 138,
   "id": "0c1d8a72",
   "metadata": {
    "ExecuteTime": {
     "end_time": "2021-07-13T15:43:31.655759Z",
     "start_time": "2021-07-13T15:43:31.642573Z"
    },
    "scrolled": true
   },
   "outputs": [
    {
     "data": {
      "text/plain": [
       "(2260701, 151)"
      ]
     },
     "execution_count": 138,
     "metadata": {},
     "output_type": "execute_result"
    }
   ],
   "source": [
    "data.shape"
   ]
  },
  {
   "cell_type": "markdown",
   "id": "ed2dfd28",
   "metadata": {},
   "source": [
    "### Exploring Value of Loans Issued"
   ]
  },
  {
   "cell_type": "code",
   "execution_count": 139,
   "id": "afeb22f7",
   "metadata": {
    "ExecuteTime": {
     "end_time": "2021-07-13T15:43:31.908098Z",
     "start_time": "2021-07-13T15:43:31.657755Z"
    }
   },
   "outputs": [],
   "source": [
    "loans_issued = data.groupby('issue_d')['loan_amnt'].sum().reset_index()\n",
    "loans_issued['issue_d'] = pd.DatetimeIndex(loans_issued['issue_d']).year\n",
    "loans_issued = loans_issued.groupby('issue_d').sum().reset_index()"
   ]
  },
  {
   "cell_type": "code",
   "execution_count": 140,
   "id": "7d150836",
   "metadata": {
    "ExecuteTime": {
     "end_time": "2021-07-13T15:43:32.521700Z",
     "start_time": "2021-07-13T15:43:31.909095Z"
    }
   },
   "outputs": [
    {
     "data": {
      "image/png": "[encoded data removed]",
      "text/plain": [
       "<Figure size 432x288 with 1 Axes>"
      ]
     },
     "metadata": {
      "needs_background": "light"
     },
     "output_type": "display_data"
    }
   ],
   "source": [
    "plt.rcParams.update({'font.size': 12})\n",
    "f, ax = plt.subplots()\n",
    "ax.bar(loans_issued.issue_d, loans_issued.loan_amnt)\n",
    "# ax.tick_params(axis='y')\n",
    "ax.set_ylabel('Loans in Billions')\n",
    "ax.set(xlabel=\"Year\",\n",
    "      title=\"Value of Loans Issued\")\n",
    "f.tight_layout()  # otherwise the right y-label is slightly clipped\n",
    "plt.yticks(ax.get_yticks(), (ax.get_yticks() / 1000000000).astype(int))\n",
    "# plt.xticks(loans_issued.issue_d)\n",
    "plt.show()\n",
    "f.savefig('./images/value_of_loans.png', facecolor=f.get_facecolor(), transparent=True, dpi=500)"
   ]
  },
  {
   "cell_type": "markdown",
   "id": "d4a3aba8",
   "metadata": {},
   "source": [
    "### Exploring the Target Variable"
   ]
  },
  {
   "cell_type": "code",
   "execution_count": 141,
   "id": "e59d9d03",
   "metadata": {
    "ExecuteTime": {
     "end_time": "2021-07-13T15:43:32.678686Z",
     "start_time": "2021-07-13T15:43:32.523665Z"
    }
   },
   "outputs": [],
   "source": [
    "loan_status = data['loan_status'].value_counts().reset_index()\n",
    "loan_status.columns = ['loan_status', 'count']\n",
    "loan_status = loan_status[loan_status['loan_status'].isin(['Fully Paid', 'Charged Off'])]"
   ]
  },
  {
   "cell_type": "code",
   "execution_count": 142,
   "id": "16c7ea02",
   "metadata": {
    "ExecuteTime": {
     "end_time": "2021-07-13T15:43:33.111259Z",
     "start_time": "2021-07-13T15:43:32.681680Z"
    }
   },
   "outputs": [
    {
     "data": {
      "image/png": "[encoded data removed]",
      "text/plain": [
       "<Figure size 480x320 with 1 Axes>"
      ]
     },
     "metadata": {},
     "output_type": "display_data"
    }
   ],
   "source": [
    "plt.rcParams['figure.dpi'] = 80\n",
    "plt.rcParams.update({'font.size': 14})\n",
    "f, ax = plt.subplots()\n",
    "types = ['Fully Paid', 'Charged Off']\n",
    "ax.pie(x=loan_status['count'], labels = types, autopct='%1.1f%%', colors=('darkred','orangered'))\n",
    "plt.show()\n",
    "f.savefig('./images/pie_loan_status.png', facecolor=f.get_facecolor(), transparent=True, dpi=500)"
   ]
  },
  {
   "cell_type": "markdown",
   "id": "82f0a582",
   "metadata": {},
   "source": [
    "As expected we are dealing with an imbalanced dataset since one class represents only 20% of observations. In this case the null model, always guessing the fully paid class, would have an 80% accuracy. We have to work to improve on this null model. Using metrics other than accuracy such as specificity, sensitivity, F1, and area under the curve (AUC) we should get a better diagnostic of how well our model is working. In any case, our final performance metric should be one that measures the profit generated by the investor.\n",
    "\n",
    "We might also want to do under-sampling or over-sampling, which either reduces the number of samples of the over represented observations or increases the under represented class. Furthermore, some algorithms on scikit learn can also account for unbalanced models."
   ]
  },
  {
   "cell_type": "markdown",
   "id": "080a5f34",
   "metadata": {},
   "source": [
    "### Exploring Loan Amount and Income"
   ]
  },
  {
   "cell_type": "code",
   "execution_count": 143,
   "id": "5f1e6701",
   "metadata": {
    "ExecuteTime": {
     "end_time": "2021-07-13T15:43:33.973078Z",
     "start_time": "2021-07-13T15:43:33.114210Z"
    }
   },
   "outputs": [],
   "source": [
    "data['issue_d'] = pd.to_datetime(data['issue_d'])"
   ]
  },
  {
   "cell_type": "code",
   "execution_count": 144,
   "id": "3a5ef1fd",
   "metadata": {
    "ExecuteTime": {
     "end_time": "2021-07-13T15:43:52.602089Z",
     "start_time": "2021-07-13T15:43:33.975073Z"
    }
   },
   "outputs": [],
   "source": [
    "loan_percent_income = data.groupby(pd.Grouper(key='issue_d',freq='Y'))[['loan_amnt', 'annual_inc']].mean().reset_index()\n",
    "loan_percent_income['percent'] = loan_percent_income['loan_amnt']/loan_percent_income['annual_inc']\n",
    "loan_percent_income['issue_d'] = pd.DatetimeIndex(loan_percent_income['issue_d']).year"
   ]
  },
  {
   "cell_type": "code",
   "execution_count": 145,
   "id": "988839ad",
   "metadata": {
    "ExecuteTime": {
     "end_time": "2021-07-13T15:43:53.813982Z",
     "start_time": "2021-07-13T15:43:52.626924Z"
    },
    "scrolled": true
   },
   "outputs": [
    {
     "data": {
      "image/png": "[encoded data removed]",
      "text/plain": [
       "<Figure size 480x320 with 2 Axes>"
      ]
     },
     "metadata": {},
     "output_type": "display_data"
    }
   ],
   "source": [
    "plt.rcParams.update({'font.size': 10})\n",
    "f, ax = plt.subplots()\n",
    "ax.grid(False)\n",
    "color = 'salmon'\n",
    "ax.bar(loan_percent_income.issue_d, loan_percent_income.loan_amnt, color=color)\n",
    "ax.tick_params(axis='y', labelcolor=color)\n",
    "ax.set_ylabel('Avg. Loan Amount', color=color)\n",
    "ax.set(xlabel=\"Year\",\n",
    "      title=\"Avg. Loan Size and Share of Income by Year\")\n",
    "\n",
    "ax2 = ax.twinx()\n",
    "\n",
    "color = 'navy'\n",
    "ax2.set_ylabel('Loan Size as Share of Income', color=color)  # we already handled the x-label with ax1\n",
    "ax2.plot(loan_percent_income.issue_d, loan_percent_income.percent, color=color)\n",
    "ax2.tick_params(axis='y', labelcolor=color)\n",
    "plt.xticks(loan_percent_income.issue_d)\n",
    "\n",
    "f.tight_layout()  # otherwise the right y-label is slightly clipped\n",
    "plt.show()\n",
    "f.savefig('./images/avg_loan_byyear.png', facecolor=f.get_facecolor(), transparent=True, dpi=500)"
   ]
  },
  {
   "cell_type": "markdown",
   "id": "070da593",
   "metadata": {},
   "source": [
    "### Exploring Loan Purpose"
   ]
  },
  {
   "cell_type": "code",
   "execution_count": 146,
   "id": "5ca21d05",
   "metadata": {
    "ExecuteTime": {
     "end_time": "2021-07-13T15:43:59.300043Z",
     "start_time": "2021-07-13T15:43:53.816972Z"
    }
   },
   "outputs": [],
   "source": [
    "purpose = data.groupby([pd.Grouper(key='issue_d',freq='Y'), 'purpose']).size().reset_index()\n",
    "purpose.columns = ['issue_d','purpose','count']\n",
    "purpose['issue_d'] = pd.DatetimeIndex(purpose['issue_d']).year\n",
    "purpose = purpose.pivot(index='issue_d', columns='purpose', values='count')\n",
    "purpose = purpose.reset_index()\n",
    "purpose['sum'] = purpose.iloc[:,1:].sum(axis=1)\n",
    "purpose = purpose.fillna(0)\n",
    "purpose.iloc[:, 1:-1]=purpose.iloc[:, 1:-1].div(purpose['sum'], axis=0)\n",
    "purpose.drop('sum', axis=1, inplace=True)\n",
    "purpose.sort_values(by=11, axis=1, ascending=False, inplace=True)"
   ]
  },
  {
   "cell_type": "code",
   "execution_count": 147,
   "id": "a8cbab74",
   "metadata": {
    "ExecuteTime": {
     "end_time": "2021-07-13T15:44:02.346976Z",
     "start_time": "2021-07-13T15:43:59.301856Z"
    },
    "scrolled": true
   },
   "outputs": [
    {
     "data": {
      "image/png": "[encoded data removed]",
      "text/plain": [
       "<Figure size 480x320 with 1 Axes>"
      ]
     },
     "metadata": {
      "needs_background": "light"
     },
     "output_type": "display_data"
    }
   ],
   "source": [
    "ax = purpose.plot(x='issue_d', kind='bar', stacked=True, colormap='tab20')\n",
    "ax.set_ylabel('Percentage')\n",
    "ax.set_xlabel('Year')\n",
    "plt.legend(title='Purpose', bbox_to_anchor=(1.0, 1), loc='upper left')\n",
    "plt.tight_layout()  # otherwise the right y-label is slightly clipped\n",
    "plt.savefig('./images/purpose.png', dpi=500)\n",
    "plt.show()"
   ]
  },
  {
   "cell_type": "markdown",
   "id": "ff581eaa",
   "metadata": {},
   "source": [
    "### Exploring Location of Borrowers"
   ]
  },
  {
   "cell_type": "code",
   "execution_count": 148,
   "id": "d9519ece",
   "metadata": {
    "ExecuteTime": {
     "end_time": "2021-07-13T15:44:02.658483Z",
     "start_time": "2021-07-13T15:44:02.348971Z"
    }
   },
   "outputs": [],
   "source": [
    "states = data.groupby(['addr_state','issue_d'])['loan_amnt'].sum().reset_index()\n",
    "states['issue_d'] = pd.DatetimeIndex(states['issue_d']).year\n",
    "states = states.groupby(['addr_state','issue_d'])['loan_amnt'].sum().reset_index()\n",
    "states['loan_amnt'] = round(states['loan_amnt']/1000000)\n",
    "states = states[states['issue_d']==2018]"
   ]
  },
  {
   "cell_type": "code",
   "execution_count": 149,
   "id": "31993701",
   "metadata": {
    "ExecuteTime": {
     "end_time": "2021-07-13T15:44:03.295081Z",
     "start_time": "2021-07-13T15:44:02.661025Z"
    }
   },
   "outputs": [
    {
     "data": {
      "application/vnd.plotly.v1+json": {
       "config": {
        "plotlyServerURL": "https://plot.ly"
       },
       "data": [
        {
         "colorbar": {
          "title": {
           "text": "Millions USD"
          }
         },
         "colorscale": [
          [
           0,
           "rgb(255,245,240)"
          ],
          [
           0.125,
           "rgb(254,224,210)"
          ],
          [
           0.25,
           "rgb(252,187,161)"
          ],
          [
           0.375,
           "rgb(252,146,114)"
          ],
          [
           0.5,
           "rgb(251,106,74)"
          ],
          [
           0.625,
           "rgb(239,59,44)"
          ],
          [
           0.75,
           "rgb(203,24,29)"
          ],
          [
           0.875,
           "rgb(165,15,21)"
          ],
          [
           1,
           "rgb(103,0,13)"
          ]
         ],
         "locationmode": "USA-states",
         "locations": [
          "AK",
          "AL",
          "AR",
          "AZ",
          "CA",
          "CO",
          "CT",
          "DC",
          "DE",
          "FL",
          "GA",
          "HI",
          "ID",
          "IL",
          "IN",
          "KS",
          "KY",
          "LA",
          "MA",
          "MD",
          "ME",
          "MI",
          "MN",
          "MO",
          "MS",
          "MT",
          "NC",
          "ND",
          "NE",
          "NH",
          "NJ",
          "NM",
          "NV",
          "NY",
          "OH",
          "OK",
          "OR",
          "PA",
          "RI",
          "SC",
          "SD",
          "TN",
          "TX",
          "UT",
          "VA",
          "VT",
          "WA",
          "WI",
          "WV",
          "WY"
         ],
         "type": "choropleth",
         "z": [
          19,
          87,
          57,
          188,
          1111,
          178,
          129,
          17,
          23,
          582,
          269,
          37,
          26,
          322,
          130,
          63,
          72,
          81,
          182,
          204,
          25,
          191,
          127,
          120,
          48,
          21,
          216,
          18,
          36,
          39,
          300,
          40,
          118,
          625,
          244,
          73,
          92,
          250,
          35,
          101,
          15,
          126,
          678,
          52,
          222,
          17,
          169,
          101,
          45,
          16
         ]
        }
       ],
       "layout": {
        "geo": {
         "scope": "usa"
        },
        "template": {
         "data": {
          "bar": [
           {
            "error_x": {
             "color": "#2a3f5f"
            },
            "error_y": {
             "color": "#2a3f5f"
            },
            "marker": {
             "line": {
              "color": "#E5ECF6",
              "width": 0.5
             }
            },
            "type": "bar"
           }
          ],
          "barpolar": [
           {
            "marker": {
             "line": {
              "color": "#E5ECF6",
              "width": 0.5
             }
            },
            "type": "barpolar"
           }
          ],
          "carpet": [
           {
            "aaxis": {
             "endlinecolor": "#2a3f5f",
             "gridcolor": "white",
             "linecolor": "white",
             "minorgridcolor": "white",
             "startlinecolor": "#2a3f5f"
            },
            "baxis": {
             "endlinecolor": "#2a3f5f",
             "gridcolor": "white",
             "linecolor": "white",
             "minorgridcolor": "white",
             "startlinecolor": "#2a3f5f"
            },
            "type": "carpet"
           }
          ],
          "choropleth": [
           {
            "colorbar": {
             "outlinewidth": 0,
             "ticks": ""
            },
            "type": "choropleth"
           }
          ],
          "contour": [
           {
            "colorbar": {
             "outlinewidth": 0,
             "ticks": ""
            },
            "colorscale": [
             [
              0,
              "#0d0887"
             ],
             [
              0.1111111111111111,
              "#46039f"
             ],
             [
              0.2222222222222222,
              "#7201a8"
             ],
             [
              0.3333333333333333,
              "#9c179e"
             ],
             [
              0.4444444444444444,
              "#bd3786"
             ],
             [
              0.5555555555555556,
              "#d8576b"
             ],
             [
              0.6666666666666666,
              "#ed7953"
             ],
             [
              0.7777777777777778,
              "#fb9f3a"
             ],
             [
              0.8888888888888888,
              "#fdca26"
             ],
             [
              1,
              "#f0f921"
             ]
            ],
            "type": "contour"
           }
          ],
          "contourcarpet": [
           {
            "colorbar": {
             "outlinewidth": 0,
             "ticks": ""
            },
            "type": "contourcarpet"
           }
          ],
          "heatmap": [
           {
            "colorbar": {
             "outlinewidth": 0,
             "ticks": ""
            },
            "colorscale": [
             [
              0,
              "#0d0887"
             ],
             [
              0.1111111111111111,
              "#46039f"
             ],
             [
              0.2222222222222222,
              "#7201a8"
             ],
             [
              0.3333333333333333,
              "#9c179e"
             ],
             [
              0.4444444444444444,
              "#bd3786"
             ],
             [
              0.5555555555555556,
              "#d8576b"
             ],
             [
              0.6666666666666666,
              "#ed7953"
             ],
             [
              0.7777777777777778,
              "#fb9f3a"
             ],
             [
              0.8888888888888888,
              "#fdca26"
             ],
             [
              1,
              "#f0f921"
             ]
            ],
            "type": "heatmap"
           }
          ],
          "heatmapgl": [
           {
            "colorbar": {
             "outlinewidth": 0,
             "ticks": ""
            },
            "colorscale": [
             [
              0,
              "#0d0887"
             ],
             [
              0.1111111111111111,
              "#46039f"
             ],
             [
              0.2222222222222222,
              "#7201a8"
             ],
             [
              0.3333333333333333,
              "#9c179e"
             ],
             [
              0.4444444444444444,
              "#bd3786"
             ],
             [
              0.5555555555555556,
              "#d8576b"
             ],
             [
              0.6666666666666666,
              "#ed7953"
             ],
             [
              0.7777777777777778,
              "#fb9f3a"
             ],
             [
              0.8888888888888888,
              "#fdca26"
             ],
             [
              1,
              "#f0f921"
             ]
            ],
            "type": "heatmapgl"
           }
          ],
          "histogram": [
           {
            "marker": {
             "colorbar": {
              "outlinewidth": 0,
              "ticks": ""
             }
            },
            "type": "histogram"
           }
          ],
          "histogram2d": [
           {
            "colorbar": {
             "outlinewidth": 0,
             "ticks": ""
            },
            "colorscale": [
             [
              0,
              "#0d0887"
             ],
             [
              0.1111111111111111,
              "#46039f"
             ],
             [
              0.2222222222222222,
              "#7201a8"
             ],
             [
              0.3333333333333333,
              "#9c179e"
             ],
             [
              0.4444444444444444,
              "#bd3786"
             ],
             [
              0.5555555555555556,
              "#d8576b"
             ],
             [
              0.6666666666666666,
              "#ed7953"
             ],
             [
              0.7777777777777778,
              "#fb9f3a"
             ],
             [
              0.8888888888888888,
              "#fdca26"
             ],
             [
              1,
              "#f0f921"
             ]
            ],
            "type": "histogram2d"
           }
          ],
          "histogram2dcontour": [
           {
            "colorbar": {
             "outlinewidth": 0,
             "ticks": ""
            },
            "colorscale": [
             [
              0,
              "#0d0887"
             ],
             [
              0.1111111111111111,
              "#46039f"
             ],
             [
              0.2222222222222222,
              "#7201a8"
             ],
             [
              0.3333333333333333,
              "#9c179e"
             ],
             [
              0.4444444444444444,
              "#bd3786"
             ],
             [
              0.5555555555555556,
              "#d8576b"
             ],
             [
              0.6666666666666666,
              "#ed7953"
             ],
             [
              0.7777777777777778,
              "#fb9f3a"
             ],
             [
              0.8888888888888888,
              "#fdca26"
             ],
             [
              1,
              "#f0f921"
             ]
            ],
            "type": "histogram2dcontour"
           }
          ],
          "mesh3d": [
           {
            "colorbar": {
             "outlinewidth": 0,
             "ticks": ""
            },
            "type": "mesh3d"
           }
          ],
          "parcoords": [
           {
            "line": {
             "colorbar": {
              "outlinewidth": 0,
              "ticks": ""
             }
            },
            "type": "parcoords"
           }
          ],
          "pie": [
           {
            "automargin": true,
            "type": "pie"
           }
          ],
          "scatter": [
           {
            "marker": {
             "colorbar": {
              "outlinewidth": 0,
              "ticks": ""
             }
            },
            "type": "scatter"
           }
          ],
          "scatter3d": [
           {
            "line": {
             "colorbar": {
              "outlinewidth": 0,
              "ticks": ""
             }
            },
            "marker": {
             "colorbar": {
              "outlinewidth": 0,
              "ticks": ""
             }
            },
            "type": "scatter3d"
           }
          ],
          "scattercarpet": [
           {
            "marker": {
             "colorbar": {
              "outlinewidth": 0,
              "ticks": ""
             }
            },
            "type": "scattercarpet"
           }
          ],
          "scattergeo": [
           {
            "marker": {
             "colorbar": {
              "outlinewidth": 0,
              "ticks": ""
             }
            },
            "type": "scattergeo"
           }
          ],
          "scattergl": [
           {
            "marker": {
             "colorbar": {
              "outlinewidth": 0,
              "ticks": ""
             }
            },
            "type": "scattergl"
           }
          ],
          "scattermapbox": [
           {
            "marker": {
             "colorbar": {
              "outlinewidth": 0,
              "ticks": ""
             }
            },
            "type": "scattermapbox"
           }
          ],
          "scatterpolar": [
           {
            "marker": {
             "colorbar": {
              "outlinewidth": 0,
              "ticks": ""
             }
            },
            "type": "scatterpolar"
           }
          ],
          "scatterpolargl": [
           {
            "marker": {
             "colorbar": {
              "outlinewidth": 0,
              "ticks": ""
             }
            },
            "type": "scatterpolargl"
           }
          ],
          "scatterternary": [
           {
            "marker": {
             "colorbar": {
              "outlinewidth": 0,
              "ticks": ""
             }
            },
            "type": "scatterternary"
           }
          ],
          "surface": [
           {
            "colorbar": {
             "outlinewidth": 0,
             "ticks": ""
            },
            "colorscale": [
             [
              0,
              "#0d0887"
             ],
             [
              0.1111111111111111,
              "#46039f"
             ],
             [
              0.2222222222222222,
              "#7201a8"
             ],
             [
              0.3333333333333333,
              "#9c179e"
             ],
             [
              0.4444444444444444,
              "#bd3786"
             ],
             [
              0.5555555555555556,
              "#d8576b"
             ],
             [
              0.6666666666666666,
              "#ed7953"
             ],
             [
              0.7777777777777778,
              "#fb9f3a"
             ],
             [
              0.8888888888888888,
              "#fdca26"
             ],
             [
              1,
              "#f0f921"
             ]
            ],
            "type": "surface"
           }
          ],
          "table": [
           {
            "cells": {
             "fill": {
              "color": "#EBF0F8"
             },
             "line": {
              "color": "white"
             }
            },
            "header": {
             "fill": {
              "color": "#C8D4E3"
             },
             "line": {
              "color": "white"
             }
            },
            "type": "table"
           }
          ]
         },
         "layout": {
          "annotationdefaults": {
           "arrowcolor": "#2a3f5f",
           "arrowhead": 0,
           "arrowwidth": 1
          },
          "autotypenumbers": "strict",
          "coloraxis": {
           "colorbar": {
            "outlinewidth": 0,
            "ticks": ""
           }
          },
          "colorscale": {
           "diverging": [
            [
             0,
             "#8e0152"
            ],
            [
             0.1,
             "#c51b7d"
            ],
            [
             0.2,
             "#de77ae"
            ],
            [
             0.3,
             "#f1b6da"
            ],
            [
             0.4,
             "#fde0ef"
            ],
            [
             0.5,
             "#f7f7f7"
            ],
            [
             0.6,
             "#e6f5d0"
            ],
            [
             0.7,
             "#b8e186"
            ],
            [
             0.8,
             "#7fbc41"
            ],
            [
             0.9,
             "#4d9221"
            ],
            [
             1,
             "#276419"
            ]
           ],
           "sequential": [
            [
             0,
             "#0d0887"
            ],
            [
             0.1111111111111111,
             "#46039f"
            ],
            [
             0.2222222222222222,
             "#7201a8"
            ],
            [
             0.3333333333333333,
             "#9c179e"
            ],
            [
             0.4444444444444444,
             "#bd3786"
            ],
            [
             0.5555555555555556,
             "#d8576b"
            ],
            [
             0.6666666666666666,
             "#ed7953"
            ],
            [
             0.7777777777777778,
             "#fb9f3a"
            ],
            [
             0.8888888888888888,
             "#fdca26"
            ],
            [
             1,
             "#f0f921"
            ]
           ],
           "sequentialminus": [
            [
             0,
             "#0d0887"
            ],
            [
             0.1111111111111111,
             "#46039f"
            ],
            [
             0.2222222222222222,
             "#7201a8"
            ],
            [
             0.3333333333333333,
             "#9c179e"
            ],
            [
             0.4444444444444444,
             "#bd3786"
            ],
            [
             0.5555555555555556,
             "#d8576b"
            ],
            [
             0.6666666666666666,
             "#ed7953"
            ],
            [
             0.7777777777777778,
             "#fb9f3a"
            ],
            [
             0.8888888888888888,
             "#fdca26"
            ],
            [
             1,
             "#f0f921"
            ]
           ]
          },
          "colorway": [
           "#636efa",
           "#EF553B",
           "#00cc96",
           "#ab63fa",
           "#FFA15A",
           "#19d3f3",
           "#FF6692",
           "#B6E880",
           "#FF97FF",
           "#FECB52"
          ],
          "font": {
           "color": "#2a3f5f"
          },
          "geo": {
           "bgcolor": "white",
           "lakecolor": "white",
           "landcolor": "#E5ECF6",
           "showlakes": true,
           "showland": true,
           "subunitcolor": "white"
          },
          "hoverlabel": {
           "align": "left"
          },
          "hovermode": "closest",
          "mapbox": {
           "style": "light"
          },
          "paper_bgcolor": "white",
          "plot_bgcolor": "#E5ECF6",
          "polar": {
           "angularaxis": {
            "gridcolor": "white",
            "linecolor": "white",
            "ticks": ""
           },
           "bgcolor": "#E5ECF6",
           "radialaxis": {
            "gridcolor": "white",
            "linecolor": "white",
            "ticks": ""
           }
          },
          "scene": {
           "xaxis": {
            "backgroundcolor": "#E5ECF6",
            "gridcolor": "white",
            "gridwidth": 2,
            "linecolor": "white",
            "showbackground": true,
            "ticks": "",
            "zerolinecolor": "white"
           },
           "yaxis": {
            "backgroundcolor": "#E5ECF6",
            "gridcolor": "white",
            "gridwidth": 2,
            "linecolor": "white",
            "showbackground": true,
            "ticks": "",
            "zerolinecolor": "white"
           },
           "zaxis": {
            "backgroundcolor": "#E5ECF6",
            "gridcolor": "white",
            "gridwidth": 2,
            "linecolor": "white",
            "showbackground": true,
            "ticks": "",
            "zerolinecolor": "white"
           }
          },
          "shapedefaults": {
           "line": {
            "color": "#2a3f5f"
           }
          },
          "ternary": {
           "aaxis": {
            "gridcolor": "white",
            "linecolor": "white",
            "ticks": ""
           },
           "baxis": {
            "gridcolor": "white",
            "linecolor": "white",
            "ticks": ""
           },
           "bgcolor": "#E5ECF6",
           "caxis": {
            "gridcolor": "white",
            "linecolor": "white",
            "ticks": ""
           }
          },
          "title": {
           "x": 0.05
          },
          "xaxis": {
           "automargin": true,
           "gridcolor": "white",
           "linecolor": "white",
           "ticks": "",
           "title": {
            "standoff": 15
           },
           "zerolinecolor": "white",
           "zerolinewidth": 2
          },
          "yaxis": {
           "automargin": true,
           "gridcolor": "white",
           "linecolor": "white",
           "ticks": "",
           "title": {
            "standoff": 15
           },
           "zerolinecolor": "white",
           "zerolinewidth": 2
          }
         }
        },
        "title": {
         "text": "2018 Loans Allocated by State"
        }
       }
      },
      "text/html": [
       "<div>                            <div id=\"8930025f-6e50-4b06-92ad-3d3960a6101a\" class=\"plotly-graph-div\" style=\"height:525px; width:100%;\"></div>            <script type=\"text/javascript\">                require([\"plotly\"], function(Plotly) {                    window.PLOTLYENV=window.PLOTLYENV || {};                                    if (document.getElementById(\"8930025f-6e50-4b06-92ad-3d3960a6101a\")) {                    Plotly.newPlot(                        \"8930025f-6e50-4b06-92ad-3d3960a6101a\",                        [{\"colorbar\": {\"title\": {\"text\": \"Millions USD\"}}, \"colorscale\": [[0.0, \"rgb(255,245,240)\"], [0.125, \"rgb(254,224,210)\"], [0.25, \"rgb(252,187,161)\"], [0.375, \"rgb(252,146,114)\"], [0.5, \"rgb(251,106,74)\"], [0.625, \"rgb(239,59,44)\"], [0.75, \"rgb(203,24,29)\"], [0.875, \"rgb(165,15,21)\"], [1.0, \"rgb(103,0,13)\"]], \"locationmode\": \"USA-states\", \"locations\": [\"AK\", \"AL\", \"AR\", \"AZ\", \"CA\", \"CO\", \"CT\", \"DC\", \"DE\", \"FL\", \"GA\", \"HI\", \"ID\", \"IL\", \"IN\", \"KS\", \"KY\", \"LA\", \"MA\", \"MD\", \"ME\", \"MI\", \"MN\", \"MO\", \"MS\", \"MT\", \"NC\", \"ND\", \"NE\", \"NH\", \"NJ\", \"NM\", \"NV\", \"NY\", \"OH\", \"OK\", \"OR\", \"PA\", \"RI\", \"SC\", \"SD\", \"TN\", \"TX\", \"UT\", \"VA\", \"VT\", \"WA\", \"WI\", \"WV\", \"WY\"], \"type\": \"choropleth\", \"z\": [19.0, 87.0, 57.0, 188.0, 1111.0, 178.0, 129.0, 17.0, 23.0, 582.0, 269.0, 37.0, 26.0, 322.0, 130.0, 63.0, 72.0, 81.0, 182.0, 204.0, 25.0, 191.0, 127.0, 120.0, 48.0, 21.0, 216.0, 18.0, 36.0, 39.0, 300.0, 40.0, 118.0, 625.0, 244.0, 73.0, 92.0, 250.0, 35.0, 101.0, 15.0, 126.0, 678.0, 52.0, 222.0, 17.0, 169.0, 101.0, 45.0, 16.0]}],                        {\"geo\": {\"scope\": \"usa\"}, \"template\": {\"data\": {\"bar\": [{\"error_x\": {\"color\": \"#2a3f5f\"}, \"error_y\": {\"color\": \"#2a3f5f\"}, \"marker\": {\"line\": {\"color\": \"#E5ECF6\", \"width\": 0.5}}, \"type\": \"bar\"}], \"barpolar\": [{\"marker\": {\"line\": {\"color\": \"#E5ECF6\", \"width\": 0.5}}, \"type\": \"barpolar\"}], \"carpet\": [{\"aaxis\": {\"endlinecolor\": \"#2a3f5f\", \"gridcolor\": \"white\", \"linecolor\": \"white\", \"minorgridcolor\": \"white\", \"startlinecolor\": \"#2a3f5f\"}, \"baxis\": {\"endlinecolor\": \"#2a3f5f\", \"gridcolor\": \"white\", \"linecolor\": \"white\", \"minorgridcolor\": \"white\", \"startlinecolor\": \"#2a3f5f\"}, \"type\": \"carpet\"}], \"choropleth\": [{\"colorbar\": {\"outlinewidth\": 0, \"ticks\": \"\"}, \"type\": \"choropleth\"}], \"contour\": [{\"colorbar\": {\"outlinewidth\": 0, \"ticks\": \"\"}, \"colorscale\": [[0.0, \"#0d0887\"], [0.1111111111111111, \"#46039f\"], [0.2222222222222222, \"#7201a8\"], [0.3333333333333333, \"#9c179e\"], [0.4444444444444444, \"#bd3786\"], [0.5555555555555556, \"#d8576b\"], [0.6666666666666666, \"#ed7953\"], [0.7777777777777778, \"#fb9f3a\"], [0.8888888888888888, \"#fdca26\"], [1.0, \"#f0f921\"]], \"type\": \"contour\"}], \"contourcarpet\": [{\"colorbar\": {\"outlinewidth\": 0, \"ticks\": \"\"}, \"type\": \"contourcarpet\"}], \"heatmap\": [{\"colorbar\": {\"outlinewidth\": 0, \"ticks\": \"\"}, \"colorscale\": [[0.0, \"#0d0887\"], [0.1111111111111111, \"#46039f\"], [0.2222222222222222, \"#7201a8\"], [0.3333333333333333, \"#9c179e\"], [0.4444444444444444, \"#bd3786\"], [0.5555555555555556, \"#d8576b\"], [0.6666666666666666, \"#ed7953\"], [0.7777777777777778, \"#fb9f3a\"], [0.8888888888888888, \"#fdca26\"], [1.0, \"#f0f921\"]], \"type\": \"heatmap\"}], \"heatmapgl\": [{\"colorbar\": {\"outlinewidth\": 0, \"ticks\": \"\"}, \"colorscale\": [[0.0, \"#0d0887\"], [0.1111111111111111, \"#46039f\"], [0.2222222222222222, \"#7201a8\"], [0.3333333333333333, \"#9c179e\"], [0.4444444444444444, \"#bd3786\"], [0.5555555555555556, \"#d8576b\"], [0.6666666666666666, \"#ed7953\"], [0.7777777777777778, \"#fb9f3a\"], [0.8888888888888888, \"#fdca26\"], [1.0, \"#f0f921\"]], \"type\": \"heatmapgl\"}], \"histogram\": [{\"marker\": {\"colorbar\": {\"outlinewidth\": 0, \"ticks\": \"\"}}, \"type\": \"histogram\"}], \"histogram2d\": [{\"colorbar\": {\"outlinewidth\": 0, \"ticks\": \"\"}, \"colorscale\": [[0.0, \"#0d0887\"], [0.1111111111111111, \"#46039f\"], [0.2222222222222222, \"#7201a8\"], [0.3333333333333333, \"#9c179e\"], [0.4444444444444444, \"#bd3786\"], [0.5555555555555556, \"#d8576b\"], [0.6666666666666666, \"#ed7953\"], [0.7777777777777778, \"#fb9f3a\"], [0.8888888888888888, \"#fdca26\"], [1.0, \"#f0f921\"]], \"type\": \"histogram2d\"}], \"histogram2dcontour\": [{\"colorbar\": {\"outlinewidth\": 0, \"ticks\": \"\"}, \"colorscale\": [[0.0, \"#0d0887\"], [0.1111111111111111, \"#46039f\"], [0.2222222222222222, \"#7201a8\"], [0.3333333333333333, \"#9c179e\"], [0.4444444444444444, \"#bd3786\"], [0.5555555555555556, \"#d8576b\"], [0.6666666666666666, \"#ed7953\"], [0.7777777777777778, \"#fb9f3a\"], [0.8888888888888888, \"#fdca26\"], [1.0, \"#f0f921\"]], \"type\": \"histogram2dcontour\"}], \"mesh3d\": [{\"colorbar\": {\"outlinewidth\": 0, \"ticks\": \"\"}, \"type\": \"mesh3d\"}], \"parcoords\": [{\"line\": {\"colorbar\": {\"outlinewidth\": 0, \"ticks\": \"\"}}, \"type\": \"parcoords\"}], \"pie\": [{\"automargin\": true, \"type\": \"pie\"}], \"scatter\": [{\"marker\": {\"colorbar\": {\"outlinewidth\": 0, \"ticks\": \"\"}}, \"type\": \"scatter\"}], \"scatter3d\": [{\"line\": {\"colorbar\": {\"outlinewidth\": 0, \"ticks\": \"\"}}, \"marker\": {\"colorbar\": {\"outlinewidth\": 0, \"ticks\": \"\"}}, \"type\": \"scatter3d\"}], \"scattercarpet\": [{\"marker\": {\"colorbar\": {\"outlinewidth\": 0, \"ticks\": \"\"}}, \"type\": \"scattercarpet\"}], \"scattergeo\": [{\"marker\": {\"colorbar\": {\"outlinewidth\": 0, \"ticks\": \"\"}}, \"type\": \"scattergeo\"}], \"scattergl\": [{\"marker\": {\"colorbar\": {\"outlinewidth\": 0, \"ticks\": \"\"}}, \"type\": \"scattergl\"}], \"scattermapbox\": [{\"marker\": {\"colorbar\": {\"outlinewidth\": 0, \"ticks\": \"\"}}, \"type\": \"scattermapbox\"}], \"scatterpolar\": [{\"marker\": {\"colorbar\": {\"outlinewidth\": 0, \"ticks\": \"\"}}, \"type\": \"scatterpolar\"}], \"scatterpolargl\": [{\"marker\": {\"colorbar\": {\"outlinewidth\": 0, \"ticks\": \"\"}}, \"type\": \"scatterpolargl\"}], \"scatterternary\": [{\"marker\": {\"colorbar\": {\"outlinewidth\": 0, \"ticks\": \"\"}}, \"type\": \"scatterternary\"}], \"surface\": [{\"colorbar\": {\"outlinewidth\": 0, \"ticks\": \"\"}, \"colorscale\": [[0.0, \"#0d0887\"], [0.1111111111111111, \"#46039f\"], [0.2222222222222222, \"#7201a8\"], [0.3333333333333333, \"#9c179e\"], [0.4444444444444444, \"#bd3786\"], [0.5555555555555556, \"#d8576b\"], [0.6666666666666666, \"#ed7953\"], [0.7777777777777778, \"#fb9f3a\"], [0.8888888888888888, \"#fdca26\"], [1.0, \"#f0f921\"]], \"type\": \"surface\"}], \"table\": [{\"cells\": {\"fill\": {\"color\": \"#EBF0F8\"}, \"line\": {\"color\": \"white\"}}, \"header\": {\"fill\": {\"color\": \"#C8D4E3\"}, \"line\": {\"color\": \"white\"}}, \"type\": \"table\"}]}, \"layout\": {\"annotationdefaults\": {\"arrowcolor\": \"#2a3f5f\", \"arrowhead\": 0, \"arrowwidth\": 1}, \"autotypenumbers\": \"strict\", \"coloraxis\": {\"colorbar\": {\"outlinewidth\": 0, \"ticks\": \"\"}}, \"colorscale\": {\"diverging\": [[0, \"#8e0152\"], [0.1, \"#c51b7d\"], [0.2, \"#de77ae\"], [0.3, \"#f1b6da\"], [0.4, \"#fde0ef\"], [0.5, \"#f7f7f7\"], [0.6, \"#e6f5d0\"], [0.7, \"#b8e186\"], [0.8, \"#7fbc41\"], [0.9, \"#4d9221\"], [1, \"#276419\"]], \"sequential\": [[0.0, \"#0d0887\"], [0.1111111111111111, \"#46039f\"], [0.2222222222222222, \"#7201a8\"], [0.3333333333333333, \"#9c179e\"], [0.4444444444444444, \"#bd3786\"], [0.5555555555555556, \"#d8576b\"], [0.6666666666666666, \"#ed7953\"], [0.7777777777777778, \"#fb9f3a\"], [0.8888888888888888, \"#fdca26\"], [1.0, \"#f0f921\"]], \"sequentialminus\": [[0.0, \"#0d0887\"], [0.1111111111111111, \"#46039f\"], [0.2222222222222222, \"#7201a8\"], [0.3333333333333333, \"#9c179e\"], [0.4444444444444444, \"#bd3786\"], [0.5555555555555556, \"#d8576b\"], [0.6666666666666666, \"#ed7953\"], [0.7777777777777778, \"#fb9f3a\"], [0.8888888888888888, \"#fdca26\"], [1.0, \"#f0f921\"]]}, \"colorway\": [\"#636efa\", \"#EF553B\", \"#00cc96\", \"#ab63fa\", \"#FFA15A\", \"#19d3f3\", \"#FF6692\", \"#B6E880\", \"#FF97FF\", \"#FECB52\"], \"font\": {\"color\": \"#2a3f5f\"}, \"geo\": {\"bgcolor\": \"white\", \"lakecolor\": \"white\", \"landcolor\": \"#E5ECF6\", \"showlakes\": true, \"showland\": true, \"subunitcolor\": \"white\"}, \"hoverlabel\": {\"align\": \"left\"}, \"hovermode\": \"closest\", \"mapbox\": {\"style\": \"light\"}, \"paper_bgcolor\": \"white\", \"plot_bgcolor\": \"#E5ECF6\", \"polar\": {\"angularaxis\": {\"gridcolor\": \"white\", \"linecolor\": \"white\", \"ticks\": \"\"}, \"bgcolor\": \"#E5ECF6\", \"radialaxis\": {\"gridcolor\": \"white\", \"linecolor\": \"white\", \"ticks\": \"\"}}, \"scene\": {\"xaxis\": {\"backgroundcolor\": \"#E5ECF6\", \"gridcolor\": \"white\", \"gridwidth\": 2, \"linecolor\": \"white\", \"showbackground\": true, \"ticks\": \"\", \"zerolinecolor\": \"white\"}, \"yaxis\": {\"backgroundcolor\": \"#E5ECF6\", \"gridcolor\": \"white\", \"gridwidth\": 2, \"linecolor\": \"white\", \"showbackground\": true, \"ticks\": \"\", \"zerolinecolor\": \"white\"}, \"zaxis\": {\"backgroundcolor\": \"#E5ECF6\", \"gridcolor\": \"white\", \"gridwidth\": 2, \"linecolor\": \"white\", \"showbackground\": true, \"ticks\": \"\", \"zerolinecolor\": \"white\"}}, \"shapedefaults\": {\"line\": {\"color\": \"#2a3f5f\"}}, \"ternary\": {\"aaxis\": {\"gridcolor\": \"white\", \"linecolor\": \"white\", \"ticks\": \"\"}, \"baxis\": {\"gridcolor\": \"white\", \"linecolor\": \"white\", \"ticks\": \"\"}, \"bgcolor\": \"#E5ECF6\", \"caxis\": {\"gridcolor\": \"white\", \"linecolor\": \"white\", \"ticks\": \"\"}}, \"title\": {\"x\": 0.05}, \"xaxis\": {\"automargin\": true, \"gridcolor\": \"white\", \"linecolor\": \"white\", \"ticks\": \"\", \"title\": {\"standoff\": 15}, \"zerolinecolor\": \"white\", \"zerolinewidth\": 2}, \"yaxis\": {\"automargin\": true, \"gridcolor\": \"white\", \"linecolor\": \"white\", \"ticks\": \"\", \"title\": {\"standoff\": 15}, \"zerolinecolor\": \"white\", \"zerolinewidth\": 2}}}, \"title\": {\"text\": \"2018 Loans Allocated by State\"}},                        {\"responsive\": true}                    ).then(function(){\n",
       "                            \n",
       "var gd = document.getElementById('8930025f-6e50-4b06-92ad-3d3960a6101a');\n",
       "var x = new MutationObserver(function (mutations, observer) {{\n",
       "        var display = window.getComputedStyle(gd).display;\n",
       "        if (!display || display === 'none') {{\n",
       "            console.log([gd, 'removed!']);\n",
       "            Plotly.purge(gd);\n",
       "            observer.disconnect();\n",
       "        }}\n",
       "}});\n",
       "\n",
       "// Listen for the removal of the full notebook cells\n",
       "var notebookContainer = gd.closest('#notebook-container');\n",
       "if (notebookContainer) {{\n",
       "    x.observe(notebookContainer, {childList: true});\n",
       "}}\n",
       "\n",
       "// Listen for the clearing of the current output cell\n",
       "var outputEl = gd.closest('.output');\n",
       "if (outputEl) {{\n",
       "    x.observe(outputEl, {childList: true});\n",
       "}}\n",
       "\n",
       "                        })                };                });            </script>        </div>"
      ]
     },
     "metadata": {},
     "output_type": "display_data"
    }
   ],
   "source": [
    "fig = go.Figure(data=go.Choropleth(\n",
    "    locations=states['addr_state'], # Spatial coordinates\n",
    "    z = states['loan_amnt'].astype(float), # Data to be color-coded\n",
    "    locationmode = 'USA-states', # set of locations match entries in `locations`\n",
    "    colorscale = 'Reds',\n",
    "    colorbar_title = \"Millions USD\",\n",
    "))\n",
    "\n",
    "fig.update_layout(\n",
    "    title_text = '2018 Loans Allocated by State',\n",
    "    geo_scope='usa', # limite map scope to USA\n",
    ")\n",
    "\n",
    "fig.show()\n",
    "fig.write_image(\"./images/loans_by_state.png\", scale=2)"
   ]
  },
  {
   "cell_type": "markdown",
   "id": "586f0ba8",
   "metadata": {},
   "source": [
    "### Exploring Interest Rates"
   ]
  },
  {
   "cell_type": "code",
   "execution_count": 150,
   "id": "b4fba01d",
   "metadata": {
    "ExecuteTime": {
     "end_time": "2021-07-13T15:44:03.623087Z",
     "start_time": "2021-07-13T15:44:03.297077Z"
    }
   },
   "outputs": [],
   "source": [
    "int_rate = data[['issue_d','int_rate']].copy()\n",
    "int_rate['issue_d'] = pd.DatetimeIndex(int_rate['issue_d']).year\n",
    "int_rate.dropna(inplace=True)\n",
    "int_rate['issue_d'] = int_rate['issue_d'].astype(int)"
   ]
  },
  {
   "cell_type": "code",
   "execution_count": 151,
   "id": "46b1e7f8",
   "metadata": {
    "ExecuteTime": {
     "end_time": "2021-07-13T15:44:09.951149Z",
     "start_time": "2021-07-13T15:44:03.625082Z"
    },
    "scrolled": true
   },
   "outputs": [
    {
     "data": {
      "image/png": "[encoded data removed]",
      "text/plain": [
       "<Figure size 480x320 with 1 Axes>"
      ]
     },
     "metadata": {
      "needs_background": "light"
     },
     "output_type": "display_data"
    }
   ],
   "source": [
    "plt.subplots(dpi = 80)\n",
    "sns.set_theme(style=\"whitegrid\", font_scale=1.0)\n",
    "g = sns.violinplot(data=int_rate, x=\"issue_d\", y=\"int_rate\", size=\"size\")\n",
    "g.set_title('Interest Rates by Year')\n",
    "g.set_ylabel('Interest Rate %')\n",
    "g.set_xlabel('Year')\n",
    "plt.savefig('./images/int_rates.png', dpi=500)"
   ]
  },
  {
   "cell_type": "markdown",
   "id": "ddab5944",
   "metadata": {},
   "source": [
    "## Preparing the Data for the Models"
   ]
  },
  {
   "cell_type": "markdown",
   "id": "c7ea584d",
   "metadata": {},
   "source": [
    "### Selecting Features"
   ]
  },
  {
   "cell_type": "code",
   "execution_count": 152,
   "id": "ea072eef",
   "metadata": {
    "ExecuteTime": {
     "end_time": "2021-07-13T15:44:09.982755Z",
     "start_time": "2021-07-13T15:44:09.953115Z"
    }
   },
   "outputs": [
    {
     "name": "stdout",
     "output_type": "stream",
     "text": [
      "0 id\n",
      "1 member_id\n",
      "2 loan_amnt\n",
      "3 funded_amnt\n",
      "4 funded_amnt_inv\n",
      "5 term\n",
      "6 int_rate\n",
      "7 installment\n",
      "8 grade\n",
      "9 sub_grade\n",
      "10 emp_title\n",
      "11 emp_length\n",
      "12 home_ownership\n",
      "13 annual_inc\n",
      "14 verification_status\n",
      "15 issue_d\n",
      "16 loan_status\n",
      "17 pymnt_plan\n",
      "18 url\n",
      "19 desc\n",
      "20 purpose\n",
      "21 title\n",
      "22 zip_code\n",
      "23 addr_state\n",
      "24 dti\n",
      "25 delinq_2yrs\n",
      "26 earliest_cr_line\n",
      "27 fico_range_low\n",
      "28 fico_range_high\n",
      "29 inq_last_6mths\n",
      "30 mths_since_last_delinq\n",
      "31 mths_since_last_record\n",
      "32 open_acc\n",
      "33 pub_rec\n",
      "34 revol_bal\n",
      "35 revol_util\n",
      "36 total_acc\n",
      "37 initial_list_status\n",
      "38 out_prncp\n",
      "39 out_prncp_inv\n",
      "40 total_pymnt\n",
      "41 total_pymnt_inv\n",
      "42 total_rec_prncp\n",
      "43 total_rec_int\n",
      "44 total_rec_late_fee\n",
      "45 recoveries\n",
      "46 collection_recovery_fee\n",
      "47 last_pymnt_d\n",
      "48 last_pymnt_amnt\n",
      "49 next_pymnt_d\n",
      "50 last_credit_pull_d\n",
      "51 last_fico_range_high\n",
      "52 last_fico_range_low\n",
      "53 collections_12_mths_ex_med\n",
      "54 mths_since_last_major_derog\n",
      "55 policy_code\n",
      "56 application_type\n",
      "57 annual_inc_joint\n",
      "58 dti_joint\n",
      "59 verification_status_joint\n",
      "60 acc_now_delinq\n",
      "61 tot_coll_amt\n",
      "62 tot_cur_bal\n",
      "63 open_acc_6m\n",
      "64 open_act_il\n",
      "65 open_il_12m\n",
      "66 open_il_24m\n",
      "67 mths_since_rcnt_il\n",
      "68 total_bal_il\n",
      "69 il_util\n",
      "70 open_rv_12m\n",
      "71 open_rv_24m\n",
      "72 max_bal_bc\n",
      "73 all_util\n",
      "74 total_rev_hi_lim\n",
      "75 inq_fi\n",
      "76 total_cu_tl\n",
      "77 inq_last_12m\n",
      "78 acc_open_past_24mths\n",
      "79 avg_cur_bal\n",
      "80 bc_open_to_buy\n",
      "81 bc_util\n",
      "82 chargeoff_within_12_mths\n",
      "83 delinq_amnt\n",
      "84 mo_sin_old_il_acct\n",
      "85 mo_sin_old_rev_tl_op\n",
      "86 mo_sin_rcnt_rev_tl_op\n",
      "87 mo_sin_rcnt_tl\n",
      "88 mort_acc\n",
      "89 mths_since_recent_bc\n",
      "90 mths_since_recent_bc_dlq\n",
      "91 mths_since_recent_inq\n",
      "92 mths_since_recent_revol_delinq\n",
      "93 num_accts_ever_120_pd\n",
      "94 num_actv_bc_tl\n",
      "95 num_actv_rev_tl\n",
      "96 num_bc_sats\n",
      "97 num_bc_tl\n",
      "98 num_il_tl\n",
      "99 num_op_rev_tl\n",
      "100 num_rev_accts\n",
      "101 num_rev_tl_bal_gt_0\n",
      "102 num_sats\n",
      "103 num_tl_120dpd_2m\n",
      "104 num_tl_30dpd\n",
      "105 num_tl_90g_dpd_24m\n",
      "106 num_tl_op_past_12m\n",
      "107 pct_tl_nvr_dlq\n",
      "108 percent_bc_gt_75\n",
      "109 pub_rec_bankruptcies\n",
      "110 tax_liens\n",
      "111 tot_hi_cred_lim\n",
      "112 total_bal_ex_mort\n",
      "113 total_bc_limit\n",
      "114 total_il_high_credit_limit\n",
      "115 revol_bal_joint\n",
      "116 sec_app_fico_range_low\n",
      "117 sec_app_fico_range_high\n",
      "118 sec_app_earliest_cr_line\n",
      "119 sec_app_inq_last_6mths\n",
      "120 sec_app_mort_acc\n",
      "121 sec_app_open_acc\n",
      "122 sec_app_revol_util\n",
      "123 sec_app_open_act_il\n",
      "124 sec_app_num_rev_accts\n",
      "125 sec_app_chargeoff_within_12_mths\n",
      "126 sec_app_collections_12_mths_ex_med\n",
      "127 sec_app_mths_since_last_major_derog\n",
      "128 hardship_flag\n",
      "129 hardship_type\n",
      "130 hardship_reason\n",
      "131 hardship_status\n",
      "132 deferral_term\n",
      "133 hardship_amount\n",
      "134 hardship_start_date\n",
      "135 hardship_end_date\n",
      "136 payment_plan_start_date\n",
      "137 hardship_length\n",
      "138 hardship_dpd\n",
      "139 hardship_loan_status\n",
      "140 orig_projected_additional_accrued_interest\n",
      "141 hardship_payoff_balance_amount\n",
      "142 hardship_last_payment_amount\n",
      "143 disbursement_method\n",
      "144 debt_settlement_flag\n",
      "145 debt_settlement_flag_date\n",
      "146 settlement_status\n",
      "147 settlement_date\n",
      "148 settlement_amount\n",
      "149 settlement_percentage\n",
      "150 settlement_term\n"
     ]
    }
   ],
   "source": [
    "for e, column in enumerate(data.columns):\n",
    "    print (e, column)"
   ]
  },
  {
   "cell_type": "markdown",
   "id": "4828d9ff",
   "metadata": {
    "ExecuteTime": {
     "end_time": "2021-06-06T14:51:20.196664Z",
     "start_time": "2021-06-06T14:51:20.176634Z"
    }
   },
   "source": [
    "Using the dictionary with the descriptions I will review the features available to determine which were obtained after the loan origination to avoid data leakage. We should only use information available at loan origination in order to avoid having a model that overestimates its predictive power. The following are features I found to be available at origination and that are relevant:\n",
    "\n",
    "- id, loan_amnt, term, int_rate, grade, sub_grade, emp_title, emp_length, home_ownership, annual_inc, verification_status, loan_status (target), purpose, zip_code, addr_state, dti, earliest_cr_line, fico_range_low, fico_range_high, open_acc, pub_rec, initial_list_status, application_type, annual_inc_joint, dti_joint, verification_status_joint, pub_rec_bankruptcies\n",
    "\n",
    "Column index: 0, 2, 5, 6, 8, 9, 10, 11, 12, 13, 14, 16, 20, 22, 23, 24, 26, 27, 28, 32, 33, 37, 56, 57, 58, 59, 109"
   ]
  },
  {
   "cell_type": "code",
   "execution_count": 153,
   "id": "7d51347d",
   "metadata": {
    "ExecuteTime": {
     "end_time": "2021-07-13T15:44:10.308404Z",
     "start_time": "2021-07-13T15:44:09.986653Z"
    }
   },
   "outputs": [],
   "source": [
    "# On new training add column index 10\n",
    "df = data.iloc[:,[0,2,5,6,8,9,\n",
    "                  \n",
    "                  11,12,13,14,16,20,22,23,24,26,27,28,32,33,37,56,57,58,59,109]]"
   ]
  },
  {
   "cell_type": "markdown",
   "id": "bbca4fcd",
   "metadata": {},
   "source": [
    "### Filtering Rows that can be Used to Train our Model"
   ]
  },
  {
   "cell_type": "markdown",
   "id": "e137a4a2",
   "metadata": {},
   "source": [
    "Our analysis should only include observations where the target variable, loan_status, has a definite status in order to have a target that can be used to train our models. In this case, either the loan_status is \"Fully Paid\" or \"Charged Off\", which means it defaulted."
   ]
  },
  {
   "cell_type": "code",
   "execution_count": 154,
   "id": "4f9373e5",
   "metadata": {
    "ExecuteTime": {
     "end_time": "2021-07-13T15:44:10.478692Z",
     "start_time": "2021-07-13T15:44:10.315392Z"
    }
   },
   "outputs": [
    {
     "data": {
      "text/plain": [
       "Fully Paid                                             1076751\n",
       "Current                                                 878317\n",
       "Charged Off                                             268559\n",
       "Late (31-120 days)                                       21467\n",
       "In Grace Period                                           8436\n",
       "Late (16-30 days)                                         4349\n",
       "Does not meet the credit policy. Status:Fully Paid        1988\n",
       "Does not meet the credit policy. Status:Charged Off        761\n",
       "Default                                                     40\n",
       "Name: loan_status, dtype: int64"
      ]
     },
     "execution_count": 154,
     "metadata": {},
     "output_type": "execute_result"
    }
   ],
   "source": [
    "data.loan_status.value_counts()"
   ]
  },
  {
   "cell_type": "code",
   "execution_count": 155,
   "id": "6cc0196a",
   "metadata": {
    "ExecuteTime": {
     "end_time": "2021-07-13T15:44:10.926048Z",
     "start_time": "2021-07-13T15:44:10.480599Z"
    }
   },
   "outputs": [],
   "source": [
    "df = df[df['loan_status'].isin(['Fully Paid', 'Charged Off'])]"
   ]
  },
  {
   "cell_type": "markdown",
   "id": "81908b8a",
   "metadata": {
    "ExecuteTime": {
     "end_time": "2021-06-17T14:26:35.508244Z",
     "start_time": "2021-06-17T14:26:35.499433Z"
    }
   },
   "source": [
    "###  Understanding and Dealing with the Missing Data"
   ]
  },
  {
   "cell_type": "code",
   "execution_count": 156,
   "id": "fc83b187",
   "metadata": {
    "ExecuteTime": {
     "end_time": "2021-07-13T15:44:11.731868Z",
     "start_time": "2021-07-13T15:44:10.930038Z"
    }
   },
   "outputs": [
    {
     "data": {
      "text/plain": [
       "verification_status_joint    1319715\n",
       "dti_joint                    1319513\n",
       "annual_inc_joint             1319510\n",
       "emp_length                     78511\n",
       "pub_rec_bankruptcies             697\n",
       "dti                              374\n",
       "zip_code                           1\n",
       "dtype: int64"
      ]
     },
     "execution_count": 156,
     "metadata": {},
     "output_type": "execute_result"
    }
   ],
   "source": [
    "nullseries = df.isnull().sum()\n",
    "nullseries[nullseries > 0].sort_values(ascending=False)"
   ]
  },
  {
   "cell_type": "markdown",
   "id": "ec494421",
   "metadata": {},
   "source": [
    "It seems most of the missing values for the joint data are missing because they do not apply since not all loan applicants do so with another person. \n",
    "\n",
    "Next we will explore the relation between emp_length and default rate to see if there is any correlation which could indicate that it is missing not at random."
   ]
  },
  {
   "cell_type": "code",
   "execution_count": 157,
   "id": "4e5f8053",
   "metadata": {
    "ExecuteTime": {
     "end_time": "2021-07-13T15:44:12.976935Z",
     "start_time": "2021-07-13T15:44:11.740674Z"
    }
   },
   "outputs": [
    {
     "data": {
      "image/png": "[encoded data removed]",
      "text/plain": [
       "<Figure size 480x320 with 1 Axes>"
      ]
     },
     "metadata": {},
     "output_type": "display_data"
    }
   ],
   "source": [
    "employment = df[['emp_length','loan_status']].copy()\n",
    "employment['emp_length'] = employment['emp_length'].fillna(value='Missing')\n",
    "employment['emp_length'] = employment['emp_length'].apply(lambda x: 'Missing' if x =='Missing' else 'Present')\n",
    "employment['loan_status'] = employment['loan_status'].apply(lambda x: 1 if x =='Charged Off' else 0)\n",
    "employment = employment.groupby('emp_length')['loan_status'].mean().reset_index()\n",
    "\n",
    "#Graph\n",
    "\n",
    "f, ax = plt.subplots()\n",
    "ax.bar(employment.emp_length, employment.loan_status)\n",
    "ax.set_ylabel('Default Rate')\n",
    "ax.set(xlabel=None,\n",
    "      title=\"Default Rate and Employment Status\")\n",
    "f.tight_layout()  # otherwise the right y-label is slightly clipped\n",
    "plt.show()\n",
    "f.savefig('./images/default_rate_employment.png', facecolor=f.get_facecolor(), transparent=True, dpi=500)"
   ]
  },
  {
   "cell_type": "markdown",
   "id": "2a04e068",
   "metadata": {},
   "source": [
    "It seems clear that there is a relationship between there being a missing value in the emp_status feature and the default rate of the loan, which seems to indicate that it is missing not at random. What this means is that the applicant is probably not disclosing this information if he is unemployed.\n",
    "\n",
    "Since we will be using models that can deal with missing values we will not impute the missing values but it is good to know that this effect is probably present.\n",
    "\n",
    "We will check if there seems to be the same effect for the other missing values, bankruptcies and dti."
   ]
  },
  {
   "cell_type": "code",
   "execution_count": 158,
   "id": "b23a81aa",
   "metadata": {
    "ExecuteTime": {
     "end_time": "2021-07-13T15:44:14.785941Z",
     "start_time": "2021-07-13T15:44:12.983342Z"
    }
   },
   "outputs": [
    {
     "name": "stdout",
     "output_type": "stream",
     "text": [
      "  pub_rec_bankruptcies  loan_status\n",
      "0              Missing         0.17\n",
      "1              Present         0.20\n",
      "\n",
      "       dti  loan_status\n",
      "0  Missing         0.19\n",
      "1  Present         0.20\n"
     ]
    }
   ],
   "source": [
    "bankruptcies = df[['pub_rec_bankruptcies','loan_status']].copy()\n",
    "bankruptcies['pub_rec_bankruptcies'] = bankruptcies['pub_rec_bankruptcies'].fillna(value='Missing')\n",
    "bankruptcies['pub_rec_bankruptcies'] = bankruptcies['pub_rec_bankruptcies'].apply(lambda x: 'Missing' if x =='Missing' else 'Present')\n",
    "bankruptcies['loan_status'] = bankruptcies['loan_status'].apply(lambda x: 1 if x =='Charged Off' else 0)\n",
    "bankruptcies = bankruptcies.groupby('pub_rec_bankruptcies')['loan_status'].mean().reset_index()\n",
    "print(bankruptcies)\n",
    "\n",
    "print()\n",
    "\n",
    "dti = df[['dti','loan_status']].copy()\n",
    "dti['dti'] = dti['dti'].fillna(value='Missing')\n",
    "dti['dti'] = dti['dti'].apply(lambda x: 'Missing' if x =='Missing' else 'Present')\n",
    "dti['loan_status'] = dti['loan_status'].apply(lambda x: 1 if x =='Charged Off' else 0)\n",
    "dti = dti.groupby('dti')['loan_status'].mean().reset_index()\n",
    "print(dti)"
   ]
  },
  {
   "cell_type": "markdown",
   "id": "14e3ee93",
   "metadata": {},
   "source": [
    "There seems to be some difference but not as much and the effect seems to be contrary, if it is missing the chance of default goes down. Furthermore, the sample size is much smaller so I don't think I can come to a conclusion on this matter."
   ]
  },
  {
   "cell_type": "code",
   "execution_count": 159,
   "id": "2d70c5f4",
   "metadata": {
    "ExecuteTime": {
     "end_time": "2021-07-13T15:44:14.878381Z",
     "start_time": "2021-07-13T15:44:14.787956Z"
    }
   },
   "outputs": [
    {
     "data": {
      "text/html": [
       "<div>\n",
       "<style scoped>\n",
       "    .dataframe tbody tr th:only-of-type {\n",
       "        vertical-align: middle;\n",
       "    }\n",
       "\n",
       "    .dataframe tbody tr th {\n",
       "        vertical-align: top;\n",
       "    }\n",
       "\n",
       "    .dataframe thead th {\n",
       "        text-align: right;\n",
       "    }\n",
       "</style>\n",
       "<table border=\"1\" class=\"dataframe\">\n",
       "  <thead>\n",
       "    <tr style=\"text-align: right;\">\n",
       "      <th></th>\n",
       "      <th>id</th>\n",
       "      <th>loan_amnt</th>\n",
       "      <th>term</th>\n",
       "      <th>int_rate</th>\n",
       "      <th>grade</th>\n",
       "      <th>sub_grade</th>\n",
       "      <th>emp_length</th>\n",
       "      <th>home_ownership</th>\n",
       "      <th>annual_inc</th>\n",
       "      <th>verification_status</th>\n",
       "      <th>loan_status</th>\n",
       "      <th>purpose</th>\n",
       "      <th>zip_code</th>\n",
       "      <th>addr_state</th>\n",
       "      <th>dti</th>\n",
       "      <th>earliest_cr_line</th>\n",
       "      <th>fico_range_low</th>\n",
       "      <th>fico_range_high</th>\n",
       "      <th>open_acc</th>\n",
       "      <th>pub_rec</th>\n",
       "      <th>initial_list_status</th>\n",
       "      <th>application_type</th>\n",
       "      <th>annual_inc_joint</th>\n",
       "      <th>dti_joint</th>\n",
       "      <th>verification_status_joint</th>\n",
       "      <th>pub_rec_bankruptcies</th>\n",
       "    </tr>\n",
       "  </thead>\n",
       "  <tbody>\n",
       "    <tr>\n",
       "      <th>1736050</th>\n",
       "      <td>96387212</td>\n",
       "      <td>5600.00</td>\n",
       "      <td>36 months</td>\n",
       "      <td>15.99</td>\n",
       "      <td>C</td>\n",
       "      <td>C5</td>\n",
       "      <td>10+ years</td>\n",
       "      <td>MORTGAGE</td>\n",
       "      <td>40000.00</td>\n",
       "      <td>Verified</td>\n",
       "      <td>Fully Paid</td>\n",
       "      <td>debt_consolidation</td>\n",
       "      <td>NaN</td>\n",
       "      <td>AL</td>\n",
       "      <td>22.86</td>\n",
       "      <td>Jul-2005</td>\n",
       "      <td>670.00</td>\n",
       "      <td>674.00</td>\n",
       "      <td>8.00</td>\n",
       "      <td>1.00</td>\n",
       "      <td>f</td>\n",
       "      <td>Individual</td>\n",
       "      <td>NaN</td>\n",
       "      <td>NaN</td>\n",
       "      <td>NaN</td>\n",
       "      <td>1.00</td>\n",
       "    </tr>\n",
       "  </tbody>\n",
       "</table>\n",
       "</div>"
      ],
      "text/plain": [
       "               id  loan_amnt        term  int_rate grade sub_grade emp_length  \\\n",
       "1736050  96387212    5600.00   36 months     15.99     C        C5  10+ years   \n",
       "\n",
       "        home_ownership  annual_inc verification_status loan_status  \\\n",
       "1736050       MORTGAGE    40000.00            Verified  Fully Paid   \n",
       "\n",
       "                    purpose zip_code addr_state   dti earliest_cr_line  \\\n",
       "1736050  debt_consolidation      NaN         AL 22.86         Jul-2005   \n",
       "\n",
       "         fico_range_low  fico_range_high  open_acc  pub_rec  \\\n",
       "1736050          670.00           674.00      8.00     1.00   \n",
       "\n",
       "        initial_list_status application_type  annual_inc_joint  dti_joint  \\\n",
       "1736050                   f       Individual               NaN        NaN   \n",
       "\n",
       "        verification_status_joint  pub_rec_bankruptcies  \n",
       "1736050                       NaN                  1.00  "
      ]
     },
     "execution_count": 159,
     "metadata": {},
     "output_type": "execute_result"
    }
   ],
   "source": [
    "df[df['zip_code'].isnull() == True]"
   ]
  },
  {
   "cell_type": "markdown",
   "id": "3efebaae",
   "metadata": {},
   "source": [
    "### Feature Transformation and Dummyfing"
   ]
  },
  {
   "cell_type": "markdown",
   "id": "54cc58df",
   "metadata": {},
   "source": [
    "Here we will prepare the data to be able to be properly fed into the models. Based on my research I have chosen to use CatBoost as it seems to have the best performance both on results and speeds. This model does not need much pre-processing of the data, for example categorical features have to be specified using an index instead of needing label encoding."
   ]
  },
  {
   "cell_type": "code",
   "execution_count": 160,
   "id": "bb5f99b9",
   "metadata": {
    "ExecuteTime": {
     "end_time": "2021-07-13T15:44:15.268764Z",
     "start_time": "2021-07-13T15:44:14.884278Z"
    }
   },
   "outputs": [
    {
     "data": {
      "text/plain": [
       "(134531, 26)"
      ]
     },
     "execution_count": 160,
     "metadata": {},
     "output_type": "execute_result"
    }
   ],
   "source": [
    "#Only taking a sample of the total dataset in order to reduce training time while testing. Might increase later.\n",
    "df_sample = df.sample(frac=0.1, random_state=1)\n",
    "df_sample.shape"
   ]
  },
  {
   "cell_type": "code",
   "execution_count": 161,
   "id": "236c2b48",
   "metadata": {
    "ExecuteTime": {
     "end_time": "2021-07-13T15:44:16.505031Z",
     "start_time": "2021-07-13T15:44:15.273465Z"
    }
   },
   "outputs": [],
   "source": [
    "#Separating the target variable\n",
    "\n",
    "X = df_sample.drop('loan_status', axis=1)\n",
    "y = df_sample.loan_status"
   ]
  },
  {
   "cell_type": "code",
   "execution_count": 162,
   "id": "51e390a8",
   "metadata": {
    "ExecuteTime": {
     "end_time": "2021-07-13T15:44:16.721851Z",
     "start_time": "2021-07-13T15:44:16.507018Z"
    }
   },
   "outputs": [],
   "source": [
    "#Converting objects to strings\n",
    "\n",
    "for column in X.columns:\n",
    "    if (X[column].dtypes != float):\n",
    "        X[column] = X[column].astype(str)"
   ]
  },
  {
   "cell_type": "code",
   "execution_count": 163,
   "id": "3c6dc493",
   "metadata": {
    "ExecuteTime": {
     "end_time": "2021-07-13T15:44:16.737847Z",
     "start_time": "2021-07-13T15:44:16.724009Z"
    }
   },
   "outputs": [
    {
     "data": {
      "text/plain": [
       "array([ 0,  2,  4,  5,  6,  7,  9, 10, 11, 12, 14, 19, 20, 23],\n",
       "      dtype=int64)"
      ]
     },
     "execution_count": 163,
     "metadata": {},
     "output_type": "execute_result"
    }
   ],
   "source": [
    "#Creating an index of the categorical features to point to the model\n",
    "#print(X.dtypes)\n",
    "cat_feat_index = np.where(X.dtypes != float)[0]\n",
    "cat_feat_index"
   ]
  },
  {
   "cell_type": "markdown",
   "id": "883131a9",
   "metadata": {},
   "source": [
    "### Train Test Split"
   ]
  },
  {
   "cell_type": "code",
   "execution_count": 164,
   "id": "eabc1d2e",
   "metadata": {
    "ExecuteTime": {
     "end_time": "2021-07-13T15:44:17.345168Z",
     "start_time": "2021-07-13T15:44:16.739801Z"
    }
   },
   "outputs": [],
   "source": [
    "X_train, X_test, y_train, y_test = train_test_split(X, y, train_size=0.80, random_state=72)"
   ]
  },
  {
   "cell_type": "markdown",
   "id": "66cafb6e",
   "metadata": {},
   "source": [
    "## Loan Default Model - Catboost"
   ]
  },
  {
   "cell_type": "markdown",
   "id": "3648fbf2",
   "metadata": {},
   "source": [
    "### Cross Validation Training"
   ]
  },
  {
   "cell_type": "markdown",
   "id": "9435fc13",
   "metadata": {},
   "source": [
    "Important parameters and notes on how to use Catboost:\n",
    "\n",
    "- Pool: a function which serves to pass the data to the model.\n",
    "\n",
    "- eval_metric: Parameter for CatBoostClassifier. Its used for early stopping and selection of best iteration. We wan to use 'AUC'.\n",
    "\n",
    "- metric_period: how many periods does it calculate the evaluation metric, might speed it up. Use an integer maybe 10 or 20.\n",
    "\n",
    "- Stratified: Parameter for CV that helps the keep proportion of classes in the CV splits the same as the original data. Important to keep it True.\n",
    "\n",
    "- auto_class_weights: Automatically calculate class weights based either on the total weight or the total number of objects in each class. The values are used as multipliers for the object weights. Using 'Balanced' will help the model deal with the fact that we have an imbalanced dataset.\n",
    "\n",
    "- early_stopping_rounds: CatBoostClassifier that tells the model to stop training after X number of iterations which do not improve score. Using 20 for a model less than 1000 iterations is good.\n",
    "\n",
    "- plot: Used when doing .fit() it will help visualize the training in real time if set to True.\n",
    "\n",
    "- eval_set: Tests model to this evaluation dataset (X_test, y_test) to give you the result on it.\n",
    "\n",
    "- depth: CatBoostClassifier param that signals depth of tree, default is 6 but more, like 10 could provide better results.\n",
    "\n",
    "Some choices to do training: \n",
    "\n",
    "1- Set number of iterations or use the default 1000 and the algorithm sets a appropriate learning rate for the number of iterations.\n",
    "\n",
    "2- Set a learning rate to a small value, for example 0.03 which is a good value, and a large number of iterations such as 10,000 and use the overffiting detector (early_stopping_rounds) to stop when it does not improve for a certain number of iterations.\n",
    "\n",
    "- predict_proba: When used on the fitted model will give you the estimated probabilities of belonging to the class. \n",
    "\n",
    "- get_feature_importance(prettified=True): When applied to a fitted model it gives the feature importances based on how much each variable change the prediction value.\n",
    "\n",
    "Snapshotting can be used to stop and restart a model from the iteration it was stopped using the parameters on CatBoostClassifier save_snapshot=True, snapshot_file='snapshot.bkp', and snapshot_interval=600 (number of seconds between saves).\n",
    "\n",
    "Strategy: Use Grid Search to test hyperparameters on subset of full dataset and then using the best parameters test on full dataset. After we save the model in order to avoid time spent retraining."
   ]
  },
  {
   "cell_type": "code",
   "execution_count": 165,
   "id": "90a6f607",
   "metadata": {
    "ExecuteTime": {
     "end_time": "2021-07-13T15:44:17.361169Z",
     "start_time": "2021-07-13T15:44:17.348159Z"
    }
   },
   "outputs": [],
   "source": [
    "# pool0 = Pool(X_train, y_train, cat_features=cat_feat_index)\n",
    "# pool1 = Pool(X_test, y_test, cat_features=cat_feat_index)\n",
    "\n",
    "# model = CatBoostClassifier(eval_metric='AUC:hints=skip_train~false', iterations=10000, learning_rate=0.03,\n",
    "#                            logging_level='Silent', early_stopping_rounds=50, auto_class_weights='Balanced')\n",
    "\n",
    "# grid = {'depth': [6, 8, 10],\n",
    "#         'l2_leaf_reg': [1, 3, 5, 7]}\n",
    "\n",
    "# grid_search_result = model.grid_search(grid,\n",
    "#                                 X=pool0,\n",
    "#                                 cv=3,\n",
    "#                                 stratified=True,\n",
    "#                                 verbose=False,\n",
    "#                                 plot=True)"
   ]
  },
  {
   "cell_type": "markdown",
   "id": "be5960e3",
   "metadata": {},
   "source": [
    "### Training the Model with the Tuned Hyperparameters"
   ]
  },
  {
   "cell_type": "code",
   "execution_count": 166,
   "id": "7da301cd",
   "metadata": {
    "ExecuteTime": {
     "end_time": "2021-07-13T15:44:17.377210Z",
     "start_time": "2021-07-13T15:44:17.364178Z"
    }
   },
   "outputs": [],
   "source": [
    "# print('Best parameters:\\n')\n",
    "# print(grid_search_result['params'])\n",
    "\n",
    "# model.set_params(**grid_search_result['params'])"
   ]
  },
  {
   "cell_type": "code",
   "execution_count": 167,
   "id": "530c085e",
   "metadata": {
    "ExecuteTime": {
     "end_time": "2021-07-13T15:44:17.393070Z",
     "start_time": "2021-07-13T15:44:17.380196Z"
    }
   },
   "outputs": [
    {
     "data": {
      "text/plain": [
       "{'eval_metric': 'AUC:hints=skip_train~false',\n",
       " 'od_wait': 50,\n",
       " 'verbose': 0,\n",
       " 'iterations': 10000,\n",
       " 'logging_level': 'Silent',\n",
       " 'auto_class_weights': 'Balanced',\n",
       " 'l2_leaf_reg': 3,\n",
       " 'loss_function': 'Logloss',\n",
       " 'depth': 6,\n",
       " 'metric_period': 10,\n",
       " 'learning_rate': 0.03}"
      ]
     },
     "execution_count": 167,
     "metadata": {},
     "output_type": "execute_result"
    }
   ],
   "source": [
    "model.get_params()"
   ]
  },
  {
   "cell_type": "code",
   "execution_count": 168,
   "id": "19b83c82",
   "metadata": {
    "ExecuteTime": {
     "end_time": "2021-07-13T15:44:17.408736Z",
     "start_time": "2021-07-13T15:44:17.398035Z"
    }
   },
   "outputs": [
    {
     "data": {
      "text/plain": [
       "(1345310, 26)"
      ]
     },
     "execution_count": 168,
     "metadata": {},
     "output_type": "execute_result"
    }
   ],
   "source": [
    "#Taking whole dataset for training of the model using the parameters selected through grid search\n",
    "df.shape"
   ]
  },
  {
   "cell_type": "code",
   "execution_count": 169,
   "id": "b01b1021",
   "metadata": {
    "ExecuteTime": {
     "end_time": "2021-07-13T15:44:17.628823Z",
     "start_time": "2021-07-13T15:44:17.414431Z"
    }
   },
   "outputs": [],
   "source": [
    "#Separating the target variable\n",
    "\n",
    "X = df.drop('loan_status', axis=1)\n",
    "y = df.loan_status"
   ]
  },
  {
   "cell_type": "code",
   "execution_count": 170,
   "id": "fedc264e",
   "metadata": {
    "ExecuteTime": {
     "end_time": "2021-07-13T15:44:18.750546Z",
     "start_time": "2021-07-13T15:44:17.631337Z"
    }
   },
   "outputs": [],
   "source": [
    "#Converting objects to strings\n",
    "\n",
    "for column in X.columns:\n",
    "    if (X[column].dtypes != float):\n",
    "        X[column] = X[column].astype(str)"
   ]
  },
  {
   "cell_type": "code",
   "execution_count": 171,
   "id": "01cb8bad",
   "metadata": {
    "ExecuteTime": {
     "end_time": "2021-07-13T15:44:18.766271Z",
     "start_time": "2021-07-13T15:44:18.752389Z"
    }
   },
   "outputs": [
    {
     "data": {
      "text/plain": [
       "array([ 0,  2,  4,  5,  6,  7,  9, 10, 11, 12, 14, 19, 20, 23],\n",
       "      dtype=int64)"
      ]
     },
     "execution_count": 171,
     "metadata": {},
     "output_type": "execute_result"
    }
   ],
   "source": [
    "#Creating an index of the categorical features to point to the model\n",
    "#print(X.dtypes)\n",
    "cat_feat_index = np.where(X.dtypes != float)[0]\n",
    "cat_feat_index"
   ]
  },
  {
   "cell_type": "code",
   "execution_count": 172,
   "id": "37349ff8",
   "metadata": {
    "ExecuteTime": {
     "end_time": "2021-07-13T15:44:20.984391Z",
     "start_time": "2021-07-13T15:44:18.768266Z"
    }
   },
   "outputs": [],
   "source": [
    "X_train, X_test, y_train, y_test = train_test_split(X, y, train_size=0.80, random_state=72)"
   ]
  },
  {
   "cell_type": "code",
   "execution_count": 173,
   "id": "9c89bfa3",
   "metadata": {
    "ExecuteTime": {
     "end_time": "2021-07-13T15:44:21.000387Z",
     "start_time": "2021-07-13T15:44:20.986373Z"
    },
    "scrolled": true
   },
   "outputs": [],
   "source": [
    "# pool0 = Pool(X_train, y_train, cat_features=cat_feat_index)\n",
    "# pool1 = Pool(X_test, y_test, cat_features=cat_feat_index)\n",
    "\n",
    "# model.fit(X_train,\n",
    "#           y_train,\n",
    "#           eval_set=pool1,\n",
    "#           cat_features=cat_feat_index,\n",
    "#           verbose=False,\n",
    "#           plot=True\n",
    "#           )"
   ]
  },
  {
   "cell_type": "markdown",
   "id": "f599176e",
   "metadata": {},
   "source": [
    "### Results"
   ]
  },
  {
   "cell_type": "markdown",
   "id": "4a26ad16",
   "metadata": {},
   "source": [
    "Saving model to avoid retraining"
   ]
  },
  {
   "cell_type": "code",
   "execution_count": 174,
   "id": "1e70cf4c",
   "metadata": {
    "ExecuteTime": {
     "end_time": "2021-07-13T15:44:21.015594Z",
     "start_time": "2021-07-13T15:44:21.002478Z"
    }
   },
   "outputs": [],
   "source": [
    "# model.save_model('G:\\\\Lending Club Data Files\\\\lending_club_catboost')"
   ]
  },
  {
   "cell_type": "code",
   "execution_count": 175,
   "id": "4223afa1",
   "metadata": {
    "ExecuteTime": {
     "end_time": "2021-07-13T15:44:56.020590Z",
     "start_time": "2021-07-13T15:44:21.017588Z"
    }
   },
   "outputs": [
    {
     "data": {
      "text/plain": [
       "<catboost.core.CatBoostClassifier at 0x2b9fc731eb0>"
      ]
     },
     "execution_count": 175,
     "metadata": {},
     "output_type": "execute_result"
    }
   ],
   "source": [
    "model = CatBoostClassifier()\n",
    "model.load_model('G:\\\\Lending Club Data Files\\\\lending_club_catboost')"
   ]
  },
  {
   "cell_type": "code",
   "execution_count": 176,
   "id": "7bfb15e1",
   "metadata": {
    "ExecuteTime": {
     "end_time": "2021-07-13T15:44:56.349875Z",
     "start_time": "2021-07-13T15:44:56.022835Z"
    }
   },
   "outputs": [],
   "source": [
    "#Separating the target variable\n",
    "\n",
    "X = df.drop('loan_status', axis=1)\n",
    "y = df.loan_status"
   ]
  },
  {
   "cell_type": "code",
   "execution_count": 177,
   "id": "b6b6cba9",
   "metadata": {
    "ExecuteTime": {
     "end_time": "2021-07-13T15:44:57.614467Z",
     "start_time": "2021-07-13T15:44:56.351871Z"
    }
   },
   "outputs": [],
   "source": [
    "#Converting objects to strings\n",
    "\n",
    "for column in X.columns:\n",
    "    if (X[column].dtypes != float):\n",
    "        X[column] = X[column].astype(str)"
   ]
  },
  {
   "cell_type": "code",
   "execution_count": 178,
   "id": "ccd3bc2e",
   "metadata": {
    "ExecuteTime": {
     "end_time": "2021-07-13T15:44:57.629739Z",
     "start_time": "2021-07-13T15:44:57.616419Z"
    }
   },
   "outputs": [
    {
     "data": {
      "text/plain": [
       "array([ 0,  2,  4,  5,  6,  7,  9, 10, 11, 12, 14, 19, 20, 23],\n",
       "      dtype=int64)"
      ]
     },
     "execution_count": 178,
     "metadata": {},
     "output_type": "execute_result"
    }
   ],
   "source": [
    "#Creating an index of the categorical features to point to the model\n",
    "#print(X.dtypes)\n",
    "cat_feat_index = np.where(X.dtypes != float)[0]\n",
    "cat_feat_index"
   ]
  },
  {
   "cell_type": "code",
   "execution_count": 179,
   "id": "42e02577",
   "metadata": {
    "ExecuteTime": {
     "end_time": "2021-07-13T15:44:59.942041Z",
     "start_time": "2021-07-13T15:44:57.631546Z"
    }
   },
   "outputs": [],
   "source": [
    "X_train, X_test, y_train, y_test = train_test_split(X, y, train_size=0.80, random_state=72)"
   ]
  },
  {
   "cell_type": "code",
   "execution_count": 180,
   "id": "bc2b2b7e",
   "metadata": {
    "ExecuteTime": {
     "end_time": "2021-07-13T15:45:08.659453Z",
     "start_time": "2021-07-13T15:44:59.943987Z"
    }
   },
   "outputs": [],
   "source": [
    "pool0 = Pool(X_train, y_train, cat_features=cat_feat_index)\n",
    "pool1 = Pool(X_test, y_test, cat_features=cat_feat_index)"
   ]
  },
  {
   "cell_type": "code",
   "execution_count": 181,
   "id": "45c280c5",
   "metadata": {
    "ExecuteTime": {
     "end_time": "2021-07-13T15:45:24.751939Z",
     "start_time": "2021-07-13T15:45:08.663445Z"
    }
   },
   "outputs": [
    {
     "name": "stdout",
     "output_type": "stream",
     "text": [
      "The best ROC AUC score is:\n",
      "0.7327\n"
     ]
    }
   ],
   "source": [
    "proba = model.predict_proba(pool1)\n",
    "print(\"The best ROC AUC score is:\")\n",
    "print(round(metrics.roc_auc_score(y_test, proba[:, 1]),4))"
   ]
  },
  {
   "cell_type": "markdown",
   "id": "c9ce96d6",
   "metadata": {},
   "source": [
    "Getting feature importance"
   ]
  },
  {
   "cell_type": "code",
   "execution_count": 182,
   "id": "8df2a99a",
   "metadata": {
    "ExecuteTime": {
     "end_time": "2021-07-13T15:45:25.717273Z",
     "start_time": "2021-07-13T15:45:24.753933Z"
    }
   },
   "outputs": [
    {
     "data": {
      "image/png": "[encoded data removed]",
      "text/plain": [
       "<Figure size 480x320 with 1 Axes>"
      ]
     },
     "metadata": {},
     "output_type": "display_data"
    }
   ],
   "source": [
    "feature_importance = model.get_feature_importance(prettified=True)\n",
    "\n",
    "f, ax = plt.subplots(figsize=(6, 4))\n",
    "sns.barplot(x=\"Importances\", y=\"Feature Id\", data=feature_importance[0:15], palette=\"rocket_r\")\n",
    "ax.set(ylabel=\"\",\n",
    "       xlabel=\"Feature Importance\")\n",
    "plt.tight_layout()\n",
    "f.savefig('./images/feature_imp.png', dpi=500)"
   ]
  },
  {
   "cell_type": "markdown",
   "id": "7527a986",
   "metadata": {},
   "source": [
    "Something to note is that one of the most important features is grade and sub_grade, which is a rating given by Lending Club, which we do not know how is calculated and could change over time. This is cause for concern and could impact the results of our predictions in the future."
   ]
  },
  {
   "cell_type": "markdown",
   "id": "fa419c43",
   "metadata": {},
   "source": [
    "Plotting ROC curve"
   ]
  },
  {
   "cell_type": "code",
   "execution_count": 183,
   "id": "f0d9a7bd",
   "metadata": {
    "ExecuteTime": {
     "end_time": "2021-07-13T15:45:43.397391Z",
     "start_time": "2021-07-13T15:45:25.719267Z"
    }
   },
   "outputs": [
    {
     "data": {
      "image/png": "[encoded data removed]",
      "text/plain": [
       "<Figure size 480x480 with 1 Axes>"
      ]
     },
     "metadata": {},
     "output_type": "display_data"
    }
   ],
   "source": [
    "fig, ax = plt.subplots(figsize=(6, 6))\n",
    "metrics.plot_roc_curve(model, X_test, y_test, ax=ax)\n",
    "ax.plot([0, 1], [0, 1], linestyle='--', lw=2, color='r',\n",
    "        label='Chance', alpha=.8)\n",
    "ax.set_title('ROC Curve on the Test Set')\n",
    "ax.legend(loc='lower right')\n",
    "plt.show()\n",
    "fig.savefig('./images/ROC_curve.png', dpi=500)"
   ]
  },
  {
   "cell_type": "markdown",
   "id": "057f947d",
   "metadata": {},
   "source": [
    "Plotting confusion matrix and other metrics."
   ]
  },
  {
   "cell_type": "code",
   "execution_count": 184,
   "id": "72c0a8e5",
   "metadata": {
    "ExecuteTime": {
     "end_time": "2021-07-13T15:46:01.262316Z",
     "start_time": "2021-07-13T15:45:43.404365Z"
    }
   },
   "outputs": [],
   "source": [
    "predictions = model.predict(pool1)"
   ]
  },
  {
   "cell_type": "code",
   "execution_count": 185,
   "id": "cf41a1de",
   "metadata": {
    "ExecuteTime": {
     "end_time": "2021-07-13T15:46:12.038130Z",
     "start_time": "2021-07-13T15:46:01.264311Z"
    }
   },
   "outputs": [
    {
     "name": "stdout",
     "output_type": "stream",
     "text": [
      "[[ 36560  16862]\n",
      " [ 74089 141551]]\n",
      "              precision    recall  f1-score   support\n",
      "\n",
      " Charged Off       0.33      0.68      0.45     53422\n",
      "  Fully Paid       0.89      0.66      0.76    215640\n",
      "\n",
      "    accuracy                           0.66    269062\n",
      "   macro avg       0.61      0.67      0.60    269062\n",
      "weighted avg       0.78      0.66      0.70    269062\n",
      "\n"
     ]
    }
   ],
   "source": [
    "print(metrics.confusion_matrix(y_test, predictions, labels=['Charged Off', 'Fully Paid']))\n",
    "print(metrics.classification_report(y_test, predictions, labels=['Charged Off', 'Fully Paid']))"
   ]
  },
  {
   "cell_type": "code",
   "execution_count": 186,
   "id": "49f5752b",
   "metadata": {
    "ExecuteTime": {
     "end_time": "2021-07-13T15:46:32.162314Z",
     "start_time": "2021-07-13T15:46:12.040097Z"
    },
    "scrolled": true
   },
   "outputs": [
    {
     "data": {
      "image/png": "[encoded data removed]",
      "text/plain": [
       "<Figure size 320x320 with 1 Axes>"
      ]
     },
     "metadata": {},
     "output_type": "display_data"
    }
   ],
   "source": [
    "fig, ax = plt.subplots(figsize=(4, 4))\n",
    "metrics.plot_confusion_matrix(model, X_test, y_test, labels=['Charged Off', 'Fully Paid'],\n",
    "                             cmap='hot',colorbar=False, ax=ax)  \n",
    "plt.show()\n",
    "fig.tight_layout()\n",
    "fig.savefig('./images/Confussion_matrix.png', dpi=500)"
   ]
  },
  {
   "cell_type": "markdown",
   "id": "4fc30adf",
   "metadata": {},
   "source": [
    "Since we are dealing with an unbalanced dataset we told the castboost model to auto balance the classes, that is why we are not maximizing accuracy but we are doing a similar job of predicting each label. We can observe this in the recall score, TP over TP plus FN, which is similar for both classes. Since the minority class is very costly, an defaulted loan, I wanted to take this approach."
   ]
  },
  {
   "cell_type": "markdown",
   "id": "80eb5840",
   "metadata": {},
   "source": [
    "## Back Testing Spread Thresholds"
   ]
  },
  {
   "cell_type": "markdown",
   "id": "1acea43c",
   "metadata": {},
   "source": [
    "In this section we will back test loan portfolios, constructed using different methods, to determine what our hypothetical future potential returns could be based the results of this back test. One caveat is that the back test is done with a model trained with some loans that would not have been available when the tested loans were issued. However, these loans have never been seen by the model which provides some reassurance that the results can be replicated in the future.\n",
    "\n",
    "I will calculate for each loan the value of the spread between its interest rate and its predicted probability of default. Meaning, I would determine which loans have the highest spread (most profitable loans adjusted by risk) and test different portfolios composed of the best values to determine how well they performed."
   ]
  },
  {
   "cell_type": "code",
   "execution_count": 187,
   "id": "89bf3d30",
   "metadata": {
    "ExecuteTime": {
     "end_time": "2021-07-13T15:46:32.178018Z",
     "start_time": "2021-07-13T15:46:32.164524Z"
    }
   },
   "outputs": [
    {
     "name": "stdout",
     "output_type": "stream",
     "text": [
      "The classes are: ['Charged Off' 'Fully Paid'] \n",
      " We will keep only the model predicted probability of being Fully Paid. \n",
      "\n",
      "Number of observations predicted on test set: 269062\n"
     ]
    }
   ],
   "source": [
    "print('The classes are:',model.classes_,'\\n',\n",
    "      'We will keep only the model predicted probability of being Fully Paid.','\\n')\n",
    "proba_FP = proba[:,1]\n",
    "proba_CO = proba[:,0]\n",
    "print('Number of observations predicted on test set:',len(proba))"
   ]
  },
  {
   "cell_type": "markdown",
   "id": "4fd93b37",
   "metadata": {},
   "source": [
    "### Creating a Dataframe with all the Relevant Information"
   ]
  },
  {
   "cell_type": "markdown",
   "id": "595b4132",
   "metadata": {},
   "source": [
    "We will recover all the data excluded because it was forward looking in order to properly be able to calculate the return function. Meaning we will get all the columns we excluded in the point \"3.1 Selecting Features\"."
   ]
  },
  {
   "cell_type": "code",
   "execution_count": 188,
   "id": "e93c9a7b",
   "metadata": {
    "ExecuteTime": {
     "end_time": "2021-07-13T15:46:32.193974Z",
     "start_time": "2021-07-13T15:46:32.180014Z"
    }
   },
   "outputs": [],
   "source": [
    "cols_to_use = data.columns.difference(X_test.columns, sort=False)"
   ]
  },
  {
   "cell_type": "code",
   "execution_count": 189,
   "id": "08f1bc3f",
   "metadata": {
    "ExecuteTime": {
     "end_time": "2021-07-13T15:46:51.237224Z",
     "start_time": "2021-07-13T15:46:32.195969Z"
    },
    "scrolled": true
   },
   "outputs": [],
   "source": [
    "test_df = pd.merge(X_test, data[cols_to_use], how='left', left_index=True, right_index=True)"
   ]
  },
  {
   "cell_type": "markdown",
   "id": "4b47e551",
   "metadata": {},
   "source": [
    "Adding the numpy array of calculated probabilities by the Catboost model to the dataframe containing all the loan information to test different thresholds and calculate Sharpe Ratio"
   ]
  },
  {
   "cell_type": "code",
   "execution_count": 190,
   "id": "b7c3ff31",
   "metadata": {
    "ExecuteTime": {
     "end_time": "2021-07-13T15:46:51.376728Z",
     "start_time": "2021-07-13T15:46:51.250142Z"
    }
   },
   "outputs": [],
   "source": [
    "test_df['proba_FP'] = proba_FP.tolist()\n",
    "test_df['proba_CO'] = proba_CO.tolist()"
   ]
  },
  {
   "cell_type": "code",
   "execution_count": 191,
   "id": "3f4b57ce",
   "metadata": {
    "ExecuteTime": {
     "end_time": "2021-07-13T15:46:52.143248Z",
     "start_time": "2021-07-13T15:46:51.378725Z"
    },
    "scrolled": false
   },
   "outputs": [
    {
     "data": {
      "text/html": [
       "<div>\n",
       "<style scoped>\n",
       "    .dataframe tbody tr th:only-of-type {\n",
       "        vertical-align: middle;\n",
       "    }\n",
       "\n",
       "    .dataframe tbody tr th {\n",
       "        vertical-align: top;\n",
       "    }\n",
       "\n",
       "    .dataframe thead th {\n",
       "        text-align: right;\n",
       "    }\n",
       "</style>\n",
       "<table border=\"1\" class=\"dataframe\">\n",
       "  <thead>\n",
       "    <tr style=\"text-align: right;\">\n",
       "      <th></th>\n",
       "      <th>id</th>\n",
       "      <th>loan_amnt</th>\n",
       "      <th>term</th>\n",
       "      <th>int_rate</th>\n",
       "      <th>grade</th>\n",
       "      <th>sub_grade</th>\n",
       "      <th>emp_length</th>\n",
       "      <th>home_ownership</th>\n",
       "      <th>annual_inc</th>\n",
       "      <th>verification_status</th>\n",
       "      <th>purpose</th>\n",
       "      <th>zip_code</th>\n",
       "      <th>addr_state</th>\n",
       "      <th>dti</th>\n",
       "      <th>earliest_cr_line</th>\n",
       "      <th>fico_range_low</th>\n",
       "      <th>fico_range_high</th>\n",
       "      <th>open_acc</th>\n",
       "      <th>pub_rec</th>\n",
       "      <th>initial_list_status</th>\n",
       "      <th>application_type</th>\n",
       "      <th>annual_inc_joint</th>\n",
       "      <th>dti_joint</th>\n",
       "      <th>verification_status_joint</th>\n",
       "      <th>pub_rec_bankruptcies</th>\n",
       "      <th>member_id</th>\n",
       "      <th>funded_amnt</th>\n",
       "      <th>funded_amnt_inv</th>\n",
       "      <th>installment</th>\n",
       "      <th>emp_title</th>\n",
       "      <th>issue_d</th>\n",
       "      <th>loan_status</th>\n",
       "      <th>pymnt_plan</th>\n",
       "      <th>url</th>\n",
       "      <th>desc</th>\n",
       "      <th>title</th>\n",
       "      <th>delinq_2yrs</th>\n",
       "      <th>inq_last_6mths</th>\n",
       "      <th>mths_since_last_delinq</th>\n",
       "      <th>mths_since_last_record</th>\n",
       "      <th>revol_bal</th>\n",
       "      <th>revol_util</th>\n",
       "      <th>total_acc</th>\n",
       "      <th>out_prncp</th>\n",
       "      <th>out_prncp_inv</th>\n",
       "      <th>total_pymnt</th>\n",
       "      <th>total_pymnt_inv</th>\n",
       "      <th>total_rec_prncp</th>\n",
       "      <th>total_rec_int</th>\n",
       "      <th>total_rec_late_fee</th>\n",
       "      <th>recoveries</th>\n",
       "      <th>collection_recovery_fee</th>\n",
       "      <th>last_pymnt_d</th>\n",
       "      <th>last_pymnt_amnt</th>\n",
       "      <th>next_pymnt_d</th>\n",
       "      <th>last_credit_pull_d</th>\n",
       "      <th>last_fico_range_high</th>\n",
       "      <th>last_fico_range_low</th>\n",
       "      <th>collections_12_mths_ex_med</th>\n",
       "      <th>mths_since_last_major_derog</th>\n",
       "      <th>policy_code</th>\n",
       "      <th>acc_now_delinq</th>\n",
       "      <th>tot_coll_amt</th>\n",
       "      <th>tot_cur_bal</th>\n",
       "      <th>open_acc_6m</th>\n",
       "      <th>open_act_il</th>\n",
       "      <th>open_il_12m</th>\n",
       "      <th>open_il_24m</th>\n",
       "      <th>mths_since_rcnt_il</th>\n",
       "      <th>total_bal_il</th>\n",
       "      <th>il_util</th>\n",
       "      <th>open_rv_12m</th>\n",
       "      <th>open_rv_24m</th>\n",
       "      <th>max_bal_bc</th>\n",
       "      <th>all_util</th>\n",
       "      <th>total_rev_hi_lim</th>\n",
       "      <th>inq_fi</th>\n",
       "      <th>total_cu_tl</th>\n",
       "      <th>inq_last_12m</th>\n",
       "      <th>acc_open_past_24mths</th>\n",
       "      <th>avg_cur_bal</th>\n",
       "      <th>bc_open_to_buy</th>\n",
       "      <th>bc_util</th>\n",
       "      <th>chargeoff_within_12_mths</th>\n",
       "      <th>delinq_amnt</th>\n",
       "      <th>mo_sin_old_il_acct</th>\n",
       "      <th>mo_sin_old_rev_tl_op</th>\n",
       "      <th>mo_sin_rcnt_rev_tl_op</th>\n",
       "      <th>mo_sin_rcnt_tl</th>\n",
       "      <th>mort_acc</th>\n",
       "      <th>mths_since_recent_bc</th>\n",
       "      <th>mths_since_recent_bc_dlq</th>\n",
       "      <th>mths_since_recent_inq</th>\n",
       "      <th>mths_since_recent_revol_delinq</th>\n",
       "      <th>num_accts_ever_120_pd</th>\n",
       "      <th>num_actv_bc_tl</th>\n",
       "      <th>num_actv_rev_tl</th>\n",
       "      <th>num_bc_sats</th>\n",
       "      <th>num_bc_tl</th>\n",
       "      <th>num_il_tl</th>\n",
       "      <th>num_op_rev_tl</th>\n",
       "      <th>num_rev_accts</th>\n",
       "      <th>num_rev_tl_bal_gt_0</th>\n",
       "      <th>num_sats</th>\n",
       "      <th>num_tl_120dpd_2m</th>\n",
       "      <th>num_tl_30dpd</th>\n",
       "      <th>num_tl_90g_dpd_24m</th>\n",
       "      <th>num_tl_op_past_12m</th>\n",
       "      <th>pct_tl_nvr_dlq</th>\n",
       "      <th>percent_bc_gt_75</th>\n",
       "      <th>tax_liens</th>\n",
       "      <th>tot_hi_cred_lim</th>\n",
       "      <th>total_bal_ex_mort</th>\n",
       "      <th>total_bc_limit</th>\n",
       "      <th>total_il_high_credit_limit</th>\n",
       "      <th>revol_bal_joint</th>\n",
       "      <th>sec_app_fico_range_low</th>\n",
       "      <th>sec_app_fico_range_high</th>\n",
       "      <th>sec_app_earliest_cr_line</th>\n",
       "      <th>sec_app_inq_last_6mths</th>\n",
       "      <th>sec_app_mort_acc</th>\n",
       "      <th>sec_app_open_acc</th>\n",
       "      <th>sec_app_revol_util</th>\n",
       "      <th>sec_app_open_act_il</th>\n",
       "      <th>sec_app_num_rev_accts</th>\n",
       "      <th>sec_app_chargeoff_within_12_mths</th>\n",
       "      <th>sec_app_collections_12_mths_ex_med</th>\n",
       "      <th>sec_app_mths_since_last_major_derog</th>\n",
       "      <th>hardship_flag</th>\n",
       "      <th>hardship_type</th>\n",
       "      <th>hardship_reason</th>\n",
       "      <th>hardship_status</th>\n",
       "      <th>deferral_term</th>\n",
       "      <th>hardship_amount</th>\n",
       "      <th>hardship_start_date</th>\n",
       "      <th>hardship_end_date</th>\n",
       "      <th>payment_plan_start_date</th>\n",
       "      <th>hardship_length</th>\n",
       "      <th>hardship_dpd</th>\n",
       "      <th>hardship_loan_status</th>\n",
       "      <th>orig_projected_additional_accrued_interest</th>\n",
       "      <th>hardship_payoff_balance_amount</th>\n",
       "      <th>hardship_last_payment_amount</th>\n",
       "      <th>disbursement_method</th>\n",
       "      <th>debt_settlement_flag</th>\n",
       "      <th>debt_settlement_flag_date</th>\n",
       "      <th>settlement_status</th>\n",
       "      <th>settlement_date</th>\n",
       "      <th>settlement_amount</th>\n",
       "      <th>settlement_percentage</th>\n",
       "      <th>settlement_term</th>\n",
       "      <th>proba_FP</th>\n",
       "      <th>proba_CO</th>\n",
       "    </tr>\n",
       "  </thead>\n",
       "  <tbody>\n",
       "    <tr>\n",
       "      <th>645695</th>\n",
       "      <td>112748781</td>\n",
       "      <td>7000.00</td>\n",
       "      <td>36 months</td>\n",
       "      <td>9.44</td>\n",
       "      <td>B</td>\n",
       "      <td>B1</td>\n",
       "      <td>1 year</td>\n",
       "      <td>MORTGAGE</td>\n",
       "      <td>115000.00</td>\n",
       "      <td>Not Verified</td>\n",
       "      <td>credit_card</td>\n",
       "      <td>551xx</td>\n",
       "      <td>MN</td>\n",
       "      <td>8.51</td>\n",
       "      <td>Mar-2005</td>\n",
       "      <td>675.00</td>\n",
       "      <td>679.00</td>\n",
       "      <td>11.00</td>\n",
       "      <td>0.00</td>\n",
       "      <td>w</td>\n",
       "      <td>Individual</td>\n",
       "      <td>NaN</td>\n",
       "      <td>NaN</td>\n",
       "      <td>nan</td>\n",
       "      <td>0.00</td>\n",
       "      <td>NaN</td>\n",
       "      <td>7000.00</td>\n",
       "      <td>7000.00</td>\n",
       "      <td>224.04</td>\n",
       "      <td>Partner, Dir of PM</td>\n",
       "      <td>2017-07-01</td>\n",
       "      <td>Charged Off</td>\n",
       "      <td>n</td>\n",
       "      <td>https://lendingclub.com/browse/loanDetail.acti...</td>\n",
       "      <td>NaN</td>\n",
       "      <td>Credit card refinancing</td>\n",
       "      <td>2.00</td>\n",
       "      <td>0.00</td>\n",
       "      <td>19.00</td>\n",
       "      <td>NaN</td>\n",
       "      <td>9615.00</td>\n",
       "      <td>75.70</td>\n",
       "      <td>23.00</td>\n",
       "      <td>0.00</td>\n",
       "      <td>0.00</td>\n",
       "      <td>2819.15</td>\n",
       "      <td>2819.15</td>\n",
       "      <td>1649.44</td>\n",
       "      <td>434.58</td>\n",
       "      <td>0.00</td>\n",
       "      <td>735.13</td>\n",
       "      <td>132.32</td>\n",
       "      <td>Apr-2018</td>\n",
       "      <td>224.04</td>\n",
       "      <td>NaN</td>\n",
       "      <td>Oct-2018</td>\n",
       "      <td>554.00</td>\n",
       "      <td>550.00</td>\n",
       "      <td>0.00</td>\n",
       "      <td>38.00</td>\n",
       "      <td>1.00</td>\n",
       "      <td>0.00</td>\n",
       "      <td>0.00</td>\n",
       "      <td>217668.00</td>\n",
       "      <td>2.00</td>\n",
       "      <td>2.00</td>\n",
       "      <td>0.00</td>\n",
       "      <td>1.00</td>\n",
       "      <td>16.00</td>\n",
       "      <td>49497.00</td>\n",
       "      <td>62.00</td>\n",
       "      <td>2.00</td>\n",
       "      <td>2.00</td>\n",
       "      <td>4908.00</td>\n",
       "      <td>71.00</td>\n",
       "      <td>12700.00</td>\n",
       "      <td>0.00</td>\n",
       "      <td>1.00</td>\n",
       "      <td>0.00</td>\n",
       "      <td>4.00</td>\n",
       "      <td>21767.00</td>\n",
       "      <td>3085.00</td>\n",
       "      <td>75.70</td>\n",
       "      <td>0.00</td>\n",
       "      <td>0.00</td>\n",
       "      <td>133.00</td>\n",
       "      <td>148.00</td>\n",
       "      <td>5.00</td>\n",
       "      <td>5.00</td>\n",
       "      <td>5.00</td>\n",
       "      <td>5.00</td>\n",
       "      <td>19.00</td>\n",
       "      <td>13.00</td>\n",
       "      <td>19.00</td>\n",
       "      <td>1.00</td>\n",
       "      <td>5.00</td>\n",
       "      <td>5.00</td>\n",
       "      <td>6.00</td>\n",
       "      <td>7.00</td>\n",
       "      <td>10.00</td>\n",
       "      <td>7.00</td>\n",
       "      <td>8.00</td>\n",
       "      <td>5.00</td>\n",
       "      <td>11.00</td>\n",
       "      <td>0.00</td>\n",
       "      <td>0.00</td>\n",
       "      <td>0.00</td>\n",
       "      <td>3.00</td>\n",
       "      <td>73.90</td>\n",
       "      <td>50.00</td>\n",
       "      <td>0.00</td>\n",
       "      <td>213155.00</td>\n",
       "      <td>59112.00</td>\n",
       "      <td>12700.00</td>\n",
       "      <td>36687.00</td>\n",
       "      <td>NaN</td>\n",
       "      <td>NaN</td>\n",
       "      <td>NaN</td>\n",
       "      <td>NaN</td>\n",
       "      <td>NaN</td>\n",
       "      <td>NaN</td>\n",
       "      <td>NaN</td>\n",
       "      <td>NaN</td>\n",
       "      <td>NaN</td>\n",
       "      <td>NaN</td>\n",
       "      <td>NaN</td>\n",
       "      <td>NaN</td>\n",
       "      <td>NaN</td>\n",
       "      <td>N</td>\n",
       "      <td>NaN</td>\n",
       "      <td>NaN</td>\n",
       "      <td>NaN</td>\n",
       "      <td>NaN</td>\n",
       "      <td>NaN</td>\n",
       "      <td>NaN</td>\n",
       "      <td>NaN</td>\n",
       "      <td>NaN</td>\n",
       "      <td>NaN</td>\n",
       "      <td>NaN</td>\n",
       "      <td>NaN</td>\n",
       "      <td>NaN</td>\n",
       "      <td>NaN</td>\n",
       "      <td>NaN</td>\n",
       "      <td>Cash</td>\n",
       "      <td>N</td>\n",
       "      <td>NaN</td>\n",
       "      <td>NaN</td>\n",
       "      <td>NaN</td>\n",
       "      <td>NaN</td>\n",
       "      <td>NaN</td>\n",
       "      <td>NaN</td>\n",
       "      <td>0.75</td>\n",
       "      <td>0.25</td>\n",
       "    </tr>\n",
       "  </tbody>\n",
       "</table>\n",
       "</div>"
      ],
      "text/plain": [
       "               id  loan_amnt        term  int_rate grade sub_grade emp_length  \\\n",
       "645695  112748781    7000.00   36 months      9.44     B        B1     1 year   \n",
       "\n",
       "       home_ownership  annual_inc verification_status      purpose zip_code  \\\n",
       "645695       MORTGAGE   115000.00        Not Verified  credit_card    551xx   \n",
       "\n",
       "       addr_state  dti earliest_cr_line  fico_range_low  fico_range_high  \\\n",
       "645695         MN 8.51         Mar-2005          675.00           679.00   \n",
       "\n",
       "        open_acc  pub_rec initial_list_status application_type  \\\n",
       "645695     11.00     0.00                   w       Individual   \n",
       "\n",
       "        annual_inc_joint  dti_joint verification_status_joint  \\\n",
       "645695               NaN        NaN                       nan   \n",
       "\n",
       "        pub_rec_bankruptcies  member_id  funded_amnt  funded_amnt_inv  \\\n",
       "645695                  0.00        NaN      7000.00          7000.00   \n",
       "\n",
       "        installment           emp_title    issue_d  loan_status pymnt_plan  \\\n",
       "645695       224.04  Partner, Dir of PM 2017-07-01  Charged Off          n   \n",
       "\n",
       "                                                      url desc  \\\n",
       "645695  https://lendingclub.com/browse/loanDetail.acti...  NaN   \n",
       "\n",
       "                          title  delinq_2yrs  inq_last_6mths  \\\n",
       "645695  Credit card refinancing         2.00            0.00   \n",
       "\n",
       "        mths_since_last_delinq  mths_since_last_record  revol_bal  revol_util  \\\n",
       "645695                   19.00                     NaN    9615.00       75.70   \n",
       "\n",
       "        total_acc  out_prncp  out_prncp_inv  total_pymnt  total_pymnt_inv  \\\n",
       "645695      23.00       0.00           0.00      2819.15          2819.15   \n",
       "\n",
       "        total_rec_prncp  total_rec_int  total_rec_late_fee  recoveries  \\\n",
       "645695          1649.44         434.58                0.00      735.13   \n",
       "\n",
       "        collection_recovery_fee last_pymnt_d  last_pymnt_amnt next_pymnt_d  \\\n",
       "645695                   132.32     Apr-2018           224.04          NaN   \n",
       "\n",
       "       last_credit_pull_d  last_fico_range_high  last_fico_range_low  \\\n",
       "645695           Oct-2018                554.00               550.00   \n",
       "\n",
       "        collections_12_mths_ex_med  mths_since_last_major_derog  policy_code  \\\n",
       "645695                        0.00                        38.00         1.00   \n",
       "\n",
       "        acc_now_delinq  tot_coll_amt  tot_cur_bal  open_acc_6m  open_act_il  \\\n",
       "645695            0.00          0.00    217668.00         2.00         2.00   \n",
       "\n",
       "        open_il_12m  open_il_24m  mths_since_rcnt_il  total_bal_il  il_util  \\\n",
       "645695         0.00         1.00               16.00      49497.00    62.00   \n",
       "\n",
       "        open_rv_12m  open_rv_24m  max_bal_bc  all_util  total_rev_hi_lim  \\\n",
       "645695         2.00         2.00     4908.00     71.00          12700.00   \n",
       "\n",
       "        inq_fi  total_cu_tl  inq_last_12m  acc_open_past_24mths  avg_cur_bal  \\\n",
       "645695    0.00         1.00          0.00                  4.00     21767.00   \n",
       "\n",
       "        bc_open_to_buy  bc_util  chargeoff_within_12_mths  delinq_amnt  \\\n",
       "645695         3085.00    75.70                      0.00         0.00   \n",
       "\n",
       "        mo_sin_old_il_acct  mo_sin_old_rev_tl_op  mo_sin_rcnt_rev_tl_op  \\\n",
       "645695              133.00                148.00                   5.00   \n",
       "\n",
       "        mo_sin_rcnt_tl  mort_acc  mths_since_recent_bc  \\\n",
       "645695            5.00      5.00                  5.00   \n",
       "\n",
       "        mths_since_recent_bc_dlq  mths_since_recent_inq  \\\n",
       "645695                     19.00                  13.00   \n",
       "\n",
       "        mths_since_recent_revol_delinq  num_accts_ever_120_pd  num_actv_bc_tl  \\\n",
       "645695                           19.00                   1.00            5.00   \n",
       "\n",
       "        num_actv_rev_tl  num_bc_sats  num_bc_tl  num_il_tl  num_op_rev_tl  \\\n",
       "645695             5.00         6.00       7.00      10.00           7.00   \n",
       "\n",
       "        num_rev_accts  num_rev_tl_bal_gt_0  num_sats  num_tl_120dpd_2m  \\\n",
       "645695           8.00                 5.00     11.00              0.00   \n",
       "\n",
       "        num_tl_30dpd  num_tl_90g_dpd_24m  num_tl_op_past_12m  pct_tl_nvr_dlq  \\\n",
       "645695          0.00                0.00                3.00           73.90   \n",
       "\n",
       "        percent_bc_gt_75  tax_liens  tot_hi_cred_lim  total_bal_ex_mort  \\\n",
       "645695             50.00       0.00        213155.00           59112.00   \n",
       "\n",
       "        total_bc_limit  total_il_high_credit_limit  revol_bal_joint  \\\n",
       "645695        12700.00                    36687.00              NaN   \n",
       "\n",
       "        sec_app_fico_range_low  sec_app_fico_range_high  \\\n",
       "645695                     NaN                      NaN   \n",
       "\n",
       "       sec_app_earliest_cr_line  sec_app_inq_last_6mths  sec_app_mort_acc  \\\n",
       "645695                      NaN                     NaN               NaN   \n",
       "\n",
       "        sec_app_open_acc  sec_app_revol_util  sec_app_open_act_il  \\\n",
       "645695               NaN                 NaN                  NaN   \n",
       "\n",
       "        sec_app_num_rev_accts  sec_app_chargeoff_within_12_mths  \\\n",
       "645695                    NaN                               NaN   \n",
       "\n",
       "        sec_app_collections_12_mths_ex_med  \\\n",
       "645695                                 NaN   \n",
       "\n",
       "        sec_app_mths_since_last_major_derog hardship_flag hardship_type  \\\n",
       "645695                                  NaN             N           NaN   \n",
       "\n",
       "       hardship_reason hardship_status  deferral_term  hardship_amount  \\\n",
       "645695             NaN             NaN            NaN              NaN   \n",
       "\n",
       "       hardship_start_date hardship_end_date payment_plan_start_date  \\\n",
       "645695                 NaN               NaN                     NaN   \n",
       "\n",
       "        hardship_length  hardship_dpd hardship_loan_status  \\\n",
       "645695              NaN           NaN                  NaN   \n",
       "\n",
       "        orig_projected_additional_accrued_interest  \\\n",
       "645695                                         NaN   \n",
       "\n",
       "        hardship_payoff_balance_amount  hardship_last_payment_amount  \\\n",
       "645695                             NaN                           NaN   \n",
       "\n",
       "       disbursement_method debt_settlement_flag debt_settlement_flag_date  \\\n",
       "645695                Cash                    N                       NaN   \n",
       "\n",
       "       settlement_status settlement_date  settlement_amount  \\\n",
       "645695               NaN             NaN                NaN   \n",
       "\n",
       "        settlement_percentage  settlement_term  proba_FP  proba_CO  \n",
       "645695                    NaN              NaN      0.75      0.25  "
      ]
     },
     "execution_count": 191,
     "metadata": {},
     "output_type": "execute_result"
    }
   ],
   "source": [
    "test_df[test_df.loan_status==\"Charged Off\"].sample(1)"
   ]
  },
  {
   "cell_type": "code",
   "execution_count": 192,
   "id": "1747a0fd",
   "metadata": {
    "ExecuteTime": {
     "end_time": "2021-07-13T15:46:52.535092Z",
     "start_time": "2021-07-13T15:46:52.145242Z"
    },
    "scrolled": true
   },
   "outputs": [
    {
     "data": {
      "text/html": [
       "<div>\n",
       "<style scoped>\n",
       "    .dataframe tbody tr th:only-of-type {\n",
       "        vertical-align: middle;\n",
       "    }\n",
       "\n",
       "    .dataframe tbody tr th {\n",
       "        vertical-align: top;\n",
       "    }\n",
       "\n",
       "    .dataframe thead th {\n",
       "        text-align: right;\n",
       "    }\n",
       "</style>\n",
       "<table border=\"1\" class=\"dataframe\">\n",
       "  <thead>\n",
       "    <tr style=\"text-align: right;\">\n",
       "      <th></th>\n",
       "      <th>id</th>\n",
       "      <th>loan_amnt</th>\n",
       "      <th>term</th>\n",
       "      <th>int_rate</th>\n",
       "      <th>grade</th>\n",
       "      <th>sub_grade</th>\n",
       "      <th>emp_length</th>\n",
       "      <th>home_ownership</th>\n",
       "      <th>annual_inc</th>\n",
       "      <th>verification_status</th>\n",
       "      <th>purpose</th>\n",
       "      <th>zip_code</th>\n",
       "      <th>addr_state</th>\n",
       "      <th>dti</th>\n",
       "      <th>earliest_cr_line</th>\n",
       "      <th>fico_range_low</th>\n",
       "      <th>fico_range_high</th>\n",
       "      <th>open_acc</th>\n",
       "      <th>pub_rec</th>\n",
       "      <th>initial_list_status</th>\n",
       "      <th>application_type</th>\n",
       "      <th>annual_inc_joint</th>\n",
       "      <th>dti_joint</th>\n",
       "      <th>verification_status_joint</th>\n",
       "      <th>pub_rec_bankruptcies</th>\n",
       "      <th>member_id</th>\n",
       "      <th>funded_amnt</th>\n",
       "      <th>funded_amnt_inv</th>\n",
       "      <th>installment</th>\n",
       "      <th>emp_title</th>\n",
       "      <th>issue_d</th>\n",
       "      <th>loan_status</th>\n",
       "      <th>pymnt_plan</th>\n",
       "      <th>url</th>\n",
       "      <th>desc</th>\n",
       "      <th>title</th>\n",
       "      <th>delinq_2yrs</th>\n",
       "      <th>inq_last_6mths</th>\n",
       "      <th>mths_since_last_delinq</th>\n",
       "      <th>mths_since_last_record</th>\n",
       "      <th>revol_bal</th>\n",
       "      <th>revol_util</th>\n",
       "      <th>total_acc</th>\n",
       "      <th>out_prncp</th>\n",
       "      <th>out_prncp_inv</th>\n",
       "      <th>total_pymnt</th>\n",
       "      <th>total_pymnt_inv</th>\n",
       "      <th>total_rec_prncp</th>\n",
       "      <th>total_rec_int</th>\n",
       "      <th>total_rec_late_fee</th>\n",
       "      <th>recoveries</th>\n",
       "      <th>collection_recovery_fee</th>\n",
       "      <th>last_pymnt_d</th>\n",
       "      <th>last_pymnt_amnt</th>\n",
       "      <th>next_pymnt_d</th>\n",
       "      <th>last_credit_pull_d</th>\n",
       "      <th>last_fico_range_high</th>\n",
       "      <th>last_fico_range_low</th>\n",
       "      <th>collections_12_mths_ex_med</th>\n",
       "      <th>mths_since_last_major_derog</th>\n",
       "      <th>policy_code</th>\n",
       "      <th>acc_now_delinq</th>\n",
       "      <th>tot_coll_amt</th>\n",
       "      <th>tot_cur_bal</th>\n",
       "      <th>open_acc_6m</th>\n",
       "      <th>open_act_il</th>\n",
       "      <th>open_il_12m</th>\n",
       "      <th>open_il_24m</th>\n",
       "      <th>mths_since_rcnt_il</th>\n",
       "      <th>total_bal_il</th>\n",
       "      <th>il_util</th>\n",
       "      <th>open_rv_12m</th>\n",
       "      <th>open_rv_24m</th>\n",
       "      <th>max_bal_bc</th>\n",
       "      <th>all_util</th>\n",
       "      <th>total_rev_hi_lim</th>\n",
       "      <th>inq_fi</th>\n",
       "      <th>total_cu_tl</th>\n",
       "      <th>inq_last_12m</th>\n",
       "      <th>acc_open_past_24mths</th>\n",
       "      <th>avg_cur_bal</th>\n",
       "      <th>bc_open_to_buy</th>\n",
       "      <th>bc_util</th>\n",
       "      <th>chargeoff_within_12_mths</th>\n",
       "      <th>delinq_amnt</th>\n",
       "      <th>mo_sin_old_il_acct</th>\n",
       "      <th>mo_sin_old_rev_tl_op</th>\n",
       "      <th>mo_sin_rcnt_rev_tl_op</th>\n",
       "      <th>mo_sin_rcnt_tl</th>\n",
       "      <th>mort_acc</th>\n",
       "      <th>mths_since_recent_bc</th>\n",
       "      <th>mths_since_recent_bc_dlq</th>\n",
       "      <th>mths_since_recent_inq</th>\n",
       "      <th>mths_since_recent_revol_delinq</th>\n",
       "      <th>num_accts_ever_120_pd</th>\n",
       "      <th>num_actv_bc_tl</th>\n",
       "      <th>num_actv_rev_tl</th>\n",
       "      <th>num_bc_sats</th>\n",
       "      <th>num_bc_tl</th>\n",
       "      <th>num_il_tl</th>\n",
       "      <th>num_op_rev_tl</th>\n",
       "      <th>num_rev_accts</th>\n",
       "      <th>num_rev_tl_bal_gt_0</th>\n",
       "      <th>num_sats</th>\n",
       "      <th>num_tl_120dpd_2m</th>\n",
       "      <th>num_tl_30dpd</th>\n",
       "      <th>num_tl_90g_dpd_24m</th>\n",
       "      <th>num_tl_op_past_12m</th>\n",
       "      <th>pct_tl_nvr_dlq</th>\n",
       "      <th>percent_bc_gt_75</th>\n",
       "      <th>tax_liens</th>\n",
       "      <th>tot_hi_cred_lim</th>\n",
       "      <th>total_bal_ex_mort</th>\n",
       "      <th>total_bc_limit</th>\n",
       "      <th>total_il_high_credit_limit</th>\n",
       "      <th>revol_bal_joint</th>\n",
       "      <th>sec_app_fico_range_low</th>\n",
       "      <th>sec_app_fico_range_high</th>\n",
       "      <th>sec_app_earliest_cr_line</th>\n",
       "      <th>sec_app_inq_last_6mths</th>\n",
       "      <th>sec_app_mort_acc</th>\n",
       "      <th>sec_app_open_acc</th>\n",
       "      <th>sec_app_revol_util</th>\n",
       "      <th>sec_app_open_act_il</th>\n",
       "      <th>sec_app_num_rev_accts</th>\n",
       "      <th>sec_app_chargeoff_within_12_mths</th>\n",
       "      <th>sec_app_collections_12_mths_ex_med</th>\n",
       "      <th>sec_app_mths_since_last_major_derog</th>\n",
       "      <th>hardship_flag</th>\n",
       "      <th>hardship_type</th>\n",
       "      <th>hardship_reason</th>\n",
       "      <th>hardship_status</th>\n",
       "      <th>deferral_term</th>\n",
       "      <th>hardship_amount</th>\n",
       "      <th>hardship_start_date</th>\n",
       "      <th>hardship_end_date</th>\n",
       "      <th>payment_plan_start_date</th>\n",
       "      <th>hardship_length</th>\n",
       "      <th>hardship_dpd</th>\n",
       "      <th>hardship_loan_status</th>\n",
       "      <th>orig_projected_additional_accrued_interest</th>\n",
       "      <th>hardship_payoff_balance_amount</th>\n",
       "      <th>hardship_last_payment_amount</th>\n",
       "      <th>disbursement_method</th>\n",
       "      <th>debt_settlement_flag</th>\n",
       "      <th>debt_settlement_flag_date</th>\n",
       "      <th>settlement_status</th>\n",
       "      <th>settlement_date</th>\n",
       "      <th>settlement_amount</th>\n",
       "      <th>settlement_percentage</th>\n",
       "      <th>settlement_term</th>\n",
       "      <th>proba_FP</th>\n",
       "      <th>proba_CO</th>\n",
       "    </tr>\n",
       "  </thead>\n",
       "  <tbody>\n",
       "    <tr>\n",
       "      <th>2186215</th>\n",
       "      <td>93061456</td>\n",
       "      <td>10000.00</td>\n",
       "      <td>60 months</td>\n",
       "      <td>29.49</td>\n",
       "      <td>F</td>\n",
       "      <td>F2</td>\n",
       "      <td>2 years</td>\n",
       "      <td>MORTGAGE</td>\n",
       "      <td>60000.00</td>\n",
       "      <td>Source Verified</td>\n",
       "      <td>debt_consolidation</td>\n",
       "      <td>750xx</td>\n",
       "      <td>TX</td>\n",
       "      <td>4.96</td>\n",
       "      <td>Jul-2000</td>\n",
       "      <td>660.00</td>\n",
       "      <td>664.00</td>\n",
       "      <td>11.00</td>\n",
       "      <td>0.00</td>\n",
       "      <td>w</td>\n",
       "      <td>Individual</td>\n",
       "      <td>NaN</td>\n",
       "      <td>NaN</td>\n",
       "      <td>nan</td>\n",
       "      <td>0.00</td>\n",
       "      <td>NaN</td>\n",
       "      <td>10000.00</td>\n",
       "      <td>10000.00</td>\n",
       "      <td>320.41</td>\n",
       "      <td>Driver</td>\n",
       "      <td>2016-12-01</td>\n",
       "      <td>Fully Paid</td>\n",
       "      <td>n</td>\n",
       "      <td>https://lendingclub.com/browse/loanDetail.acti...</td>\n",
       "      <td>NaN</td>\n",
       "      <td>Debt consolidation</td>\n",
       "      <td>0.00</td>\n",
       "      <td>2.00</td>\n",
       "      <td>NaN</td>\n",
       "      <td>NaN</td>\n",
       "      <td>9300.00</td>\n",
       "      <td>59.20</td>\n",
       "      <td>16.00</td>\n",
       "      <td>0.00</td>\n",
       "      <td>0.00</td>\n",
       "      <td>15131.66</td>\n",
       "      <td>15131.66</td>\n",
       "      <td>10000.00</td>\n",
       "      <td>5131.66</td>\n",
       "      <td>0.00</td>\n",
       "      <td>0.00</td>\n",
       "      <td>0.00</td>\n",
       "      <td>Nov-2018</td>\n",
       "      <td>8099.02</td>\n",
       "      <td>NaN</td>\n",
       "      <td>Nov-2018</td>\n",
       "      <td>699.00</td>\n",
       "      <td>695.00</td>\n",
       "      <td>0.00</td>\n",
       "      <td>NaN</td>\n",
       "      <td>1.00</td>\n",
       "      <td>0.00</td>\n",
       "      <td>1109.00</td>\n",
       "      <td>68005.00</td>\n",
       "      <td>1.00</td>\n",
       "      <td>0.00</td>\n",
       "      <td>0.00</td>\n",
       "      <td>1.00</td>\n",
       "      <td>23.00</td>\n",
       "      <td>0.00</td>\n",
       "      <td>NaN</td>\n",
       "      <td>2.00</td>\n",
       "      <td>5.00</td>\n",
       "      <td>2808.00</td>\n",
       "      <td>58.00</td>\n",
       "      <td>15700.00</td>\n",
       "      <td>0.00</td>\n",
       "      <td>0.00</td>\n",
       "      <td>4.00</td>\n",
       "      <td>7.00</td>\n",
       "      <td>6182.00</td>\n",
       "      <td>2336.00</td>\n",
       "      <td>78.20</td>\n",
       "      <td>0.00</td>\n",
       "      <td>0.00</td>\n",
       "      <td>163.00</td>\n",
       "      <td>66.00</td>\n",
       "      <td>6.00</td>\n",
       "      <td>6.00</td>\n",
       "      <td>1.00</td>\n",
       "      <td>6.00</td>\n",
       "      <td>NaN</td>\n",
       "      <td>3.00</td>\n",
       "      <td>NaN</td>\n",
       "      <td>0.00</td>\n",
       "      <td>4.00</td>\n",
       "      <td>7.00</td>\n",
       "      <td>5.00</td>\n",
       "      <td>6.00</td>\n",
       "      <td>3.00</td>\n",
       "      <td>9.00</td>\n",
       "      <td>11.00</td>\n",
       "      <td>7.00</td>\n",
       "      <td>11.00</td>\n",
       "      <td>0.00</td>\n",
       "      <td>0.00</td>\n",
       "      <td>0.00</td>\n",
       "      <td>2.00</td>\n",
       "      <td>100.00</td>\n",
       "      <td>40.00</td>\n",
       "      <td>0.00</td>\n",
       "      <td>116879.00</td>\n",
       "      <td>9300.00</td>\n",
       "      <td>10700.00</td>\n",
       "      <td>0.00</td>\n",
       "      <td>NaN</td>\n",
       "      <td>NaN</td>\n",
       "      <td>NaN</td>\n",
       "      <td>NaN</td>\n",
       "      <td>NaN</td>\n",
       "      <td>NaN</td>\n",
       "      <td>NaN</td>\n",
       "      <td>NaN</td>\n",
       "      <td>NaN</td>\n",
       "      <td>NaN</td>\n",
       "      <td>NaN</td>\n",
       "      <td>NaN</td>\n",
       "      <td>NaN</td>\n",
       "      <td>N</td>\n",
       "      <td>NaN</td>\n",
       "      <td>NaN</td>\n",
       "      <td>NaN</td>\n",
       "      <td>NaN</td>\n",
       "      <td>NaN</td>\n",
       "      <td>NaN</td>\n",
       "      <td>NaN</td>\n",
       "      <td>NaN</td>\n",
       "      <td>NaN</td>\n",
       "      <td>NaN</td>\n",
       "      <td>NaN</td>\n",
       "      <td>NaN</td>\n",
       "      <td>NaN</td>\n",
       "      <td>NaN</td>\n",
       "      <td>Cash</td>\n",
       "      <td>N</td>\n",
       "      <td>NaN</td>\n",
       "      <td>NaN</td>\n",
       "      <td>NaN</td>\n",
       "      <td>NaN</td>\n",
       "      <td>NaN</td>\n",
       "      <td>NaN</td>\n",
       "      <td>0.24</td>\n",
       "      <td>0.76</td>\n",
       "    </tr>\n",
       "  </tbody>\n",
       "</table>\n",
       "</div>"
      ],
      "text/plain": [
       "               id  loan_amnt        term  int_rate grade sub_grade emp_length  \\\n",
       "2186215  93061456   10000.00   60 months     29.49     F        F2    2 years   \n",
       "\n",
       "        home_ownership  annual_inc verification_status             purpose  \\\n",
       "2186215       MORTGAGE    60000.00     Source Verified  debt_consolidation   \n",
       "\n",
       "        zip_code addr_state  dti earliest_cr_line  fico_range_low  \\\n",
       "2186215    750xx         TX 4.96         Jul-2000          660.00   \n",
       "\n",
       "         fico_range_high  open_acc  pub_rec initial_list_status  \\\n",
       "2186215           664.00     11.00     0.00                   w   \n",
       "\n",
       "        application_type  annual_inc_joint  dti_joint  \\\n",
       "2186215       Individual               NaN        NaN   \n",
       "\n",
       "        verification_status_joint  pub_rec_bankruptcies  member_id  \\\n",
       "2186215                       nan                  0.00        NaN   \n",
       "\n",
       "         funded_amnt  funded_amnt_inv  installment emp_title    issue_d  \\\n",
       "2186215     10000.00         10000.00       320.41    Driver 2016-12-01   \n",
       "\n",
       "        loan_status pymnt_plan  \\\n",
       "2186215  Fully Paid          n   \n",
       "\n",
       "                                                       url desc  \\\n",
       "2186215  https://lendingclub.com/browse/loanDetail.acti...  NaN   \n",
       "\n",
       "                      title  delinq_2yrs  inq_last_6mths  \\\n",
       "2186215  Debt consolidation         0.00            2.00   \n",
       "\n",
       "         mths_since_last_delinq  mths_since_last_record  revol_bal  \\\n",
       "2186215                     NaN                     NaN    9300.00   \n",
       "\n",
       "         revol_util  total_acc  out_prncp  out_prncp_inv  total_pymnt  \\\n",
       "2186215       59.20      16.00       0.00           0.00     15131.66   \n",
       "\n",
       "         total_pymnt_inv  total_rec_prncp  total_rec_int  total_rec_late_fee  \\\n",
       "2186215         15131.66         10000.00        5131.66                0.00   \n",
       "\n",
       "         recoveries  collection_recovery_fee last_pymnt_d  last_pymnt_amnt  \\\n",
       "2186215        0.00                     0.00     Nov-2018          8099.02   \n",
       "\n",
       "        next_pymnt_d last_credit_pull_d  last_fico_range_high  \\\n",
       "2186215          NaN           Nov-2018                699.00   \n",
       "\n",
       "         last_fico_range_low  collections_12_mths_ex_med  \\\n",
       "2186215               695.00                        0.00   \n",
       "\n",
       "         mths_since_last_major_derog  policy_code  acc_now_delinq  \\\n",
       "2186215                          NaN         1.00            0.00   \n",
       "\n",
       "         tot_coll_amt  tot_cur_bal  open_acc_6m  open_act_il  open_il_12m  \\\n",
       "2186215       1109.00     68005.00         1.00         0.00         0.00   \n",
       "\n",
       "         open_il_24m  mths_since_rcnt_il  total_bal_il  il_util  open_rv_12m  \\\n",
       "2186215         1.00               23.00          0.00      NaN         2.00   \n",
       "\n",
       "         open_rv_24m  max_bal_bc  all_util  total_rev_hi_lim  inq_fi  \\\n",
       "2186215         5.00     2808.00     58.00          15700.00    0.00   \n",
       "\n",
       "         total_cu_tl  inq_last_12m  acc_open_past_24mths  avg_cur_bal  \\\n",
       "2186215         0.00          4.00                  7.00      6182.00   \n",
       "\n",
       "         bc_open_to_buy  bc_util  chargeoff_within_12_mths  delinq_amnt  \\\n",
       "2186215         2336.00    78.20                      0.00         0.00   \n",
       "\n",
       "         mo_sin_old_il_acct  mo_sin_old_rev_tl_op  mo_sin_rcnt_rev_tl_op  \\\n",
       "2186215              163.00                 66.00                   6.00   \n",
       "\n",
       "         mo_sin_rcnt_tl  mort_acc  mths_since_recent_bc  \\\n",
       "2186215            6.00      1.00                  6.00   \n",
       "\n",
       "         mths_since_recent_bc_dlq  mths_since_recent_inq  \\\n",
       "2186215                       NaN                   3.00   \n",
       "\n",
       "         mths_since_recent_revol_delinq  num_accts_ever_120_pd  \\\n",
       "2186215                             NaN                   0.00   \n",
       "\n",
       "         num_actv_bc_tl  num_actv_rev_tl  num_bc_sats  num_bc_tl  num_il_tl  \\\n",
       "2186215            4.00             7.00         5.00       6.00       3.00   \n",
       "\n",
       "         num_op_rev_tl  num_rev_accts  num_rev_tl_bal_gt_0  num_sats  \\\n",
       "2186215           9.00          11.00                 7.00     11.00   \n",
       "\n",
       "         num_tl_120dpd_2m  num_tl_30dpd  num_tl_90g_dpd_24m  \\\n",
       "2186215              0.00          0.00                0.00   \n",
       "\n",
       "         num_tl_op_past_12m  pct_tl_nvr_dlq  percent_bc_gt_75  tax_liens  \\\n",
       "2186215                2.00          100.00             40.00       0.00   \n",
       "\n",
       "         tot_hi_cred_lim  total_bal_ex_mort  total_bc_limit  \\\n",
       "2186215        116879.00            9300.00        10700.00   \n",
       "\n",
       "         total_il_high_credit_limit  revol_bal_joint  sec_app_fico_range_low  \\\n",
       "2186215                        0.00              NaN                     NaN   \n",
       "\n",
       "         sec_app_fico_range_high sec_app_earliest_cr_line  \\\n",
       "2186215                      NaN                      NaN   \n",
       "\n",
       "         sec_app_inq_last_6mths  sec_app_mort_acc  sec_app_open_acc  \\\n",
       "2186215                     NaN               NaN               NaN   \n",
       "\n",
       "         sec_app_revol_util  sec_app_open_act_il  sec_app_num_rev_accts  \\\n",
       "2186215                 NaN                  NaN                    NaN   \n",
       "\n",
       "         sec_app_chargeoff_within_12_mths  sec_app_collections_12_mths_ex_med  \\\n",
       "2186215                               NaN                                 NaN   \n",
       "\n",
       "         sec_app_mths_since_last_major_derog hardship_flag hardship_type  \\\n",
       "2186215                                  NaN             N           NaN   \n",
       "\n",
       "        hardship_reason hardship_status  deferral_term  hardship_amount  \\\n",
       "2186215             NaN             NaN            NaN              NaN   \n",
       "\n",
       "        hardship_start_date hardship_end_date payment_plan_start_date  \\\n",
       "2186215                 NaN               NaN                     NaN   \n",
       "\n",
       "         hardship_length  hardship_dpd hardship_loan_status  \\\n",
       "2186215              NaN           NaN                  NaN   \n",
       "\n",
       "         orig_projected_additional_accrued_interest  \\\n",
       "2186215                                         NaN   \n",
       "\n",
       "         hardship_payoff_balance_amount  hardship_last_payment_amount  \\\n",
       "2186215                             NaN                           NaN   \n",
       "\n",
       "        disbursement_method debt_settlement_flag debt_settlement_flag_date  \\\n",
       "2186215                Cash                    N                       NaN   \n",
       "\n",
       "        settlement_status settlement_date  settlement_amount  \\\n",
       "2186215               NaN             NaN                NaN   \n",
       "\n",
       "         settlement_percentage  settlement_term  proba_FP  proba_CO  \n",
       "2186215                    NaN              NaN      0.24      0.76  "
      ]
     },
     "execution_count": 192,
     "metadata": {},
     "output_type": "execute_result"
    }
   ],
   "source": [
    "test_df[test_df.loan_status==\"Fully Paid\"].sample(1)"
   ]
  },
  {
   "cell_type": "code",
   "execution_count": 193,
   "id": "270c0e2a",
   "metadata": {
    "ExecuteTime": {
     "end_time": "2021-07-13T15:46:52.782310Z",
     "start_time": "2021-07-13T15:46:52.538084Z"
    }
   },
   "outputs": [],
   "source": [
    "test_df['issue_d'] = pd.to_datetime(test_df['issue_d'])\n",
    "test_df['last_pymnt_d'] = pd.to_datetime(test_df['last_pymnt_d'])"
   ]
  },
  {
   "cell_type": "code",
   "execution_count": 194,
   "id": "6006ecef",
   "metadata": {
    "ExecuteTime": {
     "end_time": "2021-07-13T15:46:52.813188Z",
     "start_time": "2021-07-13T15:46:52.785287Z"
    }
   },
   "outputs": [
    {
     "name": "stdout",
     "output_type": "stream",
     "text": [
      "460\n",
      "0\n"
     ]
    }
   ],
   "source": [
    "print(test_df.last_pymnt_d.isnull().sum())\n",
    "print(test_df.issue_d.isnull().sum())"
   ]
  },
  {
   "cell_type": "code",
   "execution_count": 195,
   "id": "7fc57e9a",
   "metadata": {
    "ExecuteTime": {
     "end_time": "2021-07-13T15:46:52.859805Z",
     "start_time": "2021-07-13T15:46:52.816180Z"
    }
   },
   "outputs": [
    {
     "name": "stdout",
     "output_type": "stream",
     "text": [
      "loan_status\n",
      "Charged Off    460\n",
      "dtype: int64\n",
      "269062\n",
      "0.00171\n"
     ]
    }
   ],
   "source": [
    "print(test_df[test_df['last_pymnt_d'].isnull()].groupby('loan_status').size())\n",
    "\n",
    "print(test_df.shape[0])\n",
    "\n",
    "value = float((test_df[test_df['last_pymnt_d'].isnull()].groupby('loan_status').size()/test_df.shape[0]))\n",
    "\n",
    "print(\"{0:.5f}\".format(value))"
   ]
  },
  {
   "cell_type": "markdown",
   "id": "6d682b49",
   "metadata": {},
   "source": [
    "Some loans that are \"Charged Off\" do not have a last payment date. These represent a 0.17% of all loans so we will exclude them from the calculation. We assume in a real world scenario we will always have the last payment date since that will be the date we stop receiving payments."
   ]
  },
  {
   "cell_type": "code",
   "execution_count": 196,
   "id": "54a761a7",
   "metadata": {
    "ExecuteTime": {
     "end_time": "2021-07-13T15:46:53.233021Z",
     "start_time": "2021-07-13T15:46:52.862402Z"
    }
   },
   "outputs": [
    {
     "data": {
      "text/plain": [
       "(268602, 153)"
      ]
     },
     "execution_count": 196,
     "metadata": {},
     "output_type": "execute_result"
    }
   ],
   "source": [
    "test_df = test_df[test_df['last_pymnt_d'].notna()]\n",
    "test_df.shape"
   ]
  },
  {
   "cell_type": "markdown",
   "id": "bb49af01",
   "metadata": {},
   "source": [
    "Number of months between issuance and last payment"
   ]
  },
  {
   "cell_type": "code",
   "execution_count": 197,
   "id": "05848244",
   "metadata": {
    "ExecuteTime": {
     "end_time": "2021-07-13T15:46:53.279646Z",
     "start_time": "2021-07-13T15:46:53.234020Z"
    }
   },
   "outputs": [],
   "source": [
    "test_df['nb_months'] = ((test_df.last_pymnt_d - test_df.issue_d)/np.timedelta64(1, 'M'))\n",
    "test_df['nb_months'] = test_df['nb_months'].astype(int)"
   ]
  },
  {
   "cell_type": "markdown",
   "id": "7eb66425",
   "metadata": {},
   "source": [
    "### Adding Cashflows for Each Loan"
   ]
  },
  {
   "cell_type": "markdown",
   "id": "d4381efe",
   "metadata": {},
   "source": [
    "Adding columns for every month and year and placing the loan amount as a negative cashflow on the issue date month."
   ]
  },
  {
   "cell_type": "code",
   "execution_count": 198,
   "id": "d34b26b1",
   "metadata": {
    "ExecuteTime": {
     "end_time": "2021-07-13T15:46:53.294928Z",
     "start_time": "2021-07-13T15:46:53.281215Z"
    }
   },
   "outputs": [],
   "source": [
    "# months = [\"%.2d\" % i for i in range(1,13)]\n",
    "# years = [\"%d\" % i for i in range(2007,2019)]\n",
    "\n",
    "# for year in years:\n",
    "#     for month in months:\n",
    "#         test_df[month+\"-\"+year] = np.where(test_df.issue_d.dt.strftime('%m-%Y') == month+\"-\"+year,\n",
    "#                               -test_df['loan_amnt'], 0)     "
   ]
  },
  {
   "cell_type": "markdown",
   "id": "b369abf8",
   "metadata": {},
   "source": [
    "Filling months with installments and last payment month with remaining difference between sum of all installments and the full total amount paid."
   ]
  },
  {
   "cell_type": "code",
   "execution_count": 199,
   "id": "7cdf3810",
   "metadata": {
    "ExecuteTime": {
     "end_time": "2021-07-13T15:46:53.310580Z",
     "start_time": "2021-07-13T15:46:53.296923Z"
    }
   },
   "outputs": [],
   "source": [
    "# for index in test_df.index:\n",
    "#     months_list = pd.date_range(test_df.loc[index, 'issue_d'], test_df.loc[index, 'last_pymnt_d'],\n",
    "#                                 freq='MS', closed='right').strftime(\"%m-%Y\").tolist()\n",
    "#     if test_df.loc[index, 'nb_months'] == 0:\n",
    "#         test_df.loc[index, test_df.loc[index, 'issue_d'].strftime(\"%m-%Y\")] = \\\n",
    "#         (-test_df.loc[index, 'loan_amnt']+test_df.loc[index, 'total_pymnt'])\n",
    "        \n",
    "#     else:\n",
    "#         for month in months_list[0:-1]:\n",
    "#             test_df.loc[index, month] = test_df.loc[index, 'installment']\n",
    "#         test_df.loc[index, months_list[-1]] = \\\n",
    "#         (test_df.loc[index, 'total_pymnt']-(test_df.loc[index, 'installment']*len(months_list[0:-1])))"
   ]
  },
  {
   "cell_type": "code",
   "execution_count": 200,
   "id": "f5948a6d",
   "metadata": {
    "ExecuteTime": {
     "end_time": "2021-07-13T15:46:53.326182Z",
     "start_time": "2021-07-13T15:46:53.312351Z"
    }
   },
   "outputs": [],
   "source": [
    "values = {'01-2019': 0, '02-2019': 0, '03-2019': 0}\n",
    "test_df.fillna(value=values, inplace=True)"
   ]
  },
  {
   "cell_type": "code",
   "execution_count": 201,
   "id": "d1d38200",
   "metadata": {
    "ExecuteTime": {
     "end_time": "2021-07-13T15:46:53.341953Z",
     "start_time": "2021-07-13T15:46:53.328177Z"
    }
   },
   "outputs": [
    {
     "data": {
      "text/plain": [
       "(268602, 154)"
      ]
     },
     "execution_count": 201,
     "metadata": {},
     "output_type": "execute_result"
    }
   ],
   "source": [
    "test_df.shape"
   ]
  },
  {
   "cell_type": "code",
   "execution_count": 202,
   "id": "2014eda6",
   "metadata": {
    "ExecuteTime": {
     "end_time": "2021-07-13T15:46:53.372933Z",
     "start_time": "2021-07-13T15:46:53.367940Z"
    }
   },
   "outputs": [],
   "source": [
    "# test_df.to_pickle(\"G:\\\\Lending Club Data Files\\\\test_df.pkl\")"
   ]
  },
  {
   "cell_type": "code",
   "execution_count": 203,
   "id": "55cd5fdc",
   "metadata": {
    "ExecuteTime": {
     "end_time": "2021-07-13T15:47:09.867110Z",
     "start_time": "2021-07-13T15:46:53.374929Z"
    }
   },
   "outputs": [],
   "source": [
    "test_df = pd.read_pickle(\"G:\\\\Lending Club Data Files\\\\test_df.pkl\")"
   ]
  },
  {
   "cell_type": "code",
   "execution_count": 204,
   "id": "a4202064",
   "metadata": {
    "ExecuteTime": {
     "end_time": "2021-07-13T15:47:09.974287Z",
     "start_time": "2021-07-13T15:47:09.869330Z"
    }
   },
   "outputs": [
    {
     "data": {
      "text/html": [
       "<div>\n",
       "<style scoped>\n",
       "    .dataframe tbody tr th:only-of-type {\n",
       "        vertical-align: middle;\n",
       "    }\n",
       "\n",
       "    .dataframe tbody tr th {\n",
       "        vertical-align: top;\n",
       "    }\n",
       "\n",
       "    .dataframe thead th {\n",
       "        text-align: right;\n",
       "    }\n",
       "</style>\n",
       "<table border=\"1\" class=\"dataframe\">\n",
       "  <thead>\n",
       "    <tr style=\"text-align: right;\">\n",
       "      <th></th>\n",
       "      <th>id</th>\n",
       "      <th>loan_amnt</th>\n",
       "      <th>term</th>\n",
       "      <th>int_rate</th>\n",
       "      <th>grade</th>\n",
       "      <th>sub_grade</th>\n",
       "      <th>emp_length</th>\n",
       "      <th>home_ownership</th>\n",
       "      <th>annual_inc</th>\n",
       "      <th>verification_status</th>\n",
       "      <th>purpose</th>\n",
       "      <th>zip_code</th>\n",
       "      <th>addr_state</th>\n",
       "      <th>dti</th>\n",
       "      <th>earliest_cr_line</th>\n",
       "      <th>fico_range_low</th>\n",
       "      <th>fico_range_high</th>\n",
       "      <th>open_acc</th>\n",
       "      <th>pub_rec</th>\n",
       "      <th>initial_list_status</th>\n",
       "      <th>application_type</th>\n",
       "      <th>annual_inc_joint</th>\n",
       "      <th>dti_joint</th>\n",
       "      <th>verification_status_joint</th>\n",
       "      <th>pub_rec_bankruptcies</th>\n",
       "      <th>acc_now_delinq</th>\n",
       "      <th>acc_open_past_24mths</th>\n",
       "      <th>all_util</th>\n",
       "      <th>avg_cur_bal</th>\n",
       "      <th>bc_open_to_buy</th>\n",
       "      <th>bc_util</th>\n",
       "      <th>chargeoff_within_12_mths</th>\n",
       "      <th>collection_recovery_fee</th>\n",
       "      <th>collections_12_mths_ex_med</th>\n",
       "      <th>debt_settlement_flag</th>\n",
       "      <th>debt_settlement_flag_date</th>\n",
       "      <th>deferral_term</th>\n",
       "      <th>delinq_2yrs</th>\n",
       "      <th>delinq_amnt</th>\n",
       "      <th>desc</th>\n",
       "      <th>disbursement_method</th>\n",
       "      <th>emp_title</th>\n",
       "      <th>funded_amnt</th>\n",
       "      <th>funded_amnt_inv</th>\n",
       "      <th>hardship_amount</th>\n",
       "      <th>hardship_dpd</th>\n",
       "      <th>hardship_end_date</th>\n",
       "      <th>hardship_flag</th>\n",
       "      <th>hardship_last_payment_amount</th>\n",
       "      <th>hardship_length</th>\n",
       "      <th>hardship_loan_status</th>\n",
       "      <th>hardship_payoff_balance_amount</th>\n",
       "      <th>hardship_reason</th>\n",
       "      <th>hardship_start_date</th>\n",
       "      <th>hardship_status</th>\n",
       "      <th>hardship_type</th>\n",
       "      <th>il_util</th>\n",
       "      <th>inq_fi</th>\n",
       "      <th>inq_last_12m</th>\n",
       "      <th>inq_last_6mths</th>\n",
       "      <th>installment</th>\n",
       "      <th>issue_d</th>\n",
       "      <th>last_credit_pull_d</th>\n",
       "      <th>last_fico_range_high</th>\n",
       "      <th>last_fico_range_low</th>\n",
       "      <th>last_pymnt_amnt</th>\n",
       "      <th>last_pymnt_d</th>\n",
       "      <th>loan_status</th>\n",
       "      <th>max_bal_bc</th>\n",
       "      <th>member_id</th>\n",
       "      <th>mo_sin_old_il_acct</th>\n",
       "      <th>mo_sin_old_rev_tl_op</th>\n",
       "      <th>mo_sin_rcnt_rev_tl_op</th>\n",
       "      <th>mo_sin_rcnt_tl</th>\n",
       "      <th>mort_acc</th>\n",
       "      <th>mths_since_last_delinq</th>\n",
       "      <th>mths_since_last_major_derog</th>\n",
       "      <th>mths_since_last_record</th>\n",
       "      <th>mths_since_rcnt_il</th>\n",
       "      <th>mths_since_recent_bc</th>\n",
       "      <th>mths_since_recent_bc_dlq</th>\n",
       "      <th>mths_since_recent_inq</th>\n",
       "      <th>mths_since_recent_revol_delinq</th>\n",
       "      <th>next_pymnt_d</th>\n",
       "      <th>num_accts_ever_120_pd</th>\n",
       "      <th>num_actv_bc_tl</th>\n",
       "      <th>num_actv_rev_tl</th>\n",
       "      <th>num_bc_sats</th>\n",
       "      <th>num_bc_tl</th>\n",
       "      <th>num_il_tl</th>\n",
       "      <th>num_op_rev_tl</th>\n",
       "      <th>num_rev_accts</th>\n",
       "      <th>num_rev_tl_bal_gt_0</th>\n",
       "      <th>num_sats</th>\n",
       "      <th>num_tl_120dpd_2m</th>\n",
       "      <th>num_tl_30dpd</th>\n",
       "      <th>num_tl_90g_dpd_24m</th>\n",
       "      <th>num_tl_op_past_12m</th>\n",
       "      <th>open_acc_6m</th>\n",
       "      <th>open_act_il</th>\n",
       "      <th>open_il_12m</th>\n",
       "      <th>open_il_24m</th>\n",
       "      <th>open_rv_12m</th>\n",
       "      <th>open_rv_24m</th>\n",
       "      <th>orig_projected_additional_accrued_interest</th>\n",
       "      <th>out_prncp</th>\n",
       "      <th>out_prncp_inv</th>\n",
       "      <th>payment_plan_start_date</th>\n",
       "      <th>pct_tl_nvr_dlq</th>\n",
       "      <th>percent_bc_gt_75</th>\n",
       "      <th>policy_code</th>\n",
       "      <th>pymnt_plan</th>\n",
       "      <th>recoveries</th>\n",
       "      <th>revol_bal</th>\n",
       "      <th>revol_bal_joint</th>\n",
       "      <th>revol_util</th>\n",
       "      <th>sec_app_chargeoff_within_12_mths</th>\n",
       "      <th>sec_app_collections_12_mths_ex_med</th>\n",
       "      <th>sec_app_earliest_cr_line</th>\n",
       "      <th>sec_app_fico_range_high</th>\n",
       "      <th>sec_app_fico_range_low</th>\n",
       "      <th>sec_app_inq_last_6mths</th>\n",
       "      <th>sec_app_mort_acc</th>\n",
       "      <th>sec_app_mths_since_last_major_derog</th>\n",
       "      <th>sec_app_num_rev_accts</th>\n",
       "      <th>sec_app_open_acc</th>\n",
       "      <th>sec_app_open_act_il</th>\n",
       "      <th>sec_app_revol_util</th>\n",
       "      <th>settlement_amount</th>\n",
       "      <th>settlement_date</th>\n",
       "      <th>settlement_percentage</th>\n",
       "      <th>settlement_status</th>\n",
       "      <th>settlement_term</th>\n",
       "      <th>tax_liens</th>\n",
       "      <th>title</th>\n",
       "      <th>tot_coll_amt</th>\n",
       "      <th>tot_cur_bal</th>\n",
       "      <th>tot_hi_cred_lim</th>\n",
       "      <th>total_acc</th>\n",
       "      <th>total_bal_ex_mort</th>\n",
       "      <th>total_bal_il</th>\n",
       "      <th>total_bc_limit</th>\n",
       "      <th>total_cu_tl</th>\n",
       "      <th>total_il_high_credit_limit</th>\n",
       "      <th>total_pymnt</th>\n",
       "      <th>total_pymnt_inv</th>\n",
       "      <th>total_rec_int</th>\n",
       "      <th>total_rec_late_fee</th>\n",
       "      <th>total_rec_prncp</th>\n",
       "      <th>total_rev_hi_lim</th>\n",
       "      <th>url</th>\n",
       "      <th>proba_FP</th>\n",
       "      <th>proba_CO</th>\n",
       "      <th>nb_months</th>\n",
       "      <th>01-2007</th>\n",
       "      <th>02-2007</th>\n",
       "      <th>03-2007</th>\n",
       "      <th>04-2007</th>\n",
       "      <th>05-2007</th>\n",
       "      <th>06-2007</th>\n",
       "      <th>07-2007</th>\n",
       "      <th>08-2007</th>\n",
       "      <th>09-2007</th>\n",
       "      <th>10-2007</th>\n",
       "      <th>11-2007</th>\n",
       "      <th>12-2007</th>\n",
       "      <th>01-2008</th>\n",
       "      <th>02-2008</th>\n",
       "      <th>03-2008</th>\n",
       "      <th>04-2008</th>\n",
       "      <th>05-2008</th>\n",
       "      <th>06-2008</th>\n",
       "      <th>07-2008</th>\n",
       "      <th>08-2008</th>\n",
       "      <th>09-2008</th>\n",
       "      <th>10-2008</th>\n",
       "      <th>11-2008</th>\n",
       "      <th>12-2008</th>\n",
       "      <th>01-2009</th>\n",
       "      <th>02-2009</th>\n",
       "      <th>03-2009</th>\n",
       "      <th>04-2009</th>\n",
       "      <th>05-2009</th>\n",
       "      <th>06-2009</th>\n",
       "      <th>07-2009</th>\n",
       "      <th>08-2009</th>\n",
       "      <th>09-2009</th>\n",
       "      <th>10-2009</th>\n",
       "      <th>11-2009</th>\n",
       "      <th>12-2009</th>\n",
       "      <th>01-2010</th>\n",
       "      <th>02-2010</th>\n",
       "      <th>03-2010</th>\n",
       "      <th>04-2010</th>\n",
       "      <th>05-2010</th>\n",
       "      <th>06-2010</th>\n",
       "      <th>07-2010</th>\n",
       "      <th>08-2010</th>\n",
       "      <th>09-2010</th>\n",
       "      <th>10-2010</th>\n",
       "      <th>11-2010</th>\n",
       "      <th>12-2010</th>\n",
       "      <th>01-2011</th>\n",
       "      <th>02-2011</th>\n",
       "      <th>03-2011</th>\n",
       "      <th>04-2011</th>\n",
       "      <th>05-2011</th>\n",
       "      <th>06-2011</th>\n",
       "      <th>07-2011</th>\n",
       "      <th>08-2011</th>\n",
       "      <th>09-2011</th>\n",
       "      <th>10-2011</th>\n",
       "      <th>11-2011</th>\n",
       "      <th>12-2011</th>\n",
       "      <th>01-2012</th>\n",
       "      <th>02-2012</th>\n",
       "      <th>03-2012</th>\n",
       "      <th>04-2012</th>\n",
       "      <th>05-2012</th>\n",
       "      <th>06-2012</th>\n",
       "      <th>07-2012</th>\n",
       "      <th>08-2012</th>\n",
       "      <th>09-2012</th>\n",
       "      <th>10-2012</th>\n",
       "      <th>11-2012</th>\n",
       "      <th>12-2012</th>\n",
       "      <th>01-2013</th>\n",
       "      <th>02-2013</th>\n",
       "      <th>03-2013</th>\n",
       "      <th>04-2013</th>\n",
       "      <th>05-2013</th>\n",
       "      <th>06-2013</th>\n",
       "      <th>07-2013</th>\n",
       "      <th>08-2013</th>\n",
       "      <th>09-2013</th>\n",
       "      <th>10-2013</th>\n",
       "      <th>11-2013</th>\n",
       "      <th>12-2013</th>\n",
       "      <th>01-2014</th>\n",
       "      <th>02-2014</th>\n",
       "      <th>03-2014</th>\n",
       "      <th>04-2014</th>\n",
       "      <th>05-2014</th>\n",
       "      <th>06-2014</th>\n",
       "      <th>07-2014</th>\n",
       "      <th>08-2014</th>\n",
       "      <th>09-2014</th>\n",
       "      <th>10-2014</th>\n",
       "      <th>11-2014</th>\n",
       "      <th>12-2014</th>\n",
       "      <th>01-2015</th>\n",
       "      <th>02-2015</th>\n",
       "      <th>03-2015</th>\n",
       "      <th>04-2015</th>\n",
       "      <th>05-2015</th>\n",
       "      <th>06-2015</th>\n",
       "      <th>07-2015</th>\n",
       "      <th>08-2015</th>\n",
       "      <th>09-2015</th>\n",
       "      <th>10-2015</th>\n",
       "      <th>11-2015</th>\n",
       "      <th>12-2015</th>\n",
       "      <th>01-2016</th>\n",
       "      <th>02-2016</th>\n",
       "      <th>03-2016</th>\n",
       "      <th>04-2016</th>\n",
       "      <th>05-2016</th>\n",
       "      <th>06-2016</th>\n",
       "      <th>07-2016</th>\n",
       "      <th>08-2016</th>\n",
       "      <th>09-2016</th>\n",
       "      <th>10-2016</th>\n",
       "      <th>11-2016</th>\n",
       "      <th>12-2016</th>\n",
       "      <th>01-2017</th>\n",
       "      <th>02-2017</th>\n",
       "      <th>03-2017</th>\n",
       "      <th>04-2017</th>\n",
       "      <th>05-2017</th>\n",
       "      <th>06-2017</th>\n",
       "      <th>07-2017</th>\n",
       "      <th>08-2017</th>\n",
       "      <th>09-2017</th>\n",
       "      <th>10-2017</th>\n",
       "      <th>11-2017</th>\n",
       "      <th>12-2017</th>\n",
       "      <th>01-2018</th>\n",
       "      <th>02-2018</th>\n",
       "      <th>03-2018</th>\n",
       "      <th>04-2018</th>\n",
       "      <th>05-2018</th>\n",
       "      <th>06-2018</th>\n",
       "      <th>07-2018</th>\n",
       "      <th>08-2018</th>\n",
       "      <th>09-2018</th>\n",
       "      <th>10-2018</th>\n",
       "      <th>11-2018</th>\n",
       "      <th>12-2018</th>\n",
       "      <th>01-2019</th>\n",
       "      <th>02-2019</th>\n",
       "      <th>03-2019</th>\n",
       "      <th>spread</th>\n",
       "      <th>irr</th>\n",
       "    </tr>\n",
       "  </thead>\n",
       "  <tbody>\n",
       "    <tr>\n",
       "      <th>1141562</th>\n",
       "      <td>33059914</td>\n",
       "      <td>5000.00</td>\n",
       "      <td>36 months</td>\n",
       "      <td>20.99</td>\n",
       "      <td>E</td>\n",
       "      <td>E4</td>\n",
       "      <td>1 year</td>\n",
       "      <td>RENT</td>\n",
       "      <td>31000.00</td>\n",
       "      <td>Source Verified</td>\n",
       "      <td>debt_consolidation</td>\n",
       "      <td>927xx</td>\n",
       "      <td>CA</td>\n",
       "      <td>35.81</td>\n",
       "      <td>Dec-2010</td>\n",
       "      <td>680.00</td>\n",
       "      <td>684.00</td>\n",
       "      <td>6.00</td>\n",
       "      <td>0.00</td>\n",
       "      <td>f</td>\n",
       "      <td>Individual</td>\n",
       "      <td>NaN</td>\n",
       "      <td>NaN</td>\n",
       "      <td>nan</td>\n",
       "      <td>0.00</td>\n",
       "      <td>0.00</td>\n",
       "      <td>3.00</td>\n",
       "      <td>NaN</td>\n",
       "      <td>7670.00</td>\n",
       "      <td>2243.00</td>\n",
       "      <td>53.30</td>\n",
       "      <td>0.00</td>\n",
       "      <td>0.00</td>\n",
       "      <td>0.00</td>\n",
       "      <td>N</td>\n",
       "      <td>NaN</td>\n",
       "      <td>NaN</td>\n",
       "      <td>0.00</td>\n",
       "      <td>0.00</td>\n",
       "      <td>NaN</td>\n",
       "      <td>Cash</td>\n",
       "      <td>lvn</td>\n",
       "      <td>5000.00</td>\n",
       "      <td>5000.00</td>\n",
       "      <td>NaN</td>\n",
       "      <td>NaN</td>\n",
       "      <td>NaN</td>\n",
       "      <td>N</td>\n",
       "      <td>NaN</td>\n",
       "      <td>NaN</td>\n",
       "      <td>NaN</td>\n",
       "      <td>NaN</td>\n",
       "      <td>NaN</td>\n",
       "      <td>NaN</td>\n",
       "      <td>NaN</td>\n",
       "      <td>NaN</td>\n",
       "      <td>NaN</td>\n",
       "      <td>NaN</td>\n",
       "      <td>NaN</td>\n",
       "      <td>1.00</td>\n",
       "      <td>188.35</td>\n",
       "      <td>2014-11-01</td>\n",
       "      <td>Nov-2016</td>\n",
       "      <td>749.00</td>\n",
       "      <td>745.00</td>\n",
       "      <td>2217.15</td>\n",
       "      <td>2016-11-01</td>\n",
       "      <td>Fully Paid</td>\n",
       "      <td>NaN</td>\n",
       "      <td>NaN</td>\n",
       "      <td>3.00</td>\n",
       "      <td>47.00</td>\n",
       "      <td>5.00</td>\n",
       "      <td>3.00</td>\n",
       "      <td>0.00</td>\n",
       "      <td>NaN</td>\n",
       "      <td>NaN</td>\n",
       "      <td>NaN</td>\n",
       "      <td>NaN</td>\n",
       "      <td>16.00</td>\n",
       "      <td>NaN</td>\n",
       "      <td>4.00</td>\n",
       "      <td>NaN</td>\n",
       "      <td>NaN</td>\n",
       "      <td>0.00</td>\n",
       "      <td>1.00</td>\n",
       "      <td>2.00</td>\n",
       "      <td>2.00</td>\n",
       "      <td>2.00</td>\n",
       "      <td>1.00</td>\n",
       "      <td>5.00</td>\n",
       "      <td>6.00</td>\n",
       "      <td>2.00</td>\n",
       "      <td>6.00</td>\n",
       "      <td>0.00</td>\n",
       "      <td>0.00</td>\n",
       "      <td>0.00</td>\n",
       "      <td>2.00</td>\n",
       "      <td>NaN</td>\n",
       "      <td>NaN</td>\n",
       "      <td>NaN</td>\n",
       "      <td>NaN</td>\n",
       "      <td>NaN</td>\n",
       "      <td>NaN</td>\n",
       "      <td>NaN</td>\n",
       "      <td>0.00</td>\n",
       "      <td>0.00</td>\n",
       "      <td>NaN</td>\n",
       "      <td>100.00</td>\n",
       "      <td>50.00</td>\n",
       "      <td>1.00</td>\n",
       "      <td>n</td>\n",
       "      <td>0.00</td>\n",
       "      <td>5094.00</td>\n",
       "      <td>NaN</td>\n",
       "      <td>46.70</td>\n",
       "      <td>NaN</td>\n",
       "      <td>NaN</td>\n",
       "      <td>NaN</td>\n",
       "      <td>NaN</td>\n",
       "      <td>NaN</td>\n",
       "      <td>NaN</td>\n",
       "      <td>NaN</td>\n",
       "      <td>NaN</td>\n",
       "      <td>NaN</td>\n",
       "      <td>NaN</td>\n",
       "      <td>NaN</td>\n",
       "      <td>NaN</td>\n",
       "      <td>NaN</td>\n",
       "      <td>NaN</td>\n",
       "      <td>NaN</td>\n",
       "      <td>NaN</td>\n",
       "      <td>NaN</td>\n",
       "      <td>0.00</td>\n",
       "      <td>Debt consolidation</td>\n",
       "      <td>0.00</td>\n",
       "      <td>46022.00</td>\n",
       "      <td>53363.00</td>\n",
       "      <td>7.00</td>\n",
       "      <td>46022.00</td>\n",
       "      <td>NaN</td>\n",
       "      <td>4800.00</td>\n",
       "      <td>NaN</td>\n",
       "      <td>42463.00</td>\n",
       "      <td>6526.77</td>\n",
       "      <td>6526.77</td>\n",
       "      <td>1526.77</td>\n",
       "      <td>0.00</td>\n",
       "      <td>5000.00</td>\n",
       "      <td>10900.00</td>\n",
       "      <td>https://lendingclub.com/browse/loanDetail.acti...</td>\n",
       "      <td>0.33</td>\n",
       "      <td>0.67</td>\n",
       "      <td>24</td>\n",
       "      <td>0.00</td>\n",
       "      <td>0.00</td>\n",
       "      <td>0.00</td>\n",
       "      <td>0.00</td>\n",
       "      <td>0.00</td>\n",
       "      <td>0.00</td>\n",
       "      <td>0.00</td>\n",
       "      <td>0.00</td>\n",
       "      <td>0.00</td>\n",
       "      <td>0.00</td>\n",
       "      <td>0.00</td>\n",
       "      <td>0.00</td>\n",
       "      <td>0.00</td>\n",
       "      <td>0.00</td>\n",
       "      <td>0.00</td>\n",
       "      <td>0.00</td>\n",
       "      <td>0.00</td>\n",
       "      <td>0.00</td>\n",
       "      <td>0.00</td>\n",
       "      <td>0.00</td>\n",
       "      <td>0.00</td>\n",
       "      <td>0.00</td>\n",
       "      <td>0.00</td>\n",
       "      <td>0.00</td>\n",
       "      <td>0.00</td>\n",
       "      <td>0.00</td>\n",
       "      <td>0.00</td>\n",
       "      <td>0.00</td>\n",
       "      <td>0.00</td>\n",
       "      <td>0.00</td>\n",
       "      <td>0.00</td>\n",
       "      <td>0.00</td>\n",
       "      <td>0.00</td>\n",
       "      <td>0.00</td>\n",
       "      <td>0.00</td>\n",
       "      <td>0.00</td>\n",
       "      <td>0.00</td>\n",
       "      <td>0.00</td>\n",
       "      <td>0.00</td>\n",
       "      <td>0.00</td>\n",
       "      <td>0.00</td>\n",
       "      <td>0.00</td>\n",
       "      <td>0.00</td>\n",
       "      <td>0.00</td>\n",
       "      <td>0.00</td>\n",
       "      <td>0.00</td>\n",
       "      <td>0.00</td>\n",
       "      <td>0.00</td>\n",
       "      <td>0.00</td>\n",
       "      <td>0.00</td>\n",
       "      <td>0.00</td>\n",
       "      <td>0.00</td>\n",
       "      <td>0.00</td>\n",
       "      <td>0.00</td>\n",
       "      <td>0.00</td>\n",
       "      <td>0.00</td>\n",
       "      <td>0.00</td>\n",
       "      <td>0.00</td>\n",
       "      <td>0.00</td>\n",
       "      <td>0.00</td>\n",
       "      <td>0.00</td>\n",
       "      <td>0.00</td>\n",
       "      <td>0.00</td>\n",
       "      <td>0.00</td>\n",
       "      <td>0.00</td>\n",
       "      <td>0.00</td>\n",
       "      <td>0.00</td>\n",
       "      <td>0.00</td>\n",
       "      <td>0.00</td>\n",
       "      <td>0.00</td>\n",
       "      <td>0.00</td>\n",
       "      <td>0.00</td>\n",
       "      <td>0.00</td>\n",
       "      <td>0.00</td>\n",
       "      <td>0.00</td>\n",
       "      <td>0.00</td>\n",
       "      <td>0.00</td>\n",
       "      <td>0.00</td>\n",
       "      <td>0.00</td>\n",
       "      <td>0.00</td>\n",
       "      <td>0.00</td>\n",
       "      <td>0.00</td>\n",
       "      <td>0.00</td>\n",
       "      <td>0.00</td>\n",
       "      <td>0.00</td>\n",
       "      <td>0.00</td>\n",
       "      <td>0.00</td>\n",
       "      <td>0.00</td>\n",
       "      <td>0.00</td>\n",
       "      <td>0.00</td>\n",
       "      <td>0.00</td>\n",
       "      <td>0.00</td>\n",
       "      <td>0.00</td>\n",
       "      <td>0.00</td>\n",
       "      <td>-5000.00</td>\n",
       "      <td>188.35</td>\n",
       "      <td>188.35</td>\n",
       "      <td>188.35</td>\n",
       "      <td>188.35</td>\n",
       "      <td>188.35</td>\n",
       "      <td>188.35</td>\n",
       "      <td>188.35</td>\n",
       "      <td>188.35</td>\n",
       "      <td>188.35</td>\n",
       "      <td>188.35</td>\n",
       "      <td>188.35</td>\n",
       "      <td>188.35</td>\n",
       "      <td>188.35</td>\n",
       "      <td>188.35</td>\n",
       "      <td>188.35</td>\n",
       "      <td>188.35</td>\n",
       "      <td>188.35</td>\n",
       "      <td>188.35</td>\n",
       "      <td>188.35</td>\n",
       "      <td>188.35</td>\n",
       "      <td>188.35</td>\n",
       "      <td>188.35</td>\n",
       "      <td>188.35</td>\n",
       "      <td>2194.72</td>\n",
       "      <td>0.00</td>\n",
       "      <td>0.00</td>\n",
       "      <td>0.00</td>\n",
       "      <td>0.00</td>\n",
       "      <td>0.00</td>\n",
       "      <td>0.00</td>\n",
       "      <td>0.00</td>\n",
       "      <td>0.00</td>\n",
       "      <td>0.00</td>\n",
       "      <td>0.00</td>\n",
       "      <td>0.00</td>\n",
       "      <td>0.00</td>\n",
       "      <td>0.00</td>\n",
       "      <td>0.00</td>\n",
       "      <td>0.00</td>\n",
       "      <td>0.00</td>\n",
       "      <td>0.00</td>\n",
       "      <td>0.00</td>\n",
       "      <td>0.00</td>\n",
       "      <td>0.00</td>\n",
       "      <td>0.00</td>\n",
       "      <td>0.00</td>\n",
       "      <td>0.00</td>\n",
       "      <td>0.00</td>\n",
       "      <td>0.00</td>\n",
       "      <td>0.00</td>\n",
       "      <td>0.00</td>\n",
       "      <td>0.00</td>\n",
       "      <td>-0.46</td>\n",
       "      <td>0.23</td>\n",
       "    </tr>\n",
       "  </tbody>\n",
       "</table>\n",
       "</div>"
      ],
      "text/plain": [
       "               id  loan_amnt        term  int_rate grade sub_grade emp_length  \\\n",
       "1141562  33059914    5000.00   36 months     20.99     E        E4     1 year   \n",
       "\n",
       "        home_ownership  annual_inc verification_status             purpose  \\\n",
       "1141562           RENT    31000.00     Source Verified  debt_consolidation   \n",
       "\n",
       "        zip_code addr_state   dti earliest_cr_line  fico_range_low  \\\n",
       "1141562    927xx         CA 35.81         Dec-2010          680.00   \n",
       "\n",
       "         fico_range_high  open_acc  pub_rec initial_list_status  \\\n",
       "1141562           684.00      6.00     0.00                   f   \n",
       "\n",
       "        application_type  annual_inc_joint  dti_joint  \\\n",
       "1141562       Individual               NaN        NaN   \n",
       "\n",
       "        verification_status_joint  pub_rec_bankruptcies  acc_now_delinq  \\\n",
       "1141562                       nan                  0.00            0.00   \n",
       "\n",
       "         acc_open_past_24mths  all_util  avg_cur_bal  bc_open_to_buy  bc_util  \\\n",
       "1141562                  3.00       NaN      7670.00         2243.00    53.30   \n",
       "\n",
       "         chargeoff_within_12_mths  collection_recovery_fee  \\\n",
       "1141562                      0.00                     0.00   \n",
       "\n",
       "         collections_12_mths_ex_med debt_settlement_flag  \\\n",
       "1141562                        0.00                    N   \n",
       "\n",
       "        debt_settlement_flag_date  deferral_term  delinq_2yrs  delinq_amnt  \\\n",
       "1141562                       NaN            NaN         0.00         0.00   \n",
       "\n",
       "        desc disbursement_method emp_title  funded_amnt  funded_amnt_inv  \\\n",
       "1141562  NaN                Cash       lvn      5000.00          5000.00   \n",
       "\n",
       "         hardship_amount  hardship_dpd hardship_end_date hardship_flag  \\\n",
       "1141562              NaN           NaN               NaN             N   \n",
       "\n",
       "         hardship_last_payment_amount  hardship_length hardship_loan_status  \\\n",
       "1141562                           NaN              NaN                  NaN   \n",
       "\n",
       "         hardship_payoff_balance_amount hardship_reason hardship_start_date  \\\n",
       "1141562                             NaN             NaN                 NaN   \n",
       "\n",
       "        hardship_status hardship_type  il_util  inq_fi  inq_last_12m  \\\n",
       "1141562             NaN           NaN      NaN     NaN           NaN   \n",
       "\n",
       "         inq_last_6mths  installment    issue_d last_credit_pull_d  \\\n",
       "1141562            1.00       188.35 2014-11-01           Nov-2016   \n",
       "\n",
       "         last_fico_range_high  last_fico_range_low  last_pymnt_amnt  \\\n",
       "1141562                749.00               745.00          2217.15   \n",
       "\n",
       "        last_pymnt_d loan_status  max_bal_bc  member_id  mo_sin_old_il_acct  \\\n",
       "1141562   2016-11-01  Fully Paid         NaN        NaN                3.00   \n",
       "\n",
       "         mo_sin_old_rev_tl_op  mo_sin_rcnt_rev_tl_op  mo_sin_rcnt_tl  \\\n",
       "1141562                 47.00                   5.00            3.00   \n",
       "\n",
       "         mort_acc  mths_since_last_delinq  mths_since_last_major_derog  \\\n",
       "1141562      0.00                     NaN                          NaN   \n",
       "\n",
       "         mths_since_last_record  mths_since_rcnt_il  mths_since_recent_bc  \\\n",
       "1141562                     NaN                 NaN                 16.00   \n",
       "\n",
       "         mths_since_recent_bc_dlq  mths_since_recent_inq  \\\n",
       "1141562                       NaN                   4.00   \n",
       "\n",
       "         mths_since_recent_revol_delinq next_pymnt_d  num_accts_ever_120_pd  \\\n",
       "1141562                             NaN          NaN                   0.00   \n",
       "\n",
       "         num_actv_bc_tl  num_actv_rev_tl  num_bc_sats  num_bc_tl  num_il_tl  \\\n",
       "1141562            1.00             2.00         2.00       2.00       1.00   \n",
       "\n",
       "         num_op_rev_tl  num_rev_accts  num_rev_tl_bal_gt_0  num_sats  \\\n",
       "1141562           5.00           6.00                 2.00      6.00   \n",
       "\n",
       "         num_tl_120dpd_2m  num_tl_30dpd  num_tl_90g_dpd_24m  \\\n",
       "1141562              0.00          0.00                0.00   \n",
       "\n",
       "         num_tl_op_past_12m  open_acc_6m  open_act_il  open_il_12m  \\\n",
       "1141562                2.00          NaN          NaN          NaN   \n",
       "\n",
       "         open_il_24m  open_rv_12m  open_rv_24m  \\\n",
       "1141562          NaN          NaN          NaN   \n",
       "\n",
       "         orig_projected_additional_accrued_interest  out_prncp  out_prncp_inv  \\\n",
       "1141562                                         NaN       0.00           0.00   \n",
       "\n",
       "        payment_plan_start_date  pct_tl_nvr_dlq  percent_bc_gt_75  \\\n",
       "1141562                     NaN          100.00             50.00   \n",
       "\n",
       "         policy_code pymnt_plan  recoveries  revol_bal  revol_bal_joint  \\\n",
       "1141562         1.00          n        0.00    5094.00              NaN   \n",
       "\n",
       "         revol_util  sec_app_chargeoff_within_12_mths  \\\n",
       "1141562       46.70                               NaN   \n",
       "\n",
       "         sec_app_collections_12_mths_ex_med sec_app_earliest_cr_line  \\\n",
       "1141562                                 NaN                      NaN   \n",
       "\n",
       "         sec_app_fico_range_high  sec_app_fico_range_low  \\\n",
       "1141562                      NaN                     NaN   \n",
       "\n",
       "         sec_app_inq_last_6mths  sec_app_mort_acc  \\\n",
       "1141562                     NaN               NaN   \n",
       "\n",
       "         sec_app_mths_since_last_major_derog  sec_app_num_rev_accts  \\\n",
       "1141562                                  NaN                    NaN   \n",
       "\n",
       "         sec_app_open_acc  sec_app_open_act_il  sec_app_revol_util  \\\n",
       "1141562               NaN                  NaN                 NaN   \n",
       "\n",
       "         settlement_amount settlement_date  settlement_percentage  \\\n",
       "1141562                NaN             NaN                    NaN   \n",
       "\n",
       "        settlement_status  settlement_term  tax_liens               title  \\\n",
       "1141562               NaN              NaN       0.00  Debt consolidation   \n",
       "\n",
       "         tot_coll_amt  tot_cur_bal  tot_hi_cred_lim  total_acc  \\\n",
       "1141562          0.00     46022.00         53363.00       7.00   \n",
       "\n",
       "         total_bal_ex_mort  total_bal_il  total_bc_limit  total_cu_tl  \\\n",
       "1141562           46022.00           NaN         4800.00          NaN   \n",
       "\n",
       "         total_il_high_credit_limit  total_pymnt  total_pymnt_inv  \\\n",
       "1141562                    42463.00      6526.77          6526.77   \n",
       "\n",
       "         total_rec_int  total_rec_late_fee  total_rec_prncp  total_rev_hi_lim  \\\n",
       "1141562        1526.77                0.00          5000.00          10900.00   \n",
       "\n",
       "                                                       url  proba_FP  \\\n",
       "1141562  https://lendingclub.com/browse/loanDetail.acti...      0.33   \n",
       "\n",
       "         proba_CO  nb_months  01-2007  02-2007  03-2007  04-2007  05-2007  \\\n",
       "1141562      0.67         24     0.00     0.00     0.00     0.00     0.00   \n",
       "\n",
       "         06-2007  07-2007  08-2007  09-2007  10-2007  11-2007  12-2007  \\\n",
       "1141562     0.00     0.00     0.00     0.00     0.00     0.00     0.00   \n",
       "\n",
       "         01-2008  02-2008  03-2008  04-2008  05-2008  06-2008  07-2008  \\\n",
       "1141562     0.00     0.00     0.00     0.00     0.00     0.00     0.00   \n",
       "\n",
       "         08-2008  09-2008  10-2008  11-2008  12-2008  01-2009  02-2009  \\\n",
       "1141562     0.00     0.00     0.00     0.00     0.00     0.00     0.00   \n",
       "\n",
       "         03-2009  04-2009  05-2009  06-2009  07-2009  08-2009  09-2009  \\\n",
       "1141562     0.00     0.00     0.00     0.00     0.00     0.00     0.00   \n",
       "\n",
       "         10-2009  11-2009  12-2009  01-2010  02-2010  03-2010  04-2010  \\\n",
       "1141562     0.00     0.00     0.00     0.00     0.00     0.00     0.00   \n",
       "\n",
       "         05-2010  06-2010  07-2010  08-2010  09-2010  10-2010  11-2010  \\\n",
       "1141562     0.00     0.00     0.00     0.00     0.00     0.00     0.00   \n",
       "\n",
       "         12-2010  01-2011  02-2011  03-2011  04-2011  05-2011  06-2011  \\\n",
       "1141562     0.00     0.00     0.00     0.00     0.00     0.00     0.00   \n",
       "\n",
       "         07-2011  08-2011  09-2011  10-2011  11-2011  12-2011  01-2012  \\\n",
       "1141562     0.00     0.00     0.00     0.00     0.00     0.00     0.00   \n",
       "\n",
       "         02-2012  03-2012  04-2012  05-2012  06-2012  07-2012  08-2012  \\\n",
       "1141562     0.00     0.00     0.00     0.00     0.00     0.00     0.00   \n",
       "\n",
       "         09-2012  10-2012  11-2012  12-2012  01-2013  02-2013  03-2013  \\\n",
       "1141562     0.00     0.00     0.00     0.00     0.00     0.00     0.00   \n",
       "\n",
       "         04-2013  05-2013  06-2013  07-2013  08-2013  09-2013  10-2013  \\\n",
       "1141562     0.00     0.00     0.00     0.00     0.00     0.00     0.00   \n",
       "\n",
       "         11-2013  12-2013  01-2014  02-2014  03-2014  04-2014  05-2014  \\\n",
       "1141562     0.00     0.00     0.00     0.00     0.00     0.00     0.00   \n",
       "\n",
       "         06-2014  07-2014  08-2014  09-2014  10-2014  11-2014  12-2014  \\\n",
       "1141562     0.00     0.00     0.00     0.00     0.00 -5000.00   188.35   \n",
       "\n",
       "         01-2015  02-2015  03-2015  04-2015  05-2015  06-2015  07-2015  \\\n",
       "1141562   188.35   188.35   188.35   188.35   188.35   188.35   188.35   \n",
       "\n",
       "         08-2015  09-2015  10-2015  11-2015  12-2015  01-2016  02-2016  \\\n",
       "1141562   188.35   188.35   188.35   188.35   188.35   188.35   188.35   \n",
       "\n",
       "         03-2016  04-2016  05-2016  06-2016  07-2016  08-2016  09-2016  \\\n",
       "1141562   188.35   188.35   188.35   188.35   188.35   188.35   188.35   \n",
       "\n",
       "         10-2016  11-2016  12-2016  01-2017  02-2017  03-2017  04-2017  \\\n",
       "1141562   188.35  2194.72     0.00     0.00     0.00     0.00     0.00   \n",
       "\n",
       "         05-2017  06-2017  07-2017  08-2017  09-2017  10-2017  11-2017  \\\n",
       "1141562     0.00     0.00     0.00     0.00     0.00     0.00     0.00   \n",
       "\n",
       "         12-2017  01-2018  02-2018  03-2018  04-2018  05-2018  06-2018  \\\n",
       "1141562     0.00     0.00     0.00     0.00     0.00     0.00     0.00   \n",
       "\n",
       "         07-2018  08-2018  09-2018  10-2018  11-2018  12-2018  01-2019  \\\n",
       "1141562     0.00     0.00     0.00     0.00     0.00     0.00     0.00   \n",
       "\n",
       "         02-2019  03-2019  spread  irr  \n",
       "1141562     0.00     0.00   -0.46 0.23  "
      ]
     },
     "execution_count": 204,
     "metadata": {},
     "output_type": "execute_result"
    }
   ],
   "source": [
    "test_df.sample(1)"
   ]
  },
  {
   "cell_type": "markdown",
   "id": "4c94dd84",
   "metadata": {
    "ExecuteTime": {
     "end_time": "2021-07-05T15:08:36.756300Z",
     "start_time": "2021-07-05T15:08:36.737649Z"
    }
   },
   "source": [
    "### Internal Rate of Return (IRR)"
   ]
  },
  {
   "cell_type": "markdown",
   "id": "f92f0b7b",
   "metadata": {},
   "source": [
    "In order to compare the returns of our potential portfolios of loans, as well as, to other types of assets, we will calculate the IRR. Using a formula we will calculate the monthly IRR which we can also convert to an annual IRR."
   ]
  },
  {
   "cell_type": "code",
   "execution_count": 205,
   "id": "79da5d61",
   "metadata": {
    "ExecuteTime": {
     "end_time": "2021-07-13T15:47:10.192333Z",
     "start_time": "2021-07-13T15:47:09.976279Z"
    }
   },
   "outputs": [
    {
     "data": {
      "text/plain": [
       "0.027303740947797195"
      ]
     },
     "execution_count": 205,
     "metadata": {},
     "output_type": "execute_result"
    }
   ],
   "source": [
    "def calculate_irr(test_df):\n",
    "    '''Calculates the annual IRR of a dataframe with a certain structure'''\n",
    "    cf_df = test_df.loc[:,'01-2007':'03-2019'].apply(np.sum).reset_index()\n",
    "    cf_df.columns = ['Date', 'CF']\n",
    "    irr1 = npf.irr(cf_df[\"CF\"])\n",
    "    #Converting to yearly IRR\n",
    "    irr1 = ((irr1+1)**12)-1\n",
    "    return(irr1)\n",
    "#     return(\"{:.2f}%\".format(irr1*100))\n",
    "    \n",
    "calculate_irr(test_df)"
   ]
  },
  {
   "cell_type": "markdown",
   "id": "97ed86d2",
   "metadata": {},
   "source": [
    "When choosing a random portfolio of over 200 thousand loans from the last 10 years we get an annual IRR of only 2.73%. We will now attempt to test different thresholds, using the insights from our model and other variables, to attempt to construct portfolios that outperform a random portfolio and gives us a theoretical optimal return."
   ]
  },
  {
   "cell_type": "code",
   "execution_count": 206,
   "id": "c80f9fed",
   "metadata": {
    "ExecuteTime": {
     "end_time": "2021-07-13T15:47:10.208286Z",
     "start_time": "2021-07-13T15:47:10.194305Z"
    }
   },
   "outputs": [],
   "source": [
    "test_df['spread'] = (test_df['int_rate']/100)-test_df['proba_CO']"
   ]
  },
  {
   "cell_type": "markdown",
   "id": "baec68ed",
   "metadata": {},
   "source": [
    "We will test different thresholds for the \"spread\", which is the difference between the interest rate charged and out probability of default. In theory, the higher this spread, the more profitable our loan will be."
   ]
  },
  {
   "cell_type": "code",
   "execution_count": 207,
   "id": "1884f40b",
   "metadata": {
    "ExecuteTime": {
     "end_time": "2021-07-13T15:47:10.223818Z",
     "start_time": "2021-07-13T15:47:10.210263Z"
    }
   },
   "outputs": [
    {
     "name": "stdout",
     "output_type": "stream",
     "text": [
      "Max spread: 0.161\n",
      "Min spraed: -0.831\n"
     ]
    }
   ],
   "source": [
    "max_ = round(test_df['spread'].max(),3)\n",
    "min_ = round(test_df['spread'].min(),3)\n",
    "print('Max spread: ', max_, \"\\n\",\n",
    "      \"Min spraed: \", min_, sep='')"
   ]
  },
  {
   "cell_type": "code",
   "execution_count": 208,
   "id": "c5cddaa6",
   "metadata": {
    "ExecuteTime": {
     "end_time": "2021-07-13T15:47:10.239803Z",
     "start_time": "2021-07-13T15:47:10.227808Z"
    }
   },
   "outputs": [],
   "source": [
    "steps = np.linspace(min_,max_,100)"
   ]
  },
  {
   "cell_type": "code",
   "execution_count": 209,
   "id": "38679db8",
   "metadata": {
    "ExecuteTime": {
     "end_time": "2021-07-13T15:47:44.958161Z",
     "start_time": "2021-07-13T15:47:10.241553Z"
    }
   },
   "outputs": [],
   "source": [
    "results_spread = pd.DataFrame(columns=['min_t', 'irr','volume_mm'])\n",
    "num = 0\n",
    "\n",
    "for step in steps:\n",
    "    irr_df = test_df[test_df['spread']>step]\n",
    "    # Volume is multiplied by 5 because the test set is actually 20%\n",
    "    # of the total size of the loans due to the train/test split of the model\n",
    "    volume = (irr_df['loan_amnt'].sum()/1000000)*5\n",
    "    irr = calculate_irr(irr_df)\n",
    "    results_spread.loc[num] = [step] + [irr] + [volume]\n",
    "    num += 1"
   ]
  },
  {
   "cell_type": "code",
   "execution_count": 210,
   "id": "4521df93",
   "metadata": {
    "ExecuteTime": {
     "end_time": "2021-07-13T15:47:44.973324Z",
     "start_time": "2021-07-13T15:47:44.959118Z"
    }
   },
   "outputs": [],
   "source": [
    "# results_spread.sort_values(by='irr',ascending=False).head(20)"
   ]
  },
  {
   "cell_type": "code",
   "execution_count": 211,
   "id": "65d6cee7",
   "metadata": {
    "ExecuteTime": {
     "end_time": "2021-07-13T15:47:45.611180Z",
     "start_time": "2021-07-13T15:47:44.975316Z"
    }
   },
   "outputs": [
    {
     "data": {
      "image/png": "[encoded data removed]",
      "text/plain": [
       "<Figure size 480x320 with 1 Axes>"
      ]
     },
     "metadata": {},
     "output_type": "display_data"
    }
   ],
   "source": [
    "max_irr=results_spread[results_spread['volume_mm']>100]['irr'].max()\n",
    "max_irr_label = (\"{:.2f}%\".format(max_irr*100))\n",
    "\n",
    "plt.rcParams.update({'font.size': 10})\n",
    "f, ax = plt.subplots()\n",
    "ax.grid(False)\n",
    "ax.plot(results_spread.irr, results_spread.volume_mm)\n",
    "ax.set_ylabel('Loan Volume in Millions')\n",
    "ax.set(xlabel=\"Internal Rate of Return\", title=\"Portfolio IRR and Volume as Spread Threshold Increases\")\n",
    "ax.set_xlim([0.02, 0.08])\n",
    "ax.axvline(max_irr, linestyle='--', color='r', label=('Max IRR: '+max_irr_label), alpha=0.6)\n",
    "ax.legend(loc=3)\n",
    "f.savefig('./images/spread_threshold_IRR.png', facecolor=f.get_facecolor(), transparent=True, dpi=500)"
   ]
  },
  {
   "cell_type": "code",
   "execution_count": 212,
   "id": "603ce312",
   "metadata": {
    "ExecuteTime": {
     "end_time": "2021-07-13T15:47:45.627134Z",
     "start_time": "2021-07-13T15:47:45.613168Z"
    }
   },
   "outputs": [
    {
     "data": {
      "text/html": [
       "<div>\n",
       "<style scoped>\n",
       "    .dataframe tbody tr th:only-of-type {\n",
       "        vertical-align: middle;\n",
       "    }\n",
       "\n",
       "    .dataframe tbody tr th {\n",
       "        vertical-align: top;\n",
       "    }\n",
       "\n",
       "    .dataframe thead th {\n",
       "        text-align: right;\n",
       "    }\n",
       "</style>\n",
       "<table border=\"1\" class=\"dataframe\">\n",
       "  <thead>\n",
       "    <tr style=\"text-align: right;\">\n",
       "      <th></th>\n",
       "      <th>min_t</th>\n",
       "      <th>irr</th>\n",
       "      <th>volume_mm</th>\n",
       "    </tr>\n",
       "  </thead>\n",
       "  <tbody>\n",
       "    <tr>\n",
       "      <th>60</th>\n",
       "      <td>-0.23</td>\n",
       "      <td>0.07</td>\n",
       "      <td>5835.94</td>\n",
       "    </tr>\n",
       "  </tbody>\n",
       "</table>\n",
       "</div>"
      ],
      "text/plain": [
       "    min_t  irr  volume_mm\n",
       "60  -0.23 0.07    5835.94"
      ]
     },
     "execution_count": 212,
     "metadata": {},
     "output_type": "execute_result"
    }
   ],
   "source": [
    "results_spread[results_spread['irr']==max_irr]"
   ]
  },
  {
   "cell_type": "markdown",
   "id": "d405ed6d",
   "metadata": {},
   "source": [
    "Our best spread threshold is for loans above -0.23 where we get an IRR of 6.69% and we were able to allocate 1,167 million dollars in loans over the course of the last 10 years."
   ]
  },
  {
   "cell_type": "markdown",
   "id": "1ebf58d2",
   "metadata": {},
   "source": [
    "## Loan Return Model - Catboost"
   ]
  },
  {
   "cell_type": "markdown",
   "id": "fd5d1ab1",
   "metadata": {},
   "source": [
    "Although the spread of a loan does seem to have a good correlation with the IRR we can obtain I will construct a model that directly tries to predict IRR using the default predictions from the loan default model and all the other data. This way we are directly optimizing the metric we are interested in, which is IRR."
   ]
  },
  {
   "cell_type": "code",
   "execution_count": 213,
   "id": "d9192d07",
   "metadata": {
    "ExecuteTime": {
     "end_time": "2021-07-13T15:47:45.642547Z",
     "start_time": "2021-07-13T15:47:45.628127Z"
    }
   },
   "outputs": [],
   "source": [
    "def calculate_irr2(test_df):\n",
    "    '''Calculates the annual IRR of a dataframe with a certain structure'''\n",
    "    cf_df = test_df.loc[:,'01-2007':'03-2019'].apply(np.sum).reset_index()\n",
    "    cf_df.columns = ['Date', 'CF']\n",
    "    cf_df = cf_df[cf_df['CF']!=0]\n",
    "    irr1 = npf.irr(cf_df[\"CF\"])\n",
    "    #Converting to yearly IRR\n",
    "    irr1 = ((irr1+1)**12)-1\n",
    "    return(irr1)"
   ]
  },
  {
   "cell_type": "code",
   "execution_count": 214,
   "id": "f5435ea1",
   "metadata": {
    "ExecuteTime": {
     "end_time": "2021-07-13T15:54:12.035000Z",
     "start_time": "2021-07-13T15:47:45.644531Z"
    }
   },
   "outputs": [
    {
     "ename": "KeyboardInterrupt",
     "evalue": "",
     "output_type": "error",
     "traceback": [
      "\u001b[1;31m---------------------------------------------------------------------------\u001b[0m",
      "\u001b[1;31mKeyboardInterrupt\u001b[0m                         Traceback (most recent call last)",
      "\u001b[1;32m<ipython-input-214-e0d495fdde0f>\u001b[0m in \u001b[0;36m<module>\u001b[1;34m\u001b[0m\n\u001b[0;32m      1\u001b[0m \u001b[1;32mfor\u001b[0m \u001b[0mindex\u001b[0m \u001b[1;32min\u001b[0m \u001b[0mtest_df\u001b[0m\u001b[1;33m.\u001b[0m\u001b[0mindex\u001b[0m\u001b[1;33m:\u001b[0m\u001b[1;33m\u001b[0m\u001b[1;33m\u001b[0m\u001b[0m\n\u001b[0;32m      2\u001b[0m     \u001b[0mirr\u001b[0m \u001b[1;33m=\u001b[0m \u001b[0mcalculate_irr2\u001b[0m\u001b[1;33m(\u001b[0m\u001b[0mtest_df\u001b[0m\u001b[1;33m.\u001b[0m\u001b[0mloc\u001b[0m\u001b[1;33m[\u001b[0m\u001b[0mindex\u001b[0m\u001b[1;33m:\u001b[0m\u001b[0mindex\u001b[0m\u001b[1;33m,\u001b[0m\u001b[1;33m:\u001b[0m\u001b[1;33m]\u001b[0m\u001b[1;33m)\u001b[0m\u001b[1;33m\u001b[0m\u001b[1;33m\u001b[0m\u001b[0m\n\u001b[1;32m----> 3\u001b[1;33m     \u001b[0mtest_df\u001b[0m\u001b[1;33m.\u001b[0m\u001b[0mloc\u001b[0m\u001b[1;33m[\u001b[0m\u001b[0mindex\u001b[0m\u001b[1;33m,\u001b[0m \u001b[1;34m'irr'\u001b[0m\u001b[1;33m]\u001b[0m \u001b[1;33m=\u001b[0m \u001b[0mirr\u001b[0m\u001b[1;33m\u001b[0m\u001b[1;33m\u001b[0m\u001b[0m\n\u001b[0m",
      "\u001b[1;32m~\\anaconda3\\lib\\site-packages\\pandas\\core\\indexing.py\u001b[0m in \u001b[0;36m__setitem__\u001b[1;34m(self, key, value)\u001b[0m\n\u001b[0;32m    721\u001b[0m \u001b[1;33m\u001b[0m\u001b[0m\n\u001b[0;32m    722\u001b[0m         \u001b[0miloc\u001b[0m \u001b[1;33m=\u001b[0m \u001b[0mself\u001b[0m \u001b[1;32mif\u001b[0m \u001b[0mself\u001b[0m\u001b[1;33m.\u001b[0m\u001b[0mname\u001b[0m \u001b[1;33m==\u001b[0m \u001b[1;34m\"iloc\"\u001b[0m \u001b[1;32melse\u001b[0m \u001b[0mself\u001b[0m\u001b[1;33m.\u001b[0m\u001b[0mobj\u001b[0m\u001b[1;33m.\u001b[0m\u001b[0miloc\u001b[0m\u001b[1;33m\u001b[0m\u001b[1;33m\u001b[0m\u001b[0m\n\u001b[1;32m--> 723\u001b[1;33m         \u001b[0miloc\u001b[0m\u001b[1;33m.\u001b[0m\u001b[0m_setitem_with_indexer\u001b[0m\u001b[1;33m(\u001b[0m\u001b[0mindexer\u001b[0m\u001b[1;33m,\u001b[0m \u001b[0mvalue\u001b[0m\u001b[1;33m,\u001b[0m \u001b[0mself\u001b[0m\u001b[1;33m.\u001b[0m\u001b[0mname\u001b[0m\u001b[1;33m)\u001b[0m\u001b[1;33m\u001b[0m\u001b[1;33m\u001b[0m\u001b[0m\n\u001b[0m\u001b[0;32m    724\u001b[0m \u001b[1;33m\u001b[0m\u001b[0m\n\u001b[0;32m    725\u001b[0m     \u001b[1;32mdef\u001b[0m \u001b[0m_validate_key\u001b[0m\u001b[1;33m(\u001b[0m\u001b[0mself\u001b[0m\u001b[1;33m,\u001b[0m \u001b[0mkey\u001b[0m\u001b[1;33m,\u001b[0m \u001b[0maxis\u001b[0m\u001b[1;33m:\u001b[0m \u001b[0mint\u001b[0m\u001b[1;33m)\u001b[0m\u001b[1;33m:\u001b[0m\u001b[1;33m\u001b[0m\u001b[1;33m\u001b[0m\u001b[0m\n",
      "\u001b[1;32m~\\anaconda3\\lib\\site-packages\\pandas\\core\\indexing.py\u001b[0m in \u001b[0;36m_setitem_with_indexer\u001b[1;34m(self, indexer, value, name)\u001b[0m\n\u001b[0;32m   1728\u001b[0m         \u001b[1;32mif\u001b[0m \u001b[0mtake_split_path\u001b[0m\u001b[1;33m:\u001b[0m\u001b[1;33m\u001b[0m\u001b[1;33m\u001b[0m\u001b[0m\n\u001b[0;32m   1729\u001b[0m             \u001b[1;31m# We have to operate column-wise\u001b[0m\u001b[1;33m\u001b[0m\u001b[1;33m\u001b[0m\u001b[1;33m\u001b[0m\u001b[0m\n\u001b[1;32m-> 1730\u001b[1;33m             \u001b[0mself\u001b[0m\u001b[1;33m.\u001b[0m\u001b[0m_setitem_with_indexer_split_path\u001b[0m\u001b[1;33m(\u001b[0m\u001b[0mindexer\u001b[0m\u001b[1;33m,\u001b[0m \u001b[0mvalue\u001b[0m\u001b[1;33m,\u001b[0m \u001b[0mname\u001b[0m\u001b[1;33m)\u001b[0m\u001b[1;33m\u001b[0m\u001b[1;33m\u001b[0m\u001b[0m\n\u001b[0m\u001b[0;32m   1731\u001b[0m         \u001b[1;32melse\u001b[0m\u001b[1;33m:\u001b[0m\u001b[1;33m\u001b[0m\u001b[1;33m\u001b[0m\u001b[0m\n\u001b[0;32m   1732\u001b[0m             \u001b[0mself\u001b[0m\u001b[1;33m.\u001b[0m\u001b[0m_setitem_single_block\u001b[0m\u001b[1;33m(\u001b[0m\u001b[0mindexer\u001b[0m\u001b[1;33m,\u001b[0m \u001b[0mvalue\u001b[0m\u001b[1;33m,\u001b[0m \u001b[0mname\u001b[0m\u001b[1;33m)\u001b[0m\u001b[1;33m\u001b[0m\u001b[1;33m\u001b[0m\u001b[0m\n",
      "\u001b[1;32m~\\anaconda3\\lib\\site-packages\\pandas\\core\\indexing.py\u001b[0m in \u001b[0;36m_setitem_with_indexer_split_path\u001b[1;34m(self, indexer, value, name)\u001b[0m\n\u001b[0;32m   1815\u001b[0m             \u001b[1;31m# scalar value\u001b[0m\u001b[1;33m\u001b[0m\u001b[1;33m\u001b[0m\u001b[1;33m\u001b[0m\u001b[0m\n\u001b[0;32m   1816\u001b[0m             \u001b[1;32mfor\u001b[0m \u001b[0mloc\u001b[0m \u001b[1;32min\u001b[0m \u001b[0milocs\u001b[0m\u001b[1;33m:\u001b[0m\u001b[1;33m\u001b[0m\u001b[1;33m\u001b[0m\u001b[0m\n\u001b[1;32m-> 1817\u001b[1;33m                 \u001b[0mself\u001b[0m\u001b[1;33m.\u001b[0m\u001b[0m_setitem_single_column\u001b[0m\u001b[1;33m(\u001b[0m\u001b[0mloc\u001b[0m\u001b[1;33m,\u001b[0m \u001b[0mvalue\u001b[0m\u001b[1;33m,\u001b[0m \u001b[0mpi\u001b[0m\u001b[1;33m)\u001b[0m\u001b[1;33m\u001b[0m\u001b[1;33m\u001b[0m\u001b[0m\n\u001b[0m\u001b[0;32m   1818\u001b[0m \u001b[1;33m\u001b[0m\u001b[0m\n\u001b[0;32m   1819\u001b[0m     \u001b[1;32mdef\u001b[0m \u001b[0m_setitem_with_indexer_2d_value\u001b[0m\u001b[1;33m(\u001b[0m\u001b[0mself\u001b[0m\u001b[1;33m,\u001b[0m \u001b[0mindexer\u001b[0m\u001b[1;33m,\u001b[0m \u001b[0mvalue\u001b[0m\u001b[1;33m)\u001b[0m\u001b[1;33m:\u001b[0m\u001b[1;33m\u001b[0m\u001b[1;33m\u001b[0m\u001b[0m\n",
      "\u001b[1;32m~\\anaconda3\\lib\\site-packages\\pandas\\core\\indexing.py\u001b[0m in \u001b[0;36m_setitem_single_column\u001b[1;34m(self, loc, value, plane_indexer)\u001b[0m\n\u001b[0;32m   1917\u001b[0m         \u001b[1;32melse\u001b[0m\u001b[1;33m:\u001b[0m\u001b[1;33m\u001b[0m\u001b[1;33m\u001b[0m\u001b[0m\n\u001b[0;32m   1918\u001b[0m             \u001b[1;31m# set the item, possibly having a dtype change\u001b[0m\u001b[1;33m\u001b[0m\u001b[1;33m\u001b[0m\u001b[1;33m\u001b[0m\u001b[0m\n\u001b[1;32m-> 1919\u001b[1;33m             \u001b[0mser\u001b[0m \u001b[1;33m=\u001b[0m \u001b[0mser\u001b[0m\u001b[1;33m.\u001b[0m\u001b[0mcopy\u001b[0m\u001b[1;33m(\u001b[0m\u001b[1;33m)\u001b[0m\u001b[1;33m\u001b[0m\u001b[1;33m\u001b[0m\u001b[0m\n\u001b[0m\u001b[0;32m   1920\u001b[0m             \u001b[0mser\u001b[0m\u001b[1;33m.\u001b[0m\u001b[0m_mgr\u001b[0m \u001b[1;33m=\u001b[0m \u001b[0mser\u001b[0m\u001b[1;33m.\u001b[0m\u001b[0m_mgr\u001b[0m\u001b[1;33m.\u001b[0m\u001b[0msetitem\u001b[0m\u001b[1;33m(\u001b[0m\u001b[0mindexer\u001b[0m\u001b[1;33m=\u001b[0m\u001b[1;33m(\u001b[0m\u001b[0mpi\u001b[0m\u001b[1;33m,\u001b[0m\u001b[1;33m)\u001b[0m\u001b[1;33m,\u001b[0m \u001b[0mvalue\u001b[0m\u001b[1;33m=\u001b[0m\u001b[0mvalue\u001b[0m\u001b[1;33m)\u001b[0m\u001b[1;33m\u001b[0m\u001b[1;33m\u001b[0m\u001b[0m\n\u001b[0;32m   1921\u001b[0m             \u001b[0mser\u001b[0m\u001b[1;33m.\u001b[0m\u001b[0m_maybe_update_cacher\u001b[0m\u001b[1;33m(\u001b[0m\u001b[0mclear\u001b[0m\u001b[1;33m=\u001b[0m\u001b[1;32mTrue\u001b[0m\u001b[1;33m)\u001b[0m\u001b[1;33m\u001b[0m\u001b[1;33m\u001b[0m\u001b[0m\n",
      "\u001b[1;32m~\\anaconda3\\lib\\site-packages\\pandas\\core\\generic.py\u001b[0m in \u001b[0;36mcopy\u001b[1;34m(self, deep)\u001b[0m\n\u001b[0;32m   5922\u001b[0m         \u001b[0mdtype\u001b[0m\u001b[1;33m:\u001b[0m \u001b[0mobject\u001b[0m\u001b[1;33m\u001b[0m\u001b[1;33m\u001b[0m\u001b[0m\n\u001b[0;32m   5923\u001b[0m         \"\"\"\n\u001b[1;32m-> 5924\u001b[1;33m         \u001b[0mdata\u001b[0m \u001b[1;33m=\u001b[0m \u001b[0mself\u001b[0m\u001b[1;33m.\u001b[0m\u001b[0m_mgr\u001b[0m\u001b[1;33m.\u001b[0m\u001b[0mcopy\u001b[0m\u001b[1;33m(\u001b[0m\u001b[0mdeep\u001b[0m\u001b[1;33m=\u001b[0m\u001b[0mdeep\u001b[0m\u001b[1;33m)\u001b[0m\u001b[1;33m\u001b[0m\u001b[1;33m\u001b[0m\u001b[0m\n\u001b[0m\u001b[0;32m   5925\u001b[0m         \u001b[0mself\u001b[0m\u001b[1;33m.\u001b[0m\u001b[0m_clear_item_cache\u001b[0m\u001b[1;33m(\u001b[0m\u001b[1;33m)\u001b[0m\u001b[1;33m\u001b[0m\u001b[1;33m\u001b[0m\u001b[0m\n\u001b[0;32m   5926\u001b[0m         \u001b[1;32mreturn\u001b[0m \u001b[0mself\u001b[0m\u001b[1;33m.\u001b[0m\u001b[0m_constructor\u001b[0m\u001b[1;33m(\u001b[0m\u001b[0mdata\u001b[0m\u001b[1;33m)\u001b[0m\u001b[1;33m.\u001b[0m\u001b[0m__finalize__\u001b[0m\u001b[1;33m(\u001b[0m\u001b[0mself\u001b[0m\u001b[1;33m,\u001b[0m \u001b[0mmethod\u001b[0m\u001b[1;33m=\u001b[0m\u001b[1;34m\"copy\"\u001b[0m\u001b[1;33m)\u001b[0m\u001b[1;33m\u001b[0m\u001b[1;33m\u001b[0m\u001b[0m\n",
      "\u001b[1;32m~\\anaconda3\\lib\\site-packages\\pandas\\core\\internals\\managers.py\u001b[0m in \u001b[0;36mcopy\u001b[1;34m(self, deep)\u001b[0m\n\u001b[0;32m    593\u001b[0m             \u001b[0mnew_axes\u001b[0m \u001b[1;33m=\u001b[0m \u001b[0mlist\u001b[0m\u001b[1;33m(\u001b[0m\u001b[0mself\u001b[0m\u001b[1;33m.\u001b[0m\u001b[0maxes\u001b[0m\u001b[1;33m)\u001b[0m\u001b[1;33m\u001b[0m\u001b[1;33m\u001b[0m\u001b[0m\n\u001b[0;32m    594\u001b[0m \u001b[1;33m\u001b[0m\u001b[0m\n\u001b[1;32m--> 595\u001b[1;33m         \u001b[0mres\u001b[0m \u001b[1;33m=\u001b[0m \u001b[0mself\u001b[0m\u001b[1;33m.\u001b[0m\u001b[0mapply\u001b[0m\u001b[1;33m(\u001b[0m\u001b[1;34m\"copy\"\u001b[0m\u001b[1;33m,\u001b[0m \u001b[0mdeep\u001b[0m\u001b[1;33m=\u001b[0m\u001b[0mdeep\u001b[0m\u001b[1;33m)\u001b[0m\u001b[1;33m\u001b[0m\u001b[1;33m\u001b[0m\u001b[0m\n\u001b[0m\u001b[0;32m    596\u001b[0m         \u001b[0mres\u001b[0m\u001b[1;33m.\u001b[0m\u001b[0maxes\u001b[0m \u001b[1;33m=\u001b[0m \u001b[0mnew_axes\u001b[0m\u001b[1;33m\u001b[0m\u001b[1;33m\u001b[0m\u001b[0m\n\u001b[0;32m    597\u001b[0m         \u001b[1;32mreturn\u001b[0m \u001b[0mres\u001b[0m\u001b[1;33m\u001b[0m\u001b[1;33m\u001b[0m\u001b[0m\n",
      "\u001b[1;32m~\\anaconda3\\lib\\site-packages\\pandas\\core\\internals\\managers.py\u001b[0m in \u001b[0;36mapply\u001b[1;34m(self, f, align_keys, ignore_failures, **kwargs)\u001b[0m\n\u001b[0;32m    325\u001b[0m                     \u001b[0mapplied\u001b[0m \u001b[1;33m=\u001b[0m \u001b[0mb\u001b[0m\u001b[1;33m.\u001b[0m\u001b[0mapply\u001b[0m\u001b[1;33m(\u001b[0m\u001b[0mf\u001b[0m\u001b[1;33m,\u001b[0m \u001b[1;33m**\u001b[0m\u001b[0mkwargs\u001b[0m\u001b[1;33m)\u001b[0m\u001b[1;33m\u001b[0m\u001b[1;33m\u001b[0m\u001b[0m\n\u001b[0;32m    326\u001b[0m                 \u001b[1;32melse\u001b[0m\u001b[1;33m:\u001b[0m\u001b[1;33m\u001b[0m\u001b[1;33m\u001b[0m\u001b[0m\n\u001b[1;32m--> 327\u001b[1;33m                     \u001b[0mapplied\u001b[0m \u001b[1;33m=\u001b[0m \u001b[0mgetattr\u001b[0m\u001b[1;33m(\u001b[0m\u001b[0mb\u001b[0m\u001b[1;33m,\u001b[0m \u001b[0mf\u001b[0m\u001b[1;33m)\u001b[0m\u001b[1;33m(\u001b[0m\u001b[1;33m**\u001b[0m\u001b[0mkwargs\u001b[0m\u001b[1;33m)\u001b[0m\u001b[1;33m\u001b[0m\u001b[1;33m\u001b[0m\u001b[0m\n\u001b[0m\u001b[0;32m    328\u001b[0m             \u001b[1;32mexcept\u001b[0m \u001b[1;33m(\u001b[0m\u001b[0mTypeError\u001b[0m\u001b[1;33m,\u001b[0m \u001b[0mNotImplementedError\u001b[0m\u001b[1;33m)\u001b[0m\u001b[1;33m:\u001b[0m\u001b[1;33m\u001b[0m\u001b[1;33m\u001b[0m\u001b[0m\n\u001b[0;32m    329\u001b[0m                 \u001b[1;32mif\u001b[0m \u001b[1;32mnot\u001b[0m \u001b[0mignore_failures\u001b[0m\u001b[1;33m:\u001b[0m\u001b[1;33m\u001b[0m\u001b[1;33m\u001b[0m\u001b[0m\n",
      "\u001b[1;32m~\\anaconda3\\lib\\site-packages\\pandas\\core\\internals\\blocks.py\u001b[0m in \u001b[0;36mcopy\u001b[1;34m(self, deep)\u001b[0m\n\u001b[0;32m    649\u001b[0m         \u001b[0mvalues\u001b[0m \u001b[1;33m=\u001b[0m \u001b[0mself\u001b[0m\u001b[1;33m.\u001b[0m\u001b[0mvalues\u001b[0m\u001b[1;33m\u001b[0m\u001b[1;33m\u001b[0m\u001b[0m\n\u001b[0;32m    650\u001b[0m         \u001b[1;32mif\u001b[0m \u001b[0mdeep\u001b[0m\u001b[1;33m:\u001b[0m\u001b[1;33m\u001b[0m\u001b[1;33m\u001b[0m\u001b[0m\n\u001b[1;32m--> 651\u001b[1;33m             \u001b[0mvalues\u001b[0m \u001b[1;33m=\u001b[0m \u001b[0mvalues\u001b[0m\u001b[1;33m.\u001b[0m\u001b[0mcopy\u001b[0m\u001b[1;33m(\u001b[0m\u001b[1;33m)\u001b[0m\u001b[1;33m\u001b[0m\u001b[1;33m\u001b[0m\u001b[0m\n\u001b[0m\u001b[0;32m    652\u001b[0m         \u001b[1;32mreturn\u001b[0m \u001b[0mself\u001b[0m\u001b[1;33m.\u001b[0m\u001b[0mmake_block_same_class\u001b[0m\u001b[1;33m(\u001b[0m\u001b[0mvalues\u001b[0m\u001b[1;33m)\u001b[0m\u001b[1;33m\u001b[0m\u001b[1;33m\u001b[0m\u001b[0m\n\u001b[0;32m    653\u001b[0m \u001b[1;33m\u001b[0m\u001b[0m\n",
      "\u001b[1;31mKeyboardInterrupt\u001b[0m: "
     ]
    }
   ],
   "source": [
    "# for index in test_df.index:\n",
    "#     irr = calculate_irr2(test_df.loc[index:index,:])\n",
    "#     test_df.loc[index, 'irr'] = irr"
   ]
  },
  {
   "cell_type": "code",
   "execution_count": 215,
   "id": "230b3309",
   "metadata": {
    "ExecuteTime": {
     "end_time": "2021-07-13T15:54:16.545230Z",
     "start_time": "2021-07-13T15:54:16.528275Z"
    }
   },
   "outputs": [],
   "source": [
    "# test_df.to_pickle(\"G:\\\\Lending Club Data Files\\\\test_df.pkl\")"
   ]
  },
  {
   "cell_type": "code",
   "execution_count": 216,
   "id": "4466f4d4",
   "metadata": {
    "ExecuteTime": {
     "end_time": "2021-07-13T15:54:28.752177Z",
     "start_time": "2021-07-13T15:54:16.547226Z"
    }
   },
   "outputs": [],
   "source": [
    "test_df = pd.read_pickle(\"G:\\\\Lending Club Data Files\\\\test_df.pkl\")"
   ]
  },
  {
   "cell_type": "code",
   "execution_count": 217,
   "id": "b2a596fb",
   "metadata": {
    "ExecuteTime": {
     "end_time": "2021-07-13T15:54:29.857980Z",
     "start_time": "2021-07-13T15:54:28.754067Z"
    }
   },
   "outputs": [
    {
     "data": {
      "text/html": [
       "<div>\n",
       "<style scoped>\n",
       "    .dataframe tbody tr th:only-of-type {\n",
       "        vertical-align: middle;\n",
       "    }\n",
       "\n",
       "    .dataframe tbody tr th {\n",
       "        vertical-align: top;\n",
       "    }\n",
       "\n",
       "    .dataframe thead th {\n",
       "        text-align: right;\n",
       "    }\n",
       "</style>\n",
       "<table border=\"1\" class=\"dataframe\">\n",
       "  <thead>\n",
       "    <tr style=\"text-align: right;\">\n",
       "      <th></th>\n",
       "      <th>id</th>\n",
       "      <th>loan_amnt</th>\n",
       "      <th>term</th>\n",
       "      <th>int_rate</th>\n",
       "      <th>grade</th>\n",
       "      <th>sub_grade</th>\n",
       "      <th>emp_length</th>\n",
       "      <th>home_ownership</th>\n",
       "      <th>annual_inc</th>\n",
       "      <th>verification_status</th>\n",
       "      <th>purpose</th>\n",
       "      <th>zip_code</th>\n",
       "      <th>addr_state</th>\n",
       "      <th>dti</th>\n",
       "      <th>earliest_cr_line</th>\n",
       "      <th>fico_range_low</th>\n",
       "      <th>fico_range_high</th>\n",
       "      <th>open_acc</th>\n",
       "      <th>pub_rec</th>\n",
       "      <th>initial_list_status</th>\n",
       "      <th>application_type</th>\n",
       "      <th>annual_inc_joint</th>\n",
       "      <th>dti_joint</th>\n",
       "      <th>verification_status_joint</th>\n",
       "      <th>pub_rec_bankruptcies</th>\n",
       "      <th>acc_now_delinq</th>\n",
       "      <th>acc_open_past_24mths</th>\n",
       "      <th>all_util</th>\n",
       "      <th>avg_cur_bal</th>\n",
       "      <th>bc_open_to_buy</th>\n",
       "      <th>bc_util</th>\n",
       "      <th>chargeoff_within_12_mths</th>\n",
       "      <th>collection_recovery_fee</th>\n",
       "      <th>collections_12_mths_ex_med</th>\n",
       "      <th>debt_settlement_flag</th>\n",
       "      <th>debt_settlement_flag_date</th>\n",
       "      <th>deferral_term</th>\n",
       "      <th>delinq_2yrs</th>\n",
       "      <th>delinq_amnt</th>\n",
       "      <th>desc</th>\n",
       "      <th>disbursement_method</th>\n",
       "      <th>emp_title</th>\n",
       "      <th>funded_amnt</th>\n",
       "      <th>funded_amnt_inv</th>\n",
       "      <th>hardship_amount</th>\n",
       "      <th>hardship_dpd</th>\n",
       "      <th>hardship_end_date</th>\n",
       "      <th>hardship_flag</th>\n",
       "      <th>hardship_last_payment_amount</th>\n",
       "      <th>hardship_length</th>\n",
       "      <th>hardship_loan_status</th>\n",
       "      <th>hardship_payoff_balance_amount</th>\n",
       "      <th>hardship_reason</th>\n",
       "      <th>hardship_start_date</th>\n",
       "      <th>hardship_status</th>\n",
       "      <th>hardship_type</th>\n",
       "      <th>il_util</th>\n",
       "      <th>inq_fi</th>\n",
       "      <th>inq_last_12m</th>\n",
       "      <th>inq_last_6mths</th>\n",
       "      <th>installment</th>\n",
       "      <th>issue_d</th>\n",
       "      <th>last_credit_pull_d</th>\n",
       "      <th>last_fico_range_high</th>\n",
       "      <th>last_fico_range_low</th>\n",
       "      <th>last_pymnt_amnt</th>\n",
       "      <th>last_pymnt_d</th>\n",
       "      <th>loan_status</th>\n",
       "      <th>max_bal_bc</th>\n",
       "      <th>member_id</th>\n",
       "      <th>mo_sin_old_il_acct</th>\n",
       "      <th>mo_sin_old_rev_tl_op</th>\n",
       "      <th>mo_sin_rcnt_rev_tl_op</th>\n",
       "      <th>mo_sin_rcnt_tl</th>\n",
       "      <th>mort_acc</th>\n",
       "      <th>mths_since_last_delinq</th>\n",
       "      <th>mths_since_last_major_derog</th>\n",
       "      <th>mths_since_last_record</th>\n",
       "      <th>mths_since_rcnt_il</th>\n",
       "      <th>mths_since_recent_bc</th>\n",
       "      <th>mths_since_recent_bc_dlq</th>\n",
       "      <th>mths_since_recent_inq</th>\n",
       "      <th>mths_since_recent_revol_delinq</th>\n",
       "      <th>next_pymnt_d</th>\n",
       "      <th>num_accts_ever_120_pd</th>\n",
       "      <th>num_actv_bc_tl</th>\n",
       "      <th>num_actv_rev_tl</th>\n",
       "      <th>num_bc_sats</th>\n",
       "      <th>num_bc_tl</th>\n",
       "      <th>num_il_tl</th>\n",
       "      <th>num_op_rev_tl</th>\n",
       "      <th>num_rev_accts</th>\n",
       "      <th>num_rev_tl_bal_gt_0</th>\n",
       "      <th>num_sats</th>\n",
       "      <th>num_tl_120dpd_2m</th>\n",
       "      <th>num_tl_30dpd</th>\n",
       "      <th>num_tl_90g_dpd_24m</th>\n",
       "      <th>num_tl_op_past_12m</th>\n",
       "      <th>open_acc_6m</th>\n",
       "      <th>open_act_il</th>\n",
       "      <th>open_il_12m</th>\n",
       "      <th>open_il_24m</th>\n",
       "      <th>open_rv_12m</th>\n",
       "      <th>open_rv_24m</th>\n",
       "      <th>orig_projected_additional_accrued_interest</th>\n",
       "      <th>out_prncp</th>\n",
       "      <th>out_prncp_inv</th>\n",
       "      <th>payment_plan_start_date</th>\n",
       "      <th>pct_tl_nvr_dlq</th>\n",
       "      <th>percent_bc_gt_75</th>\n",
       "      <th>policy_code</th>\n",
       "      <th>pymnt_plan</th>\n",
       "      <th>recoveries</th>\n",
       "      <th>revol_bal</th>\n",
       "      <th>revol_bal_joint</th>\n",
       "      <th>revol_util</th>\n",
       "      <th>sec_app_chargeoff_within_12_mths</th>\n",
       "      <th>sec_app_collections_12_mths_ex_med</th>\n",
       "      <th>sec_app_earliest_cr_line</th>\n",
       "      <th>sec_app_fico_range_high</th>\n",
       "      <th>sec_app_fico_range_low</th>\n",
       "      <th>sec_app_inq_last_6mths</th>\n",
       "      <th>sec_app_mort_acc</th>\n",
       "      <th>sec_app_mths_since_last_major_derog</th>\n",
       "      <th>sec_app_num_rev_accts</th>\n",
       "      <th>sec_app_open_acc</th>\n",
       "      <th>sec_app_open_act_il</th>\n",
       "      <th>sec_app_revol_util</th>\n",
       "      <th>settlement_amount</th>\n",
       "      <th>settlement_date</th>\n",
       "      <th>settlement_percentage</th>\n",
       "      <th>settlement_status</th>\n",
       "      <th>settlement_term</th>\n",
       "      <th>tax_liens</th>\n",
       "      <th>title</th>\n",
       "      <th>tot_coll_amt</th>\n",
       "      <th>tot_cur_bal</th>\n",
       "      <th>tot_hi_cred_lim</th>\n",
       "      <th>total_acc</th>\n",
       "      <th>total_bal_ex_mort</th>\n",
       "      <th>total_bal_il</th>\n",
       "      <th>total_bc_limit</th>\n",
       "      <th>total_cu_tl</th>\n",
       "      <th>total_il_high_credit_limit</th>\n",
       "      <th>total_pymnt</th>\n",
       "      <th>total_pymnt_inv</th>\n",
       "      <th>total_rec_int</th>\n",
       "      <th>total_rec_late_fee</th>\n",
       "      <th>total_rec_prncp</th>\n",
       "      <th>total_rev_hi_lim</th>\n",
       "      <th>url</th>\n",
       "      <th>proba_FP</th>\n",
       "      <th>proba_CO</th>\n",
       "      <th>nb_months</th>\n",
       "      <th>01-2007</th>\n",
       "      <th>02-2007</th>\n",
       "      <th>03-2007</th>\n",
       "      <th>04-2007</th>\n",
       "      <th>05-2007</th>\n",
       "      <th>06-2007</th>\n",
       "      <th>07-2007</th>\n",
       "      <th>08-2007</th>\n",
       "      <th>09-2007</th>\n",
       "      <th>10-2007</th>\n",
       "      <th>11-2007</th>\n",
       "      <th>12-2007</th>\n",
       "      <th>01-2008</th>\n",
       "      <th>02-2008</th>\n",
       "      <th>03-2008</th>\n",
       "      <th>04-2008</th>\n",
       "      <th>05-2008</th>\n",
       "      <th>06-2008</th>\n",
       "      <th>07-2008</th>\n",
       "      <th>08-2008</th>\n",
       "      <th>09-2008</th>\n",
       "      <th>10-2008</th>\n",
       "      <th>11-2008</th>\n",
       "      <th>12-2008</th>\n",
       "      <th>01-2009</th>\n",
       "      <th>02-2009</th>\n",
       "      <th>03-2009</th>\n",
       "      <th>04-2009</th>\n",
       "      <th>05-2009</th>\n",
       "      <th>06-2009</th>\n",
       "      <th>07-2009</th>\n",
       "      <th>08-2009</th>\n",
       "      <th>09-2009</th>\n",
       "      <th>10-2009</th>\n",
       "      <th>11-2009</th>\n",
       "      <th>12-2009</th>\n",
       "      <th>01-2010</th>\n",
       "      <th>02-2010</th>\n",
       "      <th>03-2010</th>\n",
       "      <th>04-2010</th>\n",
       "      <th>05-2010</th>\n",
       "      <th>06-2010</th>\n",
       "      <th>07-2010</th>\n",
       "      <th>08-2010</th>\n",
       "      <th>09-2010</th>\n",
       "      <th>10-2010</th>\n",
       "      <th>11-2010</th>\n",
       "      <th>12-2010</th>\n",
       "      <th>01-2011</th>\n",
       "      <th>02-2011</th>\n",
       "      <th>03-2011</th>\n",
       "      <th>04-2011</th>\n",
       "      <th>05-2011</th>\n",
       "      <th>06-2011</th>\n",
       "      <th>07-2011</th>\n",
       "      <th>08-2011</th>\n",
       "      <th>09-2011</th>\n",
       "      <th>10-2011</th>\n",
       "      <th>11-2011</th>\n",
       "      <th>12-2011</th>\n",
       "      <th>01-2012</th>\n",
       "      <th>02-2012</th>\n",
       "      <th>03-2012</th>\n",
       "      <th>04-2012</th>\n",
       "      <th>05-2012</th>\n",
       "      <th>06-2012</th>\n",
       "      <th>07-2012</th>\n",
       "      <th>08-2012</th>\n",
       "      <th>09-2012</th>\n",
       "      <th>10-2012</th>\n",
       "      <th>11-2012</th>\n",
       "      <th>12-2012</th>\n",
       "      <th>01-2013</th>\n",
       "      <th>02-2013</th>\n",
       "      <th>03-2013</th>\n",
       "      <th>04-2013</th>\n",
       "      <th>05-2013</th>\n",
       "      <th>06-2013</th>\n",
       "      <th>07-2013</th>\n",
       "      <th>08-2013</th>\n",
       "      <th>09-2013</th>\n",
       "      <th>10-2013</th>\n",
       "      <th>11-2013</th>\n",
       "      <th>12-2013</th>\n",
       "      <th>01-2014</th>\n",
       "      <th>02-2014</th>\n",
       "      <th>03-2014</th>\n",
       "      <th>04-2014</th>\n",
       "      <th>05-2014</th>\n",
       "      <th>06-2014</th>\n",
       "      <th>07-2014</th>\n",
       "      <th>08-2014</th>\n",
       "      <th>09-2014</th>\n",
       "      <th>10-2014</th>\n",
       "      <th>11-2014</th>\n",
       "      <th>12-2014</th>\n",
       "      <th>01-2015</th>\n",
       "      <th>02-2015</th>\n",
       "      <th>03-2015</th>\n",
       "      <th>04-2015</th>\n",
       "      <th>05-2015</th>\n",
       "      <th>06-2015</th>\n",
       "      <th>07-2015</th>\n",
       "      <th>08-2015</th>\n",
       "      <th>09-2015</th>\n",
       "      <th>10-2015</th>\n",
       "      <th>11-2015</th>\n",
       "      <th>12-2015</th>\n",
       "      <th>01-2016</th>\n",
       "      <th>02-2016</th>\n",
       "      <th>03-2016</th>\n",
       "      <th>04-2016</th>\n",
       "      <th>05-2016</th>\n",
       "      <th>06-2016</th>\n",
       "      <th>07-2016</th>\n",
       "      <th>08-2016</th>\n",
       "      <th>09-2016</th>\n",
       "      <th>10-2016</th>\n",
       "      <th>11-2016</th>\n",
       "      <th>12-2016</th>\n",
       "      <th>01-2017</th>\n",
       "      <th>02-2017</th>\n",
       "      <th>03-2017</th>\n",
       "      <th>04-2017</th>\n",
       "      <th>05-2017</th>\n",
       "      <th>06-2017</th>\n",
       "      <th>07-2017</th>\n",
       "      <th>08-2017</th>\n",
       "      <th>09-2017</th>\n",
       "      <th>10-2017</th>\n",
       "      <th>11-2017</th>\n",
       "      <th>12-2017</th>\n",
       "      <th>01-2018</th>\n",
       "      <th>02-2018</th>\n",
       "      <th>03-2018</th>\n",
       "      <th>04-2018</th>\n",
       "      <th>05-2018</th>\n",
       "      <th>06-2018</th>\n",
       "      <th>07-2018</th>\n",
       "      <th>08-2018</th>\n",
       "      <th>09-2018</th>\n",
       "      <th>10-2018</th>\n",
       "      <th>11-2018</th>\n",
       "      <th>12-2018</th>\n",
       "      <th>01-2019</th>\n",
       "      <th>02-2019</th>\n",
       "      <th>03-2019</th>\n",
       "      <th>spread</th>\n",
       "      <th>irr</th>\n",
       "    </tr>\n",
       "  </thead>\n",
       "  <tbody>\n",
       "    <tr>\n",
       "      <th>89810</th>\n",
       "      <td>63155303</td>\n",
       "      <td>25000.00</td>\n",
       "      <td>60 months</td>\n",
       "      <td>17.57</td>\n",
       "      <td>D</td>\n",
       "      <td>D4</td>\n",
       "      <td>10+ years</td>\n",
       "      <td>MORTGAGE</td>\n",
       "      <td>83000.00</td>\n",
       "      <td>Source Verified</td>\n",
       "      <td>debt_consolidation</td>\n",
       "      <td>784xx</td>\n",
       "      <td>TX</td>\n",
       "      <td>18.44</td>\n",
       "      <td>Sep-1994</td>\n",
       "      <td>725.00</td>\n",
       "      <td>729.00</td>\n",
       "      <td>12.00</td>\n",
       "      <td>0.00</td>\n",
       "      <td>w</td>\n",
       "      <td>Individual</td>\n",
       "      <td>NaN</td>\n",
       "      <td>NaN</td>\n",
       "      <td>nan</td>\n",
       "      <td>0.00</td>\n",
       "      <td>0.00</td>\n",
       "      <td>7.00</td>\n",
       "      <td>NaN</td>\n",
       "      <td>11627.00</td>\n",
       "      <td>8154.00</td>\n",
       "      <td>42.30</td>\n",
       "      <td>0.00</td>\n",
       "      <td>0.00</td>\n",
       "      <td>0.00</td>\n",
       "      <td>N</td>\n",
       "      <td>NaN</td>\n",
       "      <td>NaN</td>\n",
       "      <td>0.00</td>\n",
       "      <td>0.00</td>\n",
       "      <td>NaN</td>\n",
       "      <td>Cash</td>\n",
       "      <td>800 Division Lead</td>\n",
       "      <td>25000.00</td>\n",
       "      <td>25000.00</td>\n",
       "      <td>NaN</td>\n",
       "      <td>NaN</td>\n",
       "      <td>NaN</td>\n",
       "      <td>N</td>\n",
       "      <td>NaN</td>\n",
       "      <td>NaN</td>\n",
       "      <td>NaN</td>\n",
       "      <td>NaN</td>\n",
       "      <td>NaN</td>\n",
       "      <td>NaN</td>\n",
       "      <td>NaN</td>\n",
       "      <td>NaN</td>\n",
       "      <td>NaN</td>\n",
       "      <td>NaN</td>\n",
       "      <td>NaN</td>\n",
       "      <td>1.00</td>\n",
       "      <td>629.01</td>\n",
       "      <td>2015-10-01</td>\n",
       "      <td>Oct-2018</td>\n",
       "      <td>664.00</td>\n",
       "      <td>660.00</td>\n",
       "      <td>17084.87</td>\n",
       "      <td>2018-02-01</td>\n",
       "      <td>Fully Paid</td>\n",
       "      <td>NaN</td>\n",
       "      <td>NaN</td>\n",
       "      <td>163.00</td>\n",
       "      <td>253.00</td>\n",
       "      <td>7.00</td>\n",
       "      <td>7.00</td>\n",
       "      <td>2.00</td>\n",
       "      <td>41.00</td>\n",
       "      <td>NaN</td>\n",
       "      <td>NaN</td>\n",
       "      <td>NaN</td>\n",
       "      <td>19.00</td>\n",
       "      <td>41.00</td>\n",
       "      <td>2.00</td>\n",
       "      <td>41.00</td>\n",
       "      <td>NaN</td>\n",
       "      <td>0.00</td>\n",
       "      <td>4.00</td>\n",
       "      <td>6.00</td>\n",
       "      <td>5.00</td>\n",
       "      <td>10.00</td>\n",
       "      <td>19.00</td>\n",
       "      <td>7.00</td>\n",
       "      <td>15.00</td>\n",
       "      <td>6.00</td>\n",
       "      <td>12.00</td>\n",
       "      <td>0.00</td>\n",
       "      <td>0.00</td>\n",
       "      <td>0.00</td>\n",
       "      <td>3.00</td>\n",
       "      <td>NaN</td>\n",
       "      <td>NaN</td>\n",
       "      <td>NaN</td>\n",
       "      <td>NaN</td>\n",
       "      <td>NaN</td>\n",
       "      <td>NaN</td>\n",
       "      <td>NaN</td>\n",
       "      <td>0.00</td>\n",
       "      <td>0.00</td>\n",
       "      <td>NaN</td>\n",
       "      <td>100.00</td>\n",
       "      <td>20.00</td>\n",
       "      <td>1.00</td>\n",
       "      <td>n</td>\n",
       "      <td>0.00</td>\n",
       "      <td>10190.00</td>\n",
       "      <td>NaN</td>\n",
       "      <td>49.20</td>\n",
       "      <td>NaN</td>\n",
       "      <td>NaN</td>\n",
       "      <td>NaN</td>\n",
       "      <td>NaN</td>\n",
       "      <td>NaN</td>\n",
       "      <td>NaN</td>\n",
       "      <td>NaN</td>\n",
       "      <td>NaN</td>\n",
       "      <td>NaN</td>\n",
       "      <td>NaN</td>\n",
       "      <td>NaN</td>\n",
       "      <td>NaN</td>\n",
       "      <td>NaN</td>\n",
       "      <td>NaN</td>\n",
       "      <td>NaN</td>\n",
       "      <td>NaN</td>\n",
       "      <td>NaN</td>\n",
       "      <td>0.00</td>\n",
       "      <td>Debt consolidation</td>\n",
       "      <td>0.00</td>\n",
       "      <td>139528.00</td>\n",
       "      <td>167671.00</td>\n",
       "      <td>36.00</td>\n",
       "      <td>44060.00</td>\n",
       "      <td>NaN</td>\n",
       "      <td>14200.00</td>\n",
       "      <td>NaN</td>\n",
       "      <td>41846.00</td>\n",
       "      <td>33514.86</td>\n",
       "      <td>33514.86</td>\n",
       "      <td>8514.86</td>\n",
       "      <td>0.00</td>\n",
       "      <td>25000.00</td>\n",
       "      <td>20800.00</td>\n",
       "      <td>https://lendingclub.com/browse/loanDetail.acti...</td>\n",
       "      <td>0.37</td>\n",
       "      <td>0.63</td>\n",
       "      <td>28</td>\n",
       "      <td>0.00</td>\n",
       "      <td>0.00</td>\n",
       "      <td>0.00</td>\n",
       "      <td>0.00</td>\n",
       "      <td>0.00</td>\n",
       "      <td>0.00</td>\n",
       "      <td>0.00</td>\n",
       "      <td>0.00</td>\n",
       "      <td>0.00</td>\n",
       "      <td>0.00</td>\n",
       "      <td>0.00</td>\n",
       "      <td>0.00</td>\n",
       "      <td>0.00</td>\n",
       "      <td>0.00</td>\n",
       "      <td>0.00</td>\n",
       "      <td>0.00</td>\n",
       "      <td>0.00</td>\n",
       "      <td>0.00</td>\n",
       "      <td>0.00</td>\n",
       "      <td>0.00</td>\n",
       "      <td>0.00</td>\n",
       "      <td>0.00</td>\n",
       "      <td>0.00</td>\n",
       "      <td>0.00</td>\n",
       "      <td>0.00</td>\n",
       "      <td>0.00</td>\n",
       "      <td>0.00</td>\n",
       "      <td>0.00</td>\n",
       "      <td>0.00</td>\n",
       "      <td>0.00</td>\n",
       "      <td>0.00</td>\n",
       "      <td>0.00</td>\n",
       "      <td>0.00</td>\n",
       "      <td>0.00</td>\n",
       "      <td>0.00</td>\n",
       "      <td>0.00</td>\n",
       "      <td>0.00</td>\n",
       "      <td>0.00</td>\n",
       "      <td>0.00</td>\n",
       "      <td>0.00</td>\n",
       "      <td>0.00</td>\n",
       "      <td>0.00</td>\n",
       "      <td>0.00</td>\n",
       "      <td>0.00</td>\n",
       "      <td>0.00</td>\n",
       "      <td>0.00</td>\n",
       "      <td>0.00</td>\n",
       "      <td>0.00</td>\n",
       "      <td>0.00</td>\n",
       "      <td>0.00</td>\n",
       "      <td>0.00</td>\n",
       "      <td>0.00</td>\n",
       "      <td>0.00</td>\n",
       "      <td>0.00</td>\n",
       "      <td>0.00</td>\n",
       "      <td>0.00</td>\n",
       "      <td>0.00</td>\n",
       "      <td>0.00</td>\n",
       "      <td>0.00</td>\n",
       "      <td>0.00</td>\n",
       "      <td>0.00</td>\n",
       "      <td>0.00</td>\n",
       "      <td>0.00</td>\n",
       "      <td>0.00</td>\n",
       "      <td>0.00</td>\n",
       "      <td>0.00</td>\n",
       "      <td>0.00</td>\n",
       "      <td>0.00</td>\n",
       "      <td>0.00</td>\n",
       "      <td>0.00</td>\n",
       "      <td>0.00</td>\n",
       "      <td>0.00</td>\n",
       "      <td>0.00</td>\n",
       "      <td>0.00</td>\n",
       "      <td>0.00</td>\n",
       "      <td>0.00</td>\n",
       "      <td>0.00</td>\n",
       "      <td>0.00</td>\n",
       "      <td>0.00</td>\n",
       "      <td>0.00</td>\n",
       "      <td>0.00</td>\n",
       "      <td>0.00</td>\n",
       "      <td>0.00</td>\n",
       "      <td>0.00</td>\n",
       "      <td>0.00</td>\n",
       "      <td>0.00</td>\n",
       "      <td>0.00</td>\n",
       "      <td>0.00</td>\n",
       "      <td>0.00</td>\n",
       "      <td>0.00</td>\n",
       "      <td>0.00</td>\n",
       "      <td>0.00</td>\n",
       "      <td>0.00</td>\n",
       "      <td>0.00</td>\n",
       "      <td>0.00</td>\n",
       "      <td>0.00</td>\n",
       "      <td>0.00</td>\n",
       "      <td>0.00</td>\n",
       "      <td>0.00</td>\n",
       "      <td>0.00</td>\n",
       "      <td>0.00</td>\n",
       "      <td>0.00</td>\n",
       "      <td>0.00</td>\n",
       "      <td>0.00</td>\n",
       "      <td>0.00</td>\n",
       "      <td>-25000.00</td>\n",
       "      <td>629.01</td>\n",
       "      <td>629.01</td>\n",
       "      <td>629.01</td>\n",
       "      <td>629.01</td>\n",
       "      <td>629.01</td>\n",
       "      <td>629.01</td>\n",
       "      <td>629.01</td>\n",
       "      <td>629.01</td>\n",
       "      <td>629.01</td>\n",
       "      <td>629.01</td>\n",
       "      <td>629.01</td>\n",
       "      <td>629.01</td>\n",
       "      <td>629.01</td>\n",
       "      <td>629.01</td>\n",
       "      <td>629.01</td>\n",
       "      <td>629.01</td>\n",
       "      <td>629.01</td>\n",
       "      <td>629.01</td>\n",
       "      <td>629.01</td>\n",
       "      <td>629.01</td>\n",
       "      <td>629.01</td>\n",
       "      <td>629.01</td>\n",
       "      <td>629.01</td>\n",
       "      <td>629.01</td>\n",
       "      <td>629.01</td>\n",
       "      <td>629.01</td>\n",
       "      <td>629.01</td>\n",
       "      <td>16531.59</td>\n",
       "      <td>0.00</td>\n",
       "      <td>0.00</td>\n",
       "      <td>0.00</td>\n",
       "      <td>0.00</td>\n",
       "      <td>0.00</td>\n",
       "      <td>0.00</td>\n",
       "      <td>0.00</td>\n",
       "      <td>0.00</td>\n",
       "      <td>0.00</td>\n",
       "      <td>0.00</td>\n",
       "      <td>0.00</td>\n",
       "      <td>0.00</td>\n",
       "      <td>0.00</td>\n",
       "      <td>-0.45</td>\n",
       "      <td>0.19</td>\n",
       "    </tr>\n",
       "  </tbody>\n",
       "</table>\n",
       "</div>"
      ],
      "text/plain": [
       "             id  loan_amnt        term  int_rate grade sub_grade emp_length  \\\n",
       "89810  63155303   25000.00   60 months     17.57     D        D4  10+ years   \n",
       "\n",
       "      home_ownership  annual_inc verification_status             purpose  \\\n",
       "89810       MORTGAGE    83000.00     Source Verified  debt_consolidation   \n",
       "\n",
       "      zip_code addr_state   dti earliest_cr_line  fico_range_low  \\\n",
       "89810    784xx         TX 18.44         Sep-1994          725.00   \n",
       "\n",
       "       fico_range_high  open_acc  pub_rec initial_list_status  \\\n",
       "89810           729.00     12.00     0.00                   w   \n",
       "\n",
       "      application_type  annual_inc_joint  dti_joint verification_status_joint  \\\n",
       "89810       Individual               NaN        NaN                       nan   \n",
       "\n",
       "       pub_rec_bankruptcies  acc_now_delinq  acc_open_past_24mths  all_util  \\\n",
       "89810                  0.00            0.00                  7.00       NaN   \n",
       "\n",
       "       avg_cur_bal  bc_open_to_buy  bc_util  chargeoff_within_12_mths  \\\n",
       "89810     11627.00         8154.00    42.30                      0.00   \n",
       "\n",
       "       collection_recovery_fee  collections_12_mths_ex_med  \\\n",
       "89810                     0.00                        0.00   \n",
       "\n",
       "      debt_settlement_flag debt_settlement_flag_date  deferral_term  \\\n",
       "89810                    N                       NaN            NaN   \n",
       "\n",
       "       delinq_2yrs  delinq_amnt desc disbursement_method          emp_title  \\\n",
       "89810         0.00         0.00  NaN                Cash  800 Division Lead   \n",
       "\n",
       "       funded_amnt  funded_amnt_inv  hardship_amount  hardship_dpd  \\\n",
       "89810     25000.00         25000.00              NaN           NaN   \n",
       "\n",
       "      hardship_end_date hardship_flag  hardship_last_payment_amount  \\\n",
       "89810               NaN             N                           NaN   \n",
       "\n",
       "       hardship_length hardship_loan_status  hardship_payoff_balance_amount  \\\n",
       "89810              NaN                  NaN                             NaN   \n",
       "\n",
       "      hardship_reason hardship_start_date hardship_status hardship_type  \\\n",
       "89810             NaN                 NaN             NaN           NaN   \n",
       "\n",
       "       il_util  inq_fi  inq_last_12m  inq_last_6mths  installment    issue_d  \\\n",
       "89810      NaN     NaN           NaN            1.00       629.01 2015-10-01   \n",
       "\n",
       "      last_credit_pull_d  last_fico_range_high  last_fico_range_low  \\\n",
       "89810           Oct-2018                664.00               660.00   \n",
       "\n",
       "       last_pymnt_amnt last_pymnt_d loan_status  max_bal_bc  member_id  \\\n",
       "89810         17084.87   2018-02-01  Fully Paid         NaN        NaN   \n",
       "\n",
       "       mo_sin_old_il_acct  mo_sin_old_rev_tl_op  mo_sin_rcnt_rev_tl_op  \\\n",
       "89810              163.00                253.00                   7.00   \n",
       "\n",
       "       mo_sin_rcnt_tl  mort_acc  mths_since_last_delinq  \\\n",
       "89810            7.00      2.00                   41.00   \n",
       "\n",
       "       mths_since_last_major_derog  mths_since_last_record  \\\n",
       "89810                          NaN                     NaN   \n",
       "\n",
       "       mths_since_rcnt_il  mths_since_recent_bc  mths_since_recent_bc_dlq  \\\n",
       "89810                 NaN                 19.00                     41.00   \n",
       "\n",
       "       mths_since_recent_inq  mths_since_recent_revol_delinq next_pymnt_d  \\\n",
       "89810                   2.00                           41.00          NaN   \n",
       "\n",
       "       num_accts_ever_120_pd  num_actv_bc_tl  num_actv_rev_tl  num_bc_sats  \\\n",
       "89810                   0.00            4.00             6.00         5.00   \n",
       "\n",
       "       num_bc_tl  num_il_tl  num_op_rev_tl  num_rev_accts  \\\n",
       "89810      10.00      19.00           7.00          15.00   \n",
       "\n",
       "       num_rev_tl_bal_gt_0  num_sats  num_tl_120dpd_2m  num_tl_30dpd  \\\n",
       "89810                 6.00     12.00              0.00          0.00   \n",
       "\n",
       "       num_tl_90g_dpd_24m  num_tl_op_past_12m  open_acc_6m  open_act_il  \\\n",
       "89810                0.00                3.00          NaN          NaN   \n",
       "\n",
       "       open_il_12m  open_il_24m  open_rv_12m  open_rv_24m  \\\n",
       "89810          NaN          NaN          NaN          NaN   \n",
       "\n",
       "       orig_projected_additional_accrued_interest  out_prncp  out_prncp_inv  \\\n",
       "89810                                         NaN       0.00           0.00   \n",
       "\n",
       "      payment_plan_start_date  pct_tl_nvr_dlq  percent_bc_gt_75  policy_code  \\\n",
       "89810                     NaN          100.00             20.00         1.00   \n",
       "\n",
       "      pymnt_plan  recoveries  revol_bal  revol_bal_joint  revol_util  \\\n",
       "89810          n        0.00   10190.00              NaN       49.20   \n",
       "\n",
       "       sec_app_chargeoff_within_12_mths  sec_app_collections_12_mths_ex_med  \\\n",
       "89810                               NaN                                 NaN   \n",
       "\n",
       "      sec_app_earliest_cr_line  sec_app_fico_range_high  \\\n",
       "89810                      NaN                      NaN   \n",
       "\n",
       "       sec_app_fico_range_low  sec_app_inq_last_6mths  sec_app_mort_acc  \\\n",
       "89810                     NaN                     NaN               NaN   \n",
       "\n",
       "       sec_app_mths_since_last_major_derog  sec_app_num_rev_accts  \\\n",
       "89810                                  NaN                    NaN   \n",
       "\n",
       "       sec_app_open_acc  sec_app_open_act_il  sec_app_revol_util  \\\n",
       "89810               NaN                  NaN                 NaN   \n",
       "\n",
       "       settlement_amount settlement_date  settlement_percentage  \\\n",
       "89810                NaN             NaN                    NaN   \n",
       "\n",
       "      settlement_status  settlement_term  tax_liens               title  \\\n",
       "89810               NaN              NaN       0.00  Debt consolidation   \n",
       "\n",
       "       tot_coll_amt  tot_cur_bal  tot_hi_cred_lim  total_acc  \\\n",
       "89810          0.00    139528.00        167671.00      36.00   \n",
       "\n",
       "       total_bal_ex_mort  total_bal_il  total_bc_limit  total_cu_tl  \\\n",
       "89810           44060.00           NaN        14200.00          NaN   \n",
       "\n",
       "       total_il_high_credit_limit  total_pymnt  total_pymnt_inv  \\\n",
       "89810                    41846.00     33514.86         33514.86   \n",
       "\n",
       "       total_rec_int  total_rec_late_fee  total_rec_prncp  total_rev_hi_lim  \\\n",
       "89810        8514.86                0.00         25000.00          20800.00   \n",
       "\n",
       "                                                     url  proba_FP  proba_CO  \\\n",
       "89810  https://lendingclub.com/browse/loanDetail.acti...      0.37      0.63   \n",
       "\n",
       "       nb_months  01-2007  02-2007  03-2007  04-2007  05-2007  06-2007  \\\n",
       "89810         28     0.00     0.00     0.00     0.00     0.00     0.00   \n",
       "\n",
       "       07-2007  08-2007  09-2007  10-2007  11-2007  12-2007  01-2008  02-2008  \\\n",
       "89810     0.00     0.00     0.00     0.00     0.00     0.00     0.00     0.00   \n",
       "\n",
       "       03-2008  04-2008  05-2008  06-2008  07-2008  08-2008  09-2008  10-2008  \\\n",
       "89810     0.00     0.00     0.00     0.00     0.00     0.00     0.00     0.00   \n",
       "\n",
       "       11-2008  12-2008  01-2009  02-2009  03-2009  04-2009  05-2009  06-2009  \\\n",
       "89810     0.00     0.00     0.00     0.00     0.00     0.00     0.00     0.00   \n",
       "\n",
       "       07-2009  08-2009  09-2009  10-2009  11-2009  12-2009  01-2010  02-2010  \\\n",
       "89810     0.00     0.00     0.00     0.00     0.00     0.00     0.00     0.00   \n",
       "\n",
       "       03-2010  04-2010  05-2010  06-2010  07-2010  08-2010  09-2010  10-2010  \\\n",
       "89810     0.00     0.00     0.00     0.00     0.00     0.00     0.00     0.00   \n",
       "\n",
       "       11-2010  12-2010  01-2011  02-2011  03-2011  04-2011  05-2011  06-2011  \\\n",
       "89810     0.00     0.00     0.00     0.00     0.00     0.00     0.00     0.00   \n",
       "\n",
       "       07-2011  08-2011  09-2011  10-2011  11-2011  12-2011  01-2012  02-2012  \\\n",
       "89810     0.00     0.00     0.00     0.00     0.00     0.00     0.00     0.00   \n",
       "\n",
       "       03-2012  04-2012  05-2012  06-2012  07-2012  08-2012  09-2012  10-2012  \\\n",
       "89810     0.00     0.00     0.00     0.00     0.00     0.00     0.00     0.00   \n",
       "\n",
       "       11-2012  12-2012  01-2013  02-2013  03-2013  04-2013  05-2013  06-2013  \\\n",
       "89810     0.00     0.00     0.00     0.00     0.00     0.00     0.00     0.00   \n",
       "\n",
       "       07-2013  08-2013  09-2013  10-2013  11-2013  12-2013  01-2014  02-2014  \\\n",
       "89810     0.00     0.00     0.00     0.00     0.00     0.00     0.00     0.00   \n",
       "\n",
       "       03-2014  04-2014  05-2014  06-2014  07-2014  08-2014  09-2014  10-2014  \\\n",
       "89810     0.00     0.00     0.00     0.00     0.00     0.00     0.00     0.00   \n",
       "\n",
       "       11-2014  12-2014  01-2015  02-2015  03-2015  04-2015  05-2015  06-2015  \\\n",
       "89810     0.00     0.00     0.00     0.00     0.00     0.00     0.00     0.00   \n",
       "\n",
       "       07-2015  08-2015  09-2015   10-2015  11-2015  12-2015  01-2016  \\\n",
       "89810     0.00     0.00     0.00 -25000.00   629.01   629.01   629.01   \n",
       "\n",
       "       02-2016  03-2016  04-2016  05-2016  06-2016  07-2016  08-2016  09-2016  \\\n",
       "89810   629.01   629.01   629.01   629.01   629.01   629.01   629.01   629.01   \n",
       "\n",
       "       10-2016  11-2016  12-2016  01-2017  02-2017  03-2017  04-2017  05-2017  \\\n",
       "89810   629.01   629.01   629.01   629.01   629.01   629.01   629.01   629.01   \n",
       "\n",
       "       06-2017  07-2017  08-2017  09-2017  10-2017  11-2017  12-2017  01-2018  \\\n",
       "89810   629.01   629.01   629.01   629.01   629.01   629.01   629.01   629.01   \n",
       "\n",
       "       02-2018  03-2018  04-2018  05-2018  06-2018  07-2018  08-2018  09-2018  \\\n",
       "89810 16531.59     0.00     0.00     0.00     0.00     0.00     0.00     0.00   \n",
       "\n",
       "       10-2018  11-2018  12-2018  01-2019  02-2019  03-2019  spread  irr  \n",
       "89810     0.00     0.00     0.00     0.00     0.00     0.00   -0.45 0.19  "
      ]
     },
     "execution_count": 217,
     "metadata": {},
     "output_type": "execute_result"
    }
   ],
   "source": [
    "test_df.sample(1)"
   ]
  },
  {
   "cell_type": "code",
   "execution_count": 218,
   "id": "171981dd",
   "metadata": {
    "ExecuteTime": {
     "end_time": "2021-07-13T15:54:29.889726Z",
     "start_time": "2021-07-13T15:54:29.859986Z"
    }
   },
   "outputs": [
    {
     "name": "stdout",
     "output_type": "stream",
     "text": [
      "0 id\n",
      "1 loan_amnt\n",
      "2 term\n",
      "3 int_rate\n",
      "4 grade\n",
      "5 sub_grade\n",
      "6 emp_length\n",
      "7 home_ownership\n",
      "8 annual_inc\n",
      "9 verification_status\n",
      "10 purpose\n",
      "11 zip_code\n",
      "12 addr_state\n",
      "13 dti\n",
      "14 earliest_cr_line\n",
      "15 fico_range_low\n",
      "16 fico_range_high\n",
      "17 open_acc\n",
      "18 pub_rec\n",
      "19 initial_list_status\n",
      "20 application_type\n",
      "21 annual_inc_joint\n",
      "22 dti_joint\n",
      "23 verification_status_joint\n",
      "24 pub_rec_bankruptcies\n",
      "25 acc_now_delinq\n",
      "26 acc_open_past_24mths\n",
      "27 all_util\n",
      "28 avg_cur_bal\n",
      "29 bc_open_to_buy\n",
      "30 bc_util\n",
      "31 chargeoff_within_12_mths\n",
      "32 collection_recovery_fee\n",
      "33 collections_12_mths_ex_med\n",
      "34 debt_settlement_flag\n",
      "35 debt_settlement_flag_date\n",
      "36 deferral_term\n",
      "37 delinq_2yrs\n",
      "38 delinq_amnt\n",
      "39 desc\n",
      "40 disbursement_method\n",
      "41 emp_title\n",
      "42 funded_amnt\n",
      "43 funded_amnt_inv\n",
      "44 hardship_amount\n",
      "45 hardship_dpd\n",
      "46 hardship_end_date\n",
      "47 hardship_flag\n",
      "48 hardship_last_payment_amount\n",
      "49 hardship_length\n",
      "50 hardship_loan_status\n",
      "51 hardship_payoff_balance_amount\n",
      "52 hardship_reason\n",
      "53 hardship_start_date\n",
      "54 hardship_status\n",
      "55 hardship_type\n",
      "56 il_util\n",
      "57 inq_fi\n",
      "58 inq_last_12m\n",
      "59 inq_last_6mths\n",
      "60 installment\n",
      "61 issue_d\n",
      "62 last_credit_pull_d\n",
      "63 last_fico_range_high\n",
      "64 last_fico_range_low\n",
      "65 last_pymnt_amnt\n",
      "66 last_pymnt_d\n",
      "67 loan_status\n",
      "68 max_bal_bc\n",
      "69 member_id\n",
      "70 mo_sin_old_il_acct\n",
      "71 mo_sin_old_rev_tl_op\n",
      "72 mo_sin_rcnt_rev_tl_op\n",
      "73 mo_sin_rcnt_tl\n",
      "74 mort_acc\n",
      "75 mths_since_last_delinq\n",
      "76 mths_since_last_major_derog\n",
      "77 mths_since_last_record\n",
      "78 mths_since_rcnt_il\n",
      "79 mths_since_recent_bc\n",
      "80 mths_since_recent_bc_dlq\n",
      "81 mths_since_recent_inq\n",
      "82 mths_since_recent_revol_delinq\n",
      "83 next_pymnt_d\n",
      "84 num_accts_ever_120_pd\n",
      "85 num_actv_bc_tl\n",
      "86 num_actv_rev_tl\n",
      "87 num_bc_sats\n",
      "88 num_bc_tl\n",
      "89 num_il_tl\n",
      "90 num_op_rev_tl\n",
      "91 num_rev_accts\n",
      "92 num_rev_tl_bal_gt_0\n",
      "93 num_sats\n",
      "94 num_tl_120dpd_2m\n",
      "95 num_tl_30dpd\n",
      "96 num_tl_90g_dpd_24m\n",
      "97 num_tl_op_past_12m\n",
      "98 open_acc_6m\n",
      "99 open_act_il\n",
      "100 open_il_12m\n",
      "101 open_il_24m\n",
      "102 open_rv_12m\n",
      "103 open_rv_24m\n",
      "104 orig_projected_additional_accrued_interest\n",
      "105 out_prncp\n",
      "106 out_prncp_inv\n",
      "107 payment_plan_start_date\n",
      "108 pct_tl_nvr_dlq\n",
      "109 percent_bc_gt_75\n",
      "110 policy_code\n",
      "111 pymnt_plan\n",
      "112 recoveries\n",
      "113 revol_bal\n",
      "114 revol_bal_joint\n",
      "115 revol_util\n",
      "116 sec_app_chargeoff_within_12_mths\n",
      "117 sec_app_collections_12_mths_ex_med\n",
      "118 sec_app_earliest_cr_line\n",
      "119 sec_app_fico_range_high\n",
      "120 sec_app_fico_range_low\n",
      "121 sec_app_inq_last_6mths\n",
      "122 sec_app_mort_acc\n",
      "123 sec_app_mths_since_last_major_derog\n",
      "124 sec_app_num_rev_accts\n",
      "125 sec_app_open_acc\n",
      "126 sec_app_open_act_il\n",
      "127 sec_app_revol_util\n",
      "128 settlement_amount\n",
      "129 settlement_date\n",
      "130 settlement_percentage\n",
      "131 settlement_status\n",
      "132 settlement_term\n",
      "133 tax_liens\n",
      "134 title\n",
      "135 tot_coll_amt\n",
      "136 tot_cur_bal\n",
      "137 tot_hi_cred_lim\n",
      "138 total_acc\n",
      "139 total_bal_ex_mort\n",
      "140 total_bal_il\n",
      "141 total_bc_limit\n",
      "142 total_cu_tl\n",
      "143 total_il_high_credit_limit\n",
      "144 total_pymnt\n",
      "145 total_pymnt_inv\n",
      "146 total_rec_int\n",
      "147 total_rec_late_fee\n",
      "148 total_rec_prncp\n",
      "149 total_rev_hi_lim\n",
      "150 url\n",
      "151 proba_FP\n",
      "152 proba_CO\n",
      "153 nb_months\n",
      "154 01-2007\n",
      "155 02-2007\n",
      "156 03-2007\n",
      "157 04-2007\n",
      "158 05-2007\n",
      "159 06-2007\n",
      "160 07-2007\n",
      "161 08-2007\n",
      "162 09-2007\n",
      "163 10-2007\n",
      "164 11-2007\n",
      "165 12-2007\n",
      "166 01-2008\n",
      "167 02-2008\n",
      "168 03-2008\n",
      "169 04-2008\n",
      "170 05-2008\n",
      "171 06-2008\n",
      "172 07-2008\n",
      "173 08-2008\n",
      "174 09-2008\n",
      "175 10-2008\n",
      "176 11-2008\n",
      "177 12-2008\n",
      "178 01-2009\n",
      "179 02-2009\n",
      "180 03-2009\n",
      "181 04-2009\n",
      "182 05-2009\n",
      "183 06-2009\n",
      "184 07-2009\n",
      "185 08-2009\n",
      "186 09-2009\n",
      "187 10-2009\n",
      "188 11-2009\n",
      "189 12-2009\n",
      "190 01-2010\n",
      "191 02-2010\n",
      "192 03-2010\n",
      "193 04-2010\n",
      "194 05-2010\n",
      "195 06-2010\n",
      "196 07-2010\n",
      "197 08-2010\n",
      "198 09-2010\n",
      "199 10-2010\n",
      "200 11-2010\n",
      "201 12-2010\n",
      "202 01-2011\n",
      "203 02-2011\n",
      "204 03-2011\n",
      "205 04-2011\n",
      "206 05-2011\n",
      "207 06-2011\n",
      "208 07-2011\n",
      "209 08-2011\n",
      "210 09-2011\n",
      "211 10-2011\n",
      "212 11-2011\n",
      "213 12-2011\n",
      "214 01-2012\n",
      "215 02-2012\n",
      "216 03-2012\n",
      "217 04-2012\n",
      "218 05-2012\n",
      "219 06-2012\n",
      "220 07-2012\n",
      "221 08-2012\n",
      "222 09-2012\n",
      "223 10-2012\n",
      "224 11-2012\n",
      "225 12-2012\n",
      "226 01-2013\n",
      "227 02-2013\n",
      "228 03-2013\n",
      "229 04-2013\n",
      "230 05-2013\n",
      "231 06-2013\n",
      "232 07-2013\n",
      "233 08-2013\n",
      "234 09-2013\n",
      "235 10-2013\n",
      "236 11-2013\n",
      "237 12-2013\n",
      "238 01-2014\n",
      "239 02-2014\n",
      "240 03-2014\n",
      "241 04-2014\n",
      "242 05-2014\n",
      "243 06-2014\n",
      "244 07-2014\n",
      "245 08-2014\n",
      "246 09-2014\n",
      "247 10-2014\n",
      "248 11-2014\n",
      "249 12-2014\n",
      "250 01-2015\n",
      "251 02-2015\n",
      "252 03-2015\n",
      "253 04-2015\n",
      "254 05-2015\n",
      "255 06-2015\n",
      "256 07-2015\n",
      "257 08-2015\n",
      "258 09-2015\n",
      "259 10-2015\n",
      "260 11-2015\n",
      "261 12-2015\n",
      "262 01-2016\n",
      "263 02-2016\n",
      "264 03-2016\n",
      "265 04-2016\n",
      "266 05-2016\n",
      "267 06-2016\n",
      "268 07-2016\n",
      "269 08-2016\n",
      "270 09-2016\n",
      "271 10-2016\n",
      "272 11-2016\n",
      "273 12-2016\n",
      "274 01-2017\n",
      "275 02-2017\n",
      "276 03-2017\n",
      "277 04-2017\n",
      "278 05-2017\n",
      "279 06-2017\n",
      "280 07-2017\n",
      "281 08-2017\n",
      "282 09-2017\n",
      "283 10-2017\n",
      "284 11-2017\n",
      "285 12-2017\n",
      "286 01-2018\n",
      "287 02-2018\n",
      "288 03-2018\n",
      "289 04-2018\n",
      "290 05-2018\n",
      "291 06-2018\n",
      "292 07-2018\n",
      "293 08-2018\n",
      "294 09-2018\n",
      "295 10-2018\n",
      "296 11-2018\n",
      "297 12-2018\n",
      "298 01-2019\n",
      "299 02-2019\n",
      "300 03-2019\n",
      "301 spread\n",
      "302 irr\n"
     ]
    }
   ],
   "source": [
    "for e, column in enumerate(test_df.columns):\n",
    "    print (e, column)"
   ]
  },
  {
   "cell_type": "markdown",
   "id": "f13c2d32",
   "metadata": {
    "ExecuteTime": {
     "end_time": "2021-06-06T14:51:20.196664Z",
     "start_time": "2021-06-06T14:51:20.176634Z"
    }
   },
   "source": [
    "Using the dictionary with the descriptions I will review the features available to determine which were obtained after the loan origination to avoid data leakage. We should only use information available at loan origination in order to avoid having a model that overestimates its predictive power. The following are features I found to be available at origination and that are relevant:\n",
    "\n",
    "- id, loan_amnt, term, int_rate, grade, sub_grade, emp_length, emp_title, home_ownership, annual_inc, verification_status, purpose, zip_code, addr_state, dti, earliest_cr_line, fico_range_low, fico_range_high, open_acc, pub_rec, initial_list_status, application_type, annual_inc_joint, dti_joint, verification_status_joint, pub_rec_bankruptcies, proba_FP, spread, irr (target)."
   ]
  },
  {
   "cell_type": "code",
   "execution_count": 219,
   "id": "17bcb9a9",
   "metadata": {
    "ExecuteTime": {
     "end_time": "2021-07-13T15:54:29.983635Z",
     "start_time": "2021-07-13T15:54:29.891578Z"
    }
   },
   "outputs": [
    {
     "data": {
      "text/html": [
       "<div>\n",
       "<style scoped>\n",
       "    .dataframe tbody tr th:only-of-type {\n",
       "        vertical-align: middle;\n",
       "    }\n",
       "\n",
       "    .dataframe tbody tr th {\n",
       "        vertical-align: top;\n",
       "    }\n",
       "\n",
       "    .dataframe thead th {\n",
       "        text-align: right;\n",
       "    }\n",
       "</style>\n",
       "<table border=\"1\" class=\"dataframe\">\n",
       "  <thead>\n",
       "    <tr style=\"text-align: right;\">\n",
       "      <th></th>\n",
       "      <th>id</th>\n",
       "      <th>loan_amnt</th>\n",
       "      <th>term</th>\n",
       "      <th>int_rate</th>\n",
       "      <th>grade</th>\n",
       "      <th>sub_grade</th>\n",
       "      <th>emp_length</th>\n",
       "      <th>emp_title</th>\n",
       "      <th>home_ownership</th>\n",
       "      <th>annual_inc</th>\n",
       "      <th>verification_status</th>\n",
       "      <th>purpose</th>\n",
       "      <th>zip_code</th>\n",
       "      <th>addr_state</th>\n",
       "      <th>dti</th>\n",
       "      <th>earliest_cr_line</th>\n",
       "      <th>fico_range_low</th>\n",
       "      <th>fico_range_high</th>\n",
       "      <th>open_acc</th>\n",
       "      <th>pub_rec</th>\n",
       "      <th>initial_list_status</th>\n",
       "      <th>application_type</th>\n",
       "      <th>annual_inc_joint</th>\n",
       "      <th>dti_joint</th>\n",
       "      <th>verification_status_joint</th>\n",
       "      <th>pub_rec_bankruptcies</th>\n",
       "      <th>proba_FP</th>\n",
       "      <th>spread</th>\n",
       "      <th>irr</th>\n",
       "    </tr>\n",
       "  </thead>\n",
       "  <tbody>\n",
       "    <tr>\n",
       "      <th>570621</th>\n",
       "      <td>117857260</td>\n",
       "      <td>16400.00</td>\n",
       "      <td>36 months</td>\n",
       "      <td>7.07</td>\n",
       "      <td>A</td>\n",
       "      <td>A2</td>\n",
       "      <td>10+ years</td>\n",
       "      <td>Shop Forman</td>\n",
       "      <td>MORTGAGE</td>\n",
       "      <td>95000.00</td>\n",
       "      <td>Not Verified</td>\n",
       "      <td>debt_consolidation</td>\n",
       "      <td>173xx</td>\n",
       "      <td>PA</td>\n",
       "      <td>26.89</td>\n",
       "      <td>Aug-2000</td>\n",
       "      <td>740.00</td>\n",
       "      <td>744.00</td>\n",
       "      <td>10.00</td>\n",
       "      <td>0.00</td>\n",
       "      <td>w</td>\n",
       "      <td>Individual</td>\n",
       "      <td>NaN</td>\n",
       "      <td>NaN</td>\n",
       "      <td>nan</td>\n",
       "      <td>0.00</td>\n",
       "      <td>0.87</td>\n",
       "      <td>-0.06</td>\n",
       "      <td>0.07</td>\n",
       "    </tr>\n",
       "  </tbody>\n",
       "</table>\n",
       "</div>"
      ],
      "text/plain": [
       "               id  loan_amnt        term  int_rate grade sub_grade emp_length  \\\n",
       "570621  117857260   16400.00   36 months      7.07     A        A2  10+ years   \n",
       "\n",
       "          emp_title home_ownership  annual_inc verification_status  \\\n",
       "570621  Shop Forman       MORTGAGE    95000.00        Not Verified   \n",
       "\n",
       "                   purpose zip_code addr_state   dti earliest_cr_line  \\\n",
       "570621  debt_consolidation    173xx         PA 26.89         Aug-2000   \n",
       "\n",
       "        fico_range_low  fico_range_high  open_acc  pub_rec  \\\n",
       "570621          740.00           744.00     10.00     0.00   \n",
       "\n",
       "       initial_list_status application_type  annual_inc_joint  dti_joint  \\\n",
       "570621                   w       Individual               NaN        NaN   \n",
       "\n",
       "       verification_status_joint  pub_rec_bankruptcies  proba_FP  spread  irr  \n",
       "570621                       nan                  0.00      0.87   -0.06 0.07  "
      ]
     },
     "execution_count": 219,
     "metadata": {},
     "output_type": "execute_result"
    }
   ],
   "source": [
    "df = test_df.loc[:,['id', 'loan_amnt', 'term', 'int_rate', 'grade', 'sub_grade', 'emp_length', 'emp_title', 'home_ownership', 'annual_inc', 'verification_status', 'purpose', 'zip_code', 'addr_state', 'dti', 'earliest_cr_line', 'fico_range_low', 'fico_range_high', 'open_acc', 'pub_rec', 'initial_list_status', 'application_type', 'annual_inc_joint', 'dti_joint', 'verification_status_joint', 'pub_rec_bankruptcies', 'proba_FP', 'spread', 'irr']]\n",
    "df.sample(1)"
   ]
  },
  {
   "cell_type": "markdown",
   "id": "bc7ea767",
   "metadata": {
    "ExecuteTime": {
     "end_time": "2021-06-17T14:26:35.508244Z",
     "start_time": "2021-06-17T14:26:35.499433Z"
    }
   },
   "source": [
    "###  Understanding and Dealing with the Missing Data"
   ]
  },
  {
   "cell_type": "code",
   "execution_count": 220,
   "id": "4b63d467",
   "metadata": {
    "ExecuteTime": {
     "end_time": "2021-07-13T15:54:30.187618Z",
     "start_time": "2021-07-13T15:54:29.985630Z"
    }
   },
   "outputs": [
    {
     "data": {
      "text/plain": [
       "dti_joint               263506\n",
       "annual_inc_joint        263505\n",
       "emp_title                16995\n",
       "irr                       4338\n",
       "pub_rec_bankruptcies       136\n",
       "dti                         77\n",
       "dtype: int64"
      ]
     },
     "execution_count": 220,
     "metadata": {},
     "output_type": "execute_result"
    }
   ],
   "source": [
    "nullseries = df.isnull().sum()\n",
    "nullseries[nullseries > 0].sort_values(ascending=False)"
   ]
  },
  {
   "cell_type": "markdown",
   "id": "900ef528",
   "metadata": {},
   "source": [
    "It seems most of the missing values for the joint data are missing because they do not apply since not all loan applicants do so with another person.\n",
    "\n",
    "When IRR is missing it is because it got prepaid the same month as the loan was issued, and since we are calculating IRR on a monthly basis it cannot be calculated. Since, when the time between loan issued and loan prepaid approaches 0 the annual IRR goes to 0, I will assign the missing IRR to 0."
   ]
  },
  {
   "cell_type": "code",
   "execution_count": 221,
   "id": "f7f643e0",
   "metadata": {
    "ExecuteTime": {
     "end_time": "2021-07-13T15:54:30.203027Z",
     "start_time": "2021-07-13T15:54:30.188646Z"
    }
   },
   "outputs": [],
   "source": [
    "df['irr'] = df['irr'].fillna(value=0)"
   ]
  },
  {
   "cell_type": "code",
   "execution_count": 222,
   "id": "55e48847",
   "metadata": {
    "ExecuteTime": {
     "end_time": "2021-07-13T15:54:30.218125Z",
     "start_time": "2021-07-13T15:54:30.206012Z"
    }
   },
   "outputs": [
    {
     "data": {
      "text/plain": [
       "(268602, 29)"
      ]
     },
     "execution_count": 222,
     "metadata": {},
     "output_type": "execute_result"
    }
   ],
   "source": [
    "df.shape"
   ]
  },
  {
   "cell_type": "markdown",
   "id": "c8082330",
   "metadata": {},
   "source": [
    "### Feature Transformation and Dummyfing"
   ]
  },
  {
   "cell_type": "markdown",
   "id": "b54704ea",
   "metadata": {},
   "source": [
    "Here we will prepare the data to be able to be properly fed into the models. Based on my research I have chosen to use CatBoost as it seems to have the best performance both on results and speeds. This model does not need much pre-processing of the data, for example categorical features have to be specified using an index instead of needing label encoding."
   ]
  },
  {
   "cell_type": "code",
   "execution_count": 223,
   "id": "28bd285e",
   "metadata": {
    "ExecuteTime": {
     "end_time": "2021-07-13T15:54:31.296120Z",
     "start_time": "2021-07-13T15:54:30.220107Z"
    }
   },
   "outputs": [],
   "source": [
    "#Separating the target variable\n",
    "\n",
    "X = df.drop('irr', axis=1)\n",
    "y = df.irr"
   ]
  },
  {
   "cell_type": "code",
   "execution_count": 224,
   "id": "c4f6cb4f",
   "metadata": {
    "ExecuteTime": {
     "end_time": "2021-07-13T15:54:31.485853Z",
     "start_time": "2021-07-13T15:54:31.297090Z"
    }
   },
   "outputs": [],
   "source": [
    "#Converting objects to strings\n",
    "\n",
    "for column in X.columns:\n",
    "    if (X[column].dtypes != float):\n",
    "        X[column] = X[column].astype(str)"
   ]
  },
  {
   "cell_type": "code",
   "execution_count": 225,
   "id": "83812ced",
   "metadata": {
    "ExecuteTime": {
     "end_time": "2021-07-13T15:54:31.500793Z",
     "start_time": "2021-07-13T15:54:31.487828Z"
    }
   },
   "outputs": [
    {
     "data": {
      "text/plain": [
       "array([ 0,  2,  4,  5,  6,  7,  8, 10, 11, 12, 13, 15, 20, 21, 24],\n",
       "      dtype=int64)"
      ]
     },
     "execution_count": 225,
     "metadata": {},
     "output_type": "execute_result"
    }
   ],
   "source": [
    "#Creating an index of the categorical features to point to the model\n",
    "#print(X.dtypes)\n",
    "cat_feat_index = np.where(X.dtypes != float)[0]\n",
    "cat_feat_index"
   ]
  },
  {
   "cell_type": "markdown",
   "id": "2e7f4dae",
   "metadata": {},
   "source": [
    "### Train Test Split"
   ]
  },
  {
   "cell_type": "code",
   "execution_count": 226,
   "id": "c03fc529",
   "metadata": {
    "ExecuteTime": {
     "end_time": "2021-07-13T15:54:32.126169Z",
     "start_time": "2021-07-13T15:54:31.503620Z"
    }
   },
   "outputs": [],
   "source": [
    "X_train, X_test, y_train, y_test = train_test_split(X, y, train_size=0.80, random_state=72)"
   ]
  },
  {
   "cell_type": "markdown",
   "id": "0b3e3a66",
   "metadata": {},
   "source": [
    "### Training the model"
   ]
  },
  {
   "cell_type": "code",
   "execution_count": 227,
   "id": "43777fe6",
   "metadata": {
    "ExecuteTime": {
     "end_time": "2021-07-13T15:54:32.141764Z",
     "start_time": "2021-07-13T15:54:32.127165Z"
    }
   },
   "outputs": [],
   "source": [
    "# pool0 = Pool(X_train, y_train, cat_features=cat_feat_index)\n",
    "# pool1 = Pool(X_test, y_test, cat_features=cat_feat_index)\n",
    "\n",
    "# model2 = CatBoostRegressor(iterations=10000, learning_rate=0.03, early_stopping_rounds=50)\n",
    "\n",
    "# model2.fit(X_train,\n",
    "#           y_train,\n",
    "#           eval_set=pool1,\n",
    "#           cat_features=cat_feat_index,\n",
    "#           verbose=False,\n",
    "#           plot=True\n",
    "#           )"
   ]
  },
  {
   "cell_type": "markdown",
   "id": "f87a65e2",
   "metadata": {},
   "source": [
    "### Results"
   ]
  },
  {
   "cell_type": "markdown",
   "id": "d80ea30a",
   "metadata": {},
   "source": [
    "Saving model to avoid retraining"
   ]
  },
  {
   "cell_type": "code",
   "execution_count": 228,
   "id": "675bdd8d",
   "metadata": {
    "ExecuteTime": {
     "end_time": "2021-07-13T15:54:32.157515Z",
     "start_time": "2021-07-13T15:54:32.142956Z"
    }
   },
   "outputs": [],
   "source": [
    "# model2.save_model('G:\\\\Lending Club Data Files\\\\lending_club_catboost2')"
   ]
  },
  {
   "cell_type": "code",
   "execution_count": 229,
   "id": "e37ba92e",
   "metadata": {
    "ExecuteTime": {
     "end_time": "2021-07-13T15:54:34.199823Z",
     "start_time": "2021-07-13T15:54:32.158491Z"
    }
   },
   "outputs": [
    {
     "data": {
      "text/plain": [
       "<catboost.core.CatBoostRegressor at 0x2bdb0330310>"
      ]
     },
     "execution_count": 229,
     "metadata": {},
     "output_type": "execute_result"
    }
   ],
   "source": [
    "model2 = CatBoostRegressor()\n",
    "model2.load_model('G:\\\\Lending Club Data Files\\\\lending_club_catboost2')"
   ]
  },
  {
   "cell_type": "code",
   "execution_count": 230,
   "id": "d488a2c3",
   "metadata": {
    "ExecuteTime": {
     "end_time": "2021-07-13T15:54:34.278277Z",
     "start_time": "2021-07-13T15:54:34.202240Z"
    }
   },
   "outputs": [],
   "source": [
    "#Separating the target variable\n",
    "\n",
    "X = df.drop('irr', axis=1)\n",
    "y = df.irr"
   ]
  },
  {
   "cell_type": "code",
   "execution_count": 231,
   "id": "475e6a16",
   "metadata": {
    "ExecuteTime": {
     "end_time": "2021-07-13T15:54:34.452483Z",
     "start_time": "2021-07-13T15:54:34.280275Z"
    }
   },
   "outputs": [],
   "source": [
    "#Converting objects to strings\n",
    "\n",
    "for column in X.columns:\n",
    "    if (X[column].dtypes != float):\n",
    "        X[column] = X[column].astype(str)"
   ]
  },
  {
   "cell_type": "code",
   "execution_count": 232,
   "id": "7b3a8acd",
   "metadata": {
    "ExecuteTime": {
     "end_time": "2021-07-13T15:54:34.467612Z",
     "start_time": "2021-07-13T15:54:34.453473Z"
    }
   },
   "outputs": [
    {
     "data": {
      "text/plain": [
       "array([ 0,  2,  4,  5,  6,  7,  8, 10, 11, 12, 13, 15, 20, 21, 24],\n",
       "      dtype=int64)"
      ]
     },
     "execution_count": 232,
     "metadata": {},
     "output_type": "execute_result"
    }
   ],
   "source": [
    "#Creating an index of the categorical features to point to the model\n",
    "#print(X.dtypes)\n",
    "cat_feat_index = np.where(X.dtypes != float)[0]\n",
    "cat_feat_index"
   ]
  },
  {
   "cell_type": "code",
   "execution_count": 233,
   "id": "e96bc397",
   "metadata": {
    "ExecuteTime": {
     "end_time": "2021-07-13T15:54:34.673186Z",
     "start_time": "2021-07-13T15:54:34.469606Z"
    }
   },
   "outputs": [],
   "source": [
    "X_train, X_test, y_train, y_test = train_test_split(X, y, train_size=0.80, random_state=72)"
   ]
  },
  {
   "cell_type": "code",
   "execution_count": 234,
   "id": "bbeacf87",
   "metadata": {
    "ExecuteTime": {
     "end_time": "2021-07-13T15:54:37.358109Z",
     "start_time": "2021-07-13T15:54:34.674142Z"
    }
   },
   "outputs": [],
   "source": [
    "pool0 = Pool(X_train, y_train, cat_features=cat_feat_index)\n",
    "pool1 = Pool(X_test, y_test, cat_features=cat_feat_index)"
   ]
  },
  {
   "cell_type": "code",
   "execution_count": 235,
   "id": "09b75885",
   "metadata": {
    "ExecuteTime": {
     "end_time": "2021-07-13T15:54:38.379943Z",
     "start_time": "2021-07-13T15:54:37.359111Z"
    }
   },
   "outputs": [
    {
     "name": "stdout",
     "output_type": "stream",
     "text": [
      "The R2 Score is:\n",
      "0.06\n",
      "The RMSE Score is:\n",
      "0.31\n"
     ]
    }
   ],
   "source": [
    "predictions = model2.predict(X_test)\n",
    "print(\"The R2 Score is:\")\n",
    "print(round(model2.score(pool1),2))\n",
    "print(\"The RMSE Score is:\")\n",
    "print(round(metrics.mean_squared_error(y_test, predictions, squared=False),2))"
   ]
  },
  {
   "cell_type": "markdown",
   "id": "907d73c6",
   "metadata": {},
   "source": [
    "Getting feature importance"
   ]
  },
  {
   "cell_type": "code",
   "execution_count": 236,
   "id": "2dad433d",
   "metadata": {
    "ExecuteTime": {
     "end_time": "2021-07-13T15:54:38.989159Z",
     "start_time": "2021-07-13T15:54:38.381933Z"
    }
   },
   "outputs": [
    {
     "data": {
      "image/png": "[encoded data removed]",
      "text/plain": [
       "<Figure size 480x320 with 1 Axes>"
      ]
     },
     "metadata": {},
     "output_type": "display_data"
    }
   ],
   "source": [
    "feature_importance = model2.get_feature_importance(prettified=True)\n",
    "\n",
    "f, ax = plt.subplots(figsize=(6, 4))\n",
    "sns.barplot(x=\"Importances\", y=\"Feature Id\", data=feature_importance[0:15], palette=\"rocket_r\")\n",
    "ax.set(ylabel=\"\",\n",
    "       xlabel=\"Feature Importance\")\n",
    "plt.tight_layout()\n",
    "f.savefig('./images/feature_imp_model2.png', dpi=500)"
   ]
  },
  {
   "cell_type": "markdown",
   "id": "e9b351b1",
   "metadata": {},
   "source": [
    "## Back Testing Loan Portfolios"
   ]
  },
  {
   "cell_type": "markdown",
   "id": "1a57bc1c",
   "metadata": {
    "ExecuteTime": {
     "end_time": "2021-07-12T22:08:58.798253Z",
     "start_time": "2021-07-12T22:08:58.790269Z"
    }
   },
   "source": [
    "### Creating a Dataframe with all the Relevant Information"
   ]
  },
  {
   "cell_type": "markdown",
   "id": "fb4025c0",
   "metadata": {},
   "source": [
    "We will recover all the data excluded because it was forward looking in order to properly be able to calculate the return function. Meaning we will get all the columns we excluded in the point \"3.1 Selecting Features\"."
   ]
  },
  {
   "cell_type": "code",
   "execution_count": 237,
   "id": "b5b6375a",
   "metadata": {
    "ExecuteTime": {
     "end_time": "2021-07-13T15:54:39.004179Z",
     "start_time": "2021-07-13T15:54:38.992151Z"
    }
   },
   "outputs": [],
   "source": [
    "cols_to_use = test_df.columns.difference(X_test.columns, sort=False)"
   ]
  },
  {
   "cell_type": "code",
   "execution_count": 238,
   "id": "020724c5",
   "metadata": {
    "ExecuteTime": {
     "end_time": "2021-07-13T15:54:43.893225Z",
     "start_time": "2021-07-13T15:54:39.005655Z"
    },
    "scrolled": false
   },
   "outputs": [],
   "source": [
    "test_df2 = pd.merge(X_test, test_df[cols_to_use], how='left', left_index=True, right_index=True)"
   ]
  },
  {
   "cell_type": "code",
   "execution_count": 239,
   "id": "16f41596",
   "metadata": {
    "ExecuteTime": {
     "end_time": "2021-07-13T15:54:43.908905Z",
     "start_time": "2021-07-13T15:54:43.895111Z"
    },
    "scrolled": true
   },
   "outputs": [],
   "source": [
    "test_df2['irr_pred']=predictions"
   ]
  },
  {
   "cell_type": "markdown",
   "id": "db167ea4",
   "metadata": {},
   "source": [
    "### IRR Calculation"
   ]
  },
  {
   "cell_type": "code",
   "execution_count": 240,
   "id": "e7e85300",
   "metadata": {
    "ExecuteTime": {
     "end_time": "2021-07-13T15:54:43.924984Z",
     "start_time": "2021-07-13T15:54:43.911717Z"
    }
   },
   "outputs": [],
   "source": [
    "subset = np.arange(0.005, 1.005, 0.005).tolist()"
   ]
  },
  {
   "cell_type": "code",
   "execution_count": 241,
   "id": "c5782880",
   "metadata": {
    "ExecuteTime": {
     "end_time": "2021-07-13T15:54:52.161387Z",
     "start_time": "2021-07-13T15:54:43.926954Z"
    }
   },
   "outputs": [],
   "source": [
    "results_pred_irr = pd.DataFrame(columns=['percentile', 'irr','volume_mm'])\n",
    "n_loans = test_df2.shape[0]\n",
    "test_df3 = test_df2.sort_values(ascending=False, by='irr_pred')\n",
    "num = 0\n",
    "\n",
    "for percent in subset:\n",
    "    irr_df = test_df3[:int(round((percent*n_loans),0))]\n",
    "    # Volume is multiplied by 5 and 5 because the test set is actually 20% of 20% \n",
    "    # of the total size of the loans due to the train/test split of the two models\n",
    "    volume = (irr_df['loan_amnt'].sum()/1000000)*5*5\n",
    "    irr = calculate_irr(irr_df)\n",
    "    results_pred_irr.loc[num] = [percent] + [irr] + [volume]\n",
    "    num += 1"
   ]
  },
  {
   "cell_type": "code",
   "execution_count": 242,
   "id": "baca06b4",
   "metadata": {
    "ExecuteTime": {
     "end_time": "2021-07-13T15:54:52.693019Z",
     "start_time": "2021-07-13T15:54:52.162416Z"
    }
   },
   "outputs": [
    {
     "data": {
      "image/png": "[encoded data removed]",
      "text/plain": [
       "<Figure size 480x320 with 1 Axes>"
      ]
     },
     "metadata": {},
     "output_type": "display_data"
    }
   ],
   "source": [
    "plt.rcParams.update({'font.size': 10})\n",
    "f, ax = plt.subplots()\n",
    "ax.grid(False)\n",
    "ax.plot(results_pred_irr.irr, results_pred_irr.volume_mm)\n",
    "ax.set_ylabel('Loan Volume in Millions')\n",
    "ax.set(xlabel=\"Internal Rate of Return\", title=\"Portfolio IRR and Volume as Percentile Increases\")\n",
    "# ax.set_xlim([0.02, 0.08])\n",
    "f.savefig('./images/percentile_threshold_IRR.png', facecolor=f.get_facecolor(), transparent=True, dpi=500)"
   ]
  },
  {
   "cell_type": "code",
   "execution_count": 243,
   "id": "d62d0e22",
   "metadata": {
    "ExecuteTime": {
     "end_time": "2021-07-13T15:54:53.225039Z",
     "start_time": "2021-07-13T15:54:52.694983Z"
    }
   },
   "outputs": [
    {
     "data": {
      "image/png": "[encoded data removed]",
      "text/plain": [
       "<Figure size 480x320 with 1 Axes>"
      ]
     },
     "metadata": {},
     "output_type": "display_data"
    }
   ],
   "source": [
    "plt.rcParams.update({'font.size': 10})\n",
    "f, ax = plt.subplots()\n",
    "ax.grid(False)\n",
    "ax.plot(results_pred_irr.irr, results_pred_irr.volume_mm)\n",
    "ax.set_ylabel('Loan Volume in Millions')\n",
    "ax.set(xlabel=\"Internal Rate of Return\", title=\"Portfolio IRR and Volume as Percentile Increases\")\n",
    "ax.set_xlim([0.09,0.15])\n",
    "ax.set_ylim([0,4000])\n",
    "f.savefig('./images/percentile_threshold_IRR2.png', facecolor=f.get_facecolor(), transparent=True, dpi=500)"
   ]
  },
  {
   "cell_type": "code",
   "execution_count": 276,
   "id": "d943bf8c",
   "metadata": {
    "ExecuteTime": {
     "end_time": "2021-07-13T16:16:56.251418Z",
     "start_time": "2021-07-13T16:16:56.226634Z"
    }
   },
   "outputs": [
    {
     "data": {
      "text/html": [
       "<div>\n",
       "<style scoped>\n",
       "    .dataframe tbody tr th:only-of-type {\n",
       "        vertical-align: middle;\n",
       "    }\n",
       "\n",
       "    .dataframe tbody tr th {\n",
       "        vertical-align: top;\n",
       "    }\n",
       "\n",
       "    .dataframe thead th {\n",
       "        text-align: right;\n",
       "    }\n",
       "</style>\n",
       "<table border=\"1\" class=\"dataframe\">\n",
       "  <thead>\n",
       "    <tr style=\"text-align: right;\">\n",
       "      <th></th>\n",
       "      <th>Percentile</th>\n",
       "      <th>IRR</th>\n",
       "      <th>Volume_MM</th>\n",
       "    </tr>\n",
       "  </thead>\n",
       "  <tbody>\n",
       "    <tr>\n",
       "      <th>0</th>\n",
       "      <td>0.50%</td>\n",
       "      <td>15.25%</td>\n",
       "      <td>79.96</td>\n",
       "    </tr>\n",
       "    <tr>\n",
       "      <th>1</th>\n",
       "      <td>1.00%</td>\n",
       "      <td>14.94%</td>\n",
       "      <td>169.94</td>\n",
       "    </tr>\n",
       "    <tr>\n",
       "      <th>2</th>\n",
       "      <td>1.50%</td>\n",
       "      <td>13.82%</td>\n",
       "      <td>258.00</td>\n",
       "    </tr>\n",
       "    <tr>\n",
       "      <th>3</th>\n",
       "      <td>2.00%</td>\n",
       "      <td>13.35%</td>\n",
       "      <td>339.05</td>\n",
       "    </tr>\n",
       "    <tr>\n",
       "      <th>4</th>\n",
       "      <td>2.50%</td>\n",
       "      <td>12.71%</td>\n",
       "      <td>426.15</td>\n",
       "    </tr>\n",
       "    <tr>\n",
       "      <th>5</th>\n",
       "      <td>3.00%</td>\n",
       "      <td>12.64%</td>\n",
       "      <td>505.25</td>\n",
       "    </tr>\n",
       "    <tr>\n",
       "      <th>6</th>\n",
       "      <td>3.50%</td>\n",
       "      <td>12.27%</td>\n",
       "      <td>591.65</td>\n",
       "    </tr>\n",
       "    <tr>\n",
       "      <th>7</th>\n",
       "      <td>4.00%</td>\n",
       "      <td>12.18%</td>\n",
       "      <td>675.94</td>\n",
       "    </tr>\n",
       "    <tr>\n",
       "      <th>8</th>\n",
       "      <td>4.50%</td>\n",
       "      <td>11.90%</td>\n",
       "      <td>762.94</td>\n",
       "    </tr>\n",
       "    <tr>\n",
       "      <th>9</th>\n",
       "      <td>5.00%</td>\n",
       "      <td>11.85%</td>\n",
       "      <td>846.11</td>\n",
       "    </tr>\n",
       "  </tbody>\n",
       "</table>\n",
       "</div>"
      ],
      "text/plain": [
       "  Percentile     IRR  Volume_MM\n",
       "0      0.50%  15.25%      79.96\n",
       "1      1.00%  14.94%     169.94\n",
       "2      1.50%  13.82%     258.00\n",
       "3      2.00%  13.35%     339.05\n",
       "4      2.50%  12.71%     426.15\n",
       "5      3.00%  12.64%     505.25\n",
       "6      3.50%  12.27%     591.65\n",
       "7      4.00%  12.18%     675.94\n",
       "8      4.50%  11.90%     762.94\n",
       "9      5.00%  11.85%     846.11"
      ]
     },
     "execution_count": 276,
     "metadata": {},
     "output_type": "execute_result"
    }
   ],
   "source": [
    "table = results_pred_irr.sort_values(by='irr',ascending=False).head(10)\n",
    "table['percentile'] = [\"{0:.2f}%\".format(val * 100) for val in table['percentile']]\n",
    "table['irr'] = [\"{0:.2f}%\".format(val * 100) for val in table['irr']]\n",
    "table.columns = ['Percentile','IRR','Volume_MM']\n",
    "table"
   ]
  },
  {
   "cell_type": "markdown",
   "id": "2fcbac5d",
   "metadata": {},
   "source": [
    "The previous table can be used by the investment firm to decide weather to allocate its funds based on a IRR objective and/or a loan budget constraint.\n",
    "\n",
    "At this IRR, this investment asset, when properly allocated into the right loans, can be a very attractive alternative. The S&P 500 has had an average return of around 10.7% for the last 30 years and 13.9% for the last 10. An investment firm could get similar or higher returns on a diversified portfolio of loans by investing in this type of asset from Lending Club, which depending on the risk profile of the fund, might be more than adequate "
   ]
  }
 ],
 "metadata": {
  "kernelspec": {
   "display_name": "Python 3",
   "language": "python",
   "name": "python3"
  },
  "language_info": {
   "codemirror_mode": {
    "name": "ipython",
    "version": 3
   },
   "file_extension": ".py",
   "mimetype": "text/x-python",
   "name": "python",
   "nbconvert_exporter": "python",
   "pygments_lexer": "ipython3",
   "version": "3.8.8"
  },
  "toc": {
   "base_numbering": 1,
   "nav_menu": {},
   "number_sections": true,
   "sideBar": true,
   "skip_h1_title": false,
   "title_cell": "Table of Contents",
   "title_sidebar": "Contents",
   "toc_cell": false,
   "toc_position": {
    "height": "calc(100% - 180px)",
    "left": "10px",
    "top": "150px",
    "width": "245.76px"
   },
   "toc_section_display": true,
   "toc_window_display": true
  }
 },
 "nbformat": 4,
 "nbformat_minor": 5
}
