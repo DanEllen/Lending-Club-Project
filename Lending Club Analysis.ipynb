{
 "cells": [
  {
   "cell_type": "markdown",
   "id": "559306be",
   "metadata": {},
   "source": [
    "<font size=\"6\">Lending Club Analysis</font>"
   ]
  },
  {
   "cell_type": "markdown",
   "id": "39c314ae",
   "metadata": {},
   "source": [
    "Objective:\n",
    "- Tasked by an Investment firm to analyze the possibility of investing in Lending Club loans as part of our portfolio. \n",
    "\n",
    "\n",
    "Tasks:\n",
    "-\tPerform EDA to understand dataset.\n",
    "-\tImpute missing data.\n",
    "-\tSelect features, removing ones that could lead to data leakage or are unimportant.\n",
    "-\tTrain models to predict loan defaults.\n",
    "-\tCalculate the best CAGR.\n",
    "-\tCompare with other investment assets.\n",
    "-\tConclusions.\n",
    "-\tFuture work."
   ]
  },
  {
   "cell_type": "markdown",
   "id": "cf0437bc",
   "metadata": {},
   "source": [
    "## Load Packages and Data"
   ]
  },
  {
   "cell_type": "code",
   "execution_count": 1,
   "id": "4ab4d0fe",
   "metadata": {
    "ExecuteTime": {
     "end_time": "2021-06-17T14:09:32.981581Z",
     "start_time": "2021-06-17T14:09:31.355509Z"
    }
   },
   "outputs": [],
   "source": [
    "import numpy as np \n",
    "import pandas as pd\n",
    "from datetime import datetime\n",
    "import matplotlib.pyplot as plt\n",
    "from matplotlib.offsetbox import AnchoredText\n",
    "import seaborn as sns\n",
    "import plotly.graph_objects as go\n",
    "\n",
    "plt.style.use(\"default\")\n",
    "sns.set_style('whitegrid')\n",
    "%matplotlib inline\n",
    "\n",
    "pd.set_option('display.float', '{:.2f}'.format)\n",
    "pd.set_option('display.max_columns', 151)\n",
    "pd.set_option('display.max_rows', 50)"
   ]
  },
  {
   "cell_type": "code",
   "execution_count": 2,
   "id": "9e321bd7",
   "metadata": {
    "ExecuteTime": {
     "end_time": "2021-06-17T14:10:03.875803Z",
     "start_time": "2021-06-17T14:09:32.983539Z"
    },
    "scrolled": true
   },
   "outputs": [
    {
     "name": "stderr",
     "output_type": "stream",
     "text": [
      "C:\\Users\\Daniel\\anaconda3\\lib\\site-packages\\IPython\\core\\interactiveshell.py:3165: DtypeWarning: Columns (0,19,49,59,118,129,130,131,134,135,136,139,145,146,147) have mixed types.Specify dtype option on import or set low_memory=False.\n",
      "  has_raised = await self.run_ast_nodes(code_ast.body, cell_name,\n"
     ]
    }
   ],
   "source": [
    "data = pd.read_csv(\"G:\\\\Lending Club Data Files\\\\accepted_2007_to_2018Q4.csv\")\n",
    "#data = pd.read_csv(\"data\\accepted_2007_to_2018Q4.csv\")"
   ]
  },
  {
   "cell_type": "code",
   "execution_count": 23,
   "id": "fe73c3b9",
   "metadata": {
    "ExecuteTime": {
     "end_time": "2021-06-17T14:25:26.611130Z",
     "start_time": "2021-06-17T14:25:26.483901Z"
    }
   },
   "outputs": [
    {
     "data": {
      "text/html": [
       "<div>\n",
       "<style scoped>\n",
       "    .dataframe tbody tr th:only-of-type {\n",
       "        vertical-align: middle;\n",
       "    }\n",
       "\n",
       "    .dataframe tbody tr th {\n",
       "        vertical-align: top;\n",
       "    }\n",
       "\n",
       "    .dataframe thead th {\n",
       "        text-align: right;\n",
       "    }\n",
       "</style>\n",
       "<table border=\"1\" class=\"dataframe\">\n",
       "  <thead>\n",
       "    <tr style=\"text-align: right;\">\n",
       "      <th></th>\n",
       "      <th>id</th>\n",
       "      <th>member_id</th>\n",
       "      <th>loan_amnt</th>\n",
       "      <th>funded_amnt</th>\n",
       "      <th>funded_amnt_inv</th>\n",
       "      <th>term</th>\n",
       "      <th>int_rate</th>\n",
       "      <th>installment</th>\n",
       "      <th>grade</th>\n",
       "      <th>sub_grade</th>\n",
       "      <th>emp_title</th>\n",
       "      <th>emp_length</th>\n",
       "      <th>home_ownership</th>\n",
       "      <th>annual_inc</th>\n",
       "      <th>verification_status</th>\n",
       "      <th>issue_d</th>\n",
       "      <th>loan_status</th>\n",
       "      <th>pymnt_plan</th>\n",
       "      <th>url</th>\n",
       "      <th>desc</th>\n",
       "      <th>purpose</th>\n",
       "      <th>title</th>\n",
       "      <th>zip_code</th>\n",
       "      <th>addr_state</th>\n",
       "      <th>dti</th>\n",
       "      <th>delinq_2yrs</th>\n",
       "      <th>earliest_cr_line</th>\n",
       "      <th>fico_range_low</th>\n",
       "      <th>fico_range_high</th>\n",
       "      <th>inq_last_6mths</th>\n",
       "      <th>mths_since_last_delinq</th>\n",
       "      <th>mths_since_last_record</th>\n",
       "      <th>open_acc</th>\n",
       "      <th>pub_rec</th>\n",
       "      <th>revol_bal</th>\n",
       "      <th>revol_util</th>\n",
       "      <th>total_acc</th>\n",
       "      <th>initial_list_status</th>\n",
       "      <th>out_prncp</th>\n",
       "      <th>out_prncp_inv</th>\n",
       "      <th>total_pymnt</th>\n",
       "      <th>total_pymnt_inv</th>\n",
       "      <th>total_rec_prncp</th>\n",
       "      <th>total_rec_int</th>\n",
       "      <th>total_rec_late_fee</th>\n",
       "      <th>recoveries</th>\n",
       "      <th>collection_recovery_fee</th>\n",
       "      <th>last_pymnt_d</th>\n",
       "      <th>last_pymnt_amnt</th>\n",
       "      <th>next_pymnt_d</th>\n",
       "      <th>last_credit_pull_d</th>\n",
       "      <th>last_fico_range_high</th>\n",
       "      <th>last_fico_range_low</th>\n",
       "      <th>collections_12_mths_ex_med</th>\n",
       "      <th>mths_since_last_major_derog</th>\n",
       "      <th>policy_code</th>\n",
       "      <th>application_type</th>\n",
       "      <th>annual_inc_joint</th>\n",
       "      <th>dti_joint</th>\n",
       "      <th>verification_status_joint</th>\n",
       "      <th>acc_now_delinq</th>\n",
       "      <th>tot_coll_amt</th>\n",
       "      <th>tot_cur_bal</th>\n",
       "      <th>open_acc_6m</th>\n",
       "      <th>open_act_il</th>\n",
       "      <th>open_il_12m</th>\n",
       "      <th>open_il_24m</th>\n",
       "      <th>mths_since_rcnt_il</th>\n",
       "      <th>total_bal_il</th>\n",
       "      <th>il_util</th>\n",
       "      <th>open_rv_12m</th>\n",
       "      <th>open_rv_24m</th>\n",
       "      <th>max_bal_bc</th>\n",
       "      <th>all_util</th>\n",
       "      <th>total_rev_hi_lim</th>\n",
       "      <th>inq_fi</th>\n",
       "      <th>total_cu_tl</th>\n",
       "      <th>inq_last_12m</th>\n",
       "      <th>acc_open_past_24mths</th>\n",
       "      <th>avg_cur_bal</th>\n",
       "      <th>bc_open_to_buy</th>\n",
       "      <th>bc_util</th>\n",
       "      <th>chargeoff_within_12_mths</th>\n",
       "      <th>delinq_amnt</th>\n",
       "      <th>mo_sin_old_il_acct</th>\n",
       "      <th>mo_sin_old_rev_tl_op</th>\n",
       "      <th>mo_sin_rcnt_rev_tl_op</th>\n",
       "      <th>mo_sin_rcnt_tl</th>\n",
       "      <th>mort_acc</th>\n",
       "      <th>mths_since_recent_bc</th>\n",
       "      <th>mths_since_recent_bc_dlq</th>\n",
       "      <th>mths_since_recent_inq</th>\n",
       "      <th>mths_since_recent_revol_delinq</th>\n",
       "      <th>num_accts_ever_120_pd</th>\n",
       "      <th>num_actv_bc_tl</th>\n",
       "      <th>num_actv_rev_tl</th>\n",
       "      <th>num_bc_sats</th>\n",
       "      <th>num_bc_tl</th>\n",
       "      <th>num_il_tl</th>\n",
       "      <th>num_op_rev_tl</th>\n",
       "      <th>num_rev_accts</th>\n",
       "      <th>num_rev_tl_bal_gt_0</th>\n",
       "      <th>num_sats</th>\n",
       "      <th>num_tl_120dpd_2m</th>\n",
       "      <th>num_tl_30dpd</th>\n",
       "      <th>num_tl_90g_dpd_24m</th>\n",
       "      <th>num_tl_op_past_12m</th>\n",
       "      <th>pct_tl_nvr_dlq</th>\n",
       "      <th>percent_bc_gt_75</th>\n",
       "      <th>pub_rec_bankruptcies</th>\n",
       "      <th>tax_liens</th>\n",
       "      <th>tot_hi_cred_lim</th>\n",
       "      <th>total_bal_ex_mort</th>\n",
       "      <th>total_bc_limit</th>\n",
       "      <th>total_il_high_credit_limit</th>\n",
       "      <th>revol_bal_joint</th>\n",
       "      <th>sec_app_fico_range_low</th>\n",
       "      <th>sec_app_fico_range_high</th>\n",
       "      <th>sec_app_earliest_cr_line</th>\n",
       "      <th>sec_app_inq_last_6mths</th>\n",
       "      <th>sec_app_mort_acc</th>\n",
       "      <th>sec_app_open_acc</th>\n",
       "      <th>sec_app_revol_util</th>\n",
       "      <th>sec_app_open_act_il</th>\n",
       "      <th>sec_app_num_rev_accts</th>\n",
       "      <th>sec_app_chargeoff_within_12_mths</th>\n",
       "      <th>sec_app_collections_12_mths_ex_med</th>\n",
       "      <th>sec_app_mths_since_last_major_derog</th>\n",
       "      <th>hardship_flag</th>\n",
       "      <th>hardship_type</th>\n",
       "      <th>hardship_reason</th>\n",
       "      <th>hardship_status</th>\n",
       "      <th>deferral_term</th>\n",
       "      <th>hardship_amount</th>\n",
       "      <th>hardship_start_date</th>\n",
       "      <th>hardship_end_date</th>\n",
       "      <th>payment_plan_start_date</th>\n",
       "      <th>hardship_length</th>\n",
       "      <th>hardship_dpd</th>\n",
       "      <th>hardship_loan_status</th>\n",
       "      <th>orig_projected_additional_accrued_interest</th>\n",
       "      <th>hardship_payoff_balance_amount</th>\n",
       "      <th>hardship_last_payment_amount</th>\n",
       "      <th>disbursement_method</th>\n",
       "      <th>debt_settlement_flag</th>\n",
       "      <th>debt_settlement_flag_date</th>\n",
       "      <th>settlement_status</th>\n",
       "      <th>settlement_date</th>\n",
       "      <th>settlement_amount</th>\n",
       "      <th>settlement_percentage</th>\n",
       "      <th>settlement_term</th>\n",
       "    </tr>\n",
       "  </thead>\n",
       "  <tbody>\n",
       "    <tr>\n",
       "      <th>1088231</th>\n",
       "      <td>70141197</td>\n",
       "      <td>NaN</td>\n",
       "      <td>7575.00</td>\n",
       "      <td>7575.00</td>\n",
       "      <td>7575.00</td>\n",
       "      <td>36 months</td>\n",
       "      <td>16.59</td>\n",
       "      <td>268.53</td>\n",
       "      <td>D</td>\n",
       "      <td>D2</td>\n",
       "      <td>truck driver</td>\n",
       "      <td>1 year</td>\n",
       "      <td>RENT</td>\n",
       "      <td>65000.00</td>\n",
       "      <td>Verified</td>\n",
       "      <td>2016-02-01</td>\n",
       "      <td>Fully Paid</td>\n",
       "      <td>n</td>\n",
       "      <td>https://lendingclub.com/browse/loanDetail.acti...</td>\n",
       "      <td>NaN</td>\n",
       "      <td>credit_card</td>\n",
       "      <td>Credit card refinancing</td>\n",
       "      <td>386xx</td>\n",
       "      <td>MS</td>\n",
       "      <td>16.27</td>\n",
       "      <td>1.00</td>\n",
       "      <td>Apr-2007</td>\n",
       "      <td>660.00</td>\n",
       "      <td>664.00</td>\n",
       "      <td>2.00</td>\n",
       "      <td>14.00</td>\n",
       "      <td>NaN</td>\n",
       "      <td>7.00</td>\n",
       "      <td>0.00</td>\n",
       "      <td>8349.00</td>\n",
       "      <td>76.60</td>\n",
       "      <td>10.00</td>\n",
       "      <td>w</td>\n",
       "      <td>0.00</td>\n",
       "      <td>0.00</td>\n",
       "      <td>8742.67</td>\n",
       "      <td>8742.67</td>\n",
       "      <td>7575.00</td>\n",
       "      <td>1167.67</td>\n",
       "      <td>0.00</td>\n",
       "      <td>0.00</td>\n",
       "      <td>0.00</td>\n",
       "      <td>Feb-2017</td>\n",
       "      <td>5789.14</td>\n",
       "      <td>NaN</td>\n",
       "      <td>Nov-2017</td>\n",
       "      <td>604.00</td>\n",
       "      <td>600.00</td>\n",
       "      <td>0.00</td>\n",
       "      <td>78.00</td>\n",
       "      <td>1.00</td>\n",
       "      <td>Individual</td>\n",
       "      <td>NaN</td>\n",
       "      <td>NaN</td>\n",
       "      <td>NaN</td>\n",
       "      <td>0.00</td>\n",
       "      <td>69.00</td>\n",
       "      <td>27685.00</td>\n",
       "      <td>1.00</td>\n",
       "      <td>1.00</td>\n",
       "      <td>1.00</td>\n",
       "      <td>1.00</td>\n",
       "      <td>4.00</td>\n",
       "      <td>19336.00</td>\n",
       "      <td>74.00</td>\n",
       "      <td>2.00</td>\n",
       "      <td>5.00</td>\n",
       "      <td>1023.00</td>\n",
       "      <td>75.00</td>\n",
       "      <td>10900.00</td>\n",
       "      <td>2.00</td>\n",
       "      <td>3.00</td>\n",
       "      <td>4.00</td>\n",
       "      <td>6.00</td>\n",
       "      <td>3955.00</td>\n",
       "      <td>891.00</td>\n",
       "      <td>57.60</td>\n",
       "      <td>0.00</td>\n",
       "      <td>0.00</td>\n",
       "      <td>35.00</td>\n",
       "      <td>105.00</td>\n",
       "      <td>8.00</td>\n",
       "      <td>4.00</td>\n",
       "      <td>0.00</td>\n",
       "      <td>18.00</td>\n",
       "      <td>14.00</td>\n",
       "      <td>5.00</td>\n",
       "      <td>14.00</td>\n",
       "      <td>1.00</td>\n",
       "      <td>2.00</td>\n",
       "      <td>3.00</td>\n",
       "      <td>3.00</td>\n",
       "      <td>5.00</td>\n",
       "      <td>2.00</td>\n",
       "      <td>5.00</td>\n",
       "      <td>8.00</td>\n",
       "      <td>3.00</td>\n",
       "      <td>7.00</td>\n",
       "      <td>0.00</td>\n",
       "      <td>0.00</td>\n",
       "      <td>0.00</td>\n",
       "      <td>3.00</td>\n",
       "      <td>80.00</td>\n",
       "      <td>33.30</td>\n",
       "      <td>0.00</td>\n",
       "      <td>0.00</td>\n",
       "      <td>37107.00</td>\n",
       "      <td>27685.00</td>\n",
       "      <td>2100.00</td>\n",
       "      <td>26207.00</td>\n",
       "      <td>NaN</td>\n",
       "      <td>NaN</td>\n",
       "      <td>NaN</td>\n",
       "      <td>NaN</td>\n",
       "      <td>NaN</td>\n",
       "      <td>NaN</td>\n",
       "      <td>NaN</td>\n",
       "      <td>NaN</td>\n",
       "      <td>NaN</td>\n",
       "      <td>NaN</td>\n",
       "      <td>NaN</td>\n",
       "      <td>NaN</td>\n",
       "      <td>NaN</td>\n",
       "      <td>N</td>\n",
       "      <td>NaN</td>\n",
       "      <td>NaN</td>\n",
       "      <td>NaN</td>\n",
       "      <td>NaN</td>\n",
       "      <td>NaN</td>\n",
       "      <td>NaN</td>\n",
       "      <td>NaN</td>\n",
       "      <td>NaN</td>\n",
       "      <td>NaN</td>\n",
       "      <td>NaN</td>\n",
       "      <td>NaN</td>\n",
       "      <td>NaN</td>\n",
       "      <td>NaN</td>\n",
       "      <td>NaN</td>\n",
       "      <td>Cash</td>\n",
       "      <td>N</td>\n",
       "      <td>NaN</td>\n",
       "      <td>NaN</td>\n",
       "      <td>NaN</td>\n",
       "      <td>NaN</td>\n",
       "      <td>NaN</td>\n",
       "      <td>NaN</td>\n",
       "    </tr>\n",
       "  </tbody>\n",
       "</table>\n",
       "</div>"
      ],
      "text/plain": [
       "               id  member_id  loan_amnt  funded_amnt  funded_amnt_inv  \\\n",
       "1088231  70141197        NaN    7575.00      7575.00          7575.00   \n",
       "\n",
       "               term  int_rate  installment grade sub_grade      emp_title  \\\n",
       "1088231   36 months     16.59       268.53     D        D2  truck driver    \n",
       "\n",
       "        emp_length home_ownership  annual_inc verification_status    issue_d  \\\n",
       "1088231     1 year           RENT    65000.00            Verified 2016-02-01   \n",
       "\n",
       "        loan_status pymnt_plan  \\\n",
       "1088231  Fully Paid          n   \n",
       "\n",
       "                                                       url desc      purpose  \\\n",
       "1088231  https://lendingclub.com/browse/loanDetail.acti...  NaN  credit_card   \n",
       "\n",
       "                           title zip_code addr_state   dti  delinq_2yrs  \\\n",
       "1088231  Credit card refinancing    386xx         MS 16.27         1.00   \n",
       "\n",
       "        earliest_cr_line  fico_range_low  fico_range_high  inq_last_6mths  \\\n",
       "1088231         Apr-2007          660.00           664.00            2.00   \n",
       "\n",
       "         mths_since_last_delinq  mths_since_last_record  open_acc  pub_rec  \\\n",
       "1088231                   14.00                     NaN      7.00     0.00   \n",
       "\n",
       "         revol_bal  revol_util  total_acc initial_list_status  out_prncp  \\\n",
       "1088231    8349.00       76.60      10.00                   w       0.00   \n",
       "\n",
       "         out_prncp_inv  total_pymnt  total_pymnt_inv  total_rec_prncp  \\\n",
       "1088231           0.00      8742.67          8742.67          7575.00   \n",
       "\n",
       "         total_rec_int  total_rec_late_fee  recoveries  \\\n",
       "1088231        1167.67                0.00        0.00   \n",
       "\n",
       "         collection_recovery_fee last_pymnt_d  last_pymnt_amnt next_pymnt_d  \\\n",
       "1088231                     0.00     Feb-2017          5789.14          NaN   \n",
       "\n",
       "        last_credit_pull_d  last_fico_range_high  last_fico_range_low  \\\n",
       "1088231           Nov-2017                604.00               600.00   \n",
       "\n",
       "         collections_12_mths_ex_med  mths_since_last_major_derog  policy_code  \\\n",
       "1088231                        0.00                        78.00         1.00   \n",
       "\n",
       "        application_type  annual_inc_joint  dti_joint  \\\n",
       "1088231       Individual               NaN        NaN   \n",
       "\n",
       "        verification_status_joint  acc_now_delinq  tot_coll_amt  tot_cur_bal  \\\n",
       "1088231                       NaN            0.00         69.00     27685.00   \n",
       "\n",
       "         open_acc_6m  open_act_il  open_il_12m  open_il_24m  \\\n",
       "1088231         1.00         1.00         1.00         1.00   \n",
       "\n",
       "         mths_since_rcnt_il  total_bal_il  il_util  open_rv_12m  open_rv_24m  \\\n",
       "1088231                4.00      19336.00    74.00         2.00         5.00   \n",
       "\n",
       "         max_bal_bc  all_util  total_rev_hi_lim  inq_fi  total_cu_tl  \\\n",
       "1088231     1023.00     75.00          10900.00    2.00         3.00   \n",
       "\n",
       "         inq_last_12m  acc_open_past_24mths  avg_cur_bal  bc_open_to_buy  \\\n",
       "1088231          4.00                  6.00      3955.00          891.00   \n",
       "\n",
       "         bc_util  chargeoff_within_12_mths  delinq_amnt  mo_sin_old_il_acct  \\\n",
       "1088231    57.60                      0.00         0.00               35.00   \n",
       "\n",
       "         mo_sin_old_rev_tl_op  mo_sin_rcnt_rev_tl_op  mo_sin_rcnt_tl  \\\n",
       "1088231                105.00                   8.00            4.00   \n",
       "\n",
       "         mort_acc  mths_since_recent_bc  mths_since_recent_bc_dlq  \\\n",
       "1088231      0.00                 18.00                     14.00   \n",
       "\n",
       "         mths_since_recent_inq  mths_since_recent_revol_delinq  \\\n",
       "1088231                   5.00                           14.00   \n",
       "\n",
       "         num_accts_ever_120_pd  num_actv_bc_tl  num_actv_rev_tl  num_bc_sats  \\\n",
       "1088231                   1.00            2.00             3.00         3.00   \n",
       "\n",
       "         num_bc_tl  num_il_tl  num_op_rev_tl  num_rev_accts  \\\n",
       "1088231       5.00       2.00           5.00           8.00   \n",
       "\n",
       "         num_rev_tl_bal_gt_0  num_sats  num_tl_120dpd_2m  num_tl_30dpd  \\\n",
       "1088231                 3.00      7.00              0.00          0.00   \n",
       "\n",
       "         num_tl_90g_dpd_24m  num_tl_op_past_12m  pct_tl_nvr_dlq  \\\n",
       "1088231                0.00                3.00           80.00   \n",
       "\n",
       "         percent_bc_gt_75  pub_rec_bankruptcies  tax_liens  tot_hi_cred_lim  \\\n",
       "1088231             33.30                  0.00       0.00         37107.00   \n",
       "\n",
       "         total_bal_ex_mort  total_bc_limit  total_il_high_credit_limit  \\\n",
       "1088231           27685.00         2100.00                    26207.00   \n",
       "\n",
       "         revol_bal_joint  sec_app_fico_range_low  sec_app_fico_range_high  \\\n",
       "1088231              NaN                     NaN                      NaN   \n",
       "\n",
       "        sec_app_earliest_cr_line  sec_app_inq_last_6mths  sec_app_mort_acc  \\\n",
       "1088231                      NaN                     NaN               NaN   \n",
       "\n",
       "         sec_app_open_acc  sec_app_revol_util  sec_app_open_act_il  \\\n",
       "1088231               NaN                 NaN                  NaN   \n",
       "\n",
       "         sec_app_num_rev_accts  sec_app_chargeoff_within_12_mths  \\\n",
       "1088231                    NaN                               NaN   \n",
       "\n",
       "         sec_app_collections_12_mths_ex_med  \\\n",
       "1088231                                 NaN   \n",
       "\n",
       "         sec_app_mths_since_last_major_derog hardship_flag hardship_type  \\\n",
       "1088231                                  NaN             N           NaN   \n",
       "\n",
       "        hardship_reason hardship_status  deferral_term  hardship_amount  \\\n",
       "1088231             NaN             NaN            NaN              NaN   \n",
       "\n",
       "        hardship_start_date hardship_end_date payment_plan_start_date  \\\n",
       "1088231                 NaN               NaN                     NaN   \n",
       "\n",
       "         hardship_length  hardship_dpd hardship_loan_status  \\\n",
       "1088231              NaN           NaN                  NaN   \n",
       "\n",
       "         orig_projected_additional_accrued_interest  \\\n",
       "1088231                                         NaN   \n",
       "\n",
       "         hardship_payoff_balance_amount  hardship_last_payment_amount  \\\n",
       "1088231                             NaN                           NaN   \n",
       "\n",
       "        disbursement_method debt_settlement_flag debt_settlement_flag_date  \\\n",
       "1088231                Cash                    N                       NaN   \n",
       "\n",
       "        settlement_status settlement_date  settlement_amount  \\\n",
       "1088231               NaN             NaN                NaN   \n",
       "\n",
       "         settlement_percentage  settlement_term  \n",
       "1088231                    NaN              NaN  "
      ]
     },
     "execution_count": 23,
     "metadata": {},
     "output_type": "execute_result"
    }
   ],
   "source": [
    "data.sample(1)"
   ]
  },
  {
   "cell_type": "markdown",
   "id": "13cf9a6d",
   "metadata": {},
   "source": [
    "## Understanding the Data"
   ]
  },
  {
   "cell_type": "code",
   "execution_count": 4,
   "id": "0c1d8a72",
   "metadata": {
    "ExecuteTime": {
     "end_time": "2021-06-17T14:10:04.033174Z",
     "start_time": "2021-06-17T14:10:04.018750Z"
    },
    "scrolled": true
   },
   "outputs": [
    {
     "data": {
      "text/plain": [
       "(2260701, 151)"
      ]
     },
     "execution_count": 4,
     "metadata": {},
     "output_type": "execute_result"
    }
   ],
   "source": [
    "data.shape"
   ]
  },
  {
   "cell_type": "markdown",
   "id": "ed2dfd28",
   "metadata": {},
   "source": [
    "### Exploring Value of Loans Issued"
   ]
  },
  {
   "cell_type": "code",
   "execution_count": 5,
   "id": "afeb22f7",
   "metadata": {
    "ExecuteTime": {
     "end_time": "2021-06-17T14:10:04.189532Z",
     "start_time": "2021-06-17T14:10:04.034172Z"
    }
   },
   "outputs": [],
   "source": [
    "loans_issued = data.groupby('issue_d')['loan_amnt'].sum().reset_index()\n",
    "loans_issued['issue_d'] = pd.DatetimeIndex(loans_issued['issue_d']).year\n",
    "loans_issued = loans_issued.groupby('issue_d').sum().reset_index()"
   ]
  },
  {
   "cell_type": "code",
   "execution_count": 6,
   "id": "7d150836",
   "metadata": {
    "ExecuteTime": {
     "end_time": "2021-06-17T14:10:04.737329Z",
     "start_time": "2021-06-17T14:10:04.191527Z"
    }
   },
   "outputs": [
    {
     "data": {
      "image/png": "[encoded data removed]",
      "text/plain": [
       "<Figure size 432x288 with 1 Axes>"
      ]
     },
     "metadata": {
      "needs_background": "light"
     },
     "output_type": "display_data"
    }
   ],
   "source": [
    "plt.rcParams.update({'font.size': 12})\n",
    "f, ax = plt.subplots()\n",
    "ax.bar(loans_issued.issue_d, loans_issued.loan_amnt)\n",
    "# ax.tick_params(axis='y')\n",
    "ax.set_ylabel('Loans in Billions')\n",
    "ax.set(xlabel=\"Year\",\n",
    "      title=\"Value of Loans Issued\")\n",
    "f.tight_layout()  # otherwise the right y-label is slightly clipped\n",
    "plt.yticks(ax.get_yticks(), (ax.get_yticks() / 1000000000).astype(int))\n",
    "# plt.xticks(loans_issued.issue_d)\n",
    "plt.show()\n",
    "f.savefig('./images/value_of_loans.png', facecolor=f.get_facecolor(), transparent=True, dpi=500)"
   ]
  },
  {
   "cell_type": "markdown",
   "id": "d4a3aba8",
   "metadata": {},
   "source": [
    "### Exploring the Target Variable"
   ]
  },
  {
   "cell_type": "code",
   "execution_count": 7,
   "id": "e59d9d03",
   "metadata": {
    "ExecuteTime": {
     "end_time": "2021-06-17T14:10:04.911275Z",
     "start_time": "2021-06-17T14:10:04.738645Z"
    }
   },
   "outputs": [],
   "source": [
    "loan_status = data['loan_status'].value_counts().reset_index()\n",
    "loan_status.columns = ['loan_status', 'count']\n",
    "loan_status = loan_status[loan_status['loan_status'].isin(['Fully Paid', 'Charged Off'])]"
   ]
  },
  {
   "cell_type": "code",
   "execution_count": 8,
   "id": "16c7ea02",
   "metadata": {
    "ExecuteTime": {
     "end_time": "2021-06-17T14:10:05.287827Z",
     "start_time": "2021-06-17T14:10:04.913267Z"
    }
   },
   "outputs": [
    {
     "data": {
      "image/png": "[encoded data removed]",
      "text/plain": [
       "<Figure size 480x320 with 1 Axes>"
      ]
     },
     "metadata": {},
     "output_type": "display_data"
    }
   ],
   "source": [
    "plt.rcParams['figure.dpi'] = 80\n",
    "plt.rcParams.update({'font.size': 14})\n",
    "f, ax = plt.subplots()\n",
    "types = ['Fully Paid', 'Charged Off']\n",
    "ax.pie(x=loan_status['count'], labels = types, autopct='%1.1f%%', colors=('darkred','orangered'))\n",
    "plt.show()\n",
    "f.savefig('./images/pie_loan_status.png', facecolor=f.get_facecolor(), transparent=True, dpi=500)"
   ]
  },
  {
   "cell_type": "markdown",
   "id": "82f0a582",
   "metadata": {},
   "source": [
    "As expected we are dealing with an imbalanced dataset since one class represents only 20% of observations. In this case the null model, always guessing the fully paid class, would have an 80% accuracy. We have to work to improve on this null model. Using metrics other than accuracy such as specificity, sensitivity, F1, and area under the curve (AUC) we should get a better diagnostic of how well our model is working. In any case, our final performance metric should be one that measures the profit generated by the investor.\n",
    "\n",
    "We might also want to do under-sampling or over-sampling, which either reduces the number of samples of the over represented observations or increases the under represented class. Furthermore, some algorithms on scikit learn can also account for unbalanced models."
   ]
  },
  {
   "cell_type": "markdown",
   "id": "080a5f34",
   "metadata": {},
   "source": [
    "### Exploring Loan Amount and Income"
   ]
  },
  {
   "cell_type": "code",
   "execution_count": 9,
   "id": "5f1e6701",
   "metadata": {
    "ExecuteTime": {
     "end_time": "2021-06-17T14:10:06.010873Z",
     "start_time": "2021-06-17T14:10:05.290517Z"
    }
   },
   "outputs": [],
   "source": [
    "data['issue_d'] = pd.to_datetime(data['issue_d'])"
   ]
  },
  {
   "cell_type": "code",
   "execution_count": 10,
   "id": "3a5ef1fd",
   "metadata": {
    "ExecuteTime": {
     "end_time": "2021-06-17T14:10:10.064182Z",
     "start_time": "2021-06-17T14:10:06.012375Z"
    }
   },
   "outputs": [],
   "source": [
    "loan_percent_income = data.groupby(pd.Grouper(key='issue_d',freq='Y'))[['loan_amnt', 'annual_inc']].mean().reset_index()\n",
    "loan_percent_income['percent'] = loan_percent_income['loan_amnt']/loan_percent_income['annual_inc']\n",
    "loan_percent_income['issue_d'] = pd.DatetimeIndex(loan_percent_income['issue_d']).year"
   ]
  },
  {
   "cell_type": "code",
   "execution_count": 11,
   "id": "988839ad",
   "metadata": {
    "ExecuteTime": {
     "end_time": "2021-06-17T14:10:10.880589Z",
     "start_time": "2021-06-17T14:10:10.065190Z"
    },
    "scrolled": true
   },
   "outputs": [
    {
     "data": {
      "image/png": "[encoded data removed]",
      "text/plain": [
       "<Figure size 480x320 with 2 Axes>"
      ]
     },
     "metadata": {},
     "output_type": "display_data"
    }
   ],
   "source": [
    "plt.rcParams.update({'font.size': 10})\n",
    "f, ax = plt.subplots()\n",
    "ax.grid(False)\n",
    "color = 'salmon'\n",
    "ax.bar(loan_percent_income.issue_d, loan_percent_income.loan_amnt, color=color)\n",
    "ax.tick_params(axis='y', labelcolor=color)\n",
    "ax.set_ylabel('Avg. Loan Amount', color=color)\n",
    "ax.set(xlabel=\"Year\",\n",
    "      title=\"Avg. Loan Size and Share of Income by Year\")\n",
    "\n",
    "ax2 = ax.twinx()\n",
    "\n",
    "color = 'navy'\n",
    "ax2.set_ylabel('Loan Size as Share of Income', color=color)  # we already handled the x-label with ax1\n",
    "ax2.plot(loan_percent_income.issue_d, loan_percent_income.percent, color=color)\n",
    "ax2.tick_params(axis='y', labelcolor=color)\n",
    "plt.xticks(loan_percent_income.issue_d)\n",
    "\n",
    "f.tight_layout()  # otherwise the right y-label is slightly clipped\n",
    "plt.show()\n",
    "f.savefig('./images/avg_loan_byyear.png', facecolor=f.get_facecolor(), transparent=True, dpi=500)"
   ]
  },
  {
   "cell_type": "markdown",
   "id": "070da593",
   "metadata": {},
   "source": [
    "### Exploring Loan Purpose"
   ]
  },
  {
   "cell_type": "code",
   "execution_count": 12,
   "id": "5ca21d05",
   "metadata": {
    "ExecuteTime": {
     "end_time": "2021-06-17T14:10:15.183218Z",
     "start_time": "2021-06-17T14:10:10.881588Z"
    }
   },
   "outputs": [],
   "source": [
    "purpose = data.groupby([pd.Grouper(key='issue_d',freq='Y'), 'purpose']).size().reset_index()\n",
    "purpose.columns = ['issue_d','purpose','count']\n",
    "purpose['issue_d'] = pd.DatetimeIndex(purpose['issue_d']).year\n",
    "purpose = purpose.pivot(index='issue_d', columns='purpose', values='count')\n",
    "purpose = purpose.reset_index()\n",
    "purpose['sum'] = purpose.iloc[:,1:].sum(axis=1)\n",
    "purpose = purpose.fillna(0)\n",
    "purpose.iloc[:, 1:-1]=purpose.iloc[:, 1:-1].div(purpose['sum'], axis=0)\n",
    "purpose.drop('sum', axis=1, inplace=True)\n",
    "purpose.sort_values(by=11, axis=1, ascending=False, inplace=True)"
   ]
  },
  {
   "cell_type": "code",
   "execution_count": 137,
   "id": "a8cbab74",
   "metadata": {
    "ExecuteTime": {
     "end_time": "2021-06-17T23:01:49.631063Z",
     "start_time": "2021-06-17T23:01:48.411058Z"
    },
    "scrolled": true
   },
   "outputs": [
    {
     "data": {
      "image/png": "[encoded data removed]",
      "text/plain": [
       "<Figure size 480x320 with 1 Axes>"
      ]
     },
     "metadata": {},
     "output_type": "display_data"
    }
   ],
   "source": [
    "ax = purpose.plot(x='issue_d', kind='bar', stacked=True, colormap='tab20')\n",
    "ax.set_ylabel('Percentage')\n",
    "ax.set_xlabel('Year')\n",
    "plt.legend(title='Purpose', bbox_to_anchor=(1.0, 1), loc='upper left')\n",
    "plt.tight_layout()  # otherwise the right y-label is slightly clipped\n",
    "plt.savefig('./images/purpose.png', dpi=500)\n",
    "plt.show()"
   ]
  },
  {
   "cell_type": "markdown",
   "id": "ff581eaa",
   "metadata": {},
   "source": [
    "### Exploring Location of Borrowers"
   ]
  },
  {
   "cell_type": "code",
   "execution_count": 38,
   "id": "d9519ece",
   "metadata": {
    "ExecuteTime": {
     "end_time": "2021-06-17T14:37:29.661500Z",
     "start_time": "2021-06-17T14:37:29.435023Z"
    }
   },
   "outputs": [],
   "source": [
    "states = data.groupby(['addr_state','issue_d'])['loan_amnt'].sum().reset_index()\n",
    "states['issue_d'] = pd.DatetimeIndex(states['issue_d']).year\n",
    "states = states.groupby(['addr_state','issue_d'])['loan_amnt'].sum().reset_index()\n",
    "states['loan_amnt'] = round(states['loan_amnt']/1000000)\n",
    "states = states[states['issue_d']==2018]"
   ]
  },
  {
   "cell_type": "code",
   "execution_count": 39,
   "id": "31993701",
   "metadata": {
    "ExecuteTime": {
     "end_time": "2021-06-17T14:37:30.809332Z",
     "start_time": "2021-06-17T14:37:30.659366Z"
    }
   },
   "outputs": [
    {
     "data": {
      "application/vnd.plotly.v1+json": {
       "config": {
        "plotlyServerURL": "https://plot.ly"
       },
       "data": [
        {
         "colorbar": {
          "title": {
           "text": "Millions USD"
          }
         },
         "colorscale": [
          [
           0,
           "rgb(255,245,240)"
          ],
          [
           0.125,
           "rgb(254,224,210)"
          ],
          [
           0.25,
           "rgb(252,187,161)"
          ],
          [
           0.375,
           "rgb(252,146,114)"
          ],
          [
           0.5,
           "rgb(251,106,74)"
          ],
          [
           0.625,
           "rgb(239,59,44)"
          ],
          [
           0.75,
           "rgb(203,24,29)"
          ],
          [
           0.875,
           "rgb(165,15,21)"
          ],
          [
           1,
           "rgb(103,0,13)"
          ]
         ],
         "locationmode": "USA-states",
         "locations": [
          "AK",
          "AL",
          "AR",
          "AZ",
          "CA",
          "CO",
          "CT",
          "DC",
          "DE",
          "FL",
          "GA",
          "HI",
          "ID",
          "IL",
          "IN",
          "KS",
          "KY",
          "LA",
          "MA",
          "MD",
          "ME",
          "MI",
          "MN",
          "MO",
          "MS",
          "MT",
          "NC",
          "ND",
          "NE",
          "NH",
          "NJ",
          "NM",
          "NV",
          "NY",
          "OH",
          "OK",
          "OR",
          "PA",
          "RI",
          "SC",
          "SD",
          "TN",
          "TX",
          "UT",
          "VA",
          "VT",
          "WA",
          "WI",
          "WV",
          "WY"
         ],
         "type": "choropleth",
         "z": [
          19,
          87,
          57,
          188,
          1111,
          178,
          129,
          17,
          23,
          582,
          269,
          37,
          26,
          322,
          130,
          63,
          72,
          81,
          182,
          204,
          25,
          191,
          127,
          120,
          48,
          21,
          216,
          18,
          36,
          39,
          300,
          40,
          118,
          625,
          244,
          73,
          92,
          250,
          35,
          101,
          15,
          126,
          678,
          52,
          222,
          17,
          169,
          101,
          45,
          16
         ]
        }
       ],
       "layout": {
        "geo": {
         "scope": "usa"
        },
        "template": {
         "data": {
          "bar": [
           {
            "error_x": {
             "color": "#2a3f5f"
            },
            "error_y": {
             "color": "#2a3f5f"
            },
            "marker": {
             "line": {
              "color": "#E5ECF6",
              "width": 0.5
             }
            },
            "type": "bar"
           }
          ],
          "barpolar": [
           {
            "marker": {
             "line": {
              "color": "#E5ECF6",
              "width": 0.5
             }
            },
            "type": "barpolar"
           }
          ],
          "carpet": [
           {
            "aaxis": {
             "endlinecolor": "#2a3f5f",
             "gridcolor": "white",
             "linecolor": "white",
             "minorgridcolor": "white",
             "startlinecolor": "#2a3f5f"
            },
            "baxis": {
             "endlinecolor": "#2a3f5f",
             "gridcolor": "white",
             "linecolor": "white",
             "minorgridcolor": "white",
             "startlinecolor": "#2a3f5f"
            },
            "type": "carpet"
           }
          ],
          "choropleth": [
           {
            "colorbar": {
             "outlinewidth": 0,
             "ticks": ""
            },
            "type": "choropleth"
           }
          ],
          "contour": [
           {
            "colorbar": {
             "outlinewidth": 0,
             "ticks": ""
            },
            "colorscale": [
             [
              0,
              "#0d0887"
             ],
             [
              0.1111111111111111,
              "#46039f"
             ],
             [
              0.2222222222222222,
              "#7201a8"
             ],
             [
              0.3333333333333333,
              "#9c179e"
             ],
             [
              0.4444444444444444,
              "#bd3786"
             ],
             [
              0.5555555555555556,
              "#d8576b"
             ],
             [
              0.6666666666666666,
              "#ed7953"
             ],
             [
              0.7777777777777778,
              "#fb9f3a"
             ],
             [
              0.8888888888888888,
              "#fdca26"
             ],
             [
              1,
              "#f0f921"
             ]
            ],
            "type": "contour"
           }
          ],
          "contourcarpet": [
           {
            "colorbar": {
             "outlinewidth": 0,
             "ticks": ""
            },
            "type": "contourcarpet"
           }
          ],
          "heatmap": [
           {
            "colorbar": {
             "outlinewidth": 0,
             "ticks": ""
            },
            "colorscale": [
             [
              0,
              "#0d0887"
             ],
             [
              0.1111111111111111,
              "#46039f"
             ],
             [
              0.2222222222222222,
              "#7201a8"
             ],
             [
              0.3333333333333333,
              "#9c179e"
             ],
             [
              0.4444444444444444,
              "#bd3786"
             ],
             [
              0.5555555555555556,
              "#d8576b"
             ],
             [
              0.6666666666666666,
              "#ed7953"
             ],
             [
              0.7777777777777778,
              "#fb9f3a"
             ],
             [
              0.8888888888888888,
              "#fdca26"
             ],
             [
              1,
              "#f0f921"
             ]
            ],
            "type": "heatmap"
           }
          ],
          "heatmapgl": [
           {
            "colorbar": {
             "outlinewidth": 0,
             "ticks": ""
            },
            "colorscale": [
             [
              0,
              "#0d0887"
             ],
             [
              0.1111111111111111,
              "#46039f"
             ],
             [
              0.2222222222222222,
              "#7201a8"
             ],
             [
              0.3333333333333333,
              "#9c179e"
             ],
             [
              0.4444444444444444,
              "#bd3786"
             ],
             [
              0.5555555555555556,
              "#d8576b"
             ],
             [
              0.6666666666666666,
              "#ed7953"
             ],
             [
              0.7777777777777778,
              "#fb9f3a"
             ],
             [
              0.8888888888888888,
              "#fdca26"
             ],
             [
              1,
              "#f0f921"
             ]
            ],
            "type": "heatmapgl"
           }
          ],
          "histogram": [
           {
            "marker": {
             "colorbar": {
              "outlinewidth": 0,
              "ticks": ""
             }
            },
            "type": "histogram"
           }
          ],
          "histogram2d": [
           {
            "colorbar": {
             "outlinewidth": 0,
             "ticks": ""
            },
            "colorscale": [
             [
              0,
              "#0d0887"
             ],
             [
              0.1111111111111111,
              "#46039f"
             ],
             [
              0.2222222222222222,
              "#7201a8"
             ],
             [
              0.3333333333333333,
              "#9c179e"
             ],
             [
              0.4444444444444444,
              "#bd3786"
             ],
             [
              0.5555555555555556,
              "#d8576b"
             ],
             [
              0.6666666666666666,
              "#ed7953"
             ],
             [
              0.7777777777777778,
              "#fb9f3a"
             ],
             [
              0.8888888888888888,
              "#fdca26"
             ],
             [
              1,
              "#f0f921"
             ]
            ],
            "type": "histogram2d"
           }
          ],
          "histogram2dcontour": [
           {
            "colorbar": {
             "outlinewidth": 0,
             "ticks": ""
            },
            "colorscale": [
             [
              0,
              "#0d0887"
             ],
             [
              0.1111111111111111,
              "#46039f"
             ],
             [
              0.2222222222222222,
              "#7201a8"
             ],
             [
              0.3333333333333333,
              "#9c179e"
             ],
             [
              0.4444444444444444,
              "#bd3786"
             ],
             [
              0.5555555555555556,
              "#d8576b"
             ],
             [
              0.6666666666666666,
              "#ed7953"
             ],
             [
              0.7777777777777778,
              "#fb9f3a"
             ],
             [
              0.8888888888888888,
              "#fdca26"
             ],
             [
              1,
              "#f0f921"
             ]
            ],
            "type": "histogram2dcontour"
           }
          ],
          "mesh3d": [
           {
            "colorbar": {
             "outlinewidth": 0,
             "ticks": ""
            },
            "type": "mesh3d"
           }
          ],
          "parcoords": [
           {
            "line": {
             "colorbar": {
              "outlinewidth": 0,
              "ticks": ""
             }
            },
            "type": "parcoords"
           }
          ],
          "pie": [
           {
            "automargin": true,
            "type": "pie"
           }
          ],
          "scatter": [
           {
            "marker": {
             "colorbar": {
              "outlinewidth": 0,
              "ticks": ""
             }
            },
            "type": "scatter"
           }
          ],
          "scatter3d": [
           {
            "line": {
             "colorbar": {
              "outlinewidth": 0,
              "ticks": ""
             }
            },
            "marker": {
             "colorbar": {
              "outlinewidth": 0,
              "ticks": ""
             }
            },
            "type": "scatter3d"
           }
          ],
          "scattercarpet": [
           {
            "marker": {
             "colorbar": {
              "outlinewidth": 0,
              "ticks": ""
             }
            },
            "type": "scattercarpet"
           }
          ],
          "scattergeo": [
           {
            "marker": {
             "colorbar": {
              "outlinewidth": 0,
              "ticks": ""
             }
            },
            "type": "scattergeo"
           }
          ],
          "scattergl": [
           {
            "marker": {
             "colorbar": {
              "outlinewidth": 0,
              "ticks": ""
             }
            },
            "type": "scattergl"
           }
          ],
          "scattermapbox": [
           {
            "marker": {
             "colorbar": {
              "outlinewidth": 0,
              "ticks": ""
             }
            },
            "type": "scattermapbox"
           }
          ],
          "scatterpolar": [
           {
            "marker": {
             "colorbar": {
              "outlinewidth": 0,
              "ticks": ""
             }
            },
            "type": "scatterpolar"
           }
          ],
          "scatterpolargl": [
           {
            "marker": {
             "colorbar": {
              "outlinewidth": 0,
              "ticks": ""
             }
            },
            "type": "scatterpolargl"
           }
          ],
          "scatterternary": [
           {
            "marker": {
             "colorbar": {
              "outlinewidth": 0,
              "ticks": ""
             }
            },
            "type": "scatterternary"
           }
          ],
          "surface": [
           {
            "colorbar": {
             "outlinewidth": 0,
             "ticks": ""
            },
            "colorscale": [
             [
              0,
              "#0d0887"
             ],
             [
              0.1111111111111111,
              "#46039f"
             ],
             [
              0.2222222222222222,
              "#7201a8"
             ],
             [
              0.3333333333333333,
              "#9c179e"
             ],
             [
              0.4444444444444444,
              "#bd3786"
             ],
             [
              0.5555555555555556,
              "#d8576b"
             ],
             [
              0.6666666666666666,
              "#ed7953"
             ],
             [
              0.7777777777777778,
              "#fb9f3a"
             ],
             [
              0.8888888888888888,
              "#fdca26"
             ],
             [
              1,
              "#f0f921"
             ]
            ],
            "type": "surface"
           }
          ],
          "table": [
           {
            "cells": {
             "fill": {
              "color": "#EBF0F8"
             },
             "line": {
              "color": "white"
             }
            },
            "header": {
             "fill": {
              "color": "#C8D4E3"
             },
             "line": {
              "color": "white"
             }
            },
            "type": "table"
           }
          ]
         },
         "layout": {
          "annotationdefaults": {
           "arrowcolor": "#2a3f5f",
           "arrowhead": 0,
           "arrowwidth": 1
          },
          "autotypenumbers": "strict",
          "coloraxis": {
           "colorbar": {
            "outlinewidth": 0,
            "ticks": ""
           }
          },
          "colorscale": {
           "diverging": [
            [
             0,
             "#8e0152"
            ],
            [
             0.1,
             "#c51b7d"
            ],
            [
             0.2,
             "#de77ae"
            ],
            [
             0.3,
             "#f1b6da"
            ],
            [
             0.4,
             "#fde0ef"
            ],
            [
             0.5,
             "#f7f7f7"
            ],
            [
             0.6,
             "#e6f5d0"
            ],
            [
             0.7,
             "#b8e186"
            ],
            [
             0.8,
             "#7fbc41"
            ],
            [
             0.9,
             "#4d9221"
            ],
            [
             1,
             "#276419"
            ]
           ],
           "sequential": [
            [
             0,
             "#0d0887"
            ],
            [
             0.1111111111111111,
             "#46039f"
            ],
            [
             0.2222222222222222,
             "#7201a8"
            ],
            [
             0.3333333333333333,
             "#9c179e"
            ],
            [
             0.4444444444444444,
             "#bd3786"
            ],
            [
             0.5555555555555556,
             "#d8576b"
            ],
            [
             0.6666666666666666,
             "#ed7953"
            ],
            [
             0.7777777777777778,
             "#fb9f3a"
            ],
            [
             0.8888888888888888,
             "#fdca26"
            ],
            [
             1,
             "#f0f921"
            ]
           ],
           "sequentialminus": [
            [
             0,
             "#0d0887"
            ],
            [
             0.1111111111111111,
             "#46039f"
            ],
            [
             0.2222222222222222,
             "#7201a8"
            ],
            [
             0.3333333333333333,
             "#9c179e"
            ],
            [
             0.4444444444444444,
             "#bd3786"
            ],
            [
             0.5555555555555556,
             "#d8576b"
            ],
            [
             0.6666666666666666,
             "#ed7953"
            ],
            [
             0.7777777777777778,
             "#fb9f3a"
            ],
            [
             0.8888888888888888,
             "#fdca26"
            ],
            [
             1,
             "#f0f921"
            ]
           ]
          },
          "colorway": [
           "#636efa",
           "#EF553B",
           "#00cc96",
           "#ab63fa",
           "#FFA15A",
           "#19d3f3",
           "#FF6692",
           "#B6E880",
           "#FF97FF",
           "#FECB52"
          ],
          "font": {
           "color": "#2a3f5f"
          },
          "geo": {
           "bgcolor": "white",
           "lakecolor": "white",
           "landcolor": "#E5ECF6",
           "showlakes": true,
           "showland": true,
           "subunitcolor": "white"
          },
          "hoverlabel": {
           "align": "left"
          },
          "hovermode": "closest",
          "mapbox": {
           "style": "light"
          },
          "paper_bgcolor": "white",
          "plot_bgcolor": "#E5ECF6",
          "polar": {
           "angularaxis": {
            "gridcolor": "white",
            "linecolor": "white",
            "ticks": ""
           },
           "bgcolor": "#E5ECF6",
           "radialaxis": {
            "gridcolor": "white",
            "linecolor": "white",
            "ticks": ""
           }
          },
          "scene": {
           "xaxis": {
            "backgroundcolor": "#E5ECF6",
            "gridcolor": "white",
            "gridwidth": 2,
            "linecolor": "white",
            "showbackground": true,
            "ticks": "",
            "zerolinecolor": "white"
           },
           "yaxis": {
            "backgroundcolor": "#E5ECF6",
            "gridcolor": "white",
            "gridwidth": 2,
            "linecolor": "white",
            "showbackground": true,
            "ticks": "",
            "zerolinecolor": "white"
           },
           "zaxis": {
            "backgroundcolor": "#E5ECF6",
            "gridcolor": "white",
            "gridwidth": 2,
            "linecolor": "white",
            "showbackground": true,
            "ticks": "",
            "zerolinecolor": "white"
           }
          },
          "shapedefaults": {
           "line": {
            "color": "#2a3f5f"
           }
          },
          "ternary": {
           "aaxis": {
            "gridcolor": "white",
            "linecolor": "white",
            "ticks": ""
           },
           "baxis": {
            "gridcolor": "white",
            "linecolor": "white",
            "ticks": ""
           },
           "bgcolor": "#E5ECF6",
           "caxis": {
            "gridcolor": "white",
            "linecolor": "white",
            "ticks": ""
           }
          },
          "title": {
           "x": 0.05
          },
          "xaxis": {
           "automargin": true,
           "gridcolor": "white",
           "linecolor": "white",
           "ticks": "",
           "title": {
            "standoff": 15
           },
           "zerolinecolor": "white",
           "zerolinewidth": 2
          },
          "yaxis": {
           "automargin": true,
           "gridcolor": "white",
           "linecolor": "white",
           "ticks": "",
           "title": {
            "standoff": 15
           },
           "zerolinecolor": "white",
           "zerolinewidth": 2
          }
         }
        },
        "title": {
         "text": "2018 Loans Allocated by State"
        }
       }
      },
      "text/html": [
       "<div>                            <div id=\"47617051-616f-4d54-b02d-3268abb5c51d\" class=\"plotly-graph-div\" style=\"height:525px; width:100%;\"></div>            <script type=\"text/javascript\">                require([\"plotly\"], function(Plotly) {                    window.PLOTLYENV=window.PLOTLYENV || {};                                    if (document.getElementById(\"47617051-616f-4d54-b02d-3268abb5c51d\")) {                    Plotly.newPlot(                        \"47617051-616f-4d54-b02d-3268abb5c51d\",                        [{\"colorbar\": {\"title\": {\"text\": \"Millions USD\"}}, \"colorscale\": [[0.0, \"rgb(255,245,240)\"], [0.125, \"rgb(254,224,210)\"], [0.25, \"rgb(252,187,161)\"], [0.375, \"rgb(252,146,114)\"], [0.5, \"rgb(251,106,74)\"], [0.625, \"rgb(239,59,44)\"], [0.75, \"rgb(203,24,29)\"], [0.875, \"rgb(165,15,21)\"], [1.0, \"rgb(103,0,13)\"]], \"locationmode\": \"USA-states\", \"locations\": [\"AK\", \"AL\", \"AR\", \"AZ\", \"CA\", \"CO\", \"CT\", \"DC\", \"DE\", \"FL\", \"GA\", \"HI\", \"ID\", \"IL\", \"IN\", \"KS\", \"KY\", \"LA\", \"MA\", \"MD\", \"ME\", \"MI\", \"MN\", \"MO\", \"MS\", \"MT\", \"NC\", \"ND\", \"NE\", \"NH\", \"NJ\", \"NM\", \"NV\", \"NY\", \"OH\", \"OK\", \"OR\", \"PA\", \"RI\", \"SC\", \"SD\", \"TN\", \"TX\", \"UT\", \"VA\", \"VT\", \"WA\", \"WI\", \"WV\", \"WY\"], \"type\": \"choropleth\", \"z\": [19.0, 87.0, 57.0, 188.0, 1111.0, 178.0, 129.0, 17.0, 23.0, 582.0, 269.0, 37.0, 26.0, 322.0, 130.0, 63.0, 72.0, 81.0, 182.0, 204.0, 25.0, 191.0, 127.0, 120.0, 48.0, 21.0, 216.0, 18.0, 36.0, 39.0, 300.0, 40.0, 118.0, 625.0, 244.0, 73.0, 92.0, 250.0, 35.0, 101.0, 15.0, 126.0, 678.0, 52.0, 222.0, 17.0, 169.0, 101.0, 45.0, 16.0]}],                        {\"geo\": {\"scope\": \"usa\"}, \"template\": {\"data\": {\"bar\": [{\"error_x\": {\"color\": \"#2a3f5f\"}, \"error_y\": {\"color\": \"#2a3f5f\"}, \"marker\": {\"line\": {\"color\": \"#E5ECF6\", \"width\": 0.5}}, \"type\": \"bar\"}], \"barpolar\": [{\"marker\": {\"line\": {\"color\": \"#E5ECF6\", \"width\": 0.5}}, \"type\": \"barpolar\"}], \"carpet\": [{\"aaxis\": {\"endlinecolor\": \"#2a3f5f\", \"gridcolor\": \"white\", \"linecolor\": \"white\", \"minorgridcolor\": \"white\", \"startlinecolor\": \"#2a3f5f\"}, \"baxis\": {\"endlinecolor\": \"#2a3f5f\", \"gridcolor\": \"white\", \"linecolor\": \"white\", \"minorgridcolor\": \"white\", \"startlinecolor\": \"#2a3f5f\"}, \"type\": \"carpet\"}], \"choropleth\": [{\"colorbar\": {\"outlinewidth\": 0, \"ticks\": \"\"}, \"type\": \"choropleth\"}], \"contour\": [{\"colorbar\": {\"outlinewidth\": 0, \"ticks\": \"\"}, \"colorscale\": [[0.0, \"#0d0887\"], [0.1111111111111111, \"#46039f\"], [0.2222222222222222, \"#7201a8\"], [0.3333333333333333, \"#9c179e\"], [0.4444444444444444, \"#bd3786\"], [0.5555555555555556, \"#d8576b\"], [0.6666666666666666, \"#ed7953\"], [0.7777777777777778, \"#fb9f3a\"], [0.8888888888888888, \"#fdca26\"], [1.0, \"#f0f921\"]], \"type\": \"contour\"}], \"contourcarpet\": [{\"colorbar\": {\"outlinewidth\": 0, \"ticks\": \"\"}, \"type\": \"contourcarpet\"}], \"heatmap\": [{\"colorbar\": {\"outlinewidth\": 0, \"ticks\": \"\"}, \"colorscale\": [[0.0, \"#0d0887\"], [0.1111111111111111, \"#46039f\"], [0.2222222222222222, \"#7201a8\"], [0.3333333333333333, \"#9c179e\"], [0.4444444444444444, \"#bd3786\"], [0.5555555555555556, \"#d8576b\"], [0.6666666666666666, \"#ed7953\"], [0.7777777777777778, \"#fb9f3a\"], [0.8888888888888888, \"#fdca26\"], [1.0, \"#f0f921\"]], \"type\": \"heatmap\"}], \"heatmapgl\": [{\"colorbar\": {\"outlinewidth\": 0, \"ticks\": \"\"}, \"colorscale\": [[0.0, \"#0d0887\"], [0.1111111111111111, \"#46039f\"], [0.2222222222222222, \"#7201a8\"], [0.3333333333333333, \"#9c179e\"], [0.4444444444444444, \"#bd3786\"], [0.5555555555555556, \"#d8576b\"], [0.6666666666666666, \"#ed7953\"], [0.7777777777777778, \"#fb9f3a\"], [0.8888888888888888, \"#fdca26\"], [1.0, \"#f0f921\"]], \"type\": \"heatmapgl\"}], \"histogram\": [{\"marker\": {\"colorbar\": {\"outlinewidth\": 0, \"ticks\": \"\"}}, \"type\": \"histogram\"}], \"histogram2d\": [{\"colorbar\": {\"outlinewidth\": 0, \"ticks\": \"\"}, \"colorscale\": [[0.0, \"#0d0887\"], [0.1111111111111111, \"#46039f\"], [0.2222222222222222, \"#7201a8\"], [0.3333333333333333, \"#9c179e\"], [0.4444444444444444, \"#bd3786\"], [0.5555555555555556, \"#d8576b\"], [0.6666666666666666, \"#ed7953\"], [0.7777777777777778, \"#fb9f3a\"], [0.8888888888888888, \"#fdca26\"], [1.0, \"#f0f921\"]], \"type\": \"histogram2d\"}], \"histogram2dcontour\": [{\"colorbar\": {\"outlinewidth\": 0, \"ticks\": \"\"}, \"colorscale\": [[0.0, \"#0d0887\"], [0.1111111111111111, \"#46039f\"], [0.2222222222222222, \"#7201a8\"], [0.3333333333333333, \"#9c179e\"], [0.4444444444444444, \"#bd3786\"], [0.5555555555555556, \"#d8576b\"], [0.6666666666666666, \"#ed7953\"], [0.7777777777777778, \"#fb9f3a\"], [0.8888888888888888, \"#fdca26\"], [1.0, \"#f0f921\"]], \"type\": \"histogram2dcontour\"}], \"mesh3d\": [{\"colorbar\": {\"outlinewidth\": 0, \"ticks\": \"\"}, \"type\": \"mesh3d\"}], \"parcoords\": [{\"line\": {\"colorbar\": {\"outlinewidth\": 0, \"ticks\": \"\"}}, \"type\": \"parcoords\"}], \"pie\": [{\"automargin\": true, \"type\": \"pie\"}], \"scatter\": [{\"marker\": {\"colorbar\": {\"outlinewidth\": 0, \"ticks\": \"\"}}, \"type\": \"scatter\"}], \"scatter3d\": [{\"line\": {\"colorbar\": {\"outlinewidth\": 0, \"ticks\": \"\"}}, \"marker\": {\"colorbar\": {\"outlinewidth\": 0, \"ticks\": \"\"}}, \"type\": \"scatter3d\"}], \"scattercarpet\": [{\"marker\": {\"colorbar\": {\"outlinewidth\": 0, \"ticks\": \"\"}}, \"type\": \"scattercarpet\"}], \"scattergeo\": [{\"marker\": {\"colorbar\": {\"outlinewidth\": 0, \"ticks\": \"\"}}, \"type\": \"scattergeo\"}], \"scattergl\": [{\"marker\": {\"colorbar\": {\"outlinewidth\": 0, \"ticks\": \"\"}}, \"type\": \"scattergl\"}], \"scattermapbox\": [{\"marker\": {\"colorbar\": {\"outlinewidth\": 0, \"ticks\": \"\"}}, \"type\": \"scattermapbox\"}], \"scatterpolar\": [{\"marker\": {\"colorbar\": {\"outlinewidth\": 0, \"ticks\": \"\"}}, \"type\": \"scatterpolar\"}], \"scatterpolargl\": [{\"marker\": {\"colorbar\": {\"outlinewidth\": 0, \"ticks\": \"\"}}, \"type\": \"scatterpolargl\"}], \"scatterternary\": [{\"marker\": {\"colorbar\": {\"outlinewidth\": 0, \"ticks\": \"\"}}, \"type\": \"scatterternary\"}], \"surface\": [{\"colorbar\": {\"outlinewidth\": 0, \"ticks\": \"\"}, \"colorscale\": [[0.0, \"#0d0887\"], [0.1111111111111111, \"#46039f\"], [0.2222222222222222, \"#7201a8\"], [0.3333333333333333, \"#9c179e\"], [0.4444444444444444, \"#bd3786\"], [0.5555555555555556, \"#d8576b\"], [0.6666666666666666, \"#ed7953\"], [0.7777777777777778, \"#fb9f3a\"], [0.8888888888888888, \"#fdca26\"], [1.0, \"#f0f921\"]], \"type\": \"surface\"}], \"table\": [{\"cells\": {\"fill\": {\"color\": \"#EBF0F8\"}, \"line\": {\"color\": \"white\"}}, \"header\": {\"fill\": {\"color\": \"#C8D4E3\"}, \"line\": {\"color\": \"white\"}}, \"type\": \"table\"}]}, \"layout\": {\"annotationdefaults\": {\"arrowcolor\": \"#2a3f5f\", \"arrowhead\": 0, \"arrowwidth\": 1}, \"autotypenumbers\": \"strict\", \"coloraxis\": {\"colorbar\": {\"outlinewidth\": 0, \"ticks\": \"\"}}, \"colorscale\": {\"diverging\": [[0, \"#8e0152\"], [0.1, \"#c51b7d\"], [0.2, \"#de77ae\"], [0.3, \"#f1b6da\"], [0.4, \"#fde0ef\"], [0.5, \"#f7f7f7\"], [0.6, \"#e6f5d0\"], [0.7, \"#b8e186\"], [0.8, \"#7fbc41\"], [0.9, \"#4d9221\"], [1, \"#276419\"]], \"sequential\": [[0.0, \"#0d0887\"], [0.1111111111111111, \"#46039f\"], [0.2222222222222222, \"#7201a8\"], [0.3333333333333333, \"#9c179e\"], [0.4444444444444444, \"#bd3786\"], [0.5555555555555556, \"#d8576b\"], [0.6666666666666666, \"#ed7953\"], [0.7777777777777778, \"#fb9f3a\"], [0.8888888888888888, \"#fdca26\"], [1.0, \"#f0f921\"]], \"sequentialminus\": [[0.0, \"#0d0887\"], [0.1111111111111111, \"#46039f\"], [0.2222222222222222, \"#7201a8\"], [0.3333333333333333, \"#9c179e\"], [0.4444444444444444, \"#bd3786\"], [0.5555555555555556, \"#d8576b\"], [0.6666666666666666, \"#ed7953\"], [0.7777777777777778, \"#fb9f3a\"], [0.8888888888888888, \"#fdca26\"], [1.0, \"#f0f921\"]]}, \"colorway\": [\"#636efa\", \"#EF553B\", \"#00cc96\", \"#ab63fa\", \"#FFA15A\", \"#19d3f3\", \"#FF6692\", \"#B6E880\", \"#FF97FF\", \"#FECB52\"], \"font\": {\"color\": \"#2a3f5f\"}, \"geo\": {\"bgcolor\": \"white\", \"lakecolor\": \"white\", \"landcolor\": \"#E5ECF6\", \"showlakes\": true, \"showland\": true, \"subunitcolor\": \"white\"}, \"hoverlabel\": {\"align\": \"left\"}, \"hovermode\": \"closest\", \"mapbox\": {\"style\": \"light\"}, \"paper_bgcolor\": \"white\", \"plot_bgcolor\": \"#E5ECF6\", \"polar\": {\"angularaxis\": {\"gridcolor\": \"white\", \"linecolor\": \"white\", \"ticks\": \"\"}, \"bgcolor\": \"#E5ECF6\", \"radialaxis\": {\"gridcolor\": \"white\", \"linecolor\": \"white\", \"ticks\": \"\"}}, \"scene\": {\"xaxis\": {\"backgroundcolor\": \"#E5ECF6\", \"gridcolor\": \"white\", \"gridwidth\": 2, \"linecolor\": \"white\", \"showbackground\": true, \"ticks\": \"\", \"zerolinecolor\": \"white\"}, \"yaxis\": {\"backgroundcolor\": \"#E5ECF6\", \"gridcolor\": \"white\", \"gridwidth\": 2, \"linecolor\": \"white\", \"showbackground\": true, \"ticks\": \"\", \"zerolinecolor\": \"white\"}, \"zaxis\": {\"backgroundcolor\": \"#E5ECF6\", \"gridcolor\": \"white\", \"gridwidth\": 2, \"linecolor\": \"white\", \"showbackground\": true, \"ticks\": \"\", \"zerolinecolor\": \"white\"}}, \"shapedefaults\": {\"line\": {\"color\": \"#2a3f5f\"}}, \"ternary\": {\"aaxis\": {\"gridcolor\": \"white\", \"linecolor\": \"white\", \"ticks\": \"\"}, \"baxis\": {\"gridcolor\": \"white\", \"linecolor\": \"white\", \"ticks\": \"\"}, \"bgcolor\": \"#E5ECF6\", \"caxis\": {\"gridcolor\": \"white\", \"linecolor\": \"white\", \"ticks\": \"\"}}, \"title\": {\"x\": 0.05}, \"xaxis\": {\"automargin\": true, \"gridcolor\": \"white\", \"linecolor\": \"white\", \"ticks\": \"\", \"title\": {\"standoff\": 15}, \"zerolinecolor\": \"white\", \"zerolinewidth\": 2}, \"yaxis\": {\"automargin\": true, \"gridcolor\": \"white\", \"linecolor\": \"white\", \"ticks\": \"\", \"title\": {\"standoff\": 15}, \"zerolinecolor\": \"white\", \"zerolinewidth\": 2}}}, \"title\": {\"text\": \"2018 Loans Allocated by State\"}},                        {\"responsive\": true}                    ).then(function(){\n",
       "                            \n",
       "var gd = document.getElementById('47617051-616f-4d54-b02d-3268abb5c51d');\n",
       "var x = new MutationObserver(function (mutations, observer) {{\n",
       "        var display = window.getComputedStyle(gd).display;\n",
       "        if (!display || display === 'none') {{\n",
       "            console.log([gd, 'removed!']);\n",
       "            Plotly.purge(gd);\n",
       "            observer.disconnect();\n",
       "        }}\n",
       "}});\n",
       "\n",
       "// Listen for the removal of the full notebook cells\n",
       "var notebookContainer = gd.closest('#notebook-container');\n",
       "if (notebookContainer) {{\n",
       "    x.observe(notebookContainer, {childList: true});\n",
       "}}\n",
       "\n",
       "// Listen for the clearing of the current output cell\n",
       "var outputEl = gd.closest('.output');\n",
       "if (outputEl) {{\n",
       "    x.observe(outputEl, {childList: true});\n",
       "}}\n",
       "\n",
       "                        })                };                });            </script>        </div>"
      ]
     },
     "metadata": {},
     "output_type": "display_data"
    }
   ],
   "source": [
    "fig = go.Figure(data=go.Choropleth(\n",
    "    locations=states['addr_state'], # Spatial coordinates\n",
    "    z = states['loan_amnt'].astype(float), # Data to be color-coded\n",
    "    locationmode = 'USA-states', # set of locations match entries in `locations`\n",
    "    colorscale = 'Reds',\n",
    "    colorbar_title = \"Millions USD\",\n",
    "))\n",
    "\n",
    "fig.update_layout(\n",
    "    title_text = '2018 Loans Allocated by State',\n",
    "    geo_scope='usa', # limite map scope to USA\n",
    ")\n",
    "\n",
    "fig.show()\n",
    "fig.write_image(\"./images/loans_by_state.png\", scale=2)"
   ]
  },
  {
   "cell_type": "markdown",
   "id": "d6013a26",
   "metadata": {},
   "source": [
    "### Exploring Interest Rates"
   ]
  },
  {
   "cell_type": "code",
   "execution_count": 64,
   "id": "f0e5777b",
   "metadata": {
    "ExecuteTime": {
     "end_time": "2021-06-17T15:41:49.497740Z",
     "start_time": "2021-06-17T15:41:49.189539Z"
    }
   },
   "outputs": [],
   "source": [
    "int_rate = data[['issue_d','int_rate']].copy()\n",
    "int_rate['issue_d'] = pd.DatetimeIndex(int_rate['issue_d']).year\n",
    "int_rate.dropna(inplace=True)\n",
    "int_rate['issue_d'] = int_rate['issue_d'].astype(int)"
   ]
  },
  {
   "cell_type": "code",
   "execution_count": 85,
   "id": "eebae2fe",
   "metadata": {
    "ExecuteTime": {
     "end_time": "2021-06-17T16:00:27.189833Z",
     "start_time": "2021-06-17T16:00:21.279449Z"
    },
    "scrolled": true
   },
   "outputs": [
    {
     "data": {
      "image/png": "[encoded data removed]",
      "text/plain": [
       "<Figure size 480x320 with 1 Axes>"
      ]
     },
     "metadata": {},
     "output_type": "display_data"
    }
   ],
   "source": [
    "plt.subplots(dpi = 80)\n",
    "sns.set_theme(style=\"whitegrid\", font_scale=1.0)\n",
    "g = sns.violinplot(data=int_rate, x=\"issue_d\", y=\"int_rate\", size=\"size\")\n",
    "g.set_title('Interest Rates by Year')\n",
    "g.set_ylabel('Interest Rate %')\n",
    "g.set_xlabel('Year')\n",
    "plt.savefig('./images/int_rates.png', dpi=500)"
   ]
  },
  {
   "cell_type": "markdown",
   "id": "ddab5944",
   "metadata": {},
   "source": [
    "## Preparing the Data for the Models"
   ]
  },
  {
   "cell_type": "markdown",
   "id": "e3afdd1d",
   "metadata": {},
   "source": [
    "### Selecting Features"
   ]
  },
  {
   "cell_type": "code",
   "execution_count": 24,
   "id": "ea072eef",
   "metadata": {
    "ExecuteTime": {
     "end_time": "2021-06-17T14:26:27.532139Z",
     "start_time": "2021-06-17T14:26:27.507177Z"
    }
   },
   "outputs": [
    {
     "name": "stdout",
     "output_type": "stream",
     "text": [
      "0 id\n",
      "1 member_id\n",
      "2 loan_amnt\n",
      "3 funded_amnt\n",
      "4 funded_amnt_inv\n",
      "5 term\n",
      "6 int_rate\n",
      "7 installment\n",
      "8 grade\n",
      "9 sub_grade\n",
      "10 emp_title\n",
      "11 emp_length\n",
      "12 home_ownership\n",
      "13 annual_inc\n",
      "14 verification_status\n",
      "15 issue_d\n",
      "16 loan_status\n",
      "17 pymnt_plan\n",
      "18 url\n",
      "19 desc\n",
      "20 purpose\n",
      "21 title\n",
      "22 zip_code\n",
      "23 addr_state\n",
      "24 dti\n",
      "25 delinq_2yrs\n",
      "26 earliest_cr_line\n",
      "27 fico_range_low\n",
      "28 fico_range_high\n",
      "29 inq_last_6mths\n",
      "30 mths_since_last_delinq\n",
      "31 mths_since_last_record\n",
      "32 open_acc\n",
      "33 pub_rec\n",
      "34 revol_bal\n",
      "35 revol_util\n",
      "36 total_acc\n",
      "37 initial_list_status\n",
      "38 out_prncp\n",
      "39 out_prncp_inv\n",
      "40 total_pymnt\n",
      "41 total_pymnt_inv\n",
      "42 total_rec_prncp\n",
      "43 total_rec_int\n",
      "44 total_rec_late_fee\n",
      "45 recoveries\n",
      "46 collection_recovery_fee\n",
      "47 last_pymnt_d\n",
      "48 last_pymnt_amnt\n",
      "49 next_pymnt_d\n",
      "50 last_credit_pull_d\n",
      "51 last_fico_range_high\n",
      "52 last_fico_range_low\n",
      "53 collections_12_mths_ex_med\n",
      "54 mths_since_last_major_derog\n",
      "55 policy_code\n",
      "56 application_type\n",
      "57 annual_inc_joint\n",
      "58 dti_joint\n",
      "59 verification_status_joint\n",
      "60 acc_now_delinq\n",
      "61 tot_coll_amt\n",
      "62 tot_cur_bal\n",
      "63 open_acc_6m\n",
      "64 open_act_il\n",
      "65 open_il_12m\n",
      "66 open_il_24m\n",
      "67 mths_since_rcnt_il\n",
      "68 total_bal_il\n",
      "69 il_util\n",
      "70 open_rv_12m\n",
      "71 open_rv_24m\n",
      "72 max_bal_bc\n",
      "73 all_util\n",
      "74 total_rev_hi_lim\n",
      "75 inq_fi\n",
      "76 total_cu_tl\n",
      "77 inq_last_12m\n",
      "78 acc_open_past_24mths\n",
      "79 avg_cur_bal\n",
      "80 bc_open_to_buy\n",
      "81 bc_util\n",
      "82 chargeoff_within_12_mths\n",
      "83 delinq_amnt\n",
      "84 mo_sin_old_il_acct\n",
      "85 mo_sin_old_rev_tl_op\n",
      "86 mo_sin_rcnt_rev_tl_op\n",
      "87 mo_sin_rcnt_tl\n",
      "88 mort_acc\n",
      "89 mths_since_recent_bc\n",
      "90 mths_since_recent_bc_dlq\n",
      "91 mths_since_recent_inq\n",
      "92 mths_since_recent_revol_delinq\n",
      "93 num_accts_ever_120_pd\n",
      "94 num_actv_bc_tl\n",
      "95 num_actv_rev_tl\n",
      "96 num_bc_sats\n",
      "97 num_bc_tl\n",
      "98 num_il_tl\n",
      "99 num_op_rev_tl\n",
      "100 num_rev_accts\n",
      "101 num_rev_tl_bal_gt_0\n",
      "102 num_sats\n",
      "103 num_tl_120dpd_2m\n",
      "104 num_tl_30dpd\n",
      "105 num_tl_90g_dpd_24m\n",
      "106 num_tl_op_past_12m\n",
      "107 pct_tl_nvr_dlq\n",
      "108 percent_bc_gt_75\n",
      "109 pub_rec_bankruptcies\n",
      "110 tax_liens\n",
      "111 tot_hi_cred_lim\n",
      "112 total_bal_ex_mort\n",
      "113 total_bc_limit\n",
      "114 total_il_high_credit_limit\n",
      "115 revol_bal_joint\n",
      "116 sec_app_fico_range_low\n",
      "117 sec_app_fico_range_high\n",
      "118 sec_app_earliest_cr_line\n",
      "119 sec_app_inq_last_6mths\n",
      "120 sec_app_mort_acc\n",
      "121 sec_app_open_acc\n",
      "122 sec_app_revol_util\n",
      "123 sec_app_open_act_il\n",
      "124 sec_app_num_rev_accts\n",
      "125 sec_app_chargeoff_within_12_mths\n",
      "126 sec_app_collections_12_mths_ex_med\n",
      "127 sec_app_mths_since_last_major_derog\n",
      "128 hardship_flag\n",
      "129 hardship_type\n",
      "130 hardship_reason\n",
      "131 hardship_status\n",
      "132 deferral_term\n",
      "133 hardship_amount\n",
      "134 hardship_start_date\n",
      "135 hardship_end_date\n",
      "136 payment_plan_start_date\n",
      "137 hardship_length\n",
      "138 hardship_dpd\n",
      "139 hardship_loan_status\n",
      "140 orig_projected_additional_accrued_interest\n",
      "141 hardship_payoff_balance_amount\n",
      "142 hardship_last_payment_amount\n",
      "143 disbursement_method\n",
      "144 debt_settlement_flag\n",
      "145 debt_settlement_flag_date\n",
      "146 settlement_status\n",
      "147 settlement_date\n",
      "148 settlement_amount\n",
      "149 settlement_percentage\n",
      "150 settlement_term\n"
     ]
    }
   ],
   "source": [
    "for e, column in enumerate(data.columns):\n",
    "    print (e, column)"
   ]
  },
  {
   "cell_type": "markdown",
   "id": "4828d9ff",
   "metadata": {
    "ExecuteTime": {
     "end_time": "2021-06-06T14:51:20.196664Z",
     "start_time": "2021-06-06T14:51:20.176634Z"
    }
   },
   "source": [
    "Using the dictionary with the descriptions I will review the features available to determine which were obtained after the loan origination to avoid data leakage. We should only use information available at loan origination in order to avoid having a model that overestimates its predictive power. The following are features I found to be available at origination and that are relevant:\n",
    "\n",
    "- id, loan_amnt, term, int_rate, grade, sub_grade, emp_title, home_ownership, annual_inc, verification_status, issue_d, loan_status (target), purpose, zip_code, addr_state, dti, earliest_cr_line, fico_range_low, fico_range_high, open_acc, pub_rec, initial_list_status, application_type, annual_inc_joint, dti_joint, verification_status_joint, pub_rec_bankruptcies\n",
    "\n",
    "Column index: 0, 2, 5, 6, 8, 9, 11, 12, 13, 14, 15, 16, 20, 22, 23, 24, 26, 27, 28, 32, 33, 37, 56, 57, 58, 59, 109"
   ]
  },
  {
   "cell_type": "code",
   "execution_count": 25,
   "id": "7d51347d",
   "metadata": {
    "ExecuteTime": {
     "end_time": "2021-06-17T14:26:27.832873Z",
     "start_time": "2021-06-17T14:26:27.535104Z"
    }
   },
   "outputs": [],
   "source": [
    "df = data.iloc[:,[0,2,5,6,8,9,11,12,13,14,15,16,20,22,23,24,26,27,28,32,33,37,56,57,58,59,109]]"
   ]
  },
  {
   "cell_type": "markdown",
   "id": "dbbdff3c",
   "metadata": {},
   "source": [
    "### Filtering Rows that can be Used to Train our Model"
   ]
  },
  {
   "cell_type": "markdown",
   "id": "e137a4a2",
   "metadata": {},
   "source": [
    "Our analysis should only include observations where the target variable, loan_status, has a definite status in order to have a target that can be used to train our models. In this case, either the loan_status is \"Fully Paid\" or \"Charged Off\", which means it defaulted."
   ]
  },
  {
   "cell_type": "code",
   "execution_count": 26,
   "id": "4f9373e5",
   "metadata": {
    "ExecuteTime": {
     "end_time": "2021-06-17T14:26:28.017309Z",
     "start_time": "2021-06-17T14:26:27.837426Z"
    }
   },
   "outputs": [
    {
     "data": {
      "text/plain": [
       "Fully Paid                                             1076751\n",
       "Current                                                 878317\n",
       "Charged Off                                             268559\n",
       "Late (31-120 days)                                       21467\n",
       "In Grace Period                                           8436\n",
       "Late (16-30 days)                                         4349\n",
       "Does not meet the credit policy. Status:Fully Paid        1988\n",
       "Does not meet the credit policy. Status:Charged Off        761\n",
       "Default                                                     40\n",
       "Name: loan_status, dtype: int64"
      ]
     },
     "execution_count": 26,
     "metadata": {},
     "output_type": "execute_result"
    }
   ],
   "source": [
    "data.loan_status.value_counts()"
   ]
  },
  {
   "cell_type": "code",
   "execution_count": 27,
   "id": "6cc0196a",
   "metadata": {
    "ExecuteTime": {
     "end_time": "2021-06-17T14:26:28.394195Z",
     "start_time": "2021-06-17T14:26:28.019292Z"
    }
   },
   "outputs": [],
   "source": [
    "df = df[df['loan_status'].isin(['Fully Paid', 'Charged Off'])]"
   ]
  },
  {
   "cell_type": "markdown",
   "id": "adea3119",
   "metadata": {
    "ExecuteTime": {
     "end_time": "2021-06-17T14:26:35.508244Z",
     "start_time": "2021-06-17T14:26:35.499433Z"
    }
   },
   "source": [
    "###  Understanding and Dealing with the Missing Data"
   ]
  },
  {
   "cell_type": "code",
   "execution_count": 90,
   "id": "8681dc02",
   "metadata": {
    "ExecuteTime": {
     "end_time": "2021-06-17T16:14:41.600959Z",
     "start_time": "2021-06-17T16:14:41.006505Z"
    }
   },
   "outputs": [
    {
     "data": {
      "text/plain": [
       "verification_status_joint    1319715\n",
       "dti_joint                    1319513\n",
       "annual_inc_joint             1319510\n",
       "emp_length                     78511\n",
       "pub_rec_bankruptcies             697\n",
       "dti                              374\n",
       "zip_code                           1\n",
       "dtype: int64"
      ]
     },
     "execution_count": 90,
     "metadata": {},
     "output_type": "execute_result"
    }
   ],
   "source": [
    "nullseries = df.isnull().sum()\n",
    "nullseries[nullseries > 0].sort_values(ascending=False)"
   ]
  },
  {
   "cell_type": "markdown",
   "id": "e56f1f52",
   "metadata": {},
   "source": [
    "It seems most of the missing values for the joint data are missing because they do not apply since not all loan applicants do so with another person. \n",
    "\n",
    "Next we will explore the relation between emp_length and default rate to see if there is any correlation which could indicate that it is missing not at random."
   ]
  },
  {
   "cell_type": "code",
   "execution_count": 142,
   "id": "b66c131f",
   "metadata": {
    "ExecuteTime": {
     "end_time": "2021-06-18T13:47:32.153718Z",
     "start_time": "2021-06-18T13:47:30.993397Z"
    }
   },
   "outputs": [
    {
     "data": {
      "image/png": "[encoded data removed]",
      "text/plain": [
       "<Figure size 480x320 with 1 Axes>"
      ]
     },
     "metadata": {},
     "output_type": "display_data"
    }
   ],
   "source": [
    "employment = df[['emp_length','loan_status']].copy()\n",
    "employment['emp_length'] = employment['emp_length'].fillna(value='Missing')\n",
    "employment['emp_length'] = employment['emp_length'].apply(lambda x: 'Missing' if x =='Missing' else 'Present')\n",
    "employment['loan_status'] = employment['loan_status'].apply(lambda x: 1 if x =='Charged Off' else 0)\n",
    "employment = employment.groupby('emp_length')['loan_status'].mean().reset_index()\n",
    "\n",
    "#Graph\n",
    "\n",
    "f, ax = plt.subplots()\n",
    "ax.bar(employment.emp_length, employment.loan_status)\n",
    "ax.set_ylabel('Default Rate')\n",
    "ax.set(xlabel=None,\n",
    "      title=\"Default Rate and Employment Status\")\n",
    "f.tight_layout()  # otherwise the right y-label is slightly clipped\n",
    "plt.show()\n",
    "f.savefig('./images/default_rate_employment.png', facecolor=f.get_facecolor(), transparent=True, dpi=500)"
   ]
  },
  {
   "cell_type": "markdown",
   "id": "9b90b4fc",
   "metadata": {},
   "source": [
    "It seems clear that there is a relationship between there being a missing value in the emp_status feature and the default rate of the loan, which seems to indicate that it is missing not at random. What this means is that the applicant is probably not disclosing this information if he is unemployed.\n",
    "\n",
    "Since we will be using models that can deal with missing values we will not impute the missing values but it is good to know that this effect is probably present.\n",
    "\n",
    "We will check if there seems to be the same effect for the other missing values, bankruptcies and dti."
   ]
  },
  {
   "cell_type": "code",
   "execution_count": 148,
   "id": "69d4de63",
   "metadata": {
    "ExecuteTime": {
     "end_time": "2021-06-18T13:53:45.808387Z",
     "start_time": "2021-06-18T13:53:44.120727Z"
    }
   },
   "outputs": [
    {
     "name": "stdout",
     "output_type": "stream",
     "text": [
      "  pub_rec_bankruptcies  loan_status\n",
      "0              Missing         0.17\n",
      "1              Present         0.20\n",
      "\n",
      "       dti  loan_status\n",
      "0  Missing         0.19\n",
      "1  Present         0.20\n"
     ]
    }
   ],
   "source": [
    "bankruptcies = df[['pub_rec_bankruptcies','loan_status']].copy()\n",
    "bankruptcies['pub_rec_bankruptcies'] = bankruptcies['pub_rec_bankruptcies'].fillna(value='Missing')\n",
    "bankruptcies['pub_rec_bankruptcies'] = bankruptcies['pub_rec_bankruptcies'].apply(lambda x: 'Missing' if x =='Missing' else 'Present')\n",
    "bankruptcies['loan_status'] = bankruptcies['loan_status'].apply(lambda x: 1 if x =='Charged Off' else 0)\n",
    "bankruptcies = bankruptcies.groupby('pub_rec_bankruptcies')['loan_status'].mean().reset_index()\n",
    "print(bankruptcies)\n",
    "\n",
    "print()\n",
    "\n",
    "dti = df[['dti','loan_status']].copy()\n",
    "dti['dti'] = dti['dti'].fillna(value='Missing')\n",
    "dti['dti'] = dti['dti'].apply(lambda x: 'Missing' if x =='Missing' else 'Present')\n",
    "dti['loan_status'] = dti['loan_status'].apply(lambda x: 1 if x =='Charged Off' else 0)\n",
    "dti = dti.groupby('dti')['loan_status'].mean().reset_index()\n",
    "print(dti)"
   ]
  },
  {
   "cell_type": "markdown",
   "id": "3feac164",
   "metadata": {},
   "source": [
    "There seems to be some difference but not as much and the effect seems to be contrary, if it is missing the chance of default goes down. Furthermore, the sample size is much smaller so I don't think I can come to a conclusion on this matter."
   ]
  },
  {
   "cell_type": "code",
   "execution_count": 150,
   "id": "d07d66a1",
   "metadata": {
    "ExecuteTime": {
     "end_time": "2021-06-18T13:56:55.500355Z",
     "start_time": "2021-06-18T13:56:55.423464Z"
    }
   },
   "outputs": [
    {
     "data": {
      "text/html": [
       "<div>\n",
       "<style scoped>\n",
       "    .dataframe tbody tr th:only-of-type {\n",
       "        vertical-align: middle;\n",
       "    }\n",
       "\n",
       "    .dataframe tbody tr th {\n",
       "        vertical-align: top;\n",
       "    }\n",
       "\n",
       "    .dataframe thead th {\n",
       "        text-align: right;\n",
       "    }\n",
       "</style>\n",
       "<table border=\"1\" class=\"dataframe\">\n",
       "  <thead>\n",
       "    <tr style=\"text-align: right;\">\n",
       "      <th></th>\n",
       "      <th>id</th>\n",
       "      <th>loan_amnt</th>\n",
       "      <th>term</th>\n",
       "      <th>int_rate</th>\n",
       "      <th>grade</th>\n",
       "      <th>sub_grade</th>\n",
       "      <th>emp_length</th>\n",
       "      <th>home_ownership</th>\n",
       "      <th>annual_inc</th>\n",
       "      <th>verification_status</th>\n",
       "      <th>issue_d</th>\n",
       "      <th>loan_status</th>\n",
       "      <th>purpose</th>\n",
       "      <th>zip_code</th>\n",
       "      <th>addr_state</th>\n",
       "      <th>dti</th>\n",
       "      <th>earliest_cr_line</th>\n",
       "      <th>fico_range_low</th>\n",
       "      <th>fico_range_high</th>\n",
       "      <th>open_acc</th>\n",
       "      <th>pub_rec</th>\n",
       "      <th>initial_list_status</th>\n",
       "      <th>application_type</th>\n",
       "      <th>annual_inc_joint</th>\n",
       "      <th>dti_joint</th>\n",
       "      <th>verification_status_joint</th>\n",
       "      <th>pub_rec_bankruptcies</th>\n",
       "    </tr>\n",
       "  </thead>\n",
       "  <tbody>\n",
       "    <tr>\n",
       "      <th>1736050</th>\n",
       "      <td>96387212</td>\n",
       "      <td>5600.00</td>\n",
       "      <td>36 months</td>\n",
       "      <td>15.99</td>\n",
       "      <td>C</td>\n",
       "      <td>C5</td>\n",
       "      <td>10+ years</td>\n",
       "      <td>MORTGAGE</td>\n",
       "      <td>40000.00</td>\n",
       "      <td>Verified</td>\n",
       "      <td>2017-01-01</td>\n",
       "      <td>Fully Paid</td>\n",
       "      <td>debt_consolidation</td>\n",
       "      <td>NaN</td>\n",
       "      <td>AL</td>\n",
       "      <td>22.86</td>\n",
       "      <td>Jul-2005</td>\n",
       "      <td>670.00</td>\n",
       "      <td>674.00</td>\n",
       "      <td>8.00</td>\n",
       "      <td>1.00</td>\n",
       "      <td>f</td>\n",
       "      <td>Individual</td>\n",
       "      <td>NaN</td>\n",
       "      <td>NaN</td>\n",
       "      <td>NaN</td>\n",
       "      <td>1.00</td>\n",
       "    </tr>\n",
       "  </tbody>\n",
       "</table>\n",
       "</div>"
      ],
      "text/plain": [
       "               id  loan_amnt        term  int_rate grade sub_grade emp_length  \\\n",
       "1736050  96387212    5600.00   36 months     15.99     C        C5  10+ years   \n",
       "\n",
       "        home_ownership  annual_inc verification_status    issue_d loan_status  \\\n",
       "1736050       MORTGAGE    40000.00            Verified 2017-01-01  Fully Paid   \n",
       "\n",
       "                    purpose zip_code addr_state   dti earliest_cr_line  \\\n",
       "1736050  debt_consolidation      NaN         AL 22.86         Jul-2005   \n",
       "\n",
       "         fico_range_low  fico_range_high  open_acc  pub_rec  \\\n",
       "1736050          670.00           674.00      8.00     1.00   \n",
       "\n",
       "        initial_list_status application_type  annual_inc_joint  dti_joint  \\\n",
       "1736050                   f       Individual               NaN        NaN   \n",
       "\n",
       "        verification_status_joint  pub_rec_bankruptcies  \n",
       "1736050                       NaN                  1.00  "
      ]
     },
     "execution_count": 150,
     "metadata": {},
     "output_type": "execute_result"
    }
   ],
   "source": [
    "df[df['zip_code'].isnull() == True]"
   ]
  }
 ],
 "metadata": {
  "kernelspec": {
   "display_name": "Python 3",
   "language": "python",
   "name": "python3"
  },
  "language_info": {
   "codemirror_mode": {
    "name": "ipython",
    "version": 3
   },
   "file_extension": ".py",
   "mimetype": "text/x-python",
   "name": "python",
   "nbconvert_exporter": "python",
   "pygments_lexer": "ipython3",
   "version": "3.8.8"
  },
  "toc": {
   "base_numbering": 1,
   "nav_menu": {},
   "number_sections": true,
   "sideBar": true,
   "skip_h1_title": false,
   "title_cell": "Table of Contents",
   "title_sidebar": "Contents",
   "toc_cell": false,
   "toc_position": {},
   "toc_section_display": true,
   "toc_window_display": false
  }
 },
 "nbformat": 4,
 "nbformat_minor": 5
}
